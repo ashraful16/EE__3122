{
 "cells": [
  {
   "cell_type": "code",
   "execution_count": null,
   "metadata": {},
   "outputs": [],
   "source": [
    "Experiment: (1) Perform the mean (AM, GM, HM), median, mode, SD, Variance, \n",
    "    moments (about mean and about any arbitrary value) from the following \n",
    "    ungrouped data using C/C++ or MatLab. Sample Input Data: (indata1.txt \n",
    "    or indata1.xls). Put the data in your input file as a column data or \n",
    "        row data with spacing, or comma delimited.\n",
    "        5, 12, 5, 7, 21, 23, 24, 15, 8, 22, 23, 9, 11, 18, 22, 21, 19, 3, 4, 20\n",
    "\n",
    "\n"
   ]
  },
  {
   "cell_type": "code",
   "execution_count": 2,
   "metadata": {},
   "outputs": [
    {
     "name": "stdout",
     "output_type": "stream",
     "text": [
      "Values in the file are as follows:\n",
      "\n",
      "['5', ' 12', ' 5', ' 7', ' 21', ' 23', ' 24', ' 15', ' 8', ' 22', ' 23', ' 9', ' 11', ' 18', ' 22', ' 21', ' 19', ' 3', ' 4', ' 20']\n",
      "<type 'str'>\n",
      "<type 'list'>\n",
      "[5.0, 12.0, 5.0, 7.0, 21.0, 23.0, 24.0, 15.0, 8.0, 22.0, 23.0, 9.0, 11.0, 18.0, 22.0, 21.0, 19.0, 3.0, 4.0, 20.0]\n"
     ]
    }
   ],
   "source": [
    "file = open('//media//ashraful//New Volume///labfiles//omit1.txt', 'r')\n",
    "#file = open('//media//ashraful//New Volume2//e.xls', 'r')\n",
    "fa=[]\n",
    "for line in file.readlines():\n",
    "    fname = line.rstrip().split(',') \n",
    "    print(\"Values in the file are as follows:\\n\")\n",
    "    print((fname))\n",
    "for e in fname:\n",
    "    fa.append(float(e))\n",
    "c=(fname)\n",
    "a= (' '.join((fname)))\n",
    "print type(a)\n",
    "print type(fa)\n",
    "print fa"
   ]
  },
  {
   "cell_type": "markdown",
   "metadata": {},
   "source": [
    "# std ,variance,median, mode"
   ]
  },
  {
   "cell_type": "code",
   "execution_count": 3,
   "metadata": {},
   "outputs": [],
   "source": [
    "\n",
    "import statistics \n",
    "sample = fa \n",
    "#sample =pr"
   ]
  },
  {
   "cell_type": "code",
   "execution_count": 4,
   "metadata": {},
   "outputs": [
    {
     "name": "stdout",
     "output_type": "stream",
     "text": [
      "Standard Deviation of sample is 7.48612752117 \n",
      "Variance of the sample is 56.0421052632\n",
      "Grouped Median of the median is 17.5\n",
      "Low median of the data-set is 15.0 \n",
      "High median of the data-set is 18.0 \n"
     ]
    },
    {
     "ename": "StatisticsError",
     "evalue": "no unique mode; found 4 equally common values",
     "output_type": "error",
     "traceback": [
      "\u001b[0;31m---------------------------------------------------------------------------\u001b[0m",
      "\u001b[0;31mStatisticsError\u001b[0m                           Traceback (most recent call last)",
      "\u001b[0;32m<ipython-input-4-e539234f63a7>\u001b[0m in \u001b[0;36m<module>\u001b[0;34m()\u001b[0m\n\u001b[1;32m     10\u001b[0m \u001b[0;32mprint\u001b[0m\u001b[0;34m(\u001b[0m\u001b[0;34m\"High median of the data-set is %s \"\u001b[0m\u001b[0;34m%\u001b[0m \u001b[0;34m(\u001b[0m\u001b[0mstatistics\u001b[0m\u001b[0;34m.\u001b[0m\u001b[0mmedian_high\u001b[0m\u001b[0;34m(\u001b[0m\u001b[0msample\u001b[0m\u001b[0;34m)\u001b[0m\u001b[0;34m)\u001b[0m\u001b[0;34m)\u001b[0m\u001b[0;34m\u001b[0m\u001b[0m\n\u001b[1;32m     11\u001b[0m \u001b[0;34m\u001b[0m\u001b[0m\n\u001b[0;32m---> 12\u001b[0;31m \u001b[0;32mprint\u001b[0m\u001b[0;34m(\u001b[0m\u001b[0;34m\"High mode of the data-set is %s \"\u001b[0m\u001b[0;34m%\u001b[0m \u001b[0;34m(\u001b[0m\u001b[0mstatistics\u001b[0m\u001b[0;34m.\u001b[0m\u001b[0mmode\u001b[0m\u001b[0;34m(\u001b[0m\u001b[0msample\u001b[0m\u001b[0;34m)\u001b[0m\u001b[0;34m)\u001b[0m\u001b[0;34m)\u001b[0m\u001b[0;34m\u001b[0m\u001b[0m\n\u001b[0m",
      "\u001b[0;32m/home/ashraful/.local/lib/python2.7/site-packages/statistics/__init__.pyc\u001b[0m in \u001b[0;36mmode\u001b[0;34m(data)\u001b[0m\n\u001b[1;32m    434\u001b[0m     \u001b[0;32melif\u001b[0m \u001b[0mtable\u001b[0m\u001b[0;34m:\u001b[0m\u001b[0;34m\u001b[0m\u001b[0m\n\u001b[1;32m    435\u001b[0m         raise StatisticsError(\n\u001b[0;32m--> 436\u001b[0;31m                 \u001b[0;34mu'no unique mode; found %d equally common values'\u001b[0m \u001b[0;34m%\u001b[0m \u001b[0mlen\u001b[0m\u001b[0;34m(\u001b[0m\u001b[0mtable\u001b[0m\u001b[0;34m)\u001b[0m\u001b[0;34m\u001b[0m\u001b[0m\n\u001b[0m\u001b[1;32m    437\u001b[0m                 )\n\u001b[1;32m    438\u001b[0m     \u001b[0;32melse\u001b[0m\u001b[0;34m:\u001b[0m\u001b[0;34m\u001b[0m\u001b[0m\n",
      "\u001b[0;31mStatisticsError\u001b[0m: no unique mode; found 4 equally common values"
     ]
    }
   ],
   "source": [
    "\n",
    "print(\"Standard Deviation of sample is % s \" % (statistics.stdev(sample)))\n",
    "\n",
    "print(\"Variance of the sample is % s\"%(statistics.variance(sample))) \n",
    " \n",
    "print(\"Grouped Median of the median is %s\"%(statistics.median_grouped(sample))) \n",
    "\n",
    "print(\"Low median of the data-set is % s \" % (statistics.median_low(sample))) \n",
    "\n",
    "print(\"High median of the data-set is %s \"% (statistics.median_high(sample))) \n",
    "\n",
    "print(\"High mode of the data-set is %s \"% (statistics.mode(sample))) "
   ]
  },
  {
   "cell_type": "markdown",
   "metadata": {},
   "source": [
    "# mean"
   ]
  },
  {
   "cell_type": "code",
   "execution_count": 5,
   "metadata": {},
   "outputs": [
    {
     "name": "stdout",
     "output_type": "stream",
     "text": [
      "('Mean is :', 14.6)\n",
      "Harmonic Mean is 9.633130939324978 \n",
      "geometricic Mean is 4.739896323935315 \n"
     ]
    }
   ],
   "source": [
    "data1=fa\n",
    "x = statistics.mean(data1) \n",
    "# Printing the mean \n",
    "print(\"Mean is :\", x) \n",
    "# calculate harmonic mean\n",
    "from scipy import stats\n",
    "c=stats.hmean(fa)\n",
    "\n",
    "print(\"Harmonic Mean is % s \" % (c)) \n",
    "\n",
    "c=stats.gmean([1,9,5,6,6,7])\n",
    "print(\"geometricic Mean is % s \" % (c)) \n"
   ]
  },
  {
   "cell_type": "markdown",
   "metadata": {},
   "source": [
    "# moment"
   ]
  },
  {
   "cell_type": "code",
   "execution_count": 6,
   "metadata": {},
   "outputs": [
    {
     "data": {
      "text/plain": [
       "2.0"
      ]
     },
     "execution_count": 6,
     "metadata": {},
     "output_type": "execute_result"
    }
   ],
   "source": [
    "from scipy.stats import moment\n",
    "moment([1, 2, 3, 4, 5], moment=1)\n",
    "#0.0\n",
    "moment([1, 2, 3, 4, 5], moment=2)\n",
    "#2.0"
   ]
  },
  {
   "cell_type": "code",
   "execution_count": 14,
   "metadata": {},
   "outputs": [
    {
     "name": "stdout",
     "output_type": "stream",
     "text": [
      "[1.0, 1.0, 1.0, 1.0, 1.0, 1.0, 1.0, 1.0, 1.0, 1.0, 1.0, 1.0, 1.0, 1.0, 1.0, 1.0, 1.0, 1.0, 1.0, 1.0]\n"
     ]
    }
   ],
   "source": [
    "print sample\n",
    "\n",
    "def moment(data, k):\n",
    "  data_mean = sum(data)/len(data)\n",
    "  return sum((x-data_mean)**k for x in data)/len(data)"
   ]
  },
  {
   "cell_type": "code",
   "execution_count": 3,
   "metadata": {},
   "outputs": [
    {
     "ename": "NameError",
     "evalue": "name 'moment' is not defined",
     "output_type": "error",
     "traceback": [
      "\u001b[0;31m---------------------------------------------------------------------------\u001b[0m",
      "\u001b[0;31mNameError\u001b[0m                                 Traceback (most recent call last)",
      "\u001b[0;32m<ipython-input-3-afd59de8b9e8>\u001b[0m in \u001b[0;36m<module>\u001b[0;34m()\u001b[0m\n\u001b[0;32m----> 1\u001b[0;31m \u001b[0;32mprint\u001b[0m \u001b[0mmoment\u001b[0m\u001b[0;34m(\u001b[0m\u001b[0msample\u001b[0m\u001b[0;34m,\u001b[0m\u001b[0;36m2\u001b[0m\u001b[0;34m)\u001b[0m\u001b[0;34m\u001b[0m\u001b[0m\n\u001b[0m\u001b[1;32m      2\u001b[0m \u001b[0;34m\u001b[0m\u001b[0m\n",
      "\u001b[0;31mNameError\u001b[0m: name 'moment' is not defined"
     ]
    }
   ],
   "source": [
    "print moment(sample,2)\n",
    "\n"
   ]
  },
  {
   "cell_type": "code",
   "execution_count": null,
   "metadata": {},
   "outputs": [],
   "source": []
  },
  {
   "cell_type": "code",
   "execution_count": 7,
   "metadata": {},
   "outputs": [
    {
     "name": "stdout",
     "output_type": "stream",
     "text": [
      "145.4\n"
     ]
    }
   ],
   "source": [
    "\n",
    "def moment(data, k,va):\n",
    "  data_mean = va\n",
    "  return sum((x-data_mean)**k for x in data)/len(data)\n",
    "va=5\n",
    "print moment(sample,2,va)"
   ]
  },
  {
   "cell_type": "markdown",
   "metadata": {},
   "source": [
    "\n",
    "\n",
    "\n",
    "\n",
    "\n",
    "end__moment\n",
    "\n",
    "​\n",
    "\n",
    "​\n"
   ]
  },
  {
   "cell_type": "code",
   "execution_count": null,
   "metadata": {},
   "outputs": [],
   "source": []
  }
 ],
 "metadata": {
  "kernelspec": {
   "display_name": "Python 2",
   "language": "python",
   "name": "python2"
  },
  "language_info": {
   "codemirror_mode": {
    "name": "ipython",
    "version": 2
   },
   "file_extension": ".py",
   "mimetype": "text/x-python",
   "name": "python",
   "nbconvert_exporter": "python",
   "pygments_lexer": "ipython2",
   "version": "2.7.12"
  }
 },
 "nbformat": 4,
 "nbformat_minor": 2
}
