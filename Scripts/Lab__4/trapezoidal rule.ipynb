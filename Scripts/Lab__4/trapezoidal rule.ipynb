{
 "cells": [
  {
   "cell_type": "code",
   "execution_count": 1,
   "metadata": {},
   "outputs": [],
   "source": [
    "# input function  x*x-x+1\n"
   ]
  },
  {
   "cell_type": "code",
   "execution_count": 2,
   "metadata": {},
   "outputs": [
    {
     "name": "stdout",
     "output_type": "stream",
     "text": [
      "-9.8*x + 2000*log(140000/(-2100*x + 140000))\n",
      "41.3184149694\n",
      "1.81280494737\n"
     ]
    }
   ],
   "source": [
    "from math import *\n",
    "\n",
    "from sympy import Function, Symbol,sympify\n",
    "x = Symbol('x')\n",
    "ff=open(\"in001.txt\",\"r\")\n",
    "p=ff.read()\n",
    "xx=sympify(p, evaluate=False)\n",
    "y=xx\n",
    "print y\n",
    "def f(c):\n",
    "    cc=float(y.subs({x:c}))\n",
    "    return cc\n",
    "print f(2.0)\n",
    "\n",
    "def Trapezoidal(f, a, b, n):\n",
    "    h = (b-a)/float(n)\n",
    "    s = 0.5*(f(a) + f(b))\n",
    "    for i in range(1,n,1):\n",
    "        s = s + f(a + i*h)\n",
    "    return h*s\n",
    "\n",
    "def g(t):\n",
    "    return exp(-t**4)\n",
    "\n",
    "a = -2;  b = 2\n",
    "n = 1000\n",
    "result = Trapezoidal(g, a, b, n)\n",
    "print result"
   ]
  },
  {
   "cell_type": "code",
   "execution_count": 3,
   "metadata": {},
   "outputs": [
    {
     "name": "stdout",
     "output_type": "stream",
     "text": [
      "-9.8*x + 2000*log(140000/(-2100*x + 140000))\n",
      "41.3184149694\n",
      "1.200324\n"
     ]
    }
   ],
   "source": [
    "# Python code for simpson's 1 / 3 rule \n",
    "from math import *\n",
    "from sympy import Function, Symbol,sympify\n",
    "x = Symbol('x')\n",
    "ff=open(\"in001.txt\",\"r\")\n",
    "p=ff.read()\n",
    "xx=sympify(p, evaluate=False)\n",
    "y=xx\n",
    "print y\n",
    "def f(c):\n",
    "    cc=float(y.subs({x:c}))\n",
    "    return cc\n",
    "print f(2.0)\n",
    "def simpsons_( a, b, n ): \n",
    "\n",
    "    # Calculating the value of h \n",
    "    h = ( b-a )/n \n",
    "\n",
    "    # List for storing value of x and f(x) \n",
    "    x = list() \n",
    "    fx = list() \n",
    "\n",
    "    # Calcuting values of x and f(x) \n",
    "    i = 0\n",
    "    while i<= n: \n",
    "        x.append(a + i * h) \n",
    "        fx.append(f(x[i])) \n",
    "        i += 1\n",
    "\n",
    "    # Calculating result \n",
    "    res = 0\n",
    "    i = 0\n",
    "    while i<= n: \n",
    "        if i == 0 or i == n: \n",
    "            res+= fx[i] \n",
    "        elif i % 2 != 0: \n",
    "            res+= 4 * fx[i] \n",
    "        else: \n",
    "            res+= 2 * fx[i] \n",
    "        i+= 1\n",
    "    res = res * (h / 3) \n",
    "    return res \n",
    "\n",
    "# Driver code \n",
    "a = -2.0 # Lower limit \n",
    "b = 2.0 # Upper limit \n",
    "n = 1000 # Number of interval \n",
    "print(\"%.6f\"% simpsons_(a,b, n)) \n"
   ]
  },
  {
   "cell_type": "markdown",
   "metadata": {},
   "source": [
    "# problem :: 1\n",
    "        "
   ]
  },
  {
   "cell_type": "code",
   "execution_count": 4,
   "metadata": {},
   "outputs": [
    {
     "name": "stdout",
     "output_type": "stream",
     "text": [
      "-9.8*x + 2000*log(140000/(-2100*x + 140000))\n",
      "41.3184149694\n",
      "11061.335535\n"
     ]
    }
   ],
   "source": [
    "# Python code for simpson's 1 / 3 rule \n",
    "from math import *\n",
    "from sympy import Function, Symbol,sympify\n",
    "x = Symbol('x')\n",
    "ff=open(\"in001.txt\",\"r\")\n",
    "p=ff.read()\n",
    "xx=sympify(p, evaluate=False)\n",
    "y=xx\n",
    "print y\n",
    "def f(c):\n",
    "    cc=float(y.subs({x:c}))\n",
    "    return cc\n",
    "print f(2.0)\n",
    "def simpsons_( a, b, n ): \n",
    "\n",
    "    # Calculating the value of h \n",
    "    h = ( b-a )/n \n",
    "\n",
    "    # List for storing value of x and f(x) \n",
    "    x = list() \n",
    "    fx = list() \n",
    "\n",
    "    # Calcuting values of x and f(x) \n",
    "    i = 0\n",
    "    while i<= n: \n",
    "        x.append(a + i * h) \n",
    "        fx.append(f(x[i])) \n",
    "        i += 1\n",
    "\n",
    "    # Calculating result \n",
    "    res = 0\n",
    "    i = 0\n",
    "    while i<= n: \n",
    "        if i == 0 or i == n: \n",
    "            res+= fx[i] \n",
    "        elif i % 2 != 0: \n",
    "            res+= 4 * fx[i] \n",
    "        else: \n",
    "            res+= 2 * fx[i] \n",
    "        i+= 1\n",
    "    res = res * (h / 3) \n",
    "    return res \n",
    "\n",
    "# Driver code \n",
    "a = 8.0 # Lower limit \n",
    "b = 30.0 # Upper limit \n",
    "n = 1000 # Number of interval \n",
    "print(\"%.6f\"% simpsons_(a,b, n)) \n"
   ]
  },
  {
   "cell_type": "code",
   "execution_count": null,
   "metadata": {},
   "outputs": [],
   "source": []
  },
  {
   "cell_type": "code",
   "execution_count": 5,
   "metadata": {},
   "outputs": [],
   "source": [
    "import matplotlib.pyplot as plt"
   ]
  },
  {
   "cell_type": "code",
   "execution_count": 25,
   "metadata": {},
   "outputs": [
    {
     "name": "stdout",
     "output_type": "stream",
     "text": [
      "-9.8*x + 2000*log(140000/(-2100*x + 140000))\n",
      "41.3184149694\n",
      "std res  11061.3355351\n",
      "1.1\n",
      "11061.3360332\n"
     ]
    },
    {
     "data": {
      "image/png": "[encoded data removed]",
      "text/plain": [
       "<Figure size 432x288 with 1 Axes>"
      ]
     },
     "metadata": {
      "needs_background": "light"
     },
     "output_type": "display_data"
    }
   ],
   "source": [
    "# Python code for simpson's 1 / 3 rule \n",
    "from math import *\n",
    "from sympy import Function, Symbol,sympify\n",
    "x = Symbol('x')\n",
    "ff=open(\"in001.txt\",\"r\")\n",
    "p=ff.read()\n",
    "xx=sympify(p, evaluate=False)\n",
    "y=xx\n",
    "print y\n",
    "\n",
    "ttp=[]\n",
    "def f(c):\n",
    "    cc=float(y.subs({x:c}))\n",
    "    return cc\n",
    "print f(2.0)\n",
    "from scipy.integrate import quad\n",
    "abres, err = quad(f, 8,30)\n",
    "print \"std res \",abres\n",
    "def simpsons_( a, b, n ): \n",
    "    \n",
    "    # Calculating the value of h \n",
    "    h = ( b-a )/n \n",
    "    print h\n",
    "    \n",
    "    \n",
    "    c=[]\n",
    "    #for i in range(int(a),int(b+1),int(h)):\n",
    "        #c.append(i)\n",
    "    #print c\n",
    "    #print len(c)\n",
    "    \n",
    "    \n",
    "    \n",
    "    # List for storing value of x and f(x) \n",
    "    x = list() \n",
    "    fx = list() \n",
    "\n",
    "    # Calcuting values of x and f(x) \n",
    "    i = 0\n",
    "    while i<= n: \n",
    "        x.append(a + i * h) \n",
    "        fx.append(f(x[i])) \n",
    "        i += 1\n",
    "\n",
    "\n",
    "    # Calculating result \n",
    "    res = 0\n",
    "    i = 0\n",
    "    tmp=[]\n",
    "    while i<= n: \n",
    "        if i == 0 or i == n: \n",
    "            res+= fx[i] \n",
    "        elif i % 2 != 0: \n",
    "            res+= 4 * fx[i] \n",
    "        else: \n",
    "            res+= 2 * fx[i] \n",
    "        c.append(i)\n",
    "        i+= 1\n",
    "        tmp.append(res * (h / 3))\n",
    "    res = res * (h / 3) \n",
    "    ttp=tmp\n",
    "    \n",
    "    err=[]\n",
    "    for i in range(len(tmp)):\n",
    "        #print tmp[i],res\n",
    "        \n",
    "        p=abs(1-(tmp[i]/abres)) * 100\n",
    "        \n",
    "        err.append(p)\n",
    " \n",
    "    plt.plot(c,err)\n",
    "    \n",
    "    #print type(ttp),type(c)\n",
    "    print res\n",
    "    #return res \n",
    "\n",
    "# Driver code \n",
    "a = 8.0 # Lower limit \n",
    "b = 30.0 # Upper limit \n",
    "n = 20 # Number of interval \n",
    "simpsons_(a,b, n)\n"
   ]
  },
  {
   "cell_type": "code",
   "execution_count": 7,
   "metadata": {},
   "outputs": [
    {
     "name": "stdout",
     "output_type": "stream",
     "text": [
      "0\n"
     ]
    }
   ],
   "source": [
    "print len(ttp)"
   ]
  },
  {
   "cell_type": "code",
   "execution_count": 8,
   "metadata": {},
   "outputs": [
    {
     "name": "stdout",
     "output_type": "stream",
     "text": [
      "[2, 4, 6, 8, 10, 12, 14, 16, 18, 20]\n",
      "10\n"
     ]
    }
   ],
   "source": [
    "c=[]\n",
    "for i in range(2,21,2):\n",
    "    c.append(i)\n",
    "print c\n",
    "print len(c)\n",
    "    "
   ]
  },
  {
   "cell_type": "code",
   "execution_count": null,
   "metadata": {},
   "outputs": [],
   "source": []
  },
  {
   "cell_type": "code",
   "execution_count": null,
   "metadata": {},
   "outputs": [],
   "source": []
  },
  {
   "cell_type": "code",
   "execution_count": 9,
   "metadata": {},
   "outputs": [
    {
     "name": "stdout",
     "output_type": "stream",
     "text": [
      "-9.8*x + 2000*log(140000/(-2100*x + 140000))\n"
     ]
    }
   ],
   "source": [
    "# Python code for simpson's 1 / 3 rule \n",
    "from math import *\n",
    "from sympy import Function, Symbol,sympify\n",
    "x = Symbol('x')\n",
    "ff=open(\"in001.txt\",\"r\")\n",
    "p=ff.read()\n",
    "xx=sympify(p, evaluate=False)\n",
    "y=xx\n",
    "print y"
   ]
  },
  {
   "cell_type": "code",
   "execution_count": null,
   "metadata": {},
   "outputs": [],
   "source": []
  },
  {
   "cell_type": "code",
   "execution_count": null,
   "metadata": {},
   "outputs": [],
   "source": []
  },
  {
   "cell_type": "code",
   "execution_count": 10,
   "metadata": {},
   "outputs": [
    {
     "name": "stdout",
     "output_type": "stream",
     "text": [
      "-9.8*x + 2000*log(140000/(-2100*x + 140000))\n",
      "41.3184149694\n"
     ]
    }
   ],
   "source": [
    "from math import *\n",
    "\n",
    "from sympy import Function, Symbol,sympify\n",
    "x = Symbol('x')\n",
    "ff=open(\"in001.txt\",\"r\")\n",
    "p=ff.read()\n",
    "xx=sympify(p, evaluate=False)\n",
    "y=xx\n",
    "print y\n",
    "def f(c):\n",
    "    cc=float(y.subs({x:c}))\n",
    "    return cc\n",
    "print f(2.0)"
   ]
  },
  {
   "cell_type": "code",
   "execution_count": 11,
   "metadata": {},
   "outputs": [
    {
     "name": "stdout",
     "output_type": "stream",
     "text": [
      "The numerical result is 11061.335535 (+-1.22805e-10)\n"
     ]
    }
   ],
   "source": [
    "from math import cos, exp, pi\n",
    "from scipy.integrate import quad\n",
    "\n",
    "\n",
    "# function we want to integrate\n",
    "\n",
    "\n",
    "# call quad to ilogntegrate f from -2 to 2\n",
    "res, err = quad(f, 8,30)\n",
    "\n",
    "print(\"The numerical result is {:f} (+-{:g})\"\n",
    "    .format(res, err))"
   ]
  },
  {
   "cell_type": "code",
   "execution_count": null,
   "metadata": {},
   "outputs": [],
   "source": [
    "from math import cos, exp, pi\n"
   ]
  }
 ],
 "metadata": {
  "kernelspec": {
   "display_name": "Python 2",
   "language": "python",
   "name": "python2"
  },
  "language_info": {
   "codemirror_mode": {
    "name": "ipython",
    "version": 2
   },
   "file_extension": ".py",
   "mimetype": "text/x-python",
   "name": "python",
   "nbconvert_exporter": "python",
   "pygments_lexer": "ipython2",
   "version": "2.7.12"
  }
 },
 "nbformat": 4,
 "nbformat_minor": 2
}
