{
 "cells": [
  {
   "cell_type": "code",
   "execution_count": null,
   "metadata": {},
   "outputs": [],
   "source": []
  },
  {
   "cell_type": "code",
   "execution_count": 1,
   "metadata": {},
   "outputs": [],
   "source": [
    "from math import *\n",
    "from sympy import Function, Symbol,sympify\n",
    "import matplotlib.pyplot as plt\n",
    "from scipy.integrate import quad"
   ]
  },
  {
   "cell_type": "code",
   "execution_count": null,
   "metadata": {},
   "outputs": [],
   "source": []
  },
  {
   "cell_type": "code",
   "execution_count": 2,
   "metadata": {},
   "outputs": [
    {
     "name": "stdout",
     "output_type": "stream",
     "text": [
      "input function  -9.8*x + 2000*log(140000/(-2100*x + 140000))\n",
      "standard result  -102.058775236\n",
      "-102.058846275\n"
     ]
    }
   ],
   "source": [
    "# Python code for simpson's 1 / 3 rule \n",
    "x = Symbol('x')\n",
    "ff=open(\"in001.txt\",\"r\")\n",
    "p=ff.read()\n",
    "xx=sympify(p, evaluate=False)\n",
    "y=xx\n",
    "print \"input function \",y\n",
    "\n",
    "\n",
    "\n",
    "def f(c):\n",
    "    cc=float(y.subs({x:c}))\n",
    "    return cc\n",
    "\n",
    "\n",
    "\n",
    "def simpsons_( a, b, n ): \n",
    "    h = ( b-a )/n \n",
    "    c=[]\n",
    "    x = list() \n",
    "    fx = list() \n",
    "\n",
    "    # Calcuting values of x and f(x) \n",
    "    i = 0\n",
    "    while i<= n: \n",
    "        x.append(a + i * h) \n",
    "        fx.append(f(x[i])) \n",
    "        i += 1\n",
    "    # Calculating result \n",
    "    res = 0\n",
    "    i = 0\n",
    "    tmp=[]\n",
    "    while i<= n: \n",
    "        if i == 0 or i == n: \n",
    "            res+= fx[i] \n",
    "        elif i % 2 != 0: \n",
    "            res+= 4 * fx[i] \n",
    "        else: \n",
    "            res+= 2 * fx[i] \n",
    "        c.append(i)\n",
    "        i+= 1\n",
    "        tmp.append(res * (h / 3))\n",
    "    res = res * (h / 3) \n",
    "    return res\n",
    "    \n",
    "a = 3.1415 # Lower limit \n",
    "b = 0.0 # Upper limit \n",
    "n = 2 # Number of interval \n",
    "\n",
    "#\n",
    "abres, err = quad(f, a,b)\n",
    "print \"standard result \",abres\n",
    "\n",
    "\n",
    "c=simpsons_(a,b, n)\n",
    "\n",
    "print c\n"
   ]
  },
  {
   "cell_type": "markdown",
   "metadata": {},
   "source": [
    "# 1/a"
   ]
  },
  {
   "cell_type": "code",
   "execution_count": 3,
   "metadata": {},
   "outputs": [],
   "source": [
    "k=range(2,21,2)\n",
    "# file input output\n",
    "file=open(\"out001.txt\",\"w\")\n",
    "file.write(\"number__of__segment   value           relative__error \\n\")\n",
    "for d in k:\n",
    "    dk=simpsons_(a,b, d)\n",
    "    p=abs(float(1-dk/abres)) * 100\n",
    "    file.write(\"\\n %d                          %.7f                         %.3f\"%(d,dk,p))\n",
    "    \n",
    "file.close()"
   ]
  },
  {
   "cell_type": "markdown",
   "metadata": {},
   "source": [
    "# 1/b"
   ]
  },
  {
   "cell_type": "code",
   "execution_count": 4,
   "metadata": {},
   "outputs": [
    {
     "data": {
      "text/plain": [
       "Text(0,0.5,'percentage of error')"
      ]
     },
     "execution_count": 4,
     "metadata": {},
     "output_type": "execute_result"
    },
    {
     "data": {
      "image/png": "[encoded data removed]",
      "text/plain": [
       "<Figure size 432x288 with 1 Axes>"
      ]
     },
     "metadata": {
      "needs_background": "light"
     },
     "output_type": "display_data"
    }
   ],
   "source": [
    "\n",
    "k=range(2,21,2)\n",
    "pl=[]\n",
    "for d in k:\n",
    "    dk=simpsons_(a,b, d)\n",
    "    p=abs(1-dk/abres) * 100\n",
    "    pl.append(p)\n",
    "\n",
    "plt.plot(k,pl,'g')\n",
    "plt.xlabel(\"number of segment\")\n",
    "plt.ylabel(\"percentage of error\")"
   ]
  },
  {
   "cell_type": "code",
   "execution_count": null,
   "metadata": {},
   "outputs": [],
   "source": []
  },
  {
   "cell_type": "code",
   "execution_count": null,
   "metadata": {},
   "outputs": [],
   "source": []
  },
  {
   "cell_type": "markdown",
   "metadata": {},
   "source": [
    "# prb::2"
   ]
  },
  {
   "cell_type": "code",
   "execution_count": null,
   "metadata": {},
   "outputs": [],
   "source": []
  },
  {
   "cell_type": "code",
   "execution_count": null,
   "metadata": {},
   "outputs": [],
   "source": []
  },
  {
   "cell_type": "code",
   "execution_count": 5,
   "metadata": {},
   "outputs": [
    {
     "name": "stdout",
     "output_type": "stream",
     "text": [
      "t \n",
      " \n",
      "\n",
      "8.4915\n",
      "\n",
      " \n",
      " 1/3 \n",
      "8.54\n",
      "\n",
      " \n",
      " 3/8 \n",
      "8.2209375\n"
     ]
    }
   ],
   "source": [
    "f='in002.txt'\n",
    "file = open(f, 'r')\n",
    "with open(f) as fl:\n",
    "    #print zip(*[line.split() for line in fl])[0]\n",
    "    da= zip(*[line.split() for line in fl])[0]\n",
    "with open(f) as fl:\n",
    "    #print zip(*[line.split() for line in fl])[1]\n",
    "    ta=zip(*[line.split() for line in fl])[1]\n",
    "\n",
    "    \n",
    "x=[]\n",
    "f_x=[]\n",
    "s=0\n",
    "for d in da:\n",
    "    x.append(float(d))\n",
    "for d in ta:\n",
    "    f_x.append(float(d))\n",
    "    s+=float(d)\n",
    "\n",
    "s=s-f_x[0]-f_x[len(x)-1]\n",
    "\n",
    "\n",
    "#print x,f_x\n",
    "\n",
    "##traezoidal\n",
    "print \"t \\n \\n\"\n",
    "n=len(x)-1\n",
    "d=f_x[n]+f_x[0]\n",
    "h=(x[n]-x[0])/n\n",
    "mi=s\n",
    "intg=(h/2)*(d+2*mi)\n",
    "print intg\n",
    "print \"\\n \\n 1/3 \"\n",
    "res = 0\n",
    "i = 0\n",
    "while i<= n: \n",
    "    if i == 0 or i == n: \n",
    "        res+= f_x[i] \n",
    "    elif i % 2 != 0: \n",
    "        res+= 4 * f_x[i] \n",
    "    else: \n",
    "        res+= 2 * f_x[i] \n",
    "    i+= 1\n",
    "res = res * (h / 3) \n",
    "print res\n",
    "\n",
    "print \"\\n \\n 3/8 \"\n",
    "res = 0\n",
    "i = 0\n",
    "while i<= n: \n",
    "    if i == 0 or i == n:\n",
    "    #if i == 0 :\n",
    "        res+= f_x[i] \n",
    "    elif i % 3 == 0: \n",
    "        res+= 2 * f_x[i] \n",
    "    else: \n",
    "        res+= 3 * f_x[i] \n",
    "    i+= 1\n",
    "res = (res*3*h)/8 \n",
    "print res"
   ]
  },
  {
   "cell_type": "markdown",
   "metadata": {},
   "source": [
    "# p::3"
   ]
  },
  {
   "cell_type": "code",
   "execution_count": 6,
   "metadata": {},
   "outputs": [
    {
     "name": "stdout",
     "output_type": "stream",
     "text": [
      "t \n",
      " \n",
      "\n",
      "1.467171\n"
     ]
    }
   ],
   "source": [
    "f='in003.txt'\n",
    "file = open(f, 'r')\n",
    "with open(f) as fl:\n",
    "    #print zip(*[line.split() for line in fl])[0]\n",
    "    da= zip(*[line.split() for line in fl])[0]\n",
    "with open(f) as fl:\n",
    "    #print zip(*[line.split() for line in fl])[1]\n",
    "    ta=zip(*[line.split() for line in fl])[1]\n",
    "\n",
    "    \n",
    "x=[]\n",
    "f_x=[]\n",
    "s=0\n",
    "for d in da:\n",
    "    x.append(float(d))\n",
    "for d in ta:\n",
    "    f_x.append(float(d))\n",
    "    s+=float(d)\n",
    "\n",
    "s=s-f_x[0]-f_x[len(x)-1]\n",
    "\n",
    "\n",
    "#print x,f_x\n",
    "\n",
    "##traezoidal\n",
    "print \"t \\n \\n\"\n",
    "n=len(x)-1\n",
    "d=f_x[n]+f_x[0]\n",
    "h=(x[n]-x[0])/n\n",
    "mi=s\n",
    "intg=(h/2)*(d+2*mi)\n",
    "print intg"
   ]
  },
  {
   "cell_type": "code",
   "execution_count": null,
   "metadata": {},
   "outputs": [],
   "source": []
  },
  {
   "cell_type": "code",
   "execution_count": null,
   "metadata": {},
   "outputs": [],
   "source": []
  }
 ],
 "metadata": {
  "kernelspec": {
   "display_name": "Python 2",
   "language": "python",
   "name": "python2"
  },
  "language_info": {
   "codemirror_mode": {
    "name": "ipython",
    "version": 2
   },
   "file_extension": ".py",
   "mimetype": "text/x-python",
   "name": "python",
   "nbconvert_exporter": "python",
   "pygments_lexer": "ipython2",
   "version": "2.7.12"
  }
 },
 "nbformat": 4,
 "nbformat_minor": 2
}
