{
 "cells": [
  {
   "cell_type": "code",
   "execution_count": null,
   "metadata": {},
   "outputs": [],
   "source": []
  },
  {
   "cell_type": "code",
   "execution_count": 10,
   "metadata": {},
   "outputs": [],
   "source": [
    "from math import *\n",
    "from sympy import Function, Symbol,sympify\n",
    "import matplotlib.pyplot as plt\n",
    "from scipy.integrate import quad"
   ]
  },
  {
   "cell_type": "code",
   "execution_count": null,
   "metadata": {},
   "outputs": [],
   "source": []
  },
  {
   "cell_type": "code",
   "execution_count": 12,
   "metadata": {},
   "outputs": [
    {
     "name": "stdout",
     "output_type": "stream",
     "text": [
      "input function  1/(x*x*x*x)\n",
      "standard result  0.00556972656551\n",
      "I--(TRAPOEZO)  =   0.005571\n",
      "I--(simpsons)  =    0.005570\n"
     ]
    }
   ],
   "source": [
    "# Python code for simpson's 1 / 3 rule \n",
    "x = Symbol('x')\n",
    "ff=open(\"lb001.txt\",\"r\")\n",
    "p=ff.read()\n",
    "xx=sympify(p, evaluate=False)\n",
    "y=xx\n",
    "print \"input function \",y\n",
    "\n",
    "\n",
    "\n",
    "def f(c):\n",
    "    cc=float(y.subs({x:c}))\n",
    "    return cc\n",
    "\n",
    "\n",
    "\n",
    "def simpsons_( a, b, n ): \n",
    "    h = ( b-a )/n \n",
    "    c=[]\n",
    "    x = list() \n",
    "    fx = list() \n",
    "\n",
    "    # Calcuting values of x and f(x) \n",
    "    i = 0\n",
    "    while i<= n: \n",
    "        x.append(a + i * h) \n",
    "        fx.append(f(x[i])) \n",
    "        i += 1\n",
    "    # Calculating result \n",
    "    res = 0\n",
    "    i = 0\n",
    "    tmp=[]\n",
    "    while i<= n: \n",
    "        if i == 0 or i == n: \n",
    "            res+= fx[i] \n",
    "        elif i % 2 != 0: \n",
    "            res+= 4 * fx[i] \n",
    "        else: \n",
    "            res+= 2 * fx[i] \n",
    "        c.append(i)\n",
    "        i+= 1\n",
    "        tmp.append(res * (h / 3))\n",
    "    res = res * (h / 3) \n",
    "    return res\n",
    "    \n",
    "    \n",
    "    \n",
    "def Trapezoidal(a, b, n):\n",
    "    h = (b-a)/float(n)\n",
    "    s = 0.5*(f(a) + f(b))\n",
    "    for i in range(1,n,1):\n",
    "        s = s + f(a + i*h)\n",
    "    return h*s\n",
    "\n",
    "\n",
    "\n",
    "a = 3.1 # Lower limit \n",
    "b = 3.9 # Upper limit \n",
    "n = 20 # Number of interval \n",
    "\n",
    "#\n",
    "abres, err = quad(f, a,b)\n",
    "print \"standard result \",abres\n",
    "\n",
    "\n",
    "cs=simpsons_(a,b, n)\n",
    "cd=Trapezoidal(a,b, n)\n",
    "\n",
    "print \"I--(TRAPOEZO)  =   %f\"%cd\n",
    "print \"I--(simpsons)  =    %f\"%cs\n"
   ]
  },
  {
   "cell_type": "code",
   "execution_count": null,
   "metadata": {},
   "outputs": [],
   "source": [
    "\n"
   ]
  },
  {
   "cell_type": "code",
   "execution_count": null,
   "metadata": {},
   "outputs": [],
   "source": []
  },
  {
   "cell_type": "code",
   "execution_count": null,
   "metadata": {},
   "outputs": [],
   "source": []
  },
  {
   "cell_type": "code",
   "execution_count": null,
   "metadata": {},
   "outputs": [],
   "source": [
    "# 1/a"
   ]
  },
  {
   "cell_type": "code",
   "execution_count": null,
   "metadata": {},
   "outputs": [],
   "source": []
  },
  {
   "cell_type": "code",
   "execution_count": null,
   "metadata": {},
   "outputs": [],
   "source": [
    "# 1/b"
   ]
  },
  {
   "cell_type": "code",
   "execution_count": null,
   "metadata": {},
   "outputs": [],
   "source": []
  },
  {
   "cell_type": "code",
   "execution_count": null,
   "metadata": {},
   "outputs": [],
   "source": []
  },
  {
   "cell_type": "code",
   "execution_count": null,
   "metadata": {},
   "outputs": [],
   "source": []
  },
  {
   "cell_type": "code",
   "execution_count": null,
   "metadata": {},
   "outputs": [],
   "source": []
  },
  {
   "cell_type": "markdown",
   "metadata": {},
   "source": []
  },
  {
   "cell_type": "code",
   "execution_count": null,
   "metadata": {},
   "outputs": [],
   "source": []
  },
  {
   "cell_type": "code",
   "execution_count": null,
   "metadata": {},
   "outputs": [],
   "source": []
  },
  {
   "cell_type": "code",
   "execution_count": null,
   "metadata": {},
   "outputs": [],
   "source": []
  },
  {
   "cell_type": "markdown",
   "metadata": {},
   "source": []
  },
  {
   "cell_type": "code",
   "execution_count": null,
   "metadata": {},
   "outputs": [],
   "source": []
  },
  {
   "cell_type": "code",
   "execution_count": null,
   "metadata": {},
   "outputs": [],
   "source": []
  },
  {
   "cell_type": "code",
   "execution_count": null,
   "metadata": {},
   "outputs": [],
   "source": []
  }
 ],
 "metadata": {
  "kernelspec": {
   "display_name": "Python 2",
   "language": "python",
   "name": "python2"
  },
  "language_info": {
   "codemirror_mode": {
    "name": "ipython",
    "version": 2
   },
   "file_extension": ".py",
   "mimetype": "text/x-python",
   "name": "python",
   "nbconvert_exporter": "python",
   "pygments_lexer": "ipython2",
   "version": "2.7.12"
  }
 },
 "nbformat": 4,
 "nbformat_minor": 2
}
