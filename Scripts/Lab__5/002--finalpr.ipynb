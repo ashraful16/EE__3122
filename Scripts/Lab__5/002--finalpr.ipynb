{
 "cells": [
  {
   "cell_type": "code",
   "execution_count": 5,
   "metadata": {},
   "outputs": [],
   "source": [
    "import numpy as np\n",
    "import matplotlib.pyplot as plt\n",
    "import pandas as pd\n",
    "from scipy import stats"
   ]
  },
  {
   "cell_type": "code",
   "execution_count": 6,
   "metadata": {},
   "outputs": [
    {
     "name": "stdout",
     "output_type": "stream",
     "text": [
      "[1.0, 2.0, 3.0, 4.0, 5.0, 6.0, 7.0, 8.0, 9.0, 10.0] [2.67, 3.47, 8.54, 9.67, 2.45, 10.32, 12.57, 10.32, 14.92, 16.02]\n",
      "a is  1.5203367003367003\n",
      "b is  0.7331481481481479\n",
      "R is  0.942479518739478\n",
      "spearmanr correlation 0.857147\n"
     ]
    },
    {
     "data": {
      "image/png": "[encoded data removed]",
      "text/plain": [
       "<Figure size 432x288 with 1 Axes>"
      ]
     },
     "metadata": {
      "needs_background": "light"
     },
     "output_type": "display_data"
    }
   ],
   "source": [
    "\n",
    "#f='//media//ashraful//New Volume//labfiles//text6.txt'\n",
    "f='lab001.txt'\n",
    "file = open(f, 'r')\n",
    "with open(f) as fl:\n",
    "    #print zip(*[line.split() for line in fl])[0]\n",
    "    da= zip(*[line.split() for line in fl])[0]\n",
    "with open(f) as fl:\n",
    "    #print zip(*[line.split() for line in fl])[1]\n",
    "    ta=zip(*[line.split() for line in fl])[1]\n",
    "x=[]\n",
    "for i in da:\n",
    "    x.append(float(i))\n",
    "fx=[]\n",
    "for i in ta:\n",
    "    fx.append(float(i))\n",
    "print x,fx\n",
    "\n",
    "\n",
    "stdx=np.std(x)\n",
    "stdy=np.std(fx)\n",
    "\n",
    "dx=0\n",
    "for k in x:\n",
    "    dx=dx+(k-np.mean(x))\n",
    "\n",
    "    \n",
    "\n",
    "dy=0\n",
    "y=fx\n",
    "for k in y:\n",
    "    dy=dy+(k-np.mean(y))\n",
    "\n",
    "\n",
    "def cov(a, b):\n",
    "\n",
    "    if len(a) != len(b):\n",
    "        return\n",
    "\n",
    "    a_mean = np.mean(a)\n",
    "    b_mean = np.mean(b)\n",
    "\n",
    "    sum = 0\n",
    "\n",
    "    for i in range(0, len(a)):\n",
    "        sum += ((a[i] - a_mean) * (b[i] - b_mean))\n",
    "\n",
    "    return sum/(len(a)-1)\n",
    "covari=cov(x,y)\n",
    "#print covar\n",
    "\n",
    "#print covari,stdx,stdy\n",
    "r=covari/(stdx*stdy)\n",
    "\n",
    "\n",
    "\n",
    "a=covari/(stdx*stdx)\n",
    "print \"a is \",a\n",
    "\n",
    "\n",
    "\n",
    "b=np.mean(fx)-a*np.mean(x)\n",
    "print \"b is \",b\n",
    "\n",
    "\n",
    "\n",
    "print \"R is \",r\n",
    "\n",
    "\n",
    "dom=range(1,11)\n",
    "\n",
    "y=[]\n",
    "for d in dom:\n",
    "    \n",
    "    c=a*d+b\n",
    "    y.append(c)\n",
    "\n",
    "#plt.scatter(x,fx,linestyle='-' ,alpha=.99,color : color)\n",
    "plt.scatter(x,fx)\n",
    "\n",
    "plt.plot(dom,y,'c')\n",
    "\n",
    "\n",
    "\n",
    "sper,c=stats.spearmanr(x,fx)\n",
    "\n",
    "print \"spearmanr correlation %f\"%sper\n"
   ]
  },
  {
   "cell_type": "code",
   "execution_count": null,
   "metadata": {},
   "outputs": [],
   "source": []
  },
  {
   "cell_type": "code",
   "execution_count": null,
   "metadata": {},
   "outputs": [],
   "source": []
  }
 ],
 "metadata": {
  "kernelspec": {
   "display_name": "Python 2",
   "language": "python",
   "name": "python2"
  },
  "language_info": {
   "codemirror_mode": {
    "name": "ipython",
    "version": 2
   },
   "file_extension": ".py",
   "mimetype": "text/x-python",
   "name": "python",
   "nbconvert_exporter": "python",
   "pygments_lexer": "ipython2",
   "version": "2.7.12"
  }
 },
 "nbformat": 4,
 "nbformat_minor": 2
}
