{
 "cells": [
  {
   "cell_type": "code",
   "execution_count": null,
   "metadata": {},
   "outputs": [],
   "source": [
    "x=[12,9,6,12,11]\n",
    "y=[12,9,6,12,11]\n",
    "#x.sort()\n",
    "z=[]\n",
    "x.sort()\n",
    "for i in range(len(x)):\n",
    "    #i2=i1+str(y[i])\n",
    "    z.append([i,x[i]])\n",
    "f=[]\n",
    "for i in range(len(z)):\n",
    "    k=0\n",
    "    for j in range(len(z)):\n",
    "        \n",
    "        if y[i]==z[j][1]:\n",
    "            k=k+1\n",
    "            if k==1:\n",
    "                f.append(z[j][0])\n",
    "            else:break\n",
    "#print(f)\n",
    "l=[]\n",
    "for i in f:\n",
    "    if i not in l:\n",
    "        l.append(i)\n",
    "    elif i in l:\n",
    "        l.append(int(i)+1)\n",
    "print(l)"
   ]
  },
  {
   "cell_type": "code",
   "execution_count": null,
   "metadata": {},
   "outputs": [],
   "source": [
    "from scipy import stats\n",
    "c=stats.spearmanr([1.0, 2.0, 3.0, 4.0, 5.0, 6.0, 7.0, 8.0, 9.0, 10.0],\n",
    "                [1.5, 2.6, 3.7, 4.8, 5.9, 7.0, 8.1, 9.2, 10.3, 11.4])\n",
    "print c"
   ]
  },
  {
   "cell_type": "code",
   "execution_count": null,
   "metadata": {},
   "outputs": [],
   "source": [
    "import numpy as np\n",
    "import pandas as pd\n",
    "import scipy.stats\n"
   ]
  },
  {
   "cell_type": "code",
   "execution_count": null,
   "metadata": {},
   "outputs": [],
   "source": [
    "xs=[12,9,6,12,11]\n",
    "xranks = pd.Series(xs).rank()\n",
    "print xranks"
   ]
  },
  {
   "cell_type": "code",
   "execution_count": null,
   "metadata": {},
   "outputs": [],
   "source": []
  }
 ],
 "metadata": {
  "kernelspec": {
   "display_name": "Python 2",
   "language": "python",
   "name": "python2"
  },
  "language_info": {
   "codemirror_mode": {
    "name": "ipython",
    "version": 2
   },
   "file_extension": ".py",
   "mimetype": "text/x-python",
   "name": "python",
   "nbconvert_exporter": "python",
   "pygments_lexer": "ipython2",
   "version": "2.7.12"
  }
 },
 "nbformat": 4,
 "nbformat_minor": 2
}
