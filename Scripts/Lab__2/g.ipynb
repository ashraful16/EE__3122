{
 "cells": [
  {
   "cell_type": "code",
   "execution_count": null,
   "metadata": {},
   "outputs": [],
   "source": []
  },
  {
   "cell_type": "code",
   "execution_count": 2,
   "metadata": {},
   "outputs": [
    {
     "name": "stdout",
     "output_type": "stream",
     "text": [
      "    0   1   2   3\n",
      "0 -33  11   0  24\n",
      "1  11 -38  14 -29\n",
      "2   0  14 -45 -29\n"
     ]
    }
   ],
   "source": [
    "from pandas import *\n",
    "#x = [[\"A\", \"B\"], [\"C\", \"D\"]]\n",
    "t=[[-33,11,0,24],[11,-38,14,-29],[0,14,-45,-29]]\n",
    "print DataFrame(t)"
   ]
  },
  {
   "cell_type": "code",
   "execution_count": 27,
   "metadata": {},
   "outputs": [
    {
     "name": "stdout",
     "output_type": "stream",
     "text": [
      "[[-33  11   0  24]\n",
      " [ 11 -38  14 -29]\n",
      " [  0  14 -45 -29]]\n"
     ]
    }
   ],
   "source": [
    "import numpy as np\n",
    "print(np.matrix(t))"
   ]
  },
  {
   "cell_type": "code",
   "execution_count": 36,
   "metadata": {
    "scrolled": true
   },
   "outputs": [
    {
     "name": "stdout",
     "output_type": "stream",
     "text": [
      "    0   1   2\n",
      "0 -33  11   0\n",
      "1  11 -38  14\n",
      "2   0  14 -45\n",
      "    0\n",
      "0  24\n",
      "1 -29\n",
      "2 -29\n",
      " as  (3, 4)\n",
      "[[-33, 11, 0, 24], [11, -38, 14, -29], [0, 14, -45, -29]]\n",
      "Reduced Row-Echelon  \n",
      "[[  0   0   1   0]\n",
      " [  1   0 -13 -13]\n",
      " [  0   1  -4  -3]]\n",
      "   0   1  2\n",
      "0  0   1  0\n",
      "1  0   0  1\n",
      "2  1 -13 -4\n",
      "3  0 -13 -3\n"
     ]
    }
   ],
   "source": [
    "def like_a_gauss(mat):\n",
    "\t\"\"\"\n",
    "\tChanges mat into Reduced Row-Echelon Form.\n",
    "\t\"\"\"\n",
    "\tprint \" as \",(len(mat), len(mat[0]))\n",
    "\t# Let's do forward step first.\n",
    "\t# at the end of this for loop, the matrix is in Row-Echelon format.\n",
    "\tfor i in range(min(len(mat), len(mat[0]))):\n",
    "\t\t# every iteration, ignore one more row and column\n",
    "\t\tfor r in range(i, len(mat)):\n",
    "\t\t\t# find the first row with a nonzero entry in first column\n",
    "\t\t\tzero_row = mat[r][i] == 0\n",
    "\t\t\tif zero_row:\n",
    "\t\t\t\tcontinue\n",
    "\t\t\t# swap current row with first row\n",
    "\t\t\tmat[i], mat[r] = mat[r], mat[i]\n",
    "\t\t\t# add multiples of the new first row to lower rows so lower\n",
    "\t\t\t# entries of first column is zero\n",
    "\t\t\tfirst_row_first_col = mat[i][i]\n",
    "\t\t\tfor rr in range(i + 1, len(mat)):\n",
    "\t\t\t\tthis_row_first = mat[rr][i]\n",
    "\t\t\t\tscalarMultiple = -1 * this_row_first / first_row_first_col\n",
    "\t\t\t\tfor cc in range(i, len(mat[0])):\n",
    "\t\t\t\t\tmat[rr][cc] += mat[i][cc] * scalarMultiple\n",
    "\t\t\tbreak\n",
    "\n",
    "\t# At the end of the forward step\n",
    "\tprint(mat)\n",
    "\t# Now reduce\n",
    "\tfor i in range(min(len(mat), len(mat[0])) - 1, -1, -1):\n",
    "\t\t# divide last non-zero row by first non-zero entry\n",
    "\t\tfirst_elem_col = -1\n",
    "\t\tfirst_elem = -1\n",
    "\t\tfor c in range(len(mat[0])):\n",
    "\t\t\tif mat[i][c] == 0:\n",
    "\t\t\t\tcontinue\n",
    "\t\t\tif first_elem_col == -1:\n",
    "\t\t\t\tfirst_elem_col = c\n",
    "\t\t\t\tfirst_elem = mat[i][c]\n",
    "\t\t\tmat[i][c] /= first_elem\n",
    "\t\t# add multiples of this row so all numbers above the leading 1 is zero\n",
    "\t\tfor r in range(i):\n",
    "\t\t\tthis_row_above = mat[r][first_elem_col]\n",
    "\t\t\tscalarMultiple = -1 * this_row_above\n",
    "\t\t\tfor cc in range(len(mat[0])):\n",
    "\t\t\t\tmat[r][cc] += mat[i][cc] * scalarMultiple\n",
    "\t\t# disregard this row and continue\n",
    "\tprint (\"Reduced Row-Echelon  \")\n",
    "\tprint (np.matrix(mat))\n",
    "\n",
    "\n",
    "def augment_that_sucker(mat1, mat2):\n",
    "\t\"\"\"\n",
    "\tDuct-tape mat2's columns to the right of mat1\n",
    "\tReturn a new matrix.\n",
    "\t\"\"\"\n",
    "\tretval = []\n",
    "\tfor i in range(len(mat1)):\n",
    "\t\tr = mat1[i]\n",
    "\t\tnewrow = r[:] + mat2[i]\n",
    "\t\tretval.append(newrow)\n",
    "\treturn retval\n",
    "\n",
    "def from_vector(vector):\n",
    "\t\"\"\"\n",
    "\tConvert a vector into a column matrix.\n",
    "\t\"\"\"\n",
    "\tretval = []\n",
    "\tfor r in vector:\n",
    "\t\tretval.append([r])\n",
    "\treturn retval\n",
    "\n",
    "def transpose(mat):\n",
    "\t\"\"\"\n",
    "\tReturn a transposed version of mat.\n",
    "\t\"\"\"\n",
    "\tretval = []\n",
    "\tfor c in range(len(mat[0])):\n",
    "\t\tnewrow = []\n",
    "\t\tfor r in range(len(mat)):\n",
    "\t\t\tnewrow.append(mat[r][c])\n",
    "\t\tretval.append(newrow)\n",
    "\treturn retval\n",
    "\n",
    "# testcase from http://reference.wolfram.com/mathematica/ref/RowReduce.html\n",
    "\n",
    "mattest = [[-33,11,0,24],[11,-38,14,-29],[0,14,-45,-29]]\n",
    "#a=[-33 11 0 24;11 -38 14 -29;0 14 -45 -29];\n",
    "#print \"left del \\n \",np.matrix(mattest)\n",
    "print DataFrame(mattest)\n",
    "\n",
    "mattest2 = from_vector([24,-29,-29])\n",
    "print DataFrame(mattest2)\n",
    "\n",
    "\n",
    "mattest3 = augment_that_sucker(mattest, mattest2)\n",
    "like_a_gauss(mattest3)\n",
    "\n",
    "print(DataFrame(transpose(mattest3)))"
   ]
  },
  {
   "cell_type": "code",
   "execution_count": 37,
   "metadata": {},
   "outputs": [
    {
     "ename": "NameError",
     "evalue": "name 'mat' is not defined",
     "output_type": "error",
     "traceback": [
      "\u001b[0;31m---------------------------------------------------------------------------\u001b[0m",
      "\u001b[0;31mNameError\u001b[0m                                 Traceback (most recent call last)",
      "\u001b[0;32m<ipython-input-37-065c99bb11d9>\u001b[0m in \u001b[0;36m<module>\u001b[0;34m()\u001b[0m\n\u001b[0;32m----> 1\u001b[0;31m \u001b[0;32mprint\u001b[0m \u001b[0mmin\u001b[0m\u001b[0;34m(\u001b[0m\u001b[0mlen\u001b[0m\u001b[0;34m(\u001b[0m\u001b[0mmat\u001b[0m\u001b[0;34m)\u001b[0m\u001b[0;34m,\u001b[0m \u001b[0mlen\u001b[0m\u001b[0;34m(\u001b[0m\u001b[0mmat\u001b[0m\u001b[0;34m[\u001b[0m\u001b[0;36m0\u001b[0m\u001b[0;34m]\u001b[0m\u001b[0;34m)\u001b[0m\u001b[0;34m)\u001b[0m\u001b[0;34m\u001b[0m\u001b[0m\n\u001b[0m",
      "\u001b[0;31mNameError\u001b[0m: name 'mat' is not defined"
     ]
    }
   ],
   "source": [
    "print min(len(mat), len(mat[0]))"
   ]
  },
  {
   "cell_type": "code",
   "execution_count": 44,
   "metadata": {},
   "outputs": [
    {
     "name": "stdout",
     "output_type": "stream",
     "text": [
      "    0   1   2\n",
      "0  -3   4   0\n",
      "1  11  11   6\n",
      "2   0 -38  14\n",
      "3   6  14   5\n"
     ]
    }
   ],
   "source": [
    "mat= [[-3,11,0,6],[4,11,-38,14],[0,6,14,5]]\n",
    "\n",
    "print(DataFrame(transpose(mattest)))"
   ]
  },
  {
   "cell_type": "code",
   "execution_count": 45,
   "metadata": {},
   "outputs": [
    {
     "name": "stdout",
     "output_type": "stream",
     "text": [
      "(3, 4)\n"
     ]
    }
   ],
   "source": [
    "print (len(mat), len(mat[0]))"
   ]
  },
  {
   "cell_type": "code",
   "execution_count": 46,
   "metadata": {},
   "outputs": [
    {
     "name": "stdout",
     "output_type": "stream",
     "text": [
      "<type 'list'>\n",
      "[-3, 11, 0, 6]\n",
      "<type 'list'>\n",
      "[4, 11, -38, 14]\n",
      "<type 'list'>\n",
      "[0, 6, 14, 5]\n"
     ]
    }
   ],
   "source": [
    "for da in mat:\n",
    "    print type(da)\n",
    "    print da"
   ]
  },
  {
   "cell_type": "code",
   "execution_count": 47,
   "metadata": {},
   "outputs": [
    {
     "name": "stdout",
     "output_type": "stream",
     "text": [
      "<type 'int'>\n",
      "-3\n",
      "<type 'int'>\n",
      "11\n",
      "<type 'int'>\n",
      "0\n",
      "<type 'int'>\n",
      "6\n"
     ]
    }
   ],
   "source": [
    "for da in mat[0]:\n",
    "    print type(da)\n",
    "    print da"
   ]
  },
  {
   "cell_type": "code",
   "execution_count": 3,
   "metadata": {},
   "outputs": [],
   "source": [
    "import scipy\n",
    "\n",
    "mat1 = [[-33,11,0,24],[11,-38,14,-29],[0,14,-45,-29]]"
   ]
  },
  {
   "cell_type": "code",
   "execution_count": 6,
   "metadata": {},
   "outputs": [
    {
     "name": "stdout",
     "output_type": "stream",
     "text": [
      "Solutions:\n",
      "[  6.  15. -23.]\n",
      "[[1. 0. 0.]\n",
      " [0. 1. 0.]\n",
      " [0. 0. 1.]]\n",
      "[[-33.          11.           0.          24.        ]\n",
      " [  0.         -34.33333333  14.         -21.        ]\n",
      " [  0.           0.         -39.29126214 -37.5631068 ]]\n"
     ]
    }
   ],
   "source": [
    "#import linalg package of the SciPy module for the LU decomp\n",
    "import scipy.linalg as linalg \n",
    "#import NumPy\n",
    "import numpy as np\n",
    "#define A same as before\n",
    "A = np.array([[2., 1., 1.],[1., 3., 2.],[1., 0., 0.]]) \n",
    "\n",
    "#define B\n",
    "B = np.array([4., 5., 6.]) \n",
    "\n",
    "#call the lu_factor function\n",
    "LU = linalg.lu_factor(A) \n",
    "\n",
    "#solve given LU and B\n",
    "x = linalg.lu_solve(LU, B) \n",
    "print \"Solutions:\\n\",x\n",
    "\n",
    "#we get the same solution as before\n",
    "#Solutions:\n",
    "#[  6.  15. -23.] \n",
    "\n",
    "#now we want to see how A has been factorized, P is the so called Permutation matrix\n",
    "P, L, U = scipy.linalg.lu(mat1) \n",
    "\n",
    "print P\n",
    "print U"
   ]
  },
  {
   "cell_type": "code",
   "execution_count": 7,
   "metadata": {},
   "outputs": [
    {
     "name": "stdout",
     "output_type": "stream",
     "text": [
      "0.9560168025698047\n",
      "1.0014825796886582\n",
      "-0.39344520070984124\n"
     ]
    }
   ],
   "source": [
    "\n",
    "u=U\n",
    "i3=1/(u[2][2]/u[2][3])\n",
    "\n",
    "print i3\n",
    "\n",
    "i21= u[1][3]-(u[1][2])*i3\n",
    "i2=i21/u[1][1]\n",
    "print i2\n",
    "\n",
    "i11=u[0][3]-u[0][2]*i3-i2*u[0][1]\n",
    "\n",
    "i1=i11/u[0][0]\n",
    "\n",
    "print i1"
   ]
  },
  {
   "cell_type": "code",
   "execution_count": null,
   "metadata": {},
   "outputs": [],
   "source": []
  }
 ],
 "metadata": {
  "kernelspec": {
   "display_name": "Python 2",
   "language": "python",
   "name": "python2"
  },
  "language_info": {
   "codemirror_mode": {
    "name": "ipython",
    "version": 2
   },
   "file_extension": ".py",
   "mimetype": "text/x-python",
   "name": "python",
   "nbconvert_exporter": "python",
   "pygments_lexer": "ipython2",
   "version": "2.7.12"
  }
 },
 "nbformat": 4,
 "nbformat_minor": 2
}
