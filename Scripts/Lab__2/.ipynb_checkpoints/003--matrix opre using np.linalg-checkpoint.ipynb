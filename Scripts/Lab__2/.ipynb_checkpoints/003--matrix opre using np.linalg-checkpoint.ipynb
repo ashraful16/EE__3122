{
 "cells": [
  {
   "cell_type": "code",
   "execution_count": 3,
   "metadata": {},
   "outputs": [
    {
     "name": "stdout",
     "output_type": "stream",
     "text": [
      "('Rank of A:', 3)\n",
      "('\\n Trace of A:', 11)\n",
      "('\\n Determinant of A:', -306.0)\n",
      "('\\n Inverse of A:\\n', array([[ 0.17647059, -0.00326797, -0.02287582],\n",
      "       [ 0.05882353, -0.13071895,  0.08496732],\n",
      "       [-0.11764706,  0.1503268 ,  0.05228758]]))\n",
      "('\\n Matrix A raised to power 3:\\n', array([[336, 162, 228],\n",
      "       [406, 162, 469],\n",
      "       [698, 702, 905]]))\n"
     ]
    }
   ],
   "source": [
    "# Importing numpy as np\n",
    "import numpy as np\n",
    " \n",
    "A = np.array([[6, 1, 1],\n",
    "              [4, -2, 5],\n",
    "              [2, 8, 7]])\n",
    " \n",
    "# Rank of a matrix\n",
    "print(\"Rank of A:\", np.linalg.matrix_rank(A))\n",
    " \n",
    "# Trace of matrix A\n",
    "print(\"\\n Trace of A:\", np.trace(A))\n",
    " \n",
    "# Determinant of a matrix\n",
    "print(\"\\n Determinant of A:\", np.linalg.det(A))\n",
    " \n",
    "# Inverse of matrix A\n",
    "print(\"\\n Inverse of A:\\n\", np.linalg.inv(A))\n",
    " \n",
    "print(\"\\n Matrix A raised to power 3:\\n\",\n",
    "           np.linalg.matrix_power(A, 3))"
   ]
  },
  {
   "cell_type": "code",
   "execution_count": 4,
   "metadata": {},
   "outputs": [],
   "source": [
    "a=[[1,3,5],[5,9,6],[9,5,2]]"
   ]
  },
  {
   "cell_type": "code",
   "execution_count": 21,
   "metadata": {},
   "outputs": [
    {
     "name": "stdout",
     "output_type": "stream",
     "text": [
      "(array([-7.51667841,  2.65027416, 16.86640426]), array([[ 0.73021307,  0.44892848, -0.51502629],\n",
      "       [-0.01427123, -0.74363583, -0.66843256],\n",
      "       [-0.68307042,  0.49544825, -0.53660585]]))\n"
     ]
    }
   ],
   "source": [
    "c=np.linalg.matrix_rank(a)\n",
    "c=np.trace(a)\n",
    "c=np.linalg.det(a)\n",
    "c=np.linalg.inv(a)\n",
    "c=np.linalg.matrix_power(a,2)\n",
    "c=np.linalg.eigh(a)\n",
    "print c"
   ]
  },
  {
   "cell_type": "code",
   "execution_count": 27,
   "metadata": {},
   "outputs": [
    {
     "name": "stderr",
     "output_type": "stream",
     "text": [
      "/usr/local/lib/python2.7/dist-packages/ipykernel_launcher.py:9: FutureWarning: `rcond` parameter will change to the default of machine precision times ``max(M, N)`` where M and N are the input matrix dimensions.\n",
      "To use the future default and silence this warning we advise to pass `rcond=None`, to keep using the old, explicitly pass `rcond=-1`.\n",
      "  if __name__ == '__main__':\n"
     ]
    },
    {
     "data": {
      "image/png": "[encoded data removed]",
      "text/plain": [
       "<Figure size 432x288 with 1 Axes>"
      ]
     },
     "metadata": {
      "needs_background": "light"
     },
     "output_type": "display_data"
    }
   ],
   "source": [
    "import numpy as np\n",
    "import matplotlib.pyplot as plt\n",
    "x = np.arange(0, 9)\n",
    "A = np.array([x, np.ones(9)])\n",
    " \n",
    "# linearly generated sequence\n",
    "y = [19, 20, 20.5, 21.5, 22, 23, 23, 25.5, 24]\n",
    "# obtaining the parameters of regression line\n",
    "w = np.linalg.lstsq(A.T, y)[0] \n",
    " \n",
    "# plotting the line\n",
    "line = w[0]*x + w[1] # regression line\n",
    "plt.plot(x, line, 'b-')\n",
    "plt.plot(x, y,line, 'o')\n",
    "plt.show()"
   ]
  },
  {
   "cell_type": "code",
   "execution_count": null,
   "metadata": {},
   "outputs": [],
   "source": []
  }
 ],
 "metadata": {
  "kernelspec": {
   "display_name": "Python 2",
   "language": "python",
   "name": "python2"
  },
  "language_info": {
   "codemirror_mode": {
    "name": "ipython",
    "version": 2
   },
   "file_extension": ".py",
   "mimetype": "text/x-python",
   "name": "python",
   "nbconvert_exporter": "python",
   "pygments_lexer": "ipython2",
   "version": "2.7.12"
  }
 },
 "nbformat": 4,
 "nbformat_minor": 2
}
