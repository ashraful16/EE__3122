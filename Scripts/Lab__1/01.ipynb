{
 "cells": [
  {
   "cell_type": "markdown",
   "metadata": {},
   "source": [
    "Experiment: (1) Perform the mean (AM, GM, HM), median, mode, SD, Variance, \n",
    "moments (about mean and about any arbitrary value) from the following \n",
    "ungrouped data using C/C++ or MatLab. Sample Input Data: (indata1.txt \n",
    "or indata1.xls). Put the data in your input file as a column data or \n",
    "row data with spacing, or comma delimited.\n",
    "5, 12, 5, 7, 21, 23, 24, 15, 8, 22, 23, 9, 11, 18, 22, 21, 19, 3, 4, 20"
   ]
  },
  {
   "cell_type": "code",
   "execution_count": 64,
   "metadata": {},
   "outputs": [
    {
     "name": "stdout",
     "output_type": "stream",
     "text": [
      "Values in the file are as follows:\n",
      "\n",
      "['5', ' 12', ' 5', ' 7', ' 21', ' 23', ' 24', ' 15', ' 8', ' 22', ' 23', '9', ' 11', ' 18', ' 22', ' 21', ' 19', ' 3', ' 4', ' 20']\n"
     ]
    }
   ],
   "source": [
    "#file = open('//media//ashraful//New Volume///labfiles//omit3.txt', 'r')\n",
    "file = open('//media//ashraful//New Volume///labfiles//omit1.txt', 'r')\n",
    "#file = open('//media//ashraful//New Volume2//e.xls', 'r')\n",
    "fa=[]\n",
    "for line in file.readlines():\n",
    "    fname = line.rstrip().split(',') \n",
    "    print(\"Values in the file are as follows:\\n\")\n",
    "    print((fname))\n",
    "for e in fname:\n",
    "    fa.append(float(e))\n",
    "c=(fname)\n",
    "a= (' '.join((fname)))\n"
   ]
  },
  {
   "cell_type": "code",
   "execution_count": 65,
   "metadata": {},
   "outputs": [
    {
     "name": "stdout",
     "output_type": "stream",
     "text": [
      "[5.0, 12.0, 5.0, 7.0, 21.0, 23.0, 24.0, 15.0, 8.0, 22.0, 23.0, 9.0, 11.0, 18.0, 22.0, 21.0, 19.0, 3.0, 4.0, 20.0]\n"
     ]
    }
   ],
   "source": [
    "import statistics \n",
    "import math\n",
    "\n",
    "print fa"
   ]
  },
  {
   "cell_type": "markdown",
   "metadata": {},
   "source": [
    "#### Arithmetic mean ,Geometric Mea,harmonic mean"
   ]
  },
  {
   "cell_type": "code",
   "execution_count": 66,
   "metadata": {},
   "outputs": [
    {
     "name": "stdout",
     "output_type": "stream",
     "text": [
      "arithmetic mean is  14.6\n"
     ]
    }
   ],
   "source": [
    "#  Arithmetic mean\n",
    "s=0\n",
    "for data in fa:\n",
    "    s=s+data\n",
    "#print s\n",
    "#print len(fa)\n",
    "c=s/len(fa)\n",
    "print \"arithmetic mean is \",c"
   ]
  },
  {
   "cell_type": "code",
   "execution_count": 67,
   "metadata": {},
   "outputs": [
    {
     "name": "stdout",
     "output_type": "stream",
     "text": [
      "Harmonic Mean is 9.633130939324978 \n",
      "geometricic Mean is 12.22393965815713 \n"
     ]
    }
   ],
   "source": [
    "\n",
    "#Geometric Mean\n",
    "\n",
    "#harmonic mean\n",
    "\n",
    "from scipy import stats\n",
    "\n",
    "hm=stats.hmean(fa)\n",
    "\n",
    "print(\"Harmonic Mean is % s \" % (hm)) \n",
    "\n",
    "gm=stats.gmean(fa)\n",
    "\n",
    "print(\"geometricic Mean is % s \" % (gm)) \n",
    "\n"
   ]
  },
  {
   "cell_type": "code",
   "execution_count": 68,
   "metadata": {},
   "outputs": [
    {
     "name": "stdout",
     "output_type": "stream",
     "text": [
      "9.63313093932\n"
     ]
    }
   ],
   "source": [
    "def harmonicMean(arr, n) : \n",
    "    \n",
    "    # Declare sum variables and  \n",
    "    # initialize with zero. \n",
    "    sm = 0\n",
    "    for i in range(0, n) : \n",
    "        sm = sm + (1) / arr[i]; \n",
    "   \n",
    "    return n / sm \n",
    "  \n",
    "  \n",
    "# Driver code \n",
    "arr = fa; \n",
    "n = len(arr) \n",
    "print(harmonicMean(arr, n)) "
   ]
  },
  {
   "cell_type": "code",
   "execution_count": 69,
   "metadata": {},
   "outputs": [
    {
     "name": "stdout",
     "output_type": "stream",
     "text": [
      "1.0\n"
     ]
    }
   ],
   "source": [
    "def geometricMean(arr, n) : \n",
    "      \n",
    "    # declare product variable and \n",
    "    # initialize it to 1. \n",
    "    product = 1\n",
    "      \n",
    "    # Compute the product of all the \n",
    "    # elements in the array. \n",
    "    for i in range(0,n) : \n",
    "        product = product * arr[i] \n",
    "   \n",
    "    # compute geometric mean through  \n",
    "    # formula pow(product, 1/n) and \n",
    "    # return the value to main function. \n",
    "    gm = (float)(math.pow(product, (1 / n))) \n",
    "    return (float)(gm) \n",
    "      \n",
    "      \n",
    "# Driver function \n",
    "arr = fa \n",
    "n = len(arr) \n",
    "  \n",
    "# to print 6 digits after decimal \n",
    "c=(geometricMean(arr, n))\n",
    "\n",
    "print c"
   ]
  },
  {
   "cell_type": "code",
   "execution_count": 70,
   "metadata": {},
   "outputs": [
    {
     "name": "stdout",
     "output_type": "stream",
     "text": [
      "Their relationship can also be illustrated using the inequality: A ≥ G ≥ H is maintained \n"
     ]
    }
   ],
   "source": [
    "print \"Their relationship can also be illustrated using the inequality: A ≥ G ≥ H is maintained \""
   ]
  },
  {
   "cell_type": "markdown",
   "metadata": {},
   "source": [
    "#### Median"
   ]
  },
  {
   "cell_type": "code",
   "execution_count": 71,
   "metadata": {},
   "outputs": [
    {
     "name": "stdout",
     "output_type": "stream",
     "text": [
      "Grouped Median of the median is 17.5 \n"
     ]
    }
   ],
   "source": [
    "print(\"Grouped Median of the median is %s \"%(statistics.median_grouped(fa)))"
   ]
  },
  {
   "cell_type": "code",
   "execution_count": null,
   "metadata": {},
   "outputs": [],
   "source": []
  },
  {
   "cell_type": "code",
   "execution_count": null,
   "metadata": {},
   "outputs": [],
   "source": []
  },
  {
   "cell_type": "markdown",
   "metadata": {},
   "source": [
    "### std ,variance, mode"
   ]
  },
  {
   "cell_type": "code",
   "execution_count": null,
   "metadata": {},
   "outputs": [],
   "source": []
  },
  {
   "cell_type": "code",
   "execution_count": 72,
   "metadata": {},
   "outputs": [
    {
     "name": "stdout",
     "output_type": "stream",
     "text": [
      "standard deviation is  7.29657453878\n"
     ]
    }
   ],
   "source": [
    "def SD(numList):\n",
    "    cntN = len(numList)\n",
    "    avgVal = float(sum(numList))/cntN\n",
    "    return (sum((i-avgVal)**2 for i in numList)/(cntN))**0.5\n",
    "sd=SD(fa)\n",
    "vai=(sd)**2\n",
    "print \"standard deviation is \",sd"
   ]
  },
  {
   "cell_type": "code",
   "execution_count": 73,
   "metadata": {},
   "outputs": [
    {
     "name": "stdout",
     "output_type": "stream",
     "text": [
      "variance is   53.24\n"
     ]
    }
   ],
   "source": [
    "print \"variance is  \", vai"
   ]
  },
  {
   "cell_type": "code",
   "execution_count": 74,
   "metadata": {},
   "outputs": [
    {
     "name": "stdout",
     "output_type": "stream",
     "text": [
      "mode is  [5.0, 21.0, 22.0, 23.0]\n"
     ]
    }
   ],
   "source": [
    "def all_modes(l):\n",
    "    d = {}\n",
    "    for c in l:\n",
    "        if c not in d:\n",
    "            d[c] = 1\n",
    "        else:\n",
    "            d[c] = d[c] + 1\n",
    "\n",
    "    count_max = max([v for v in d.itervalues()])\n",
    "    mode_list = [k for k,v in d.iteritems() if v == count_max]\n",
    "\n",
    "    #return (mode_list, count_max)\n",
    "    return (mode_list)\n",
    "\n",
    "print \"mode is \" ,all_modes(fa)"
   ]
  },
  {
   "cell_type": "markdown",
   "metadata": {},
   "source": [
    "#### moment"
   ]
  },
  {
   "cell_type": "code",
   "execution_count": 75,
   "metadata": {},
   "outputs": [],
   "source": [
    "\n",
    "def moment(data, k):\n",
    "  data_mean = sum(data)/len(data)\n",
    "  return sum((x-data_mean)**k for x in data)/len(data)"
   ]
  },
  {
   "cell_type": "code",
   "execution_count": 76,
   "metadata": {},
   "outputs": [
    {
     "name": "stdout",
     "output_type": "stream",
     "text": [
      "2.6645352591e-16\n"
     ]
    }
   ],
   "source": [
    "print moment(fa,1)"
   ]
  },
  {
   "cell_type": "code",
   "execution_count": 77,
   "metadata": {},
   "outputs": [
    {
     "name": "stdout",
     "output_type": "stream",
     "text": [
      "9.6\n"
     ]
    }
   ],
   "source": [
    "\n",
    "def moment(data, k,va):\n",
    "  data_mean = va\n",
    "  return sum((x-data_mean)**k for x in data)/len(data)\n",
    "value=5\n",
    "k=1\n",
    "print moment(fa,k,value)"
   ]
  },
  {
   "cell_type": "code",
   "execution_count": null,
   "metadata": {},
   "outputs": [],
   "source": []
  },
  {
   "cell_type": "code",
   "execution_count": 78,
   "metadata": {},
   "outputs": [],
   "source": [
    "####arithmatic mean"
   ]
  },
  {
   "cell_type": "code",
   "execution_count": 79,
   "metadata": {},
   "outputs": [
    {
     "name": "stdout",
     "output_type": "stream",
     "text": [
      "Values in the file are as follows:\n",
      "\n",
      "['5', ' 12', ' 5', ' 7', ' 21', ' 23', ' 24', ' 15', ' 8', ' 22', ' 23', '9', ' 11', ' 18', ' 22', ' 21', ' 19', ' 3', ' 4', ' 20']\n"
     ]
    }
   ],
   "source": [
    "file = open('//media//ashraful//New Volume///labfiles//omit1.txt', 'r')\n",
    "#file = open('//media//ashraful//New Volume2//e.xls', 'r')\n",
    "fa=[]\n",
    "for line in file.readlines():\n",
    "    fname = line.rstrip().split(',') \n",
    "    print(\"Values in the file are as follows:\\n\")\n",
    "    print((fname))\n",
    "for e in fname:\n",
    "    fa.append(float(e))\n",
    "c=(fname)\n",
    "a= (' '.join((fname)))\n"
   ]
  },
  {
   "cell_type": "code",
   "execution_count": 80,
   "metadata": {},
   "outputs": [
    {
     "name": "stdout",
     "output_type": "stream",
     "text": [
      "arithmetic mean is  14.6\n"
     ]
    }
   ],
   "source": [
    "#  Arithmetic mean\n",
    "s=0\n",
    "for data in fa:\n",
    "    s=s+data\n",
    "#print s\n",
    "#print len(fa)\n",
    "c=s/len(fa)\n",
    "print \"arithmetic mean is \",c"
   ]
  }
 ],
 "metadata": {
  "kernelspec": {
   "display_name": "Python 2",
   "language": "python",
   "name": "python2"
  },
  "language_info": {
   "codemirror_mode": {
    "name": "ipython",
    "version": 2
   },
   "file_extension": ".py",
   "mimetype": "text/x-python",
   "name": "python",
   "nbconvert_exporter": "python",
   "pygments_lexer": "ipython2",
   "version": "2.7.12"
  }
 },
 "nbformat": 4,
 "nbformat_minor": 2
}
