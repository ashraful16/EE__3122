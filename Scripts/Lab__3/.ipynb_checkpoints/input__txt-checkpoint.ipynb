{
 "cells": [
  {
   "cell_type": "code",
   "execution_count": null,
   "metadata": {},
   "outputs": [],
   "source": [
    "#read a file"
   ]
  },
  {
   "cell_type": "code",
   "execution_count": 1,
   "metadata": {},
   "outputs": [
    {
     "name": "stdout",
     "output_type": "stream",
     "text": [
      "<open file 'in01.txt', mode 'r' at 0x7f032c7dde40>  \n",
      "  <type 'file'>\n",
      "('x*x-x+1', ' \\t #', <type 'str'>)\n"
     ]
    }
   ],
   "source": [
    "f = open(\"in01.txt\", \"r\")\n",
    "\n",
    "print f,\" \\n \",type(f)\n",
    "print(f.read(),\" \\t #\",type(f.read()))\n",
    "\n",
    "c=f.read()"
   ]
  },
  {
   "cell_type": "code",
   "execution_count": 2,
   "metadata": {},
   "outputs": [
    {
     "name": "stdout",
     "output_type": "stream",
     "text": [
      "\n"
     ]
    }
   ],
   "source": [
    "print c"
   ]
  },
  {
   "cell_type": "code",
   "execution_count": 3,
   "metadata": {},
   "outputs": [
    {
     "name": "stdout",
     "output_type": "stream",
     "text": [
      "x*x-x+1\n"
     ]
    }
   ],
   "source": [
    "import sympy as sym\n",
    "x = sym.Symbol('x')\n",
    "ff=open(\"in01.txt\",\"r\")\n",
    "p=ff.read()\n",
    "print p\n"
   ]
  },
  {
   "cell_type": "code",
   "execution_count": 4,
   "metadata": {},
   "outputs": [
    {
     "name": "stdout",
     "output_type": "stream",
     "text": [
      "x*x-x+1\n",
      "x*x-x+1\n"
     ]
    }
   ],
   "source": [
    "ff=open(\"in01.txt\",\"r\")\n",
    "p=ff.read()\n",
    "print p\n",
    "#x*x-x+1\n",
    "\n",
    "def f(x):\n",
    "    \n",
    "    return p\n",
    "c=f(2)\n",
    "print c\n",
    "#x*x-x+1\n"
   ]
  },
  {
   "cell_type": "code",
   "execution_count": null,
   "metadata": {},
   "outputs": [],
   "source": [
    "#p=x*x-x+1\n",
    "f = lambda x: ff.read()\n",
    "\n",
    "c=f(2)\n",
    "print c"
   ]
  },
  {
   "cell_type": "code",
   "execution_count": null,
   "metadata": {},
   "outputs": [],
   "source": [
    "from sympy import symbols\n",
    "x, y = symbols('x,y')\n",
    "s=x*x-x+1\n",
    "print s\n",
    "def f(x):\n",
    "    \n",
    "    return s\n",
    "c=f(2)\n",
    "print c"
   ]
  },
  {
   "cell_type": "code",
   "execution_count": null,
   "metadata": {},
   "outputs": [],
   "source": [
    "from sympy import Function, Symbol\n",
    "x = Symbol('x')\n",
    "x=s\n",
    "f = Function('f')\n",
    "\n",
    "print x\n",
    "\n",
    "def f(y):\n",
    "    #re=x.eval(y)\n",
    "    return x\n",
    "c=f(2)\n",
    "print c"
   ]
  },
  {
   "cell_type": "code",
   "execution_count": null,
   "metadata": {},
   "outputs": [],
   "source": [
    "from sympy import Function, Symbol\n",
    "x = Symbol('x')\n",
    "x=x**2 - x + 1\n",
    "cc=x.subs(x, 3)\n",
    "print x\n",
    "print cc\n"
   ]
  },
  {
   "cell_type": "code",
   "execution_count": null,
   "metadata": {},
   "outputs": [],
   "source": [
    "#from sympy import Function, Symbol\n",
    "#x = Symbol('x')\n",
    "y=x**2 - x + 1\n",
    "\n",
    "print x\n",
    "cc=y.subs(x, 3)\n",
    "print cc\n"
   ]
  },
  {
   "cell_type": "code",
   "execution_count": null,
   "metadata": {},
   "outputs": [],
   "source": [
    "from sympy import Function, Symbol\n",
    "x = Symbol('x')\n",
    "y=x**2 - x + 1\n",
    "cc=y.subs({x:3})\n",
    "print(x)\n",
    "print(cc)\n",
    "\n",
    "itr=10\n",
    "for i in range(itr):\n",
    "    cc=y.subs({x:i})\n",
    "    print cc"
   ]
  },
  {
   "cell_type": "code",
   "execution_count": null,
   "metadata": {},
   "outputs": [],
   "source": [
    "from sympy import Function, Symbol\n",
    "x = Symbol('x')\n",
    "y=x**2 - x + 1\n",
    "n=6\n",
    "for i in range(n):\n",
    "    \n",
    "    cc=x.subs({x:float(i)})\n",
    "\n",
    "    print(cc)"
   ]
  },
  {
   "cell_type": "code",
   "execution_count": null,
   "metadata": {},
   "outputs": [],
   "source": []
  },
  {
   "cell_type": "code",
   "execution_count": null,
   "metadata": {},
   "outputs": [],
   "source": []
  },
  {
   "cell_type": "code",
   "execution_count": null,
   "metadata": {},
   "outputs": [],
   "source": [
    "from sympy import Function, Symbol,sympify\n",
    "x = Symbol('x')\n",
    "ff=open(\"in01.txt\",\"r\")\n",
    "p=ff.read()\n",
    "print p\n",
    "print type(p)\n",
    "xx=sympify(p, evaluate=False)\n",
    "print(xx)\n",
    "print type(xx)"
   ]
  },
  {
   "cell_type": "code",
   "execution_count": null,
   "metadata": {},
   "outputs": [],
   "source": [
    "# input function  x*x-x+1\n",
    "\n",
    "from sympy import Function, Symbol,sympify\n",
    "x = Symbol('x')\n",
    "ff=open(\"in01.txt\",\"r\")\n",
    "p=ff.read()\n",
    "xx=sympify(p, evaluate=False)"
   ]
  },
  {
   "cell_type": "code",
   "execution_count": null,
   "metadata": {},
   "outputs": [],
   "source": [
    "from sympy import Function, Symbol\n",
    "x = Symbol('x')\n",
    "y=xx\n",
    "print type(y)\n",
    "cc=y.subs({x:3})\n",
    "print(x)\n",
    "print(cc)\n",
    "\n",
    "itr=10\n",
    "for i in range(itr):\n",
    "    cc=y.subs({x:i})\n",
    "    print cc"
   ]
  },
  {
   "cell_type": "code",
   "execution_count": null,
   "metadata": {},
   "outputs": [],
   "source": []
  },
  {
   "cell_type": "code",
   "execution_count": null,
   "metadata": {},
   "outputs": [],
   "source": [
    "#final input from txt"
   ]
  },
  {
   "cell_type": "code",
   "execution_count": 5,
   "metadata": {},
   "outputs": [
    {
     "name": "stdout",
     "output_type": "stream",
     "text": [
      "<class 'sympy.core.add.Add'>\n",
      "x\n",
      "7\n",
      "1\n",
      "1\n",
      "3\n",
      "7\n",
      "13\n",
      "21\n",
      "31\n",
      "43\n",
      "57\n",
      "73\n"
     ]
    }
   ],
   "source": [
    "# input function  x*x-x+1\n",
    "\n",
    "from sympy import Function, Symbol,sympify\n",
    "x = Symbol('x')\n",
    "ff=open(\"in01.txt\",\"r\")\n",
    "p=ff.read()\n",
    "xx=sympify(p, evaluate=False)\n",
    "\n",
    "from sympy import Function, Symbol\n",
    "x = Symbol('x')\n",
    "y=xx\n",
    "print type(y)\n",
    "cc=y.subs({x:3})\n",
    "print(x)\n",
    "print(cc)\n",
    "\n",
    "itr=10\n",
    "for i in range(itr):\n",
    "    cc=y.subs({x:i})\n",
    "    print cc"
   ]
  },
  {
   "cell_type": "code",
   "execution_count": null,
   "metadata": {},
   "outputs": [],
   "source": [
    "# input function  x*x-x+1\n",
    "from sympy import Function, Symbol,sympify\n",
    "x = Symbol('x')\n",
    "ff=open(\"in01.txt\",\"r\")\n",
    "p=ff.read()\n",
    "xx=sympify(p, evaluate=False)\n",
    "y=xx\n",
    "def f(c):\n",
    "    cc=y.subs({x:c})\n",
    "    return cc\n",
    "\n",
    "vc=f(5)\n",
    "print vc"
   ]
  }
 ],
 "metadata": {
  "kernelspec": {
   "display_name": "Python 2",
   "language": "python",
   "name": "python2"
  },
  "language_info": {
   "codemirror_mode": {
    "name": "ipython",
    "version": 2
   },
   "file_extension": ".py",
   "mimetype": "text/x-python",
   "name": "python",
   "nbconvert_exporter": "python",
   "pygments_lexer": "ipython2",
   "version": "2.7.12"
  }
 },
 "nbformat": 4,
 "nbformat_minor": 2
}
