{
 "cells": [
  {
   "cell_type": "code",
   "execution_count": 13,
   "metadata": {},
   "outputs": [
    {
     "name": "stdout",
     "output_type": "stream",
     "text": [
      "x*x - 5\n",
      "<class 'sympy.core.add.Add'>\n"
     ]
    }
   ],
   "source": [
    "# input function  x*x-x+1\n",
    "from sympy import Function, Symbol,sympify\n",
    "x = Symbol('x')\n",
    "ff=open(\"in01.txt\",\"r\")\n",
    "p=ff.read()\n",
    "xx=sympify(p, evaluate=False)\n",
    "y=xx\n",
    "print y\n",
    "print type(y)"
   ]
  },
  {
   "cell_type": "code",
   "execution_count": 2,
   "metadata": {},
   "outputs": [],
   "source": [
    "def f(c):\n",
    "    cc=float(y.subs({x:c}))\n",
    "    return cc\n"
   ]
  },
  {
   "cell_type": "code",
   "execution_count": 3,
   "metadata": {},
   "outputs": [
    {
     "name": "stdout",
     "output_type": "stream",
     "text": [
      "20.0\n"
     ]
    }
   ],
   "source": [
    "vc=f(5)\n",
    "print vc\n",
    "MAX_ITER = 10000"
   ]
  },
  {
   "cell_type": "code",
   "execution_count": 12,
   "metadata": {},
   "outputs": [
    {
     "name": "stdout",
     "output_type": "stream",
     "text": [
      "5000\n",
      "2.2360679775\n"
     ]
    }
   ],
   "source": [
    "MAX_ITER = 5000\n",
    "\n",
    "def f(c):\n",
    "    cc=float(y.subs({x:c}))\n",
    "    return cc\n",
    "\n",
    "\n",
    "\n",
    "\n",
    "def bisection(f,a,b,N,tol):\n",
    "    if f(a)*f(b) >= 0:\n",
    "        print(\"Bisection method fails.\")\n",
    "        return None\n",
    "    a_n = a\n",
    "    b_n = b\n",
    "    i=0\n",
    "    for n in range(1,N+1):\n",
    "        m_n = (a_n + b_n)/2\n",
    "        f_m_n = f(m_n)\n",
    "        if f(a_n)*f_m_n < 0:\n",
    "            a_n = a_n\n",
    "            b_n = m_n\n",
    "        elif f(b_n)*f_m_n < 0:\n",
    "            a_n = m_n\n",
    "            b_n = b_n\n",
    "        \n",
    "        elif f_m_n == 0:\n",
    "            print n\n",
    "            break\n",
    "            return m_n\n",
    "        else:\n",
    "            print(\"Bisection method fails.\")\n",
    "            return None\n",
    "        i=i+1\n",
    "    print i\n",
    "    \n",
    "    return (a_n + b_n)/2\n",
    "#def f(x):\n",
    "    #itr=itr+1\n",
    " #   return float(x**2-x -1)\n",
    "\n",
    "\n",
    "#f = lambda x: (2*x - 1)*(x - 3)   \n",
    "#f = lambda x: (x-1)\n",
    "#f = lambda x: x**2 - x - 1\n",
    "approx_phi = bisection(f,0.0,5,MAX_ITER,.001)\n",
    "print(approx_phi)\n",
    "\n"
   ]
  },
  {
   "cell_type": "code",
   "execution_count": null,
   "metadata": {},
   "outputs": [],
   "source": []
  },
  {
   "cell_type": "code",
   "execution_count": null,
   "metadata": {},
   "outputs": [],
   "source": []
  },
  {
   "cell_type": "code",
   "execution_count": null,
   "metadata": {},
   "outputs": [],
   "source": []
  },
  {
   "cell_type": "code",
   "execution_count": 14,
   "metadata": {},
   "outputs": [
    {
     "name": "stdout",
     "output_type": "stream",
     "text": [
      "5000\n",
      "2.2360679775\n"
     ]
    }
   ],
   "source": [
    "MAX_ITER = 5000\n",
    "\n",
    "\n",
    "\n",
    "\n",
    "\n",
    "\n",
    "def bisection(f,a,b,N,tol):\n",
    "    if f(a)*f(b) >= 0:\n",
    "        print(\"Bisection method fails.\")\n",
    "        return None\n",
    "    a_n = a\n",
    "    b_n = b\n",
    "    i=0\n",
    "    for n in range(1,N+1):\n",
    "        m_n = (a_n + b_n)/2\n",
    "        f_m_n = f(m_n)\n",
    "        if f(a_n)*f_m_n < 0:\n",
    "            a_n = a_n\n",
    "            b_n = m_n\n",
    "        elif f(b_n)*f_m_n < 0:\n",
    "            a_n = m_n\n",
    "            b_n = b_n\n",
    "        \n",
    "        elif f_m_n == 0:\n",
    "            print n\n",
    "            break\n",
    "            return m_n\n",
    "        else:\n",
    "            print(\"Bisection method fails.\")\n",
    "            return None\n",
    "        i=i+1\n",
    "    print i\n",
    "    \n",
    "    return (a_n + b_n)/2\n",
    "def f(x):\n",
    "    \n",
    "    return float(x**2-5)\n",
    "\n",
    "\n",
    "#f = lambda x: (2*x - 1)*(x - 3)   \n",
    "#f = lambda x: (x-1)\n",
    "#f = lambda x: x**2 - x - 1\n",
    "approx_phi = bisection(f,0.0,5,MAX_ITER,.001)\n",
    "print(approx_phi)\n",
    "\n"
   ]
  },
  {
   "cell_type": "code",
   "execution_count": 38,
   "metadata": {},
   "outputs": [
    {
     "name": "stdout",
     "output_type": "stream",
     "text": [
      "1.25\n",
      "-3.4375\n",
      "-1.484375\n",
      "-0.21484375\n",
      "0.4931640625\n",
      "0.133056640625\n",
      "-0.0424194335938\n",
      "0.0449371337891\n",
      "0.00116348266602\n",
      "-0.0206518173218\n",
      "-0.00975012779236\n",
      "-0.00429481267929\n",
      "-0.00156603753567\n",
      "-0.000201370567083\n",
      "0.000481032766402\n",
      "0.000139825278893\n",
      "-3.07740992866e-05\n",
      "5.45252260054e-05\n",
      "1.18754724099e-05\n",
      "-9.44933617575e-06\n",
      "1.21306243273e-06\n",
      "-4.1181382926e-06\n",
      "-1.45253828521e-06\n",
      "-1.19738015059e-07\n",
      "24\n",
      "23\n",
      "2.23606809974\n"
     ]
    }
   ],
   "source": [
    "MAX_ITER = 500\n",
    "def bisection(f,a,b,N,tol):\n",
    "    if f(a)*f(b) >= 0:\n",
    "        print(\"Bisection method fails.\")\n",
    "        return None\n",
    "    a_n = a\n",
    "    b_n = b\n",
    "    i=0\n",
    "    for n in range(1,N+1):\n",
    "        m_n = (a_n + b_n)/2\n",
    "        f_m_n = f(m_n)\n",
    "        print f_m_n\n",
    "        if f(a_n)*f_m_n < 0:\n",
    "            a_n = a_n\n",
    "            b_n = m_n\n",
    "        elif f(b_n)*f_m_n < 0:\n",
    "            a_n = m_n\n",
    "            b_n = b_n\n",
    "        \n",
    "        else:\n",
    "            print(\"Bisection method fails.\")\n",
    "            return None\n",
    "        if round(f_m_n,6) ==0 :\n",
    "            print n\n",
    "            break\n",
    "            return m_n\n",
    "        i=i+1\n",
    "        \n",
    "    print i\n",
    "    return (a_n + b_n)/2\n",
    "def f(x):\n",
    "    return float(x**2-5)\n",
    "approx_phi = bisection(f,0.0,5.0,MAX_ITER,.001)\n",
    "print(approx_phi)"
   ]
  },
  {
   "cell_type": "code",
   "execution_count": 26,
   "metadata": {},
   "outputs": [
    {
     "name": "stdout",
     "output_type": "stream",
     "text": [
      "3.05902320502e-07\n"
     ]
    }
   ],
   "source": [
    "from math import exp\n",
    "print exp(-15)"
   ]
  },
  {
   "cell_type": "code",
   "execution_count": 37,
   "metadata": {},
   "outputs": [
    {
     "name": "stdout",
     "output_type": "stream",
     "text": [
      "3.05902320502e-07\n"
     ]
    },
    {
     "data": {
      "text/plain": [
       "0.0"
      ]
     },
     "execution_count": 37,
     "metadata": {},
     "output_type": "execute_result"
    }
   ],
   "source": [
    "c=exp(-15)\n",
    "\n",
    "print c\n",
    "round(c,4)"
   ]
  },
  {
   "cell_type": "code",
   "execution_count": null,
   "metadata": {},
   "outputs": [],
   "source": []
  }
 ],
 "metadata": {
  "kernelspec": {
   "display_name": "Python 2",
   "language": "python",
   "name": "python2"
  },
  "language_info": {
   "codemirror_mode": {
    "name": "ipython",
    "version": 2
   },
   "file_extension": ".py",
   "mimetype": "text/x-python",
   "name": "python",
   "nbconvert_exporter": "python",
   "pygments_lexer": "ipython2",
   "version": "2.7.12"
  }
 },
 "nbformat": 4,
 "nbformat_minor": 2
}
