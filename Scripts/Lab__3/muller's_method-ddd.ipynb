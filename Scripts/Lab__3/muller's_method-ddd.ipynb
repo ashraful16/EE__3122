{
 "cells": [
  {
   "cell_type": "code",
   "execution_count": 1,
   "metadata": {},
   "outputs": [],
   "source": [
    "from sympy import Function, Symbol,sympify "
   ]
  },
  {
   "cell_type": "code",
   "execution_count": 2,
   "metadata": {},
   "outputs": [],
   "source": [
    "def f(xy):\n",
    "    #itr=itr+1\n",
    "    cc=float(y.subs({x:xy}))\n",
    "    return cc"
   ]
  },
  {
   "cell_type": "code",
   "execution_count": 3,
   "metadata": {},
   "outputs": [],
   "source": [
    "x = Symbol('x')\n",
    "y=x**2-x -1"
   ]
  },
  {
   "cell_type": "code",
   "execution_count": null,
   "metadata": {},
   "outputs": [],
   "source": []
  },
  {
   "cell_type": "code",
   "execution_count": 4,
   "metadata": {},
   "outputs": [],
   "source": [
    "MAX= 5000"
   ]
  },
  {
   "cell_type": "code",
   "execution_count": 5,
   "metadata": {},
   "outputs": [
    {
     "name": "stdout",
     "output_type": "stream",
     "text": [
      "The initial estimates to the root are:\n",
      "('f(', 0, ')=', -1.0)\n",
      "('f(', 1, ')=', -1.0)\n",
      "('f(', 2, ')=', 1.0)\n",
      "(0, ': estimate to the root is f(', 0, ')=', -1.0)\n",
      "()\n",
      "('iteration no ', 1, ': estimate to the root is f(', 1.618033988749895, ')=', 0.0)\n",
      "()\n"
     ]
    }
   ],
   "source": [
    "import string\n",
    "from math import *\n",
    "from cmath import *\n",
    "\n",
    "def evalFunction(c):\n",
    "    cc=float(y.subs({x:c}))\n",
    "    return cc\n",
    "    \n",
    "def main():\n",
    "    \n",
    "    f= y\n",
    "    p0=0\n",
    "    p1=1\n",
    "    p2=2\n",
    "    t=.00001\n",
    "\n",
    "    \n",
    "\n",
    "    fp0=evalFunction(p0)\n",
    "    fp1=evalFunction(p1)\n",
    "    fp2=evalFunction(p2)\n",
    "\n",
    "    print(\"The initial estimates to the root are:\")\n",
    "    print(\"f(\",p0,\")=\",fp0)\n",
    "    print(\"f(\",p1,\")=\",fp1)\n",
    "    print(\"f(\",p2,\")=\",fp2)\n",
    "    count=0\n",
    "    print(count,\": estimate to the root is f(\",p0,\")=\",fp0)\n",
    "    fp3=1\n",
    "\n",
    "    #while count< MAX:\n",
    "    for i in range(1,MAX):\n",
    "        \n",
    "        while (abs(fp3))>=t:\n",
    "            fp0=evalFunction(p0)\n",
    "            fp1=evalFunction(p1)\n",
    "            fp2=evalFunction(p2)\n",
    "\n",
    "\n",
    "            #Computes a,b,c \n",
    "            o=fp1-fp2\n",
    "            n=fp0-fp2\n",
    "            s=p1-p2\n",
    "            r=p0-p2\n",
    "            denom=r*s*(p0-p1)\n",
    "            a=(s*n-r*o)/denom\n",
    "            b=((r**2)*o-(s**2)*n)/denom\n",
    "            c=fp2\n",
    "            print()\n",
    "\n",
    "            count=count+1\n",
    "\n",
    "            #Computes the roots\n",
    "            x1= (-2*c)/(b+(b**2-4*a*c)**.5)\n",
    "            x2=(-2*c)/(b-(b**2-4*a*c)**.5)\n",
    "\n",
    "            if b>0:\n",
    "                p3= p2+x1\n",
    "                fp3=evalFunction(p3)\n",
    "                print(\"iteration no \",count,\": estimate to the root is f(\",p3,\")=\",fp3)\n",
    "                print()\n",
    "\n",
    "            else:\n",
    "                p3= p2+x2\n",
    "                fp3=evalFunction(p3)\n",
    "                print(\"iteration no \",count,\": estimate to the root is f(\",p3,\")=\",fp3)\n",
    "                print()\n",
    "            \n",
    "\n",
    "            p2=p3        \n",
    "\n",
    "main()"
   ]
  },
  {
   "cell_type": "code",
   "execution_count": null,
   "metadata": {},
   "outputs": [],
   "source": []
  },
  {
   "cell_type": "code",
   "execution_count": null,
   "metadata": {},
   "outputs": [],
   "source": []
  },
  {
   "cell_type": "code",
   "execution_count": null,
   "metadata": {},
   "outputs": [],
   "source": []
  },
  {
   "cell_type": "code",
   "execution_count": null,
   "metadata": {},
   "outputs": [],
   "source": []
  },
  {
   "cell_type": "code",
   "execution_count": null,
   "metadata": {},
   "outputs": [],
   "source": []
  },
  {
   "cell_type": "code",
   "execution_count": null,
   "metadata": {},
   "outputs": [],
   "source": [
    "2.23606809974"
   ]
  },
  {
   "cell_type": "code",
   "execution_count": null,
   "metadata": {},
   "outputs": [],
   "source": []
  },
  {
   "cell_type": "code",
   "execution_count": null,
   "metadata": {},
   "outputs": [],
   "source": []
  },
  {
   "cell_type": "code",
   "execution_count": null,
   "metadata": {},
   "outputs": [],
   "source": []
  },
  {
   "cell_type": "code",
   "execution_count": null,
   "metadata": {},
   "outputs": [],
   "source": []
  }
 ],
 "metadata": {
  "kernelspec": {
   "display_name": "Python 2",
   "language": "python",
   "name": "python2"
  },
  "language_info": {
   "codemirror_mode": {
    "name": "ipython",
    "version": 2
   },
   "file_extension": ".py",
   "mimetype": "text/x-python",
   "name": "python",
   "nbconvert_exporter": "python",
   "pygments_lexer": "ipython2",
   "version": "2.7.12"
  }
 },
 "nbformat": 4,
 "nbformat_minor": 2
}
