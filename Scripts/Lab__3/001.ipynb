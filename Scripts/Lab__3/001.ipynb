{
 "cells": [
  {
   "cell_type": "code",
   "execution_count": null,
   "metadata": {},
   "outputs": [],
   "source": []
  },
  {
   "cell_type": "code",
   "execution_count": 14,
   "metadata": {},
   "outputs": [
    {
     "name": "stdout",
     "output_type": "stream",
     "text": [
      "Found approx solution.\n",
      "after iteration  50\n",
      "1.61803398875\n"
     ]
    }
   ],
   "source": [
    "\n",
    "def bisection(f,a,b,N,tol):\n",
    "    if f(a)*f(b) >= 0:\n",
    "        print(\"Bisection method fails.\")\n",
    "        return None\n",
    "    a_n = a\n",
    "    b_n = b\n",
    "    for n in range(1,N+1):\n",
    "        m_n = (a_n + b_n)/2\n",
    "        f_m_n = f(m_n)\n",
    "        if f(a_n)*f_m_n < 0:\n",
    "            a_n = a_n\n",
    "            b_n = m_n\n",
    "        elif f(b_n)*f_m_n < 0:\n",
    "            a_n = m_n\n",
    "            b_n = b_n\n",
    "        elif f_m_n < tol :\n",
    "            print(\"Found approx solution.\")\n",
    "            print \"after iteration \",n\n",
    "            return m_n\n",
    "            \n",
    "        elif f_m_n == 0:\n",
    "            print(\"Found exact solution.\")\n",
    "            print \"after iteration \",n\n",
    "            return m_n\n",
    "        else:\n",
    "            print(\"Bisection method fails.\")\n",
    "            return None\n",
    "    return (a_n + b_n)/2\n",
    "def f(x):\n",
    "    #itr=itr+1\n",
    "    return float(x**2-x -1)\n",
    "\n",
    "\n",
    "#f = lambda x: (2*x - 1)*(x - 3)   \n",
    "#f = lambda x: (x-1)\n",
    "#f = lambda x: x**2 - x - 1\n",
    "approx_phi = bisection(f,0.0,2.0,2500,.001)\n",
    "print(approx_phi)\n",
    "\n"
   ]
  },
  {
   "cell_type": "code",
   "execution_count": null,
   "metadata": {},
   "outputs": [],
   "source": []
  },
  {
   "cell_type": "code",
   "execution_count": 31,
   "metadata": {},
   "outputs": [
    {
     "name": "stdout",
     "output_type": "stream",
     "text": [
      "0.1\n",
      "('The value of root is : ', '-1.0000', 'iteration is ', 999999)\n"
     ]
    }
   ],
   "source": [
    "\n",
    "MAX_ITER = 1000000\n",
    "\n",
    "def func( x ): \n",
    "    return (x * x * x - x * x + 2) \n",
    "\n",
    "# Prints root of func(x) in interval [a, b] \n",
    "def regulaFalsi( a , b,tol): \n",
    "    if func(a) * func(b) >= 0: \n",
    "        print(\"You have not assumed right a and b\") \n",
    "        return -1\n",
    "    \n",
    "    c = a # Initialize result \n",
    "\n",
    "    for i in range(MAX_ITER): \n",
    "\n",
    "\t\t# Find the point that touches x axis \n",
    "        c = (a * func(b) - b * func(a))/ (func(b) - func(a)) \n",
    "\n",
    "        # Check if the above found point is root \n",
    "        if func(c) == tol:\n",
    "            print \";;\"\n",
    "            break\n",
    "        if func(c) == 0: \n",
    "            break\n",
    "\n",
    "        # Decide the side to repeat the steps \n",
    "        elif func(c) * func(a) < 0: \n",
    "            b = c \n",
    "        else: \n",
    "            a = c \n",
    "    print(\"The value of root is : \" , '%.4f' %c,\"iteration is \",i) \n",
    "\n",
    "# Driver code to test above function \n",
    "# Initial values assumed \n",
    "a =-200.0\n",
    "b = 300.0\n",
    "t=float(.1)\n",
    "print t\n",
    "regulaFalsi(a, b,.1) \n",
    "\n",
    "# This code is contributed by \"Sharad_Bhardwaj\". \n"
   ]
  },
  {
   "cell_type": "code",
   "execution_count": null,
   "metadata": {},
   "outputs": [],
   "source": []
  },
  {
   "cell_type": "code",
   "execution_count": null,
   "metadata": {},
   "outputs": [],
   "source": []
  },
  {
   "cell_type": "code",
   "execution_count": 32,
   "metadata": {},
   "outputs": [
    {
     "name": "stdout",
     "output_type": "stream",
     "text": [
      "('The value of the root is : ', '-1.0000')\n"
     ]
    }
   ],
   "source": [
    "\n",
    "def func( x ): \n",
    "    return x * x * x - x * x + 2\n",
    "\n",
    "# Derivative of the above function \n",
    "# which is 3*x^x - 2*x \n",
    "def derivFunc( x ): \n",
    "    return 3 * x * x - 2 * x \n",
    "\n",
    "# Function to find the root \n",
    "def newtonRaphson( x ): \n",
    "    h = func(x) / derivFunc(x) \n",
    "    while abs(h) >= 0.0001: \n",
    "        h = func(x)/derivFunc(x) \n",
    "\n",
    "\t\t# x(i+1) = x(i) - f(x) / f'(x) \n",
    "        x = x - h \n",
    "\t\n",
    "    print(\"The value of the root is : \", \"%.4f\"% x) \n",
    "\n",
    "# Driver program to test above \n",
    "x0 = -20 # Initial values assumed \n",
    "newtonRaphson(x0) \n",
    "\n",
    "# This code is contributed by \"Sharad_Bhardwaj\" \n"
   ]
  },
  {
   "cell_type": "code",
   "execution_count": 35,
   "metadata": {},
   "outputs": [
    {
     "name": "stdout",
     "output_type": "stream",
     "text": [
      "0.682217878304\n"
     ]
    }
   ],
   "source": [
    "def secant(f,a,b,N):\n",
    "    '''Approximate solution of f(x)=0 on interval [a,b] by the secant method.\n",
    "\n",
    "    Parameters\n",
    "    ----------\n",
    "    f : function\n",
    "        The function for which we are trying to approximate a solution f(x)=0.\n",
    "    a,b : numbers\n",
    "        The interval in which to search for a solution. The function returns\n",
    "        None if f(a)*f(b) >= 0 since a solution is not guaranteed.\n",
    "    N : (positive) integer\n",
    "        The number of iterations to implement.\n",
    "\n",
    "    Returns\n",
    "    -------\n",
    "    m_N : number\n",
    "        The x intercept of the secant line on the the Nth interval\n",
    "            m_n = a_n - f(a_n)*(b_n - a_n)/(f(b_n) - f(a_n))\n",
    "        The initial interval [a_0,b_0] is given by [a,b]. If f(m_n) == 0\n",
    "        for some intercept m_n then the function returns this solution.\n",
    "        If all signs of values f(a_n), f(b_n) and f(m_n) are the same at any\n",
    "        iterations, the secant method fails and return None.\n",
    "\n",
    "    Examples\n",
    "    --------\n",
    "    >>> f = lambda x: x**2 - x - 1\n",
    "    >>> secant(f,1,2,5)\n",
    "    1.6180257510729614\n",
    "    '''\n",
    "    if f(a)*f(b) >= 0:\n",
    "        print(\"Secant method fails.\")\n",
    "        return None\n",
    "    a_n = a\n",
    "    b_n = b\n",
    "    for n in range(1,N+1):\n",
    "        m_n = a_n - f(a_n)*(b_n - a_n)/(f(b_n) - f(a_n))\n",
    "        f_m_n = f(m_n)\n",
    "        if f(a_n)*f_m_n < 0:\n",
    "            a_n = a_n\n",
    "            b_n = m_n\n",
    "        elif f(b_n)*f_m_n < 0:\n",
    "            a_n = m_n\n",
    "            b_n = b_n\n",
    "        elif f_m_n == 0:\n",
    "            print(\"Found exact solution.\")\n",
    "            return m_n\n",
    "        else:\n",
    "            print(\"Secant method fails.\")\n",
    "            return None\n",
    "    return a_n - f(a_n)*(b_n - a_n)/(f(b_n) - f(a_n))\n",
    "\n",
    "\n",
    "#p = lambda x: x**3 - x**2 - 1\n",
    "p = lambda x: x**3 +x - 1\n",
    "p(1)\n",
    "\n",
    "approx = secant(p,0.0,2.0,20)\n",
    "print(approx)"
   ]
  },
  {
   "cell_type": "code",
   "execution_count": null,
   "metadata": {},
   "outputs": [],
   "source": []
  },
  {
   "cell_type": "code",
   "execution_count": null,
   "metadata": {},
   "outputs": [],
   "source": []
  },
  {
   "cell_type": "code",
   "execution_count": null,
   "metadata": {},
   "outputs": [],
   "source": []
  },
  {
   "cell_type": "code",
   "execution_count": 38,
   "metadata": {},
   "outputs": [
    {
     "name": "stdout",
     "output_type": "stream",
     "text": [
      "n\txn\t\tf(xn)\n",
      "1\t0\t\t-1\n",
      "2\t1\t\t1\n",
      "3\t2\t\t9\n",
      "4\t0.76759\t\t0.21985\n",
      "5\t0.66208\t\t-0.04771\n",
      "6\t0.68331\t\t0.00236\n",
      "7\t0.68233\t\t0.0\n",
      "8\t0.68233\t\t0.0\n",
      "5 iterations\n"
     ]
    }
   ],
   "source": [
    "############################\n",
    "# Demonstration of Muller's Method\n",
    "# as part of online learning video series on\n",
    "# YouTube created by Oscar Veliz.\n",
    "# https://www.youtube.com/OscarVeliz\n",
    "# @author Oscar Veliz\n",
    "############################\n",
    "import cmath\n",
    "def f(x):\n",
    "    return x**3 +x - 1\n",
    "    #return x**3 - x**2 - x - 1\n",
    "xnm2 = 0\n",
    "xnm1 = 1\n",
    "xn = 2\n",
    "#xnm2 = -2\n",
    "#xnm1 = -1\n",
    "#xn = 0\n",
    "epsilon = 10**-7\n",
    "i = 0\n",
    "print(\"n\\txn\\t\\tf(xn)\")\n",
    "print(\"1\\t\"+str(xnm2)+\"\\t\\t\"+str(f(xnm2)))\n",
    "print(\"2\\t\"+str(xnm1)+\"\\t\\t\"+str(f(xnm1)))\n",
    "print(\"3\\t\"+str(xn)+\"\\t\\t\"+str(f(xn)))\n",
    "while(abs(f(xn)) > epsilon):\n",
    "    q = (xn - xnm1)/(xnm1 - xnm2)\n",
    "    a = q*f(xn) - q*(1+q)*f(xnm1) + q**2*f(xnm2)\n",
    "    b = (2*q + 1)*f(xn) - (1+q)**2*f(xnm1) + q**2*f(xnm2)\n",
    "    c = (1 + q)*f(xn)\n",
    "    #see which x intercept is better\n",
    "    r = xn - (xn - xnm1)*((2*c)/(b + cmath.sqrt(b**2 - 4*a*c)))\n",
    "    s = xn - (xn - xnm1)*((2*c)/(b - cmath.sqrt(b**2 - 4*a*c)))\n",
    "    if(abs(f(r)) < abs(f(s))):\n",
    "        xplus = r\n",
    "    else:\n",
    "        xplus = s\n",
    "    if xplus.imag == 0j:#result is real number\n",
    "        xplus = xplus.real\n",
    "        print(str(i + 4)+\"\\t\"+str(round(xplus,5))+\"\\t\\t\"+str(round(f(xplus),5)))\n",
    "    else:\n",
    "        print(str(i + 4)+\"\\t{:.4f}\".format(xplus)+\"\\t{:.4f}\".format(f(xplus)))\n",
    "    xnm2 = xnm1\n",
    "    xnm1 = xn\n",
    "    xn = xplus\n",
    "    i = i + 1\n",
    "print(str(i)+\" iterations\")\n",
    "#when root is complex double check complex conjugate\n",
    "if isinstance(xplus, complex):\n",
    "    conjugate = complex(xplus.real, -xplus.imag)\n",
    "    if abs(f(conjugate)) < epsilon:\n",
    "        print(\"and \\t{:.4f}\".format(conjugate)+\"\\t{:.4f}\".format(f(conjugate)))\n"
   ]
  },
  {
   "cell_type": "code",
   "execution_count": null,
   "metadata": {},
   "outputs": [],
   "source": []
  }
 ],
 "metadata": {
  "kernelspec": {
   "display_name": "Python 2",
   "language": "python",
   "name": "python2"
  },
  "language_info": {
   "codemirror_mode": {
    "name": "ipython",
    "version": 2
   },
   "file_extension": ".py",
   "mimetype": "text/x-python",
   "name": "python",
   "nbconvert_exporter": "python",
   "pygments_lexer": "ipython2",
   "version": "2.7.12"
  }
 },
 "nbformat": 4,
 "nbformat_minor": 2
}
