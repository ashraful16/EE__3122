{
 "cells": [
  {
   "cell_type": "code",
   "execution_count": 2,
   "metadata": {},
   "outputs": [
    {
     "name": "stdout",
     "output_type": "stream",
     "text": [
      "1e-06\n"
     ]
    }
   ],
   "source": [
    "epsilon = 10**-6\n",
    "print epsilon"
   ]
  },
  {
   "cell_type": "code",
   "execution_count": 3,
   "metadata": {},
   "outputs": [],
   "source": [
    "# input function  x*x-x+1\n",
    "from sympy import Function, Symbol,sympify\n",
    "x = Symbol('x')\n",
    "ff=open(\"in01.txt\",\"r\")\n",
    "p=ff.read()\n",
    "xx=sympify(p, evaluate=False)\n",
    "y=xx"
   ]
  },
  {
   "cell_type": "code",
   "execution_count": 4,
   "metadata": {},
   "outputs": [],
   "source": [
    "MAX_ITER = 5000\n",
    "\n",
    "def f(c):\n",
    "    cc=float(y.subs({x:c}))\n",
    "    return cc"
   ]
  },
  {
   "cell_type": "code",
   "execution_count": 5,
   "metadata": {},
   "outputs": [
    {
     "name": "stdout",
     "output_type": "stream",
     "text": [
      "n\txn\t\tf(xn)\n",
      "1\t0\t\t-5.0\n",
      "2\t1\t\t-4.0\n",
      "3\t2\t\t-1.0\n",
      "4\t2.23607\t\t0.0\n",
      "1 iterations\n"
     ]
    }
   ],
   "source": [
    "import cmath\n",
    "xnm2 = 0\n",
    "xnm1 = 1\n",
    "xn = 2\n",
    "epsilon = 10**-4\n",
    "i = 0\n",
    "print(\"n\\txn\\t\\tf(xn)\")\n",
    "print(\"1\\t\"+str(xnm2)+\"\\t\\t\"+str(f(xnm2)))\n",
    "print(\"2\\t\"+str(xnm1)+\"\\t\\t\"+str(f(xnm1)))\n",
    "print(\"3\\t\"+str(xn)+\"\\t\\t\"+str(f(xn)))\n",
    "\n",
    "\n",
    "while(abs(f(xn)) > epsilon):\n",
    "    q = (xn - xnm1)/(xnm1 - xnm2)\n",
    "    a = q*f(xn) - q*(1+q)*f(xnm1) + q**2*f(xnm2)\n",
    "    b = (2*q + 1)*f(xn) - (1+q)**2*f(xnm1) + q**2*f(xnm2)\n",
    "    c = (1 + q)*f(xn)\n",
    "    #see which x intercept is better\n",
    "    r = xn - (xn - xnm1)*((2*c)/(b + cmath.sqrt(b**2 - 4*a*c)))\n",
    "    s = xn - (xn - xnm1)*((2*c)/(b - cmath.sqrt(b**2 - 4*a*c)))\n",
    "    if(abs(f(r)) < abs(f(s))):\n",
    "        xplus = r\n",
    "    else:\n",
    "        xplus = s\n",
    "    if xplus.imag == 0j:#result is real number\n",
    "        xplus = xplus.real\n",
    "        print(str(i + 4)+\"\\t\"+str(round(xplus,5))+\"\\t\\t\"+str(round(f(xplus),5)))\n",
    "    else:\n",
    "        print(str(i + 4)+\"\\t{:.4f}\".format(xplus)+\"\\t{:.4f}\".format(f(xplus)))\n",
    "    xnm2 = xnm1\n",
    "    xnm1 = xn\n",
    "    xn = xplus\n",
    "    i = i + 1\n",
    "print(str(i)+\" iterations\")\n",
    "#when root is complex double check complex conjugate\n",
    "if isinstance(xplus, complex):\n",
    "    conjugate = complex(xplus.real, -xplus.imag)\n",
    "    if abs(f(conjugate)) < epsilon:\n",
    "        print(\"and \\t{:.4f}\".format(conjugate)+\"\\t{:.4f}\".format(f(conjugate)))\n"
   ]
  },
  {
   "cell_type": "code",
   "execution_count": null,
   "metadata": {},
   "outputs": [],
   "source": []
  },
  {
   "cell_type": "code",
   "execution_count": null,
   "metadata": {},
   "outputs": [],
   "source": []
  },
  {
   "cell_type": "code",
   "execution_count": null,
   "metadata": {},
   "outputs": [],
   "source": []
  },
  {
   "cell_type": "code",
   "execution_count": null,
   "metadata": {},
   "outputs": [],
   "source": []
  },
  {
   "cell_type": "code",
   "execution_count": null,
   "metadata": {},
   "outputs": [],
   "source": []
  },
  {
   "cell_type": "code",
   "execution_count": null,
   "metadata": {},
   "outputs": [],
   "source": []
  },
  {
   "cell_type": "code",
   "execution_count": null,
   "metadata": {},
   "outputs": [],
   "source": [
    "2.23606809974"
   ]
  },
  {
   "cell_type": "code",
   "execution_count": null,
   "metadata": {},
   "outputs": [],
   "source": []
  },
  {
   "cell_type": "code",
   "execution_count": null,
   "metadata": {},
   "outputs": [],
   "source": []
  },
  {
   "cell_type": "code",
   "execution_count": null,
   "metadata": {},
   "outputs": [],
   "source": []
  },
  {
   "cell_type": "code",
   "execution_count": null,
   "metadata": {},
   "outputs": [],
   "source": []
  }
 ],
 "metadata": {
  "kernelspec": {
   "display_name": "Python 2",
   "language": "python",
   "name": "python2"
  },
  "language_info": {
   "codemirror_mode": {
    "name": "ipython",
    "version": 2
   },
   "file_extension": ".py",
   "mimetype": "text/x-python",
   "name": "python",
   "nbconvert_exporter": "python",
   "pygments_lexer": "ipython2",
   "version": "2.7.12"
  }
 },
 "nbformat": 4,
 "nbformat_minor": 2
}
