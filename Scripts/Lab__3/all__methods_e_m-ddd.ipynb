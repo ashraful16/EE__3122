{
 "cells": [
  {
   "cell_type": "code",
   "execution_count": 1,
   "metadata": {},
   "outputs": [],
   "source": [
    "from sympy import Function, Symbol,sympify "
   ]
  },
  {
   "cell_type": "code",
   "execution_count": 2,
   "metadata": {},
   "outputs": [],
   "source": [
    "def dfdx(xy):\n",
    "    \n",
    "    y=y.diff(x)\n",
    "    print y\n",
    "    cc=float(y.subs({x:xy}))\n",
    "    return cc"
   ]
  },
  {
   "cell_type": "code",
   "execution_count": 3,
   "metadata": {},
   "outputs": [],
   "source": [
    "def f(xy):\n",
    "    #itr=itr+1\n",
    "    cc=float(y.subs({x:xy}))\n",
    "    return cc"
   ]
  },
  {
   "cell_type": "code",
   "execution_count": 4,
   "metadata": {},
   "outputs": [],
   "source": [
    "x = Symbol('x')\n",
    "y=x**2-x -1"
   ]
  },
  {
   "cell_type": "code",
   "execution_count": null,
   "metadata": {},
   "outputs": [],
   "source": []
  },
  {
   "cell_type": "code",
   "execution_count": 5,
   "metadata": {},
   "outputs": [],
   "source": [
    "MAX_ITER = 50000\n",
    "aa=0.0\n",
    "bb=5.0"
   ]
  },
  {
   "cell_type": "code",
   "execution_count": 6,
   "metadata": {},
   "outputs": [
    {
     "name": "stdout",
     "output_type": "stream",
     "text": [
      "iteration  19\n",
      "1.61803722382\n"
     ]
    }
   ],
   "source": [
    "\n",
    "def bisection(f,a,b,N,tol):\n",
    "    if f(a)*f(b) >= 0:\n",
    "        print(\"Bisection method fails.\")\n",
    "        return None\n",
    "    a_n = a\n",
    "    b_n = b\n",
    "    i=0\n",
    "    for n in range(1,N+1):\n",
    "        m_n = (a_n + b_n)/2\n",
    "        f_m_n = f(m_n)\n",
    "        if f(a_n)*f_m_n < 0:\n",
    "            a_n = a_n\n",
    "            b_n = m_n\n",
    "        elif f(b_n)*f_m_n < 0:\n",
    "            a_n = m_n\n",
    "            b_n = b_n\n",
    "        else:\n",
    "            print(\"Bisection method fails.\")\n",
    "            return None\n",
    "        i=i+1\n",
    "        if round(f_m_n,5)==0:\n",
    "            print \"iteration \", n\n",
    "            break\n",
    "            return m_n\n",
    "    \n",
    "    return (a_n + b_n)/2\n",
    "approx_phi = bisection(f,0.0,5,MAX_ITER,.001)\n",
    "print(approx_phi)"
   ]
  },
  {
   "cell_type": "code",
   "execution_count": 7,
   "metadata": {},
   "outputs": [
    {
     "name": "stdout",
     "output_type": "stream",
     "text": [
      "29\n",
      "('The value of root is : ', '1.6180', 'iteration is ', 29)\n"
     ]
    }
   ],
   "source": [
    "\n",
    "\n",
    "# Prints root of func(x) in interval [a, b] \n",
    "def regulaFalsi(f, a , b): \n",
    "    if f(a) * f(b) >= 0: \n",
    "        print(\"You have not assumed right a and b\") \n",
    "        return -1\n",
    "    \n",
    "    c = a # Initialize result \n",
    "\n",
    "    for i in range(MAX_ITER): \n",
    "\n",
    "        # Find the point that touches x axis \n",
    "        c = (a * f(b) - b * f(a))/ (f(b) - f(a)) \n",
    "\n",
    "        # Check if the above found point is root \n",
    "\n",
    "        f_m_n=f(c)\n",
    "        if round(f_m_n,5)==0:\n",
    "            print i\n",
    "            break\n",
    "            return m_n\n",
    "\n",
    "        # Decide the side to repeat the steps \n",
    "        elif f(c) * f(a) < 0: \n",
    "            b = c \n",
    "        else: \n",
    "            a = c \n",
    "    print(\"The value of root is : \" , '%.4f' %c,\"iteration is \",i) \n",
    "\n",
    "# Driver code to test above function \n",
    "# Initial values assumed \n",
    "\n",
    "\n",
    "regulaFalsi(f,aa, bb) \n",
    "\n",
    "# This code is contributed by \"Sharad_Bhardwaj\". \n"
   ]
  },
  {
   "cell_type": "code",
   "execution_count": null,
   "metadata": {},
   "outputs": [],
   "source": []
  },
  {
   "cell_type": "code",
   "execution_count": null,
   "metadata": {},
   "outputs": [],
   "source": []
  },
  {
   "cell_type": "code",
   "execution_count": null,
   "metadata": {},
   "outputs": [],
   "source": [
    "round(.000001,5)"
   ]
  },
  {
   "cell_type": "code",
   "execution_count": null,
   "metadata": {},
   "outputs": [],
   "source": [
    "\n",
    "\n"
   ]
  },
  {
   "cell_type": "code",
   "execution_count": 8,
   "metadata": {},
   "outputs": [
    {
     "name": "stdout",
     "output_type": "stream",
     "text": [
      "(1.6180340133056137, 13)\n"
     ]
    }
   ],
   "source": [
    "\"\"\"\n",
    "def dfdx(x): #function to find the derivative of the polynomial\n",
    "    \n",
    "    h = 0.000001\n",
    "\n",
    "    derivative = (f(x + h) - f(x)) / h\n",
    "\n",
    "    return derivative\n",
    "\"\"\"\n",
    "def dfdx(y,xy):\n",
    "    \n",
    "    y=y.diff(x)\n",
    "    \n",
    "    cc=float(y.subs({x:xy}))\n",
    "\n",
    "    return cc\n",
    "    \n",
    "\n",
    "def naive_Newton(f, dfdx, x, eps,i):\n",
    "    while abs(f(x)) > eps:\n",
    "        i=i+1\n",
    "        if dfdx(y,x) != 0:\n",
    "            x = x - float(f(x))/dfdx(y,x)\n",
    "        if dfdx(y,x) == 0:\n",
    "            print \"division by zero error\"\n",
    "            break\n",
    "    return x,i\n",
    "i=0\n",
    "print naive_Newton(f, dfdx, 1000, 0.00001,i)"
   ]
  },
  {
   "cell_type": "code",
   "execution_count": 9,
   "metadata": {},
   "outputs": [
    {
     "name": "stdout",
     "output_type": "stream",
     "text": [
      "iteration  30\n",
      "1.61803255984\n"
     ]
    }
   ],
   "source": [
    "def secant(f,a,b,N):\n",
    "    \n",
    "    if f(a)*f(b) >= 0:\n",
    "        print(\"Secant method fails.\")\n",
    "        return None\n",
    "    a_n = a\n",
    "    b_n = b\n",
    "    for n in range(1,N+1):\n",
    "        m_n = a_n - f(a_n)*(b_n - a_n)/(f(b_n) - f(a_n))\n",
    "        f_m_n = f(m_n)\n",
    "        if f(a_n)*f_m_n < 0:\n",
    "            a_n = a_n\n",
    "            b_n = m_n\n",
    "        elif f(b_n)*f_m_n < 0:\n",
    "            a_n = m_n\n",
    "            b_n = b_n\n",
    "        else:\n",
    "            print(\"Secant method fails.\")\n",
    "            return None\n",
    "        if round(f_m_n,5) == 0:\n",
    "            #print(\"Found exact solution.\")\n",
    "            print \"iteration \",n\n",
    "            return m_n\n",
    "        \n",
    "    return a_n - f(a_n)*(b_n - a_n)/(f(b_n) - f(a_n))\n",
    "\n",
    "\n",
    "\n",
    "approx = secant(f,aa,bb,MAX_ITER)\n",
    "print(approx)"
   ]
  },
  {
   "cell_type": "code",
   "execution_count": null,
   "metadata": {},
   "outputs": [],
   "source": [
    "2.2360680271702322"
   ]
  },
  {
   "cell_type": "code",
   "execution_count": null,
   "metadata": {},
   "outputs": [],
   "source": []
  },
  {
   "cell_type": "code",
   "execution_count": null,
   "metadata": {},
   "outputs": [],
   "source": []
  }
 ],
 "metadata": {
  "kernelspec": {
   "display_name": "Python 2",
   "language": "python",
   "name": "python2"
  },
  "language_info": {
   "codemirror_mode": {
    "name": "ipython",
    "version": 2
   },
   "file_extension": ".py",
   "mimetype": "text/x-python",
   "name": "python",
   "nbconvert_exporter": "python",
   "pygments_lexer": "ipython2",
   "version": "2.7.12"
  }
 },
 "nbformat": 4,
 "nbformat_minor": 2
}
