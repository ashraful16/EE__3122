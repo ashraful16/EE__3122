{
 "cells": [
  {
   "cell_type": "code",
   "execution_count": 2,
   "metadata": {},
   "outputs": [],
   "source": [
    "f='//media//ashraful//New Volume//labfiles//text4.txt'\n",
    "file = open(f, 'r')"
   ]
  },
  {
   "cell_type": "code",
   "execution_count": 3,
   "metadata": {},
   "outputs": [],
   "source": [
    "with open(f) as fl:\n",
    "    #print zip(*[line.split() for line in fl])[0]\n",
    "    da= zip(*[line.split() for line in fl])[0]\n",
    "with open(f) as fl:\n",
    "    #print zip(*[line.split() for line in fl])[1]\n",
    "    ta=zip(*[line.split() for line in fl])[1]"
   ]
  },
  {
   "cell_type": "code",
   "execution_count": 4,
   "metadata": {},
   "outputs": [
    {
     "name": "stdout",
     "output_type": "stream",
     "text": [
      "('Marks', '30-40', '40-50', '50-60', '60-70', '70-80', '80-90', '90-100')\n",
      "<type 'tuple'>\n",
      "('No.__of__students__fi', '3', '7', '20', '25', '20', '15', '10')\n",
      "<type 'tuple'>\n"
     ]
    }
   ],
   "source": [
    "print da\n",
    "print type(da)\n",
    "print ta\n",
    "print type(ta)"
   ]
  },
  {
   "cell_type": "code",
   "execution_count": 5,
   "metadata": {},
   "outputs": [
    {
     "name": "stdout",
     "output_type": "stream",
     "text": [
      "('30-40', '40-50', '50-60', '60-70', '70-80', '80-90', '90-100')\n",
      "<type 'tuple'>\n",
      "('3', '7', '20', '25', '20', '15', '10')\n",
      "<type 'tuple'>\n"
     ]
    }
   ],
   "source": [
    "#removing string to conver number\n",
    "da = da[1:] \n",
    "ta = ta[1:]\n",
    "print da\n",
    "print type(da)\n",
    "print ta\n",
    "print type(ta)\n"
   ]
  },
  {
   "cell_type": "code",
   "execution_count": 6,
   "metadata": {},
   "outputs": [
    {
     "name": "stdout",
     "output_type": "stream",
     "text": [
      "[30.0, 40.0, 40.0, 50.0, 50.0, 60.0, 60.0, 70.0, 70.0, 80.0, 80.0, 90.0, 90.0, 100.0]\n"
     ]
    },
    {
     "data": {
      "text/plain": [
       "list"
      ]
     },
     "execution_count": 6,
     "metadata": {},
     "output_type": "execute_result"
    }
   ],
   "source": [
    "pr=[]\n",
    "for i in da:\n",
    "    a=i.split(\"-\")\n",
    "    #print a[0]\n",
    "    #print a[1]\n",
    "    pr.append(float(a[0]))\n",
    "    pr.append(float(a[1]))\n",
    "print pr\n",
    "type(pr)"
   ]
  },
  {
   "cell_type": "markdown",
   "metadata": {},
   "source": [
    "\n",
    "## now we get mid values of grouped data"
   ]
  },
  {
   "cell_type": "code",
   "execution_count": 7,
   "metadata": {},
   "outputs": [
    {
     "name": "stdout",
     "output_type": "stream",
     "text": [
      "30.0\n",
      "[35.0, 45.0, 55.0, 65.0, 75.0, 85.0, 95.0]\n"
     ]
    }
   ],
   "source": [
    "mark=[]\n",
    "i=0\n",
    "while(i<(len(pr))):\n",
    "    k=pr[i]+pr[i+1]\n",
    "    k=k/2\n",
    "    mark.append(k)\n",
    "    i=i+2\n",
    "lower_lim=pr[0] \n",
    "print lower_lim\n",
    "print mark"
   ]
  },
  {
   "cell_type": "markdown",
   "metadata": {},
   "source": [
    "# to seperate feeuency of grouped value"
   ]
  },
  {
   "cell_type": "code",
   "execution_count": 8,
   "metadata": {},
   "outputs": [
    {
     "name": "stdout",
     "output_type": "stream",
     "text": [
      "[3.0, 7.0, 20.0, 25.0, 20.0, 15.0, 10.0]\n"
     ]
    },
    {
     "data": {
      "text/plain": [
       "list"
      ]
     },
     "execution_count": 8,
     "metadata": {},
     "output_type": "execute_result"
    }
   ],
   "source": [
    "\n",
    "count=[]\n",
    "for i in ta:\n",
    "    \n",
    "    count.append(float(i))\n",
    "\n",
    "    \n",
    "print count\n",
    "type(count)"
   ]
  },
  {
   "cell_type": "code",
   "execution_count": 9,
   "metadata": {},
   "outputs": [
    {
     "name": "stdout",
     "output_type": "stream",
     "text": [
      "('3', '7', '20', '25', '20', '15', '10')\n"
     ]
    }
   ],
   "source": [
    "print ta"
   ]
  },
  {
   "cell_type": "markdown",
   "metadata": {},
   "source": [
    "# here two column mark & count(freq)"
   ]
  },
  {
   "cell_type": "code",
   "execution_count": 10,
   "metadata": {},
   "outputs": [
    {
     "name": "stdout",
     "output_type": "stream",
     "text": [
      "7\n",
      "<type 'list'>\n",
      "7\n",
      "<type 'list'>\n",
      "[35.0, 45.0, 55.0, 65.0, 75.0, 85.0, 95.0]\n",
      "[3.0, 7.0, 20.0, 25.0, 20.0, 15.0, 10.0]\n"
     ]
    }
   ],
   "source": [
    "print len(mark)\n",
    "print type(mark)\n",
    "print len(count)\n",
    "print type(count)\n",
    "print mark  #mid values \n",
    "print count #freq"
   ]
  },
  {
   "cell_type": "markdown",
   "metadata": {},
   "source": [
    "# Arithmetic mean"
   ]
  },
  {
   "cell_type": "code",
   "execution_count": 11,
   "metadata": {},
   "outputs": [],
   "source": [
    "from math import *\n"
   ]
  },
  {
   "cell_type": "code",
   "execution_count": 12,
   "metadata": {},
   "outputs": [
    {
     "name": "stdout",
     "output_type": "stream",
     "text": [
      "geometric mean is  66.918353445\n",
      "arthic. mean is  68.7\n"
     ]
    }
   ],
   "source": [
    "i=0\n",
    "s=0\n",
    "gm1=0\n",
    "while(i<len(mark)):\n",
    "    s=s+mark[i]*count[i]\n",
    "    gm1=gm1+log(mark[i])*count[i]\n",
    "  \n",
    "    i+=1\n",
    "gm2=gm1/sum(count)\n",
    "gmf=exp(gm2)\n",
    "am=s/sum(count) \n",
    "#print gm2 \n",
    "print \"geometric mean is \",gmf\n",
    "print \"arthic. mean is \", am "
   ]
  },
  {
   "cell_type": "markdown",
   "metadata": {},
   "source": [
    "## total__frequency"
   ]
  },
  {
   "cell_type": "code",
   "execution_count": 13,
   "metadata": {},
   "outputs": [
    {
     "name": "stdout",
     "output_type": "stream",
     "text": [
      "100.0\n"
     ]
    }
   ],
   "source": [
    "tf=sum(count)\n",
    "print sum(count)"
   ]
  },
  {
   "cell_type": "code",
   "execution_count": 14,
   "metadata": {},
   "outputs": [
    {
     "name": "stdout",
     "output_type": "stream",
     "text": [
      "harmonic mean is  65.0228033992\n"
     ]
    }
   ],
   "source": [
    "i=0\n",
    "s=0\n",
    "while(i<len(mark)):\n",
    "    s=s+(count[i]/mark[i])\n",
    "    \n",
    "    i+=1\n",
    "#print s\n",
    "hm=tf/s\n",
    "print \"harmonic mean is \",hm"
   ]
  },
  {
   "cell_type": "markdown",
   "metadata": {},
   "source": [
    "# median"
   ]
  },
  {
   "cell_type": "markdown",
   "metadata": {},
   "source": [
    "# cumulative freq..."
   ]
  },
  {
   "cell_type": "code",
   "execution_count": 15,
   "metadata": {},
   "outputs": [
    {
     "name": "stdout",
     "output_type": "stream",
     "text": [
      "[3.0, 7.0, 20.0, 25.0, 20.0, 15.0, 10.0]\n",
      "[3.0, 10.0, 30.0, 55.0, 75.0, 90.0, 100.0]\n"
     ]
    }
   ],
   "source": [
    "\n",
    "\n",
    "\n",
    "print count\n",
    "i=0\n",
    "cu=[]\n",
    "while(i<len(count)):\n",
    "    if i == 0:\n",
    "        k=count[i]\n",
    "        cu.append(k)\n",
    "    else:\n",
    "        m=count[i]\n",
    "        n=cu[i-1]\n",
    "        k=m+n\n",
    "        cu.append(k)\n",
    "    i=i+1\n",
    "    \n",
    "    \n",
    "print cu\n",
    "   \n",
    "        "
   ]
  },
  {
   "cell_type": "markdown",
   "metadata": {},
   "source": [
    "# L1"
   ]
  },
  {
   "cell_type": "code",
   "execution_count": 16,
   "metadata": {},
   "outputs": [
    {
     "name": "stdout",
     "output_type": "stream",
     "text": [
      "total freq  50.0\n",
      " indx is  3\n",
      "4\n",
      "me  60.0\n"
     ]
    }
   ],
   "source": [
    "\n",
    "tf1=tf/2\n",
    "\n",
    "print \"total freq \",tf1\n",
    "i=0\n",
    "\n",
    "c=24\n",
    "def find(x,y):\n",
    "    jk=0\n",
    "    le=len(cu)\n",
    "    while(jk<le):\n",
    "        if cu[jk] < y :\n",
    "            jk+=1\n",
    "        else:\n",
    "            return jk \n",
    "        \n",
    "        \n",
    "\n",
    "\n",
    "d=find(cu,tf1)\n",
    "\n",
    "print \" indx is \",d    #returned array index \n",
    "loc_m=d+1          \n",
    "print loc_m\n",
    "L1=pr[2*loc_m-2]     #location of mimium medium grouped data indx\n",
    "print \"me \",L1"
   ]
  },
  {
   "cell_type": "code",
   "execution_count": 17,
   "metadata": {},
   "outputs": [
    {
     "name": "stdout",
     "output_type": "stream",
     "text": [
      "50.5\n"
     ]
    }
   ],
   "source": [
    "n1=(tf+1)/2\n",
    "\n",
    "print n1"
   ]
  },
  {
   "cell_type": "raw",
   "metadata": {},
   "source": [
    "fm = frequency of the median group\n",
    "fc = cumulative frequency of the group preceding the median group/ Cumulative\n",
    "frequency of the pre-median class"
   ]
  },
  {
   "cell_type": "code",
   "execution_count": 18,
   "metadata": {},
   "outputs": [
    {
     "name": "stdout",
     "output_type": "stream",
     "text": [
      "[3.0, 7.0, 20.0, 25.0, 20.0, 15.0, 10.0]\n",
      "25.0\n"
     ]
    }
   ],
   "source": [
    "print count\n",
    "fm=count[d]\n",
    "print fm"
   ]
  },
  {
   "cell_type": "code",
   "execution_count": 19,
   "metadata": {},
   "outputs": [
    {
     "name": "stdout",
     "output_type": "stream",
     "text": [
      "[3.0, 10.0, 30.0, 55.0, 75.0, 90.0, 100.0]\n",
      "30.0\n"
     ]
    }
   ],
   "source": [
    "print cu\n",
    "fc=cu[d-1]\n",
    "print fc"
   ]
  },
  {
   "cell_type": "raw",
   "metadata": {},
   "source": [
    "c\n",
    "#difference between intervals"
   ]
  },
  {
   "cell_type": "code",
   "execution_count": null,
   "metadata": {},
   "outputs": [],
   "source": []
  },
  {
   "cell_type": "code",
   "execution_count": 20,
   "metadata": {},
   "outputs": [
    {
     "name": "stdout",
     "output_type": "stream",
     "text": [
      "10.0\n"
     ]
    }
   ],
   "source": [
    "c=abs(pr[1]-pr[0])\n",
    "\n",
    "print c"
   ]
  },
  {
   "cell_type": "code",
   "execution_count": 21,
   "metadata": {},
   "outputs": [
    {
     "name": "stdout",
     "output_type": "stream",
     "text": [
      "68.2\n"
     ]
    }
   ],
   "source": [
    "d=(n1-fc)/fm\n",
    "median= L1+d*c\n",
    "\n",
    "print median"
   ]
  },
  {
   "cell_type": "markdown",
   "metadata": {},
   "source": [
    "\n",
    "# Mode: Mode of Group Data"
   ]
  },
  {
   "cell_type": "code",
   "execution_count": 22,
   "metadata": {},
   "outputs": [
    {
     "data": {
      "text/plain": [
       "[3.0, 7.0, 20.0, 25.0, 20.0, 15.0, 10.0]"
      ]
     },
     "execution_count": 22,
     "metadata": {},
     "output_type": "execute_result"
    }
   ],
   "source": [
    "count\n",
    "#find biggest freq  index"
   ]
  },
  {
   "cell_type": "code",
   "execution_count": 23,
   "metadata": {},
   "outputs": [
    {
     "name": "stdout",
     "output_type": "stream",
     "text": [
      "[3, 7, 20, 25, 20, 15, 10]\n",
      "<type 'list'>\n"
     ]
    }
   ],
   "source": [
    "i=0\n",
    "dcount=[]\n",
    "while(i<len(count)):\n",
    "    \n",
    "    dcount.append(int(count[i]))\n",
    "        \n",
    "    \n",
    "    i=i+1\n",
    "print dcount  \n",
    "print type(dcount)\n",
    "#print numbers[x]"
   ]
  },
  {
   "cell_type": "code",
   "execution_count": null,
   "metadata": {},
   "outputs": [],
   "source": []
  },
  {
   "cell_type": "code",
   "execution_count": null,
   "metadata": {},
   "outputs": [],
   "source": []
  },
  {
   "cell_type": "code",
   "execution_count": null,
   "metadata": {},
   "outputs": [],
   "source": []
  },
  {
   "cell_type": "code",
   "execution_count": null,
   "metadata": {},
   "outputs": [],
   "source": []
  },
  {
   "cell_type": "code",
   "execution_count": null,
   "metadata": {},
   "outputs": [],
   "source": []
  },
  {
   "cell_type": "code",
   "execution_count": 24,
   "metadata": {},
   "outputs": [],
   "source": [
    "#modal class freq"
   ]
  },
  {
   "cell_type": "code",
   "execution_count": 25,
   "metadata": {},
   "outputs": [
    {
     "name": "stdout",
     "output_type": "stream",
     "text": [
      "[3, 7, 20, 25, 20, 15, 10]\n",
      "highest fre__ loc  3 value   25\n"
     ]
    }
   ],
   "source": [
    "c=dcount\n",
    "print c\n",
    "x = 1\n",
    "z=0\n",
    "\n",
    "while x<len(c):\n",
    "    \n",
    "    if c[x] >c[z]:\n",
    "        z=x\n",
    "    \n",
    "    x=x+1\n",
    "    \n",
    "if len(c) == z: \n",
    "    print \" _ _^--^ _ _\"\n",
    "else: \n",
    "    print \"highest fre__ loc \" ,z  ,\"value  \",c[z]"
   ]
  },
  {
   "cell_type": "code",
   "execution_count": 26,
   "metadata": {},
   "outputs": [
    {
     "name": "stdout",
     "output_type": "stream",
     "text": [
      "3\n"
     ]
    }
   ],
   "source": [
    "#find l1 for  modal class freq\n",
    "print z"
   ]
  },
  {
   "cell_type": "code",
   "execution_count": 27,
   "metadata": {},
   "outputs": [
    {
     "name": "stdout",
     "output_type": "stream",
     "text": [
      " indx is  3\n",
      "4\n",
      "me  60.0\n"
     ]
    }
   ],
   "source": [
    "\n",
    "d=z\n",
    "\n",
    "print \" indx is \",d    #returned array index \n",
    "loc_m=d+1          \n",
    "print loc_m\n",
    "L1=pr[2*loc_m-2]     #location of mimium medium grouped data indx\n",
    "print \"me \",L1"
   ]
  },
  {
   "cell_type": "code",
   "execution_count": 28,
   "metadata": {},
   "outputs": [
    {
     "name": "stdout",
     "output_type": "stream",
     "text": [
      "('30-40', '40-50', '50-60', '60-70', '70-80', '80-90', '90-100')\n",
      "('3', '7', '20', '25', '20', '15', '10')\n",
      "[3.0, 7.0, 20.0, 25.0, 20.0, 15.0, 10.0]\n"
     ]
    }
   ],
   "source": [
    "print da\n",
    "print ta\n",
    "print count"
   ]
  },
  {
   "cell_type": "code",
   "execution_count": 29,
   "metadata": {},
   "outputs": [
    {
     "name": "stdout",
     "output_type": "stream",
     "text": [
      "10.0\n",
      "[3, 7, 20, 25, 20, 15, 10]\n"
     ]
    }
   ],
   "source": [
    "c=abs(pr[1]-pr[0])\n",
    "\n",
    "print c\n",
    "print dcount"
   ]
  },
  {
   "cell_type": "code",
   "execution_count": 30,
   "metadata": {},
   "outputs": [],
   "source": [
    "d1=abs(float(dcount[3]-dcount[2]))\n",
    "d2=abs(float(dcount[3]-dcount[4]))"
   ]
  },
  {
   "cell_type": "code",
   "execution_count": 31,
   "metadata": {},
   "outputs": [
    {
     "name": "stdout",
     "output_type": "stream",
     "text": [
      "5.0 5.0\n"
     ]
    }
   ],
   "source": [
    "print d1,d2"
   ]
  },
  {
   "cell_type": "code",
   "execution_count": 32,
   "metadata": {},
   "outputs": [
    {
     "name": "stdout",
     "output_type": "stream",
     "text": [
      "0.5\n"
     ]
    }
   ],
   "source": [
    "d=float(d1/(d1+d2))\n",
    "print (d)"
   ]
  },
  {
   "cell_type": "code",
   "execution_count": 33,
   "metadata": {},
   "outputs": [
    {
     "name": "stdout",
     "output_type": "stream",
     "text": [
      "mode is  65.0\n"
     ]
    }
   ],
   "source": [
    "mode=L1+c*d\n",
    "\n",
    "print \"mode is \",mode"
   ]
  },
  {
   "cell_type": "markdown",
   "metadata": {},
   "source": [
    "# Mode=Mean – 3(Mean- Median) = 3Median-2Mean"
   ]
  },
  {
   "cell_type": "code",
   "execution_count": 34,
   "metadata": {},
   "outputs": [],
   "source": [
    "#mode = 3*median-2*am"
   ]
  },
  {
   "cell_type": "code",
   "execution_count": 35,
   "metadata": {},
   "outputs": [],
   "source": [
    "#print mode"
   ]
  },
  {
   "cell_type": "markdown",
   "metadata": {},
   "source": [
    "# std deviation"
   ]
  },
  {
   "cell_type": "code",
   "execution_count": 36,
   "metadata": {},
   "outputs": [
    {
     "name": "stdout",
     "output_type": "stream",
     "text": [
      "7\n",
      "<type 'list'>\n",
      "7\n",
      "<type 'list'>\n",
      "[35.0, 45.0, 55.0, 65.0, 75.0, 85.0, 95.0]\n",
      "[3.0, 7.0, 20.0, 25.0, 20.0, 15.0, 10.0]\n"
     ]
    }
   ],
   "source": [
    "print len(mark)\n",
    "print type(mark)\n",
    "print len(count)\n",
    "print type(count)\n",
    "print mark  #mid values \n",
    "print count #freq"
   ]
  },
  {
   "cell_type": "code",
   "execution_count": 37,
   "metadata": {},
   "outputs": [],
   "source": [
    "import numpy as np"
   ]
  },
  {
   "cell_type": "code",
   "execution_count": 38,
   "metadata": {},
   "outputs": [
    {
     "name": "stdout",
     "output_type": "stream",
     "text": [
      "65.0\n"
     ]
    }
   ],
   "source": [
    "ma_av=np.average(mark)\n",
    "print ma_av"
   ]
  },
  {
   "cell_type": "code",
   "execution_count": 39,
   "metadata": {},
   "outputs": [
    {
     "name": "stdout",
     "output_type": "stream",
     "text": [
      "59.160797831\n"
     ]
    }
   ],
   "source": [
    "i=0\n",
    "ss=0\n",
    "while i<len(mark):\n",
    "    ss=ss+count[i]* (mark[i]-ma_av)**2\n",
    "    \n",
    "    i=i+1\n",
    "    \n",
    "ss=ss/len(mark)\n",
    "    \n",
    "sigma=sqrt(ss) \n",
    "print sigma"
   ]
  },
  {
   "cell_type": "markdown",
   "metadata": {},
   "source": [
    "# variance"
   ]
  },
  {
   "cell_type": "code",
   "execution_count": 40,
   "metadata": {},
   "outputs": [],
   "source": [
    "v=sigma**2"
   ]
  },
  {
   "cell_type": "code",
   "execution_count": 41,
   "metadata": {},
   "outputs": [
    {
     "name": "stdout",
     "output_type": "stream",
     "text": [
      "3500.0\n"
     ]
    }
   ],
   "source": [
    "print v"
   ]
  },
  {
   "cell_type": "raw",
   "metadata": {},
   "source": [
    "moments (about\n",
    "mean and about any arbitrary value)"
   ]
  },
  {
   "cell_type": "code",
   "execution_count": 42,
   "metadata": {},
   "outputs": [
    {
     "name": "stdout",
     "output_type": "stream",
     "text": [
      "68.7\n"
     ]
    }
   ],
   "source": [
    "mean=am\n",
    "print mean"
   ]
  },
  {
   "cell_type": "markdown",
   "metadata": {},
   "source": [
    "# 1st central moments about mean"
   ]
  },
  {
   "cell_type": "code",
   "execution_count": 43,
   "metadata": {},
   "outputs": [
    {
     "name": "stdout",
     "output_type": "stream",
     "text": [
      "-7.49583545417e-16\n"
     ]
    }
   ],
   "source": [
    "\n",
    "\n",
    "i=0\n",
    "su=0\n",
    "while i<len(count):\n",
    "    su=su+count[i]*(mark[i]-am)\n",
    "    \n",
    "    i=i+1\n",
    "    \n",
    "ss=su/sum(mark)\n",
    "    \n",
    "\n",
    "print ss"
   ]
  },
  {
   "cell_type": "code",
   "execution_count": 44,
   "metadata": {},
   "outputs": [],
   "source": [
    "def cm(mark,count,refvalue,nth):\n",
    "    i=0\n",
    "    su=0\n",
    "    am=refvalue\n",
    "    while i<len(count):\n",
    "        su=su+count[i]*(mark[i]-am)**nth\n",
    "    \n",
    "        i=i+1\n",
    "    \n",
    "    ss=su/sum(mark)\n",
    "    \n",
    "\n",
    "    print ss\n",
    "        "
   ]
  },
  {
   "cell_type": "code",
   "execution_count": 45,
   "metadata": {},
   "outputs": [
    {
     "name": "stdout",
     "output_type": "stream",
     "text": [
      "69373.4285714\n"
     ]
    }
   ],
   "source": [
    "refvalue=4\n",
    "nth=3\n",
    "cm(mark,count,refvalue,nth)"
   ]
  },
  {
   "cell_type": "code",
   "execution_count": null,
   "metadata": {},
   "outputs": [],
   "source": []
  },
  {
   "cell_type": "code",
   "execution_count": null,
   "metadata": {},
   "outputs": [],
   "source": []
  },
  {
   "cell_type": "code",
   "execution_count": 46,
   "metadata": {},
   "outputs": [
    {
     "name": "stdout",
     "output_type": "stream",
     "text": [
      "No mode found\n"
     ]
    }
   ],
   "source": [
    "\n",
    "# Python program to print \n",
    "# mode of elements \n",
    "from collections import Counter \n",
    "  \n",
    "# list of elements to calculate mode \n",
    "n_num = [1, 2, 3, 4, 5] \n",
    "n = len(n_num) \n",
    "  \n",
    "data = Counter(n_num) \n",
    "get_mode = dict(data) \n",
    "mode = [k for k, v in get_mode.items() if v == max(list(data.values()))] \n",
    "  \n",
    "if len(mode) == n: \n",
    "    get_mode = \"No mode found\"\n",
    "else: \n",
    "    get_mode = \"Mode is / are: \" + ', '.join(map(str, mode)) \n",
    "      \n",
    "print(get_mode) \n"
   ]
  },
  {
   "cell_type": "code",
   "execution_count": null,
   "metadata": {},
   "outputs": [],
   "source": []
  },
  {
   "cell_type": "code",
   "execution_count": null,
   "metadata": {},
   "outputs": [],
   "source": []
  }
 ],
 "metadata": {
  "kernelspec": {
   "display_name": "Python 2",
   "language": "python",
   "name": "python2"
  },
  "language_info": {
   "codemirror_mode": {
    "name": "ipython",
    "version": 2
   },
   "file_extension": ".py",
   "mimetype": "text/x-python",
   "name": "python",
   "nbconvert_exporter": "python",
   "pygments_lexer": "ipython2",
   "version": "2.7.12"
  }
 },
 "nbformat": 4,
 "nbformat_minor": 2
}
