{
 "cells": [
  {
   "cell_type": "code",
   "execution_count": 11,
   "metadata": {},
   "outputs": [
    {
     "name": "stdout",
     "output_type": "stream",
     "text": [
      "4.60517018599\n"
     ]
    }
   ],
   "source": [
    "from math import *\n",
    "a = -2; b = 2;\n",
    "n = 1000;\n",
    "\n",
    "print log(100)"
   ]
  },
  {
   "cell_type": "code",
   "execution_count": 22,
   "metadata": {},
   "outputs": [
    {
     "name": "stdout",
     "output_type": "stream",
     "text": [
      "14938.9426184\n"
     ]
    }
   ],
   "source": [
    "def Trapezoidal(f, a, b, n):\n",
    "    h = (b-a)/float(n)\n",
    "    s = 0.5*(f(a) + f(b))\n",
    "    for i in range(1,n,1):\n",
    "        s = s + f(a + i*h)\n",
    "    return h*s\n",
    "\n",
    "def g(t):\n",
    "    return (2000*log(1400/(1400-21*t))-9.8)\n",
    "\n",
    "a = 8;  b = 30\n",
    "n = 5000\n",
    "\n",
    "result = Trapezoidal(g, a, b, n)\n",
    "print result"
   ]
  },
  {
   "cell_type": "code",
   "execution_count": 23,
   "metadata": {},
   "outputs": [
    {
     "name": "stdout",
     "output_type": "stream",
     "text": [
      "1.81280494737\n"
     ]
    }
   ],
   "source": [
    "def Trapezoidal(f, a, b, n):\n",
    "    h = (b-a)/float(n)\n",
    "    s = 0.5*(f(a) + f(b))\n",
    "    for i in range(1,n,1):\n",
    "        s = s + f(a + i*h)\n",
    "    return h*s\n",
    "\n",
    "def g(t):\n",
    "    return exp(-t**4)\n",
    "\n",
    "a = -2;  b = 2\n",
    "n = 1000\n",
    "result = Trapezoidal(g, a, b, n)\n",
    "print result"
   ]
  },
  {
   "cell_type": "code",
   "execution_count": 27,
   "metadata": {},
   "outputs": [
    {
     "name": "stdout",
     "output_type": "stream",
     "text": [
      "1.812805\n"
     ]
    }
   ],
   "source": [
    "# Python code for simpson's 1 / 3 rule \n",
    "from math import *\n",
    "def func( x ): \n",
    "    return exp(-x**4) \n",
    "def simpsons_( ll, ul, n ): \n",
    "\n",
    "    # Calculating the value of h \n",
    "    h = ( ul - ll )/n \n",
    "\n",
    "    # List for storing value of x and f(x) \n",
    "    x = list() \n",
    "    fx = list() \n",
    "\n",
    "    # Calcuting values of x and f(x) \n",
    "    i = 0\n",
    "    while i<= n: \n",
    "        x.append(ll + i * h) \n",
    "        fx.append(func(x[i])) \n",
    "        i += 1\n",
    "\n",
    "    # Calculating result \n",
    "    res = 0\n",
    "    i = 0\n",
    "    while i<= n: \n",
    "        if i == 0 or i == n: \n",
    "            res+= fx[i] \n",
    "        elif i % 2 != 0: \n",
    "            res+= 4 * fx[i] \n",
    "        else: \n",
    "            res+= 2 * fx[i] \n",
    "        i+= 1\n",
    "    res = res * (h / 3) \n",
    "    return res \n",
    "\n",
    "# Driver code \n",
    "lower_limit = -2.0 # Lower limit \n",
    "upper_limit = 2.0 # Upper limit \n",
    "n = 1000 # Number of interval \n",
    "print(\"%.6f\"% simpsons_(lower_limit, upper_limit, n)) \n"
   ]
  },
  {
   "cell_type": "code",
   "execution_count": null,
   "metadata": {},
   "outputs": [],
   "source": []
  }
 ],
 "metadata": {
  "kernelspec": {
   "display_name": "Python 2",
   "language": "python",
   "name": "python2"
  },
  "language_info": {
   "codemirror_mode": {
    "name": "ipython",
    "version": 2
   },
   "file_extension": ".py",
   "mimetype": "text/x-python",
   "name": "python",
   "nbconvert_exporter": "python",
   "pygments_lexer": "ipython2",
   "version": "2.7.12"
  }
 },
 "nbformat": 4,
 "nbformat_minor": 2
}
