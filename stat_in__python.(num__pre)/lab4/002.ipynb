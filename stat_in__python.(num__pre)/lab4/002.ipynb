{
 "cells": [
  {
   "cell_type": "code",
   "execution_count": null,
   "metadata": {},
   "outputs": [],
   "source": [
    "#f='//media//ashraful//New Volume//labfiles//text5.txt'\n",
    "#f='//media//ashraful//New Volume//labfiles//text6.txt'\n",
    "f='in003.txt'\n",
    "file = open(f, 'r')"
   ]
  },
  {
   "cell_type": "code",
   "execution_count": null,
   "metadata": {},
   "outputs": [],
   "source": [
    "with open(f) as fl:\n",
    "    #print zip(*[line.split() for line in fl])[0]\n",
    "    da= zip(*[line.split() for line in fl])[0]\n",
    "with open(f) as fl:\n",
    "    #print zip(*[line.split() for line in fl])[1]\n",
    "    ta=zip(*[line.split() for line in fl])[1]"
   ]
  },
  {
   "cell_type": "code",
   "execution_count": null,
   "metadata": {},
   "outputs": [],
   "source": [
    "print da\n",
    "print type(da)\n",
    "print ta\n",
    "print type(ta)"
   ]
  },
  {
   "cell_type": "code",
   "execution_count": null,
   "metadata": {},
   "outputs": [],
   "source": [
    "x=[]\n",
    "for i in da:\n",
    "    x.append(float(i))\n",
    "fx=[]\n",
    "for i in ta:\n",
    "    fx.append(float(i))"
   ]
  },
  {
   "cell_type": "code",
   "execution_count": null,
   "metadata": {},
   "outputs": [],
   "source": [
    "print x,fx"
   ]
  },
  {
   "cell_type": "code",
   "execution_count": null,
   "metadata": {},
   "outputs": [],
   "source": [
    "a=x[0]\n",
    "b=x[len(x)-1]\n",
    "h=(b-a)/(len(x)-1)\n",
    "print a,b,h,len(x)"
   ]
  },
  {
   "cell_type": "code",
   "execution_count": null,
   "metadata": {},
   "outputs": [],
   "source": [
    "res = 0\n",
    "i = 0\n",
    "while i<= len(x)-1: \n",
    "    if i == 0 or i == len(x)-1: \n",
    "            res+= fx[i] \n",
    "    elif i % 2 != 0: \n",
    "            res+= 4 * fx[i] \n",
    "    else: \n",
    "        res+= 2 * fx[i] \n",
    "    \n",
    "    i+= 1\n",
    "res = res * (h / 3) \n",
    "print res\n"
   ]
  },
  {
   "cell_type": "code",
   "execution_count": 1,
   "metadata": {},
   "outputs": [
    {
     "name": "stdout",
     "output_type": "stream",
     "text": [
      "[0.0, 0.1, 0.2, 0.3, 0.4, 0.5, 0.6, 0.7, 0.8, 0.9, 1.0] [1.0, 1.01005, 1.04081, 1.09417, 1.17351, 1.28402, 1.43332, 1.63231, 1.89648, 2.2479, 2.71828]\n",
      "0.0 1.0 0.1 11\n",
      "1.467171\n"
     ]
    }
   ],
   "source": [
    "\n",
    "#f='//media//ashraful//New Volume//labfiles//text5.txt'\n",
    "#f='//media//ashraful//New Volume//labfiles//text6.txt'\n",
    "f='in003.txt'\n",
    "file = open(f, 'r')\n",
    "with open(f) as fl:\n",
    "    #print zip(*[line.split() for line in fl])[0]\n",
    "    da= zip(*[line.split() for line in fl])[0]\n",
    "with open(f) as fl:\n",
    "    #print zip(*[line.split() for line in fl])[1]\n",
    "    ta=zip(*[line.split() for line in fl])[1]\n",
    "x=[]\n",
    "for i in da:\n",
    "    x.append(float(i))\n",
    "fx=[]\n",
    "for i in ta:\n",
    "    fx.append(float(i))\n",
    "print x,fx\n",
    "a=x[0]\n",
    "b=x[len(x)-1]\n",
    "h=(b-a)/(len(x)-1)\n",
    "print a,b,h,len(x)\n",
    "    \n",
    "    \n",
    "res = 0\n",
    "i = 0\n",
    "while i<= len(x)-1: \n",
    "    if i == 0 or i == len(x)-1: \n",
    "            res+= fx[i] \n",
    "   \n",
    "    else: \n",
    "        res+= 2 * fx[i] \n",
    "    \n",
    "    i+= 1\n",
    "res = res * (h / 2) \n",
    "print res\n"
   ]
  },
  {
   "cell_type": "code",
   "execution_count": null,
   "metadata": {},
   "outputs": [],
   "source": []
  }
 ],
 "metadata": {
  "kernelspec": {
   "display_name": "Python 2",
   "language": "python",
   "name": "python2"
  },
  "language_info": {
   "codemirror_mode": {
    "name": "ipython",
    "version": 2
   },
   "file_extension": ".py",
   "mimetype": "text/x-python",
   "name": "python",
   "nbconvert_exporter": "python",
   "pygments_lexer": "ipython2",
   "version": "2.7.12"
  }
 },
 "nbformat": 4,
 "nbformat_minor": 2
}
