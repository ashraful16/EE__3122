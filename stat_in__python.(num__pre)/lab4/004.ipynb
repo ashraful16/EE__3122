{
 "cells": [
  {
   "cell_type": "code",
   "execution_count": 21,
   "metadata": {},
   "outputs": [],
   "source": [
    "f='in003.txt'\n",
    "file = open(f, 'r')\n",
    "with open(f) as fl:\n",
    "    #print zip(*[line.split() for line in fl])[0]\n",
    "    da= zip(*[line.split() for line in fl])[0]\n",
    "with open(f) as fl:\n",
    "    #print zip(*[line.split() for line in fl])[1]\n",
    "    ta=zip(*[line.split() for line in fl])[1]\n",
    "\n",
    "    \n",
    "x=[]\n",
    "f_x=[]\n",
    "s=0\n",
    "for d in da:\n",
    "    x.append(float(d))\n",
    "for d in ta:\n",
    "    f_x.append(float(d))\n",
    "    s+=float(d)\n",
    "s=s-f_x[0]-f_x[len(x)-1]\n",
    "\n",
    "\n"
   ]
  },
  {
   "cell_type": "code",
   "execution_count": 22,
   "metadata": {},
   "outputs": [
    {
     "name": "stdout",
     "output_type": "stream",
     "text": [
      "10\n",
      "3.71828 1.0 0.0 10\n",
      "0.1\n",
      "1.467171\n"
     ]
    }
   ],
   "source": [
    "##traezoidal\n",
    "n=len(x)-1\n",
    "print n\n",
    "d=f_x[n]+f_x[0]\n",
    "print d,x[n],x[0],n\n",
    "h=(x[n]-x[0])/n\n",
    "print h\n",
    "mi=s\n",
    "intg=(h)*(d*.5+mi)\n",
    "print intg"
   ]
  },
  {
   "cell_type": "code",
   "execution_count": null,
   "metadata": {},
   "outputs": [],
   "source": []
  },
  {
   "cell_type": "code",
   "execution_count": 23,
   "metadata": {},
   "outputs": [
    {
     "name": "stdout",
     "output_type": "stream",
     "text": [
      "1.46267733333\n"
     ]
    }
   ],
   "source": [
    "res = 0\n",
    "i = 0\n",
    "while i<= n: \n",
    "    if i == 0 or i == n: \n",
    "        res+= f_x[i] \n",
    "    elif i % 2 != 0: \n",
    "        res+= 4 * f_x[i] \n",
    "    else: \n",
    "        res+= 2 * f_x[i] \n",
    "    i+= 1\n",
    "res = res * (h / 3) \n",
    "print res"
   ]
  },
  {
   "cell_type": "code",
   "execution_count": null,
   "metadata": {},
   "outputs": [],
   "source": []
  },
  {
   "cell_type": "code",
   "execution_count": 24,
   "metadata": {},
   "outputs": [
    {
     "name": "stdout",
     "output_type": "stream",
     "text": [
      "1.4017725\n"
     ]
    }
   ],
   "source": [
    "res = 0\n",
    "i = 0\n",
    "while i<= n: \n",
    "    if i == 0 or i == n: \n",
    "        res+= f_x[i] \n",
    "    elif i % 3 == 0: \n",
    "        res+= 2 * f_x[i] \n",
    "    else: \n",
    "        res+= 3 * f_x[i] \n",
    "    i+= 1\n",
    "res = (res*3*h)/8 \n",
    "print res"
   ]
  },
  {
   "cell_type": "code",
   "execution_count": null,
   "metadata": {},
   "outputs": [],
   "source": []
  },
  {
   "cell_type": "code",
   "execution_count": null,
   "metadata": {},
   "outputs": [],
   "source": []
  }
 ],
 "metadata": {
  "kernelspec": {
   "display_name": "Python 2",
   "language": "python",
   "name": "python2"
  },
  "language_info": {
   "codemirror_mode": {
    "name": "ipython",
    "version": 2
   },
   "file_extension": ".py",
   "mimetype": "text/x-python",
   "name": "python",
   "nbconvert_exporter": "python",
   "pygments_lexer": "ipython2",
   "version": "2.7.12"
  }
 },
 "nbformat": 4,
 "nbformat_minor": 2
}
