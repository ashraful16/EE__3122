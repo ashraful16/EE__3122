{
 "cells": [
  {
   "cell_type": "code",
   "execution_count": 1,
   "metadata": {},
   "outputs": [],
   "source": [
    "f='//media//ashraful//New Volume1//text3.txt'\n",
    "file = open(f, 'r')"
   ]
  },
  {
   "cell_type": "code",
   "execution_count": 2,
   "metadata": {},
   "outputs": [],
   "source": [
    "with open(f) as fl:\n",
    "    #print zip(*[line.split() for line in fl])[0]\n",
    "    da= zip(*[line.split() for line in fl])[0]\n",
    "with open(f) as fl:\n",
    "    #print zip(*[line.split() for line in fl])[1]\n",
    "    ta=zip(*[line.split() for line in fl])[1]"
   ]
  },
  {
   "cell_type": "code",
   "execution_count": 3,
   "metadata": {},
   "outputs": [
    {
     "name": "stdout",
     "output_type": "stream",
     "text": [
      "('marks', '10-20', '30-40', '50-60', '70-80')\n",
      "<type 'tuple'>\n",
      "('no._of_students', '2', '4', '6', '8')\n",
      "<type 'tuple'>\n"
     ]
    }
   ],
   "source": [
    "print da\n",
    "print type(da)\n",
    "print ta\n",
    "print type(ta)"
   ]
  },
  {
   "cell_type": "code",
   "execution_count": 4,
   "metadata": {},
   "outputs": [
    {
     "name": "stdout",
     "output_type": "stream",
     "text": [
      "('10-20', '30-40', '50-60', '70-80')\n",
      "<type 'tuple'>\n",
      "('2', '4', '6', '8')\n",
      "<type 'tuple'>\n"
     ]
    }
   ],
   "source": [
    "#removing string to conver number\n",
    "da = da[1:] \n",
    "ta = ta[1:]\n",
    "print da\n",
    "print type(da)\n",
    "print ta\n",
    "print type(ta)\n"
   ]
  },
  {
   "cell_type": "code",
   "execution_count": 5,
   "metadata": {},
   "outputs": [
    {
     "name": "stdout",
     "output_type": "stream",
     "text": [
      "[10.0, 20.0, 30.0, 40.0, 50.0, 60.0, 70.0, 80.0]\n"
     ]
    },
    {
     "data": {
      "text/plain": [
       "list"
      ]
     },
     "execution_count": 5,
     "metadata": {},
     "output_type": "execute_result"
    }
   ],
   "source": [
    "pr=[]\n",
    "for i in da:\n",
    "    a=i.split(\"-\")\n",
    "    #print a[0]\n",
    "    #print a[1]\n",
    "    pr.append(float(a[0]))\n",
    "    pr.append(float(a[1]))\n",
    "print pr\n",
    "type(pr)"
   ]
  },
  {
   "cell_type": "code",
   "execution_count": 37,
   "metadata": {},
   "outputs": [
    {
     "name": "stdout",
     "output_type": "stream",
     "text": [
      "10.0\n",
      "[15.0, 35.0, 55.0, 75.0]\n"
     ]
    }
   ],
   "source": [
    "#pr=[10.0, 20.0, 30.0, 50.0, 50.0, 60.0, 70.0, 80.0]\n",
    "mark=[]\n",
    "i=0\n",
    "while(i<(len(pr))):\n",
    "    k=pr[i]+pr[i+1]\n",
    "    k=k/2\n",
    "    mark.append(k)\n",
    "    i=i+2\n",
    "lower_lim=pr[0] \n",
    "print lower_lim\n",
    "print mark\n",
    "#now we get mid values"
   ]
  },
  {
   "cell_type": "code",
   "execution_count": 7,
   "metadata": {},
   "outputs": [
    {
     "name": "stdout",
     "output_type": "stream",
     "text": [
      "[2.0, 4.0, 6.0, 8.0]\n"
     ]
    },
    {
     "data": {
      "text/plain": [
       "list"
      ]
     },
     "execution_count": 7,
     "metadata": {},
     "output_type": "execute_result"
    }
   ],
   "source": [
    "count=[]\n",
    "for i in ta:\n",
    "    \n",
    "    count.append(float(i))\n",
    "\n",
    "    \n",
    "print count\n",
    "type(count)"
   ]
  },
  {
   "cell_type": "code",
   "execution_count": 8,
   "metadata": {},
   "outputs": [],
   "source": [
    "#here two column mark & count "
   ]
  },
  {
   "cell_type": "code",
   "execution_count": 9,
   "metadata": {
    "scrolled": true
   },
   "outputs": [
    {
     "name": "stdout",
     "output_type": "stream",
     "text": [
      "4\n",
      "<type 'list'>\n",
      "4\n",
      "<type 'list'>\n",
      "[15.0, 35.0, 55.0, 75.0]\n",
      "[2.0, 4.0, 6.0, 8.0]\n"
     ]
    }
   ],
   "source": [
    "print len(mark)\n",
    "print type(mark)\n",
    "print len(count)\n",
    "print type(count)\n",
    "print mark\n",
    "print count"
   ]
  },
  {
   "cell_type": "markdown",
   "metadata": {},
   "source": [
    "# Arithmetic mean"
   ]
  },
  {
   "cell_type": "code",
   "execution_count": 13,
   "metadata": {},
   "outputs": [],
   "source": [
    "from math import *"
   ]
  },
  {
   "cell_type": "code",
   "execution_count": 19,
   "metadata": {},
   "outputs": [
    {
     "name": "stdout",
     "output_type": "stream",
     "text": [
      "geometric mean is  49.9523641044\n",
      "arthic. mean is  55.0\n"
     ]
    }
   ],
   "source": [
    "i=0\n",
    "s=0\n",
    "gm1=0\n",
    "while(i<len(mark)):\n",
    "    s=s+mark[i]*count[i]\n",
    "    gm1=gm1+log(mark[i])*count[i]\n",
    "  \n",
    "    i+=1\n",
    "gm2=gm1/sum(count)\n",
    "gmf=exp(gm2)\n",
    "#print gm2 \n",
    "print \"geometric mean is \",gmf\n",
    "print \"arthic. mean is \",s/sum(count)    "
   ]
  },
  {
   "cell_type": "code",
   "execution_count": 22,
   "metadata": {},
   "outputs": [
    {
     "name": "stdout",
     "output_type": "stream",
     "text": [
      "20.0\n"
     ]
    }
   ],
   "source": [
    "tf=sum(count)\n",
    "print sum(count)"
   ]
  },
  {
   "cell_type": "markdown",
   "metadata": {},
   "source": [
    "### harmonic mean"
   ]
  },
  {
   "cell_type": "code",
   "execution_count": 23,
   "metadata": {},
   "outputs": [],
   "source": [
    "#n/sum(f/x)\n"
   ]
  },
  {
   "cell_type": "code",
   "execution_count": 24,
   "metadata": {},
   "outputs": [
    {
     "name": "stdout",
     "output_type": "stream",
     "text": [
      "[15.0, 35.0, 55.0, 75.0]\n",
      "[2.0, 4.0, 6.0, 8.0]\n"
     ]
    }
   ],
   "source": [
    "print mark\n",
    "print count"
   ]
  },
  {
   "cell_type": "code",
   "execution_count": 34,
   "metadata": {},
   "outputs": [
    {
     "name": "stdout",
     "output_type": "stream",
     "text": [
      "harmonic mean is  43.1614349776\n"
     ]
    }
   ],
   "source": [
    "i=0\n",
    "s=0\n",
    "while(i<len(mark)):\n",
    "    s=s+(count[i]/mark[i])\n",
    "    \n",
    "    i+=1\n",
    "#print s\n",
    "hm=tf/s\n",
    "print \"harmonic mean is \",hm"
   ]
  },
  {
   "cell_type": "code",
   "execution_count": 38,
   "metadata": {},
   "outputs": [],
   "source": [
    "#median"
   ]
  },
  {
   "cell_type": "code",
   "execution_count": 47,
   "metadata": {},
   "outputs": [
    {
     "name": "stdout",
     "output_type": "stream",
     "text": [
      "10\n"
     ]
    }
   ],
   "source": [
    "c=int(tf/2)\n",
    "print c"
   ]
  },
  {
   "cell_type": "code",
   "execution_count": 52,
   "metadata": {},
   "outputs": [
    {
     "name": "stdout",
     "output_type": "stream",
     "text": [
      "[10, 20, 30, 40, 50, 60, 70, 80]\n"
     ]
    }
   ],
   "source": [
    "da=('10-20', '30-40', '50-60', '70-80')\n",
    "pr=[]\n",
    "for i in da:\n",
    "    a=i.split(\"-\")\n",
    "    #print a[0]\n",
    "    #print a[1]\n",
    "    pr.append(int(a[0]))\n",
    "    pr.append(int(a[1]))\n",
    "print pr\n",
    "type(pr)\n",
    "\n",
    "\n",
    "def find(p,c,x,y):\n",
    "    \n",
    "    while(y>x):\n",
    "        if x==c:\n",
    "            return\n",
    "        x+=1\n",
    "find(pr,c,pr[0],pr[1])"
   ]
  },
  {
   "cell_type": "code",
   "execution_count": 49,
   "metadata": {},
   "outputs": [
    {
     "name": "stdout",
     "output_type": "stream",
     "text": [
      "[2.0, 4.0, 6.0, 8.0]\n"
     ]
    },
    {
     "data": {
      "text/plain": [
       "list"
      ]
     },
     "execution_count": 49,
     "metadata": {},
     "output_type": "execute_result"
    }
   ],
   "source": [
    "count=[]\n",
    "for i in ta:\n",
    "    \n",
    "    count.append(float(i))\n",
    "\n",
    "    \n",
    "print count\n",
    "type(count)"
   ]
  },
  {
   "cell_type": "code",
   "execution_count": 67,
   "metadata": {},
   "outputs": [
    {
     "name": "stdout",
     "output_type": "stream",
     "text": [
      "[10, 20, 21, 30, 31, 40, 41, 50]\n",
      "7\n"
     ]
    }
   ],
   "source": [
    "da=('10-20', '21-30', '31-40', '41-50')\n",
    "pr=[]\n",
    "for i in da:\n",
    "    a=i.split(\"-\")\n",
    "    #print a[0]\n",
    "    #print a[1]\n",
    "    pr.append(int(a[0]))\n",
    "    pr.append(int(a[1]))\n",
    "print pr\n",
    "type(pr)\n",
    "\n",
    "c=45\n",
    "def find(p,c,x,y):\n",
    "    \n",
    "    while(y>x):\n",
    "        if x==c:\n",
    "            return True\n",
    "        \n",
    "        x+=1\n",
    "        if x==y:\n",
    "            return False\n",
    "                \n",
    "        \n",
    "\n",
    "i=0\n",
    "d=False\n",
    "\n",
    "li=len(pr)\n",
    "while(d==True & i<li):\n",
    "    d=find(pr,c,pr[i],pr[i+1])\n",
    "    i=i+2\n",
    "in_loc=i-1\n",
    "\n",
    "print in_loc"
   ]
  },
  {
   "cell_type": "code",
   "execution_count": 56,
   "metadata": {},
   "outputs": [
    {
     "name": "stdout",
     "output_type": "stream",
     "text": [
      "[10, 20, 30, 40, 50, 60, 70, 80]\n"
     ]
    }
   ],
   "source": [
    "print pr"
   ]
  },
  {
   "cell_type": "code",
   "execution_count": 58,
   "metadata": {},
   "outputs": [
    {
     "data": {
      "text/plain": [
       "int"
      ]
     },
     "execution_count": 58,
     "metadata": {},
     "output_type": "execute_result"
    }
   ],
   "source": [
    "type(len(pr))"
   ]
  },
  {
   "cell_type": "code",
   "execution_count": null,
   "metadata": {},
   "outputs": [],
   "source": []
  }
 ],
 "metadata": {
  "kernelspec": {
   "display_name": "Python 2",
   "language": "python",
   "name": "python2"
  },
  "language_info": {
   "codemirror_mode": {
    "name": "ipython",
    "version": 2
   },
   "file_extension": ".py",
   "mimetype": "text/x-python",
   "name": "python",
   "nbconvert_exporter": "python",
   "pygments_lexer": "ipython2",
   "version": "2.7.12"
  }
 },
 "nbformat": 4,
 "nbformat_minor": 2
}
