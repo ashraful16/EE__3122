{
 "cells": [
  {
   "cell_type": "code",
   "execution_count": 53,
   "metadata": {},
   "outputs": [
    {
     "name": "stdout",
     "output_type": "stream",
     "text": [
      "Standard Deviation of sample is 3.11448230048 \n"
     ]
    }
   ],
   "source": [
    "# Python code to demonstrate stdev() function \n",
    "\n",
    "# importing Statistics module \n",
    "import statistics \n",
    "\n",
    "# creating a simple data - set \n",
    "sample = [1, 2, 9, 4, 5] \n",
    "\n",
    "# Prints standard deviation \n",
    "# xbar is set to default value of 1 \n",
    "print(\"Standard Deviation of sample is % s \" % (statistics.stdev(sample))) \n"
   ]
  },
  {
   "cell_type": "code",
   "execution_count": 60,
   "metadata": {},
   "outputs": [
    {
     "name": "stdout",
     "output_type": "stream",
     "text": [
      "<type 'list'>\n",
      "[1, 2, 9, 4, 5]\n",
      "1\n",
      "th indx is\n",
      "0\n",
      "2\n",
      "th indx is\n",
      "1\n",
      "9\n",
      "th indx is\n",
      "2\n",
      "4\n",
      "th indx is\n",
      "3\n",
      "5\n",
      "th indx is\n",
      "4\n"
     ]
    }
   ],
   "source": [
    "print type(sample)\n",
    "print sample\n",
    "for z in sample:\n",
    "    print z\n",
    "    print \"th indx is\"\n",
    "    print sample.index(z)"
   ]
  },
  {
   "cell_type": "code",
   "execution_count": 61,
   "metadata": {},
   "outputs": [
    {
     "name": "stdout",
     "output_type": "stream",
     "text": [
      "1.58113883008\n"
     ]
    }
   ],
   "source": [
    "import statistics as st\n",
    "\n",
    "s=[1,2,3,4,5]\n",
    "\n",
    "print(st.stdev(s))"
   ]
  },
  {
   "cell_type": "code",
   "execution_count": 62,
   "metadata": {},
   "outputs": [
    {
     "name": "stdout",
     "output_type": "stream",
     "text": [
      "The Standard Deviation of Sample1 is 3.97611918955\n",
      "The Standard Deviation of Sample2 is 1.87082869339\n",
      "The Standard Deviation of Sample3 is 7.81824788556\n",
      "The Standard Deviation of Sample4 is 0.419678448339\n"
     ]
    }
   ],
   "source": [
    "# Python code to demonstrate stdev() \n",
    "# function on varioius range of datasets \n",
    "\n",
    "# importing the statistics module \n",
    "from statistics import stdev \n",
    "\n",
    "# importing frations as parameter values \n",
    "from fractions import Fraction as fr \n",
    "\n",
    "# creating a varying range of sample sets \n",
    "# numbers are spread apart but not very much \n",
    "sample1 = (1, 2, 5, 4, 8, 9, 12) \n",
    "\n",
    "# tuple of a set of negative integers \n",
    "sample2 = (-2, -4, -3, -1, -5, -6) \n",
    "\n",
    "# tuple of a set of positive and negative numbers \n",
    "# data-points are spread apart considerably \n",
    "sample3 = (-9, -1, -0, 2, 1, 3, 4, 19) \n",
    "\n",
    "# tuple of a set of floating point values \n",
    "sample4 = (1.23, 1.45, 2.1, 2.2, 1.9) \n",
    "\n",
    "# Print the standard deviation of \n",
    "# following sample sets of observations \n",
    "print(\"The Standard Deviation of Sample1 is % s\"\n",
    "\t\t\t\t\t\t\t%(stdev(sample1))) \n",
    "\t\t\t\t\t\t\t\t\n",
    "print(\"The Standard Deviation of Sample2 is % s\"\n",
    "\t\t\t\t\t\t\t%(stdev(sample2))) \n",
    "\t\t\t\t\t\t\t\t\n",
    "print(\"The Standard Deviation of Sample3 is % s\"\n",
    "\t\t\t\t\t\t\t%(stdev(sample3))) \n",
    "\t\t\t\t\t\t\t\t\n",
    "\t\t\t\t\t\t\t\t\n",
    "print(\"The Standard Deviation of Sample4 is % s\"\n",
    "\t\t\t\t\t\t\t%(stdev(sample4))) \n"
   ]
  },
  {
   "cell_type": "code",
   "execution_count": 63,
   "metadata": {},
   "outputs": [
    {
     "name": "stdout",
     "output_type": "stream",
     "text": [
      "Standard Deviation of the sample is 1.58113883008 \n",
      "Variance of the sample is 2.5\n"
     ]
    }
   ],
   "source": [
    "# Python code to demonstrate differnce \n",
    "# in results of stdev() and variance() \n",
    "\n",
    "# importing Statistics module \n",
    "import statistics \n",
    "\n",
    "# creating a simple data-set \n",
    "sample = [1, 2, 3, 4, 5] \n",
    "\n",
    "# Printing standard deviation \n",
    "# xbar is set to default value of 1 \n",
    "print(\"Standard Deviation of the sample is % s \"\n",
    "\t\t\t\t\t%(statistics.stdev(sample))) \n",
    "\n",
    "# variance is approximately the \n",
    "# squared result of what stdev is \n",
    "print(\"Variance of the sample is % s\"\n",
    "\t%(statistics.variance(sample))) \n"
   ]
  },
  {
   "cell_type": "code",
   "execution_count": 65,
   "metadata": {},
   "outputs": [
    {
     "name": "stdout",
     "output_type": "stream",
     "text": [
      "Standard Deviation of Sample set is 0.604703784234\n"
     ]
    }
   ],
   "source": [
    "# Python code to demonstrate use of xbar \n",
    "# parameter while using stdev() function \n",
    "\n",
    "# Importing statistics module \n",
    "import statistics \n",
    "\n",
    "# creating a sample list \n",
    "sample = (1, 1.3, 1.2, 1.9, 2.5, 2.2) \n",
    "\n",
    "# calculating the mean of sample set \n",
    "m = statistics.mean(sample) \n",
    "\n",
    "# xbar is nothing but stores \n",
    "# the mean of the sample set \n",
    "\n",
    "# calculating the variance of sample set \n",
    "print(\"Standard Deviation of Sample set is % s\"\n",
    "\t\t%(statistics.stdev(sample, xbar = m))) \n"
   ]
  },
  {
   "cell_type": "code",
   "execution_count": 66,
   "metadata": {},
   "outputs": [
    {
     "name": "stdout",
     "output_type": "stream",
     "text": [
      "<type 'tuple'>\n",
      "(1, 1.3, 1.2, 1.9, 2.5, 2.2)\n",
      "1\n",
      "th indx is\n",
      "0\n",
      "1.3\n",
      "th indx is\n",
      "1\n",
      "1.2\n",
      "th indx is\n",
      "2\n",
      "1.9\n",
      "th indx is\n",
      "3\n",
      "2.5\n",
      "th indx is\n",
      "4\n",
      "2.2\n",
      "th indx is\n",
      "5\n"
     ]
    }
   ],
   "source": [
    "print type(sample)\n",
    "print sample\n",
    "for z in sample:\n",
    "    print z\n",
    "    print \"th indx is\"\n",
    "    print sample.index(z)"
   ]
  },
  {
   "cell_type": "code",
   "execution_count": null,
   "metadata": {},
   "outputs": [],
   "source": [
    "# Python code to demonstarte StatisticsError \n",
    "\n",
    "# importing the statistics module \n",
    "import statistics \n",
    "\n",
    "# creating a data-set with one element \n",
    "sample = [1] \n",
    "\n",
    "# will raise StatisticsError \n",
    "print(statistics.stdev(sample)) \n"
   ]
  },
  {
   "cell_type": "code",
   "execution_count": null,
   "metadata": {},
   "outputs": [],
   "source": []
  },
  {
   "cell_type": "code",
   "execution_count": 1,
   "metadata": {},
   "outputs": [
    {
     "ename": "AttributeError",
     "evalue": "'module' object has no attribute 'harmonic_mean'",
     "output_type": "error",
     "traceback": [
      "\u001b[0;31m---------------------------------------------------------------------------\u001b[0m",
      "\u001b[0;31mAttributeError\u001b[0m                            Traceback (most recent call last)",
      "\u001b[0;32m<ipython-input-1-2cc176f07379>\u001b[0m in \u001b[0;36m<module>\u001b[0;34m()\u001b[0m\n\u001b[1;32m     10\u001b[0m \u001b[0;31m# using harmonic mean function to calculate\u001b[0m\u001b[0;34m\u001b[0m\u001b[0;34m\u001b[0m\u001b[0m\n\u001b[1;32m     11\u001b[0m \u001b[0;31m# the harmonic mean of the given data-set\u001b[0m\u001b[0;34m\u001b[0m\u001b[0;34m\u001b[0m\u001b[0m\n\u001b[0;32m---> 12\u001b[0;31m \u001b[0;32mprint\u001b[0m\u001b[0;34m(\u001b[0m\u001b[0;34m\"Harmonic Mean is % s \"\u001b[0m \u001b[0;34m%\u001b[0m \u001b[0;34m(\u001b[0m\u001b[0mstatistics\u001b[0m\u001b[0;34m.\u001b[0m\u001b[0mharmonic_mean\u001b[0m\u001b[0;34m(\u001b[0m\u001b[0mdata\u001b[0m\u001b[0;34m)\u001b[0m\u001b[0;34m)\u001b[0m\u001b[0;34m)\u001b[0m\u001b[0;34m\u001b[0m\u001b[0m\n\u001b[0m",
      "\u001b[0;31mAttributeError\u001b[0m: 'module' object has no attribute 'harmonic_mean'"
     ]
    }
   ],
   "source": [
    "# Python3 code to demonstrate the \n",
    "# working of harmonic_mean() function \n",
    "\n",
    "# Import statistics module \n",
    "import statistics \n",
    "\n",
    "# list of positive real valued numbers \n",
    "data = [1, 3, 5, 7, 9] \n",
    "\n",
    "# using harmonic mean function to calculate \n",
    "# the harmonic mean of the given data-set \n",
    "print(\"Harmonic Mean is % s \" % (statistics.harmonic_mean(data))) \n"
   ]
  },
  {
   "cell_type": "code",
   "execution_count": 149,
   "metadata": {},
   "outputs": [
    {
     "ename": "ImportError",
     "evalue": "cannot import name harmonic_mean",
     "output_type": "error",
     "traceback": [
      "\u001b[0;31m---------------------------------------------------------------------------\u001b[0m",
      "\u001b[0;31mImportError\u001b[0m                               Traceback (most recent call last)",
      "\u001b[0;32m<ipython-input-149-ccef821fdced>\u001b[0m in \u001b[0;36m<module>\u001b[0;34m()\u001b[0m\n\u001b[1;32m      3\u001b[0m \u001b[0;34m\u001b[0m\u001b[0m\n\u001b[1;32m      4\u001b[0m \u001b[0;31m# Importing the statistics module\u001b[0m\u001b[0;34m\u001b[0m\u001b[0;34m\u001b[0m\u001b[0m\n\u001b[0;32m----> 5\u001b[0;31m \u001b[0;32mfrom\u001b[0m \u001b[0mstatistics\u001b[0m \u001b[0;32mimport\u001b[0m \u001b[0mharmonic_mean\u001b[0m\u001b[0;34m\u001b[0m\u001b[0m\n\u001b[0m\u001b[1;32m      6\u001b[0m \u001b[0;34m\u001b[0m\u001b[0m\n\u001b[1;32m      7\u001b[0m \u001b[0;31m# Importing fractions module as fr\u001b[0m\u001b[0;34m\u001b[0m\u001b[0;34m\u001b[0m\u001b[0m\n",
      "\u001b[0;31mImportError\u001b[0m: cannot import name harmonic_mean"
     ]
    }
   ],
   "source": [
    "# Python3 program to demonstrate harmonic_mean() \n",
    "# function from the statistics module \n",
    "\n",
    "# Importing the statistics module \n",
    "from statistics import harmonic_mean \n",
    "\n",
    "# Importing fractions module as fr \n",
    "from fractions import Fraction as fr \n",
    "\n",
    "# tuple of positive integer numbers \n",
    "data1 = (2, 3, 4, 5, 7, 9, 11) \n",
    "\n",
    "# tuple of a set of floating point values \n",
    "data2 = (2.4, 5.1, 6.7, 8.9) \n",
    "\n",
    "# tuple of a set of fractional numbers \n",
    "data3 = (fr(1, 2), fr(44, 12), fr(10, 3), fr(2, 3)) \n",
    "\n",
    "# dictionary of a set of values \n",
    "# Only the keys are taken in \n",
    "# consideration by harmonic_mean() \n",
    "data4 = {1: \"one\", 2: \"two\", 3: \"three\"} \n",
    "\n",
    "# Printing the harmonic mean of above datsets \n",
    "print(\"Harmonic Mean of data set 1 is % s\"\n",
    "\t\t\t\t% (harmonic_mean(data1))) \n",
    "\t\t\t\t\n",
    "print(\"Harmonic Mean of data set 2 is % s\"\n",
    "\t\t\t\t% (harmonic_mean(data2))) \n",
    "\n",
    "print(\"Harmonic Mean of data set 3 is % s\"\n",
    "\t\t\t\t% (harmonic_mean(data3))) \n",
    "\t\t\t\t\n",
    "print(\"Harmonic Mean of data set 4 is % s\"\n",
    "\t\t\t\t% (harmonic_mean(data4))) \n"
   ]
  },
  {
   "cell_type": "code",
   "execution_count": 151,
   "metadata": {},
   "outputs": [
    {
     "name": "stdout",
     "output_type": "stream",
     "text": [
      "3.3570159857904085\n",
      "7.380682952805698\n"
     ]
    }
   ],
   "source": [
    "# calculate harmonic mean\n",
    "from scipy import stats\n",
    " \n",
    "print(stats.hmean([1,9,5,6,6,7]))\n",
    "print(stats.hmean([4,11,15,16,5,7]))"
   ]
  },
  {
   "cell_type": "code",
   "execution_count": 71,
   "metadata": {},
   "outputs": [
    {
     "name": "stdout",
     "output_type": "stream",
     "text": [
      "Grouped Median of the median is 25.0\n"
     ]
    }
   ],
   "source": [
    "# Python3 code to demonstrate median_grouped() \n",
    "\n",
    "# importing median_grouped from \n",
    "# the statistics module \n",
    "from statistics import median_grouped \n",
    "\n",
    "# creating an simple data-set \n",
    "data1 = [15, 20, 25, 30, 35] \n",
    "\n",
    "# printing median_grouped for the set \n",
    "print(\"Grouped Median of the median is %s\"\n",
    "\t\t\t\t%(median_grouped(data1))) \n"
   ]
  },
  {
   "cell_type": "code",
   "execution_count": 72,
   "metadata": {},
   "outputs": [
    {
     "name": "stdout",
     "output_type": "stream",
     "text": [
      "Grouped Median of set 1 is 4.5\n",
      "Grouped Median of set 2 is -6.5\n",
      "Grouped Median of set 3 is 1.5\n"
     ]
    }
   ],
   "source": [
    "# Python code to demonsrate the \n",
    "# working of median_grouped() \n",
    "\n",
    "# importing statistics module \n",
    "from statistics import median_grouped \n",
    "\n",
    "# tuple of a set of positive integers \n",
    "set1 = [2, 5, 3, 4, 8, 9]\n",
    "\n",
    "# tuple of a set of negative integers \n",
    "set2 = [-6, -2, -9, -12] \n",
    "\n",
    "# tuple of a set of positive \n",
    "# and negative integers \n",
    "set3 = [2, 4, 8, 9, -2, -3, -5, -6] \n",
    "\n",
    "# Printing grouped median for \n",
    "# the given set of data \n",
    "print(\"Grouped Median of set 1 is % s\" % (median_grouped(set1))) \n",
    "print(\"Grouped Median of set 2 is % s\" % (median_grouped(set2))) \n",
    "print(\"Grouped Median of set 3 is % s\" % (median_grouped(set3))) \n"
   ]
  },
  {
   "cell_type": "code",
   "execution_count": 24,
   "metadata": {},
   "outputs": [
    {
     "name": "stdout",
     "output_type": "stream",
     "text": [
      "Grouped Median for Interval set as (default) 1 is 12.5\n",
      "Grouped Median for Interval set as 2 is 12.0\n",
      "Grouped Median for Interval set as 5 is 10.5\n"
     ]
    }
   ],
   "source": [
    "# Python code to demonsrate the working of \n",
    "# interval in median_grouped() function \n",
    "\n",
    "# importing statistics module \n",
    "from statistics import median_grouped \n",
    "\n",
    "# creating a tuple of simple data \n",
    "set1 = (10, 12, 13, 12, 13, 15) \n",
    "\n",
    "# Printing median_grouped() \n",
    "# keeping default interval at 1 \n",
    "print(\"Grouped Median for Interval set as (default) 1 is % s\" %(median_grouped(set1))) \n",
    "\n",
    "# For interval value of 2 \n",
    "print(\"Grouped Median for Interval set as 2 is % s\" %(median_grouped(set1, interval = 2))) \n",
    "\n",
    "# Now for interval value of 5 \n",
    "print(\"Grouped Median for Interval set as 5 is % s\" %(median_grouped(set1, interval = 5))) \n"
   ]
  },
  {
   "cell_type": "code",
   "execution_count": 25,
   "metadata": {},
   "outputs": [
    {
     "ename": "StatisticsError",
     "evalue": "no median for empty data",
     "output_type": "error",
     "traceback": [
      "\u001b[0;31m---------------------------------------------------------------------------\u001b[0m",
      "\u001b[0;31mStatisticsError\u001b[0m                           Traceback (most recent call last)",
      "\u001b[0;32m<ipython-input-25-f7f48e36f146>\u001b[0m in \u001b[0;36m<module>\u001b[0;34m()\u001b[0m\n\u001b[1;32m      8\u001b[0m \u001b[0;34m\u001b[0m\u001b[0m\n\u001b[1;32m      9\u001b[0m \u001b[0;31m# Will raise StatisticsError\u001b[0m\u001b[0;34m\u001b[0m\u001b[0;34m\u001b[0m\u001b[0m\n\u001b[0;32m---> 10\u001b[0;31m \u001b[0;32mprint\u001b[0m\u001b[0;34m(\u001b[0m\u001b[0mstatistics\u001b[0m\u001b[0;34m.\u001b[0m\u001b[0mmedian_grouped\u001b[0m\u001b[0;34m(\u001b[0m\u001b[0mlist1\u001b[0m\u001b[0;34m)\u001b[0m\u001b[0;34m)\u001b[0m\u001b[0;34m\u001b[0m\u001b[0m\n\u001b[0m",
      "\u001b[0;32m/home/ashraful/.local/lib/python2.7/site-packages/statistics/__init__.pyc\u001b[0m in \u001b[0;36mmedian_grouped\u001b[0;34m(data, interval)\u001b[0m\n\u001b[1;32m    391\u001b[0m     \u001b[0mn\u001b[0m \u001b[0;34m=\u001b[0m \u001b[0mlen\u001b[0m\u001b[0;34m(\u001b[0m\u001b[0mdata\u001b[0m\u001b[0;34m)\u001b[0m\u001b[0;34m\u001b[0m\u001b[0m\n\u001b[1;32m    392\u001b[0m     \u001b[0;32mif\u001b[0m \u001b[0mn\u001b[0m \u001b[0;34m==\u001b[0m \u001b[0;36m0\u001b[0m\u001b[0;34m:\u001b[0m\u001b[0;34m\u001b[0m\u001b[0m\n\u001b[0;32m--> 393\u001b[0;31m         \u001b[0;32mraise\u001b[0m \u001b[0mStatisticsError\u001b[0m\u001b[0;34m(\u001b[0m\u001b[0;34mu\"no median for empty data\"\u001b[0m\u001b[0;34m)\u001b[0m\u001b[0;34m\u001b[0m\u001b[0m\n\u001b[0m\u001b[1;32m    394\u001b[0m     \u001b[0;32melif\u001b[0m \u001b[0mn\u001b[0m \u001b[0;34m==\u001b[0m \u001b[0;36m1\u001b[0m\u001b[0;34m:\u001b[0m\u001b[0;34m\u001b[0m\u001b[0m\n\u001b[1;32m    395\u001b[0m         \u001b[0;32mreturn\u001b[0m \u001b[0mdata\u001b[0m\u001b[0;34m[\u001b[0m\u001b[0;36m0\u001b[0m\u001b[0;34m]\u001b[0m\u001b[0;34m\u001b[0m\u001b[0m\n",
      "\u001b[0;31mStatisticsError\u001b[0m: no median for empty data"
     ]
    }
   ],
   "source": [
    "# Python code to demonstrate StatisticsError \n",
    "\n",
    "# importing the statistics module \n",
    "import statistics \n",
    "\n",
    "# creating an empty dataset \n",
    "list1 = [] \n",
    "\n",
    "# Will raise StatisticsError \n",
    "print(statistics.median_grouped(list1)) \n"
   ]
  },
  {
   "cell_type": "code",
   "execution_count": 27,
   "metadata": {},
   "outputs": [
    {
     "data": {
      "text/plain": [
       "'pvariance() function helps to calculate the variance of an entire, rather than that of a sample. \\ne only differnce between variance() and pvariance() is that while using variance(), \\nonly the sample mean is taken into consideration, while during pvariance(), \\nthe mean of entire population is taken into consideration.\\nPopulation variance is just similar to sample variance, it tells how data points in a \\nspecific population are spread out. It is the average of the distance from \\nthe data-points to the mean of the data-set, squared. The population variance is\\na parameter of the population and is \\nnot dependent on research methods or sampling practices.'"
      ]
     },
     "execution_count": 27,
     "metadata": {},
     "output_type": "execute_result"
    }
   ],
   "source": [
    "'''pvariance() function helps to calculate the variance of an entire, rather than that of a sample. \n",
    "e only differnce between variance() and pvariance() is that while using variance(), \n",
    "only the sample mean is taken into consideration, while during pvariance(), \n",
    "the mean of entire population is taken into consideration.\n",
    "Population variance is just similar to sample variance, it tells how data points in a \n",
    "specific population are spread out. It is the average of the distance from \n",
    "the data-points to the mean of the data-set, squared. The population variance is\n",
    "a parameter of the population and is \n",
    "not dependent on research methods or sampling practices.'''"
   ]
  },
  {
   "cell_type": "code",
   "execution_count": 73,
   "metadata": {},
   "outputs": [
    {
     "name": "stdout",
     "output_type": "stream",
     "text": [
      "Population variance is 0.6658984375\n"
     ]
    }
   ],
   "source": [
    "# Pythom code to demonstrate the \n",
    "# use of pvariance() \n",
    "\n",
    "# importing statistics module \n",
    "import statistics \n",
    "\n",
    "# creating a random population list \n",
    "population = (1, 1.1, 1.2, 1.3, 1.4, 1.5, 1.9, 2.2, \n",
    "\t\t\t2.3, 2.4, 2.6, 2.9, 3.0, 3.4, 3.3, 3.2) \n",
    "\n",
    "\n",
    "# Prints the population variance \n",
    "print(\"Population variance is %s\"\n",
    "\t%(statistics.pvariance(population))) \n"
   ]
  },
  {
   "cell_type": "code",
   "execution_count": 29,
   "metadata": {},
   "outputs": [
    {
     "name": "stdout",
     "output_type": "stream",
     "text": [
      "Population variance of set 1 is 7.91304347826\n",
      "Population variance of set 2 is 7.20415224913\n",
      "Population variance of set 3 is 103889/360000\n",
      "Population variance of set 4 is 21.7679238754\n"
     ]
    }
   ],
   "source": [
    "# Python code to demonstrate pvariance() \n",
    "# on various range of population sets \n",
    "\n",
    "# importing statistics module \n",
    "from statistics import pvariance \n",
    "\n",
    "# importing fractions module as F \n",
    "from fractions import Fraction as F \n",
    "\n",
    "\n",
    "# Population tree for a set of positive integers \n",
    "pop1 = (1, 2, 3, 5, 4, 6, 1, 2, 2, 3, 1, 3, \n",
    "\t\t7, 8, 9, 1, 1, 1, 2, 6, 7, 8, 9, ) \n",
    "\n",
    "# Creating a population tree for \n",
    "# a set of negative integers \n",
    "pop2 = (-36, -35, -34, -32, -30, -31, -33, -33, -33, \n",
    "\t\t\t-38, -36, -35, -34, -38, -40, -31, -32) \n",
    "\n",
    "# Creating a population tree for \n",
    "# a set of fractional numbers \n",
    "pop3 = (F(1, 3), F(2, 4), F(2, 3), \n",
    "\t\tF(3, 2), F(2, 5), F(2, 2), \n",
    "\t\tF(1, 1), F(1, 4), F(1, 2), F(2, 1)) \n",
    "\n",
    "# Creating a population tree for \n",
    "# a set of decimal values \n",
    "pop4 = (3.45, 3.2, 2.5, 4.6, 5.66, 6.43, \n",
    "\t\t4.32, 4.23, 6.65, 7.87, 9.87, 1.23, \n",
    "\t\t\t1.00, 1.45, 10.12, 12.22, 19.88) \n",
    "\n",
    "# Print the population variance for \n",
    "# the created population trees \n",
    "print(\"Population variance of set 1 is % s\"\n",
    "\t\t\t\t\t\t%(pvariance(pop1))) \n",
    "\t\t\t\t\t\t\n",
    "print(\"Population variance of set 2 is % s\"\n",
    "\t\t\t\t\t\t%(pvariance(pop2))) \n",
    "\t\t\t\t\t\t\n",
    "print(\"Population variance of set 3 is % s\"\n",
    "\t\t\t\t\t\t%(pvariance(pop3))) \n",
    "\t\t\t\t\t\t\n",
    "print(\"Population variance of set 4 is % s\"\n",
    "\t\t\t\t\t\t%(pvariance(pop4))) \n"
   ]
  },
  {
   "cell_type": "code",
   "execution_count": 30,
   "metadata": {},
   "outputs": [
    {
     "name": "stdout",
     "output_type": "stream",
     "text": [
      "Population Variance is 14.3038501561\n"
     ]
    }
   ],
   "source": [
    "# Python code to demonstrate the use \n",
    "# of 'mu' parameter on pvariance() \n",
    "\n",
    "# importing statistics module \n",
    "import statistics \n",
    "\n",
    "# Apparently, the Python interpreter doesn't \n",
    "# even check whether the value entered for mu \n",
    "# is the actual mean of data-set or not. \n",
    "# Thus providing incorrect value would \n",
    "# lead to impossible answers \n",
    "\n",
    "# Creating a population tree of the \n",
    "# age of kids in a locality \n",
    "tree = (1, 2, 3, 4, 5, 6, 7, 8, 9, 10, 11, \n",
    "\t\t12, 12, 12, 12, 13, 1, 2, 12, 2, 2, \n",
    "\t\t\t2, 3, 4, 5, 5, 5, 5, 6, 6, 6) \n",
    "\n",
    "# Finding the mean of population tree \n",
    "m = statistics.mean(tree) \n",
    "\n",
    "# Using the mu parameter \n",
    "# while using pvariance() \n",
    "print(\"Population Variance is % s\"\n",
    "\t%(statistics.pvariance(tree, mu = m))) \n"
   ]
  },
  {
   "cell_type": "code",
   "execution_count": 31,
   "metadata": {},
   "outputs": [
    {
     "name": "stdout",
     "output_type": "stream",
     "text": [
      "Variance of whole popuation is 0.612775147929\n",
      "Variance of sample from population is 0.828627777778 \n",
      "\n",
      "\n",
      "Difference in Population varianceand Sample variance is 0.215852629849\n"
     ]
    }
   ],
   "source": [
    "# Pythom code to demonstrate the \n",
    "# difference between pvariance() \n",
    "# and variance() \n",
    "\n",
    "# importing statistocs module \n",
    "import statistics \n",
    "\n",
    "# Population tree and extract \n",
    "# a sample from it \n",
    "tree = (1.1, 1.22, .23, .55, .67, 2.33, 2.81, \n",
    "\t\t\t1.54, 1.2, 0.2, 0.1, 1.22, 1.61) \n",
    "\n",
    "# Sample extract from population tree \n",
    "sample = (1.22, .23, .55, .67, 2.33, \n",
    "\t\t\t2.81, 1.54, 1.2, 0.2) \n",
    "\n",
    "\n",
    "# Print sample variance and as \n",
    "# well as population variance \n",
    "print (\"Variance of whole popuation is %s\"\n",
    "\t\t\t%(statistics.pvariance(tree))) \n",
    "\t\t\t\n",
    "print (\"Variance of sample from population is %s \"\n",
    "\t\t\t\t% (statistics.variance(sample))) \n",
    "\n",
    "# Print the difference in both population \n",
    "# variance and sample variance \n",
    "print(\"\\n\") \n",
    "\n",
    "print(\"Difference in Population variance\"\n",
    "\t\t\t\"and Sample variance is % s\"\n",
    "\t\t%(abs(statistics.pvariance(tree) \n",
    "\t\t- statistics.variance(sample)))) \n"
   ]
  },
  {
   "cell_type": "code",
   "execution_count": 75,
   "metadata": {},
   "outputs": [
    {
     "name": "stdout",
     "output_type": "stream",
     "text": [
      "Low median of the data-set is 3 \n"
     ]
    }
   ],
   "source": [
    "# Python code to demonstrate the \n",
    "# working of median_low() \n",
    "\n",
    "# importing the statistics module \n",
    "import statistics \n",
    "\n",
    "# simple list of a set of integers \n",
    "set1 = [1, 3, 3, 4, 5, 7] \n",
    "\n",
    "# Note: low median will always be \n",
    "#\t a member of the data-set. \n",
    "\n",
    "# Print low median of the data-set \n",
    "print(\"Low median of the data-set is % s \"\n",
    "\t\t% (statistics.median_low(set1))) \n"
   ]
  },
  {
   "cell_type": "code",
   "execution_count": 76,
   "metadata": {},
   "outputs": [
    {
     "name": "stdout",
     "output_type": "stream",
     "text": [
      "Median of the set is 3.5\n",
      "Low Median of the set is 3 \n"
     ]
    }
   ],
   "source": [
    "# Python code to demonstrate the \n",
    "# working of median_low() \n",
    "\n",
    "# importing the statistics module \n",
    "import statistics \n",
    "\n",
    "# simple list of a set of integers \n",
    "set1 = [1, 3, 3, 4, 5, 7] \n",
    "\n",
    "# Print median of the data-set \n",
    "\n",
    "# Median value may or may not \n",
    "# lie within the data-set \n",
    "print(\"Median of the set is % s\"\n",
    "\t% (statistics.median(set1))) \n",
    "\n",
    "# Print low median of the data-set \n",
    "print(\"Low Median of the set is % s \"\n",
    "\t% (statistics.median_low(set1))) \n"
   ]
  },
  {
   "cell_type": "code",
   "execution_count": 77,
   "metadata": {},
   "outputs": [
    {
     "name": "stdout",
     "output_type": "stream",
     "text": [
      "Low Median of data-set 1 is 5\n",
      "Low Median of data-set 2 is 5.1\n",
      "Low Median of data-set 3 is 2/3\n",
      "Low Median of data-set 4 is -5\n",
      "Low Median of data-set 5 is -1\n"
     ]
    }
   ],
   "source": [
    "# Python code to demonstrate the \n",
    "# working of median_low() \n",
    "\n",
    "# importing statistics module \n",
    "from statistics import median_low \n",
    "\n",
    "# Importing fractions module as fr \n",
    "from fractions import Fraction as fr \n",
    "\n",
    "# tuple of positive integer numbers \n",
    "data1 = (2, 3, 4, 5, 7, 9, 11) \n",
    "\n",
    "# tuple of a set of floating point values \n",
    "data2 = (2.4, 5.1, 6.7, 8.9) \n",
    "\n",
    "# tuple of a set of fractional numbers \n",
    "data3 = (fr(1, 2), fr(44, 12), \n",
    "\t\tfr(10, 3), fr(2, 3)) \n",
    "\n",
    "# tuple of a set of negative integers \n",
    "data4 = (-5, -1, -12, -19, -3) \n",
    "\n",
    "# tuple of set of positive \n",
    "# and negative integers \n",
    "data5 = (-1, -2, -3, -4, 4, 3, 2, 1) \n",
    "\n",
    "# Print low_median() of given data-sets \n",
    "print(\"Low Median of data-set 1 is % s\" % (median_low(data1))) \n",
    "print(\"Low Median of data-set 2 is % s\" % (median_low(data2))) \n",
    "print(\"Low Median of data-set 3 is % s\" % (median_low(data3))) \n",
    "print(\"Low Median of data-set 4 is % s\" % (median_low(data4))) \n",
    "print(\"Low Median of data-set 5 is % s\" % (median_low(data5))) \n"
   ]
  },
  {
   "cell_type": "code",
   "execution_count": 78,
   "metadata": {},
   "outputs": [
    {
     "name": "stdout",
     "output_type": "stream",
     "text": [
      "Median of the set is 3.5\n",
      "High Median of the set is 4 \n"
     ]
    }
   ],
   "source": [
    "# Working of median_high() and median() to \n",
    "# demonstrate the difference between them. \n",
    "\n",
    "# importing the statistics module \n",
    "import statistics \n",
    "\n",
    "# simple list of a set of integers \n",
    "set1 = [1, 3, 3, 4, 5, 7] \n",
    "\n",
    "# Print median of the data-set \n",
    "\n",
    "# Median value may or may not \n",
    "# lie within the data-set \n",
    "print(\"Median of the set is %s\"\n",
    "\t% (statistics.median(set1))) \n",
    "\n",
    "# Print high median of the data-set \n",
    "print(\"High Median of the set is %s \"\n",
    "\t% (statistics.median_high(set1))) \n"
   ]
  },
  {
   "cell_type": "code",
   "execution_count": 36,
   "metadata": {},
   "outputs": [
    {
     "name": "stdout",
     "output_type": "stream",
     "text": [
      "High Median of data-set 1 is 5\n",
      "High Median of data-set 2 is 6.7\n",
      "High Median of data-set 3 is 10/3\n",
      "High Median of data-set 4 is -5\n",
      "High Median of data-set 5 is 1\n"
     ]
    }
   ],
   "source": [
    "# Python code to demonstrate the \n",
    "# working of median_high() \n",
    "\n",
    "# importing statistics module \n",
    "from statistics import median_high \n",
    "\n",
    "# Importing fractions module as fr \n",
    "from fractions import Fraction as fr \n",
    "\n",
    "# tuple of positive integer numbers \n",
    "data1 = (2, 3, 4, 5, 7, 9, 11) \n",
    "\n",
    "# tuple of a set of floating point values \n",
    "data2 = (2.4, 5.1, 6.7, 8.9) \n",
    "\n",
    "# tuple of a set of fractional numbers \n",
    "data3 = (fr(1, 2), fr(44, 12), \n",
    "\t\tfr(10, 3), fr(2, 3)) \n",
    "\n",
    "# tuple of a set of negative integers \n",
    "data4 = (-5, -1, -12, -19, -3) \n",
    "\n",
    "# tuple of set of positive \n",
    "# and negative integers \n",
    "data5 = (-1, -2, -3, -4, 4, 3, 2, 1) \n",
    "\n",
    "# Print the high_median() of the given data-sets \n",
    "print(\"High Median of data-set 1 is %s\" % (median_high(data1))) \n",
    "print(\"High Median of data-set 2 is %s\" % (median_high(data2))) \n",
    "print(\"High Median of data-set 3 is %s\" % (median_high(data3))) \n",
    "print(\"High Median of data-set 4 is %s\" % (median_high(data4))) \n",
    "print(\"High Median of data-set 5 is %s\" % (median_high(data5))) \n"
   ]
  },
  {
   "cell_type": "code",
   "execution_count": 37,
   "metadata": {},
   "outputs": [
    {
     "data": {
      "text/plain": [
       "46.415888336127786"
      ]
     },
     "execution_count": 37,
     "metadata": {},
     "output_type": "execute_result"
    }
   ],
   "source": [
    "from scipy.stats.mstats import gmean\n",
    "gmean([1.0, 0.00001, 10000000000.])"
   ]
  },
  {
   "cell_type": "code",
   "execution_count": 82,
   "metadata": {},
   "outputs": [],
   "source": [
    "a=[1,4,5,6,9,4]"
   ]
  },
  {
   "cell_type": "code",
   "execution_count": 83,
   "metadata": {},
   "outputs": [],
   "source": [
    "import numpy as np"
   ]
  },
  {
   "cell_type": "code",
   "execution_count": 84,
   "metadata": {},
   "outputs": [
    {
     "data": {
      "text/plain": [
       "4.833333333333333"
      ]
     },
     "execution_count": 84,
     "metadata": {},
     "output_type": "execute_result"
    }
   ],
   "source": [
    "np.average(a)"
   ]
  },
  {
   "cell_type": "code",
   "execution_count": 85,
   "metadata": {},
   "outputs": [
    {
     "data": {
      "text/plain": [
       "2.0"
      ]
     },
     "execution_count": 85,
     "metadata": {},
     "output_type": "execute_result"
    }
   ],
   "source": [
    "from scipy.stats import moment\n",
    "moment([1, 2, 3, 4, 5], moment=1)\n",
    "#0.0\n",
    "moment([1, 2, 3, 4, 5], moment=2)"
   ]
  },
  {
   "cell_type": "code",
   "execution_count": 43,
   "metadata": {},
   "outputs": [
    {
     "data": {
      "text/plain": [
       "Decimal('24.815')"
      ]
     },
     "execution_count": 43,
     "metadata": {},
     "output_type": "execute_result"
    }
   ],
   "source": [
    "from decimal import Decimal as D\n",
    "pvariance([D(\"27.5\"), D(\"30.25\"), D(\"30.25\"), D(\"34.5\"), D(\"41.75\")])\n",
    "#Decimal('24.815')\n",
    "\n",
    "#from fractions import Fraction as F\n",
    "#pvariance([F(1, 4), F(5, 4), F(1, 2)])\n",
    "#Fraction(13, 72)"
   ]
  },
  {
   "cell_type": "code",
   "execution_count": 1,
   "metadata": {},
   "outputs": [
    {
     "name": "stdout",
     "output_type": "stream",
     "text": [
      "    Points  Rank    Team  Year\n",
      "0      876     1  Riders  2014\n",
      "1      789     2  Riders  2015\n",
      "2      863     2  Devils  2014\n",
      "3      673     3  Devils  2015\n",
      "4      741     3   Kings  2014\n",
      "5      812     4   kings  2015\n",
      "6      756     1   Kings  2016\n",
      "7      788     1   Kings  2017\n",
      "8      694     2  Riders  2016\n",
      "9      701     4  Royals  2014\n",
      "10     804     1  Royals  2015\n",
      "11     690     2  Riders  2017\n"
     ]
    }
   ],
   "source": [
    "#import the pandas library\n",
    "import pandas as pd\n",
    "\n",
    "ipl_data = {'Team': ['Riders', 'Riders', 'Devils', 'Devils', 'Kings',\n",
    "   'kings', 'Kings', 'Kings', 'Riders', 'Royals', 'Royals', 'Riders'],\n",
    "   'Rank': [1, 2, 2, 3, 3,4 ,1 ,1,2 , 4,1,2],\n",
    "   'Year': [2014,2015,2014,2015,2014,2015,2016,2017,2016,2014,2015,2017],\n",
    "   'Points':[876,789,863,673,741,812,756,788,694,701,804,690]}\n",
    "df = pd.DataFrame(ipl_data)\n",
    "\n",
    "print df"
   ]
  },
  {
   "cell_type": "code",
   "execution_count": 2,
   "metadata": {},
   "outputs": [
    {
     "data": {
      "text/plain": [
       "<pandas.core.groupby.generic.DataFrameGroupBy object at 0x7f02b8c883d0>"
      ]
     },
     "execution_count": 2,
     "metadata": {},
     "output_type": "execute_result"
    }
   ],
   "source": [
    "df.groupby('Points')"
   ]
  },
  {
   "cell_type": "code",
   "execution_count": 3,
   "metadata": {},
   "outputs": [
    {
     "data": {
      "text/html": [
       "<div>\n",
       "<style scoped>\n",
       "    .dataframe tbody tr th:only-of-type {\n",
       "        vertical-align: middle;\n",
       "    }\n",
       "\n",
       "    .dataframe tbody tr th {\n",
       "        vertical-align: top;\n",
       "    }\n",
       "\n",
       "    .dataframe thead th {\n",
       "        text-align: right;\n",
       "    }\n",
       "</style>\n",
       "<table border=\"1\" class=\"dataframe\">\n",
       "  <thead>\n",
       "    <tr style=\"text-align: right;\">\n",
       "      <th></th>\n",
       "      <th>Rank</th>\n",
       "      <th>Year</th>\n",
       "    </tr>\n",
       "    <tr>\n",
       "      <th>Points</th>\n",
       "      <th></th>\n",
       "      <th></th>\n",
       "    </tr>\n",
       "  </thead>\n",
       "  <tbody>\n",
       "    <tr>\n",
       "      <th>673</th>\n",
       "      <td>3</td>\n",
       "      <td>2015</td>\n",
       "    </tr>\n",
       "    <tr>\n",
       "      <th>690</th>\n",
       "      <td>2</td>\n",
       "      <td>2017</td>\n",
       "    </tr>\n",
       "    <tr>\n",
       "      <th>694</th>\n",
       "      <td>2</td>\n",
       "      <td>2016</td>\n",
       "    </tr>\n",
       "    <tr>\n",
       "      <th>701</th>\n",
       "      <td>4</td>\n",
       "      <td>2014</td>\n",
       "    </tr>\n",
       "    <tr>\n",
       "      <th>741</th>\n",
       "      <td>3</td>\n",
       "      <td>2014</td>\n",
       "    </tr>\n",
       "    <tr>\n",
       "      <th>756</th>\n",
       "      <td>1</td>\n",
       "      <td>2016</td>\n",
       "    </tr>\n",
       "    <tr>\n",
       "      <th>788</th>\n",
       "      <td>1</td>\n",
       "      <td>2017</td>\n",
       "    </tr>\n",
       "    <tr>\n",
       "      <th>789</th>\n",
       "      <td>2</td>\n",
       "      <td>2015</td>\n",
       "    </tr>\n",
       "    <tr>\n",
       "      <th>804</th>\n",
       "      <td>1</td>\n",
       "      <td>2015</td>\n",
       "    </tr>\n",
       "    <tr>\n",
       "      <th>812</th>\n",
       "      <td>4</td>\n",
       "      <td>2015</td>\n",
       "    </tr>\n",
       "    <tr>\n",
       "      <th>863</th>\n",
       "      <td>2</td>\n",
       "      <td>2014</td>\n",
       "    </tr>\n",
       "    <tr>\n",
       "      <th>876</th>\n",
       "      <td>1</td>\n",
       "      <td>2014</td>\n",
       "    </tr>\n",
       "  </tbody>\n",
       "</table>\n",
       "</div>"
      ],
      "text/plain": [
       "        Rank  Year\n",
       "Points            \n",
       "673        3  2015\n",
       "690        2  2017\n",
       "694        2  2016\n",
       "701        4  2014\n",
       "741        3  2014\n",
       "756        1  2016\n",
       "788        1  2017\n",
       "789        2  2015\n",
       "804        1  2015\n",
       "812        4  2015\n",
       "863        2  2014\n",
       "876        1  2014"
      ]
     },
     "execution_count": 3,
     "metadata": {},
     "output_type": "execute_result"
    }
   ],
   "source": [
    " df.groupby(['Points']).mean()"
   ]
  },
  {
   "cell_type": "code",
   "execution_count": 5,
   "metadata": {},
   "outputs": [
    {
     "data": {
      "text/plain": [
       "[-1, 1]"
      ]
     },
     "execution_count": 5,
     "metadata": {},
     "output_type": "execute_result"
    }
   ],
   "source": [
    "from sympy import Symbol, solve\n",
    "x = Symbol(\"x\")\n",
    "solve(x**2 - 1)\n",
    "#[-1, 1]"
   ]
  },
  {
   "cell_type": "code",
   "execution_count": 11,
   "metadata": {},
   "outputs": [
    {
     "data": {
      "text/plain": [
       "[-sqrt(1/a), sqrt(1/a)]"
      ]
     },
     "execution_count": 11,
     "metadata": {},
     "output_type": "execute_result"
    }
   ],
   "source": [
    "from sympy import Symbol, solve\n",
    "x = Symbol(\"x\")\n",
    "a=Symbol(\"a\")\n",
    "solve(a*x**2 - 1,x)\n",
    "#[-1, 1]"
   ]
  },
  {
   "cell_type": "code",
   "execution_count": 10,
   "metadata": {},
   "outputs": [],
   "source": [
    "my_file=open(\"//media//ashraful//New Volume2//test.txt\",\"r\")\n",
    "c=(my_file.read())"
   ]
  },
  {
   "cell_type": "code",
   "execution_count": 14,
   "metadata": {},
   "outputs": [
    {
     "name": "stdout",
     "output_type": "stream",
     "text": [
      "g r g g g\n",
      "\n"
     ]
    }
   ],
   "source": [
    "print c"
   ]
  },
  {
   "cell_type": "code",
   "execution_count": 15,
   "metadata": {},
   "outputs": [
    {
     "data": {
      "text/plain": [
       "10"
      ]
     },
     "execution_count": 15,
     "metadata": {},
     "output_type": "execute_result"
    }
   ],
   "source": [
    "len(c)"
   ]
  },
  {
   "cell_type": "code",
   "execution_count": 16,
   "metadata": {},
   "outputs": [],
   "source": [
    "c=[c]"
   ]
  },
  {
   "cell_type": "code",
   "execution_count": 18,
   "metadata": {},
   "outputs": [
    {
     "data": {
      "text/plain": [
       "list"
      ]
     },
     "execution_count": 18,
     "metadata": {},
     "output_type": "execute_result"
    }
   ],
   "source": [
    "type(c)"
   ]
  },
  {
   "cell_type": "code",
   "execution_count": 19,
   "metadata": {},
   "outputs": [
    {
     "name": "stdout",
     "output_type": "stream",
     "text": [
      "['g r g g g\\n']\n"
     ]
    }
   ],
   "source": [
    "print c\n"
   ]
  },
  {
   "cell_type": "code",
   "execution_count": 40,
   "metadata": {},
   "outputs": [
    {
     "name": "stdout",
     "output_type": "stream",
     "text": [
      "['1 2 3 4 5 6 3 4 5 6']\n"
     ]
    },
    {
     "data": {
      "text/plain": [
       "1"
      ]
     },
     "execution_count": 40,
     "metadata": {},
     "output_type": "execute_result"
    }
   ],
   "source": [
    "#file = open(file_name, 'r')\n",
    "file=open(\"//media//ashraful//New Volume2//text1.txt\",\"r\")\n",
    "for line in file.readlines():\n",
    "    fname = line.rstrip().split(',') #using rstrip to remove the \\n\n",
    "    print fname\n",
    "    \n",
    "    \n",
    "    \n",
    "import statistics as st\n",
    "\n",
    "s=fname\n",
    "len(s)\n",
    "#print(st.stdev(s))"
   ]
  },
  {
   "cell_type": "code",
   "execution_count": 26,
   "metadata": {},
   "outputs": [
    {
     "data": {
      "text/plain": [
       "list"
      ]
     },
     "execution_count": 26,
     "metadata": {},
     "output_type": "execute_result"
    }
   ],
   "source": [
    "len(fname)\n",
    "type(fname)"
   ]
  },
  {
   "cell_type": "code",
   "execution_count": 42,
   "metadata": {},
   "outputs": [
    {
     "name": "stdout",
     "output_type": "stream",
     "text": [
      "[]\n"
     ]
    }
   ],
   "source": [
    "import csv\n",
    "with open ('//media//ashraful//New Volume2//text1.txt', 'r') as f:\n",
    "    first_column = [row[0] for row in csv.reader(f,delimiter=',')]\n",
    "    print (first_column[1:])"
   ]
  },
  {
   "cell_type": "code",
   "execution_count": 43,
   "metadata": {},
   "outputs": [
    {
     "ename": "AttributeError",
     "evalue": "'DataFrame' object has no attribute 'FirstColName'",
     "output_type": "error",
     "traceback": [
      "\u001b[0;31m---------------------------------------------------------------------------\u001b[0m",
      "\u001b[0;31mAttributeError\u001b[0m                            Traceback (most recent call last)",
      "\u001b[0;32m<ipython-input-43-297fc997a608>\u001b[0m in \u001b[0;36m<module>\u001b[0;34m()\u001b[0m\n\u001b[1;32m      3\u001b[0m \u001b[0;34m\u001b[0m\u001b[0m\n\u001b[1;32m      4\u001b[0m \u001b[0mfile\u001b[0m \u001b[0;34m=\u001b[0m \u001b[0mpd\u001b[0m\u001b[0;34m.\u001b[0m\u001b[0mread_csv\u001b[0m\u001b[0;34m(\u001b[0m\u001b[0;34mr\"//media//ashraful//New Volume2//text1.txt\"\u001b[0m\u001b[0;34m,\u001b[0m \u001b[0msep\u001b[0m\u001b[0;34m=\u001b[0m\u001b[0;34m'\\t'\u001b[0m\u001b[0;34m)\u001b[0m\u001b[0;34m\u001b[0m\u001b[0m\n\u001b[0;32m----> 5\u001b[0;31m \u001b[0mfirstCol\u001b[0m \u001b[0;34m=\u001b[0m \u001b[0mnp\u001b[0m\u001b[0;34m.\u001b[0m\u001b[0masarray\u001b[0m\u001b[0;34m(\u001b[0m\u001b[0mfile\u001b[0m\u001b[0;34m.\u001b[0m\u001b[0mFirstColName\u001b[0m\u001b[0;34m)\u001b[0m\u001b[0;34m\u001b[0m\u001b[0m\n\u001b[0m\u001b[1;32m      6\u001b[0m \u001b[0;32mprint\u001b[0m \u001b[0;34m(\u001b[0m\u001b[0mfirstCol\u001b[0m\u001b[0;34m)\u001b[0m\u001b[0;34m\u001b[0m\u001b[0m\n",
      "\u001b[0;32m/home/ashraful/.local/lib/python2.7/site-packages/pandas/core/generic.pyc\u001b[0m in \u001b[0;36m__getattr__\u001b[0;34m(self, name)\u001b[0m\n\u001b[1;32m   5065\u001b[0m             \u001b[0;32mif\u001b[0m \u001b[0mself\u001b[0m\u001b[0;34m.\u001b[0m\u001b[0m_info_axis\u001b[0m\u001b[0;34m.\u001b[0m\u001b[0m_can_hold_identifiers_and_holds_name\u001b[0m\u001b[0;34m(\u001b[0m\u001b[0mname\u001b[0m\u001b[0;34m)\u001b[0m\u001b[0;34m:\u001b[0m\u001b[0;34m\u001b[0m\u001b[0m\n\u001b[1;32m   5066\u001b[0m                 \u001b[0;32mreturn\u001b[0m \u001b[0mself\u001b[0m\u001b[0;34m[\u001b[0m\u001b[0mname\u001b[0m\u001b[0;34m]\u001b[0m\u001b[0;34m\u001b[0m\u001b[0m\n\u001b[0;32m-> 5067\u001b[0;31m             \u001b[0;32mreturn\u001b[0m \u001b[0mobject\u001b[0m\u001b[0;34m.\u001b[0m\u001b[0m__getattribute__\u001b[0m\u001b[0;34m(\u001b[0m\u001b[0mself\u001b[0m\u001b[0;34m,\u001b[0m \u001b[0mname\u001b[0m\u001b[0;34m)\u001b[0m\u001b[0;34m\u001b[0m\u001b[0m\n\u001b[0m\u001b[1;32m   5068\u001b[0m \u001b[0;34m\u001b[0m\u001b[0m\n\u001b[1;32m   5069\u001b[0m     \u001b[0;32mdef\u001b[0m \u001b[0m__setattr__\u001b[0m\u001b[0;34m(\u001b[0m\u001b[0mself\u001b[0m\u001b[0;34m,\u001b[0m \u001b[0mname\u001b[0m\u001b[0;34m,\u001b[0m \u001b[0mvalue\u001b[0m\u001b[0;34m)\u001b[0m\u001b[0;34m:\u001b[0m\u001b[0;34m\u001b[0m\u001b[0m\n",
      "\u001b[0;31mAttributeError\u001b[0m: 'DataFrame' object has no attribute 'FirstColName'"
     ]
    }
   ],
   "source": [
    "import pandas as pd\n",
    "import numpy as np\n",
    "\n",
    "file = pd.read_csv(r\"//media//ashraful//New Volume2//text1.txt\", sep='\\t')\n",
    "firstCol = np.asarray(file.FirstColName)\n",
    "print (firstCol)"
   ]
  },
  {
   "cell_type": "code",
   "execution_count": 1,
   "metadata": {},
   "outputs": [],
   "source": [
    "import numpy as np"
   ]
  },
  {
   "cell_type": "code",
   "execution_count": 9,
   "metadata": {},
   "outputs": [
    {
     "ename": "ValueError",
     "evalue": "could not convert string to float: ,",
     "output_type": "error",
     "traceback": [
      "\u001b[0;31m---------------------------------------------------------------------------\u001b[0m",
      "\u001b[0;31mValueError\u001b[0m                                Traceback (most recent call last)",
      "\u001b[0;32m<ipython-input-9-e9d4f758d313>\u001b[0m in \u001b[0;36m<module>\u001b[0;34m()\u001b[0m\n\u001b[1;32m      1\u001b[0m \u001b[0;32mimport\u001b[0m \u001b[0mnumpy\u001b[0m \u001b[0;32mas\u001b[0m \u001b[0mnp\u001b[0m\u001b[0;34m\u001b[0m\u001b[0m\n\u001b[0;32m----> 2\u001b[0;31m \u001b[0mdata\u001b[0m \u001b[0;34m=\u001b[0m \u001b[0mnp\u001b[0m\u001b[0;34m.\u001b[0m\u001b[0mloadtxt\u001b[0m\u001b[0;34m(\u001b[0m\u001b[0;34m'//media//ashraful//New Volume2//text1.txt'\u001b[0m\u001b[0;34m)\u001b[0m\u001b[0;34m\u001b[0m\u001b[0m\n\u001b[0m\u001b[1;32m      3\u001b[0m \u001b[0;31m#print np.average(data)\u001b[0m\u001b[0;34m\u001b[0m\u001b[0;34m\u001b[0m\u001b[0m\n\u001b[1;32m      4\u001b[0m  \u001b[0;31m#550.666666667\u001b[0m\u001b[0;34m\u001b[0m\u001b[0;34m\u001b[0m\u001b[0m\n\u001b[1;32m      5\u001b[0m \u001b[0;31m#print np.max(data)\u001b[0m\u001b[0;34m\u001b[0m\u001b[0;34m\u001b[0m\u001b[0m\n",
      "\u001b[0;32m/home/ashraful/.local/lib/python2.7/site-packages/numpy/lib/npyio.pyc\u001b[0m in \u001b[0;36mloadtxt\u001b[0;34m(fname, dtype, comments, delimiter, converters, skiprows, usecols, unpack, ndmin, encoding, max_rows)\u001b[0m\n\u001b[1;32m   1132\u001b[0m         \u001b[0;31m# converting the data\u001b[0m\u001b[0;34m\u001b[0m\u001b[0;34m\u001b[0m\u001b[0m\n\u001b[1;32m   1133\u001b[0m         \u001b[0mX\u001b[0m \u001b[0;34m=\u001b[0m \u001b[0mNone\u001b[0m\u001b[0;34m\u001b[0m\u001b[0m\n\u001b[0;32m-> 1134\u001b[0;31m         \u001b[0;32mfor\u001b[0m \u001b[0mx\u001b[0m \u001b[0;32min\u001b[0m \u001b[0mread_data\u001b[0m\u001b[0;34m(\u001b[0m\u001b[0m_loadtxt_chunksize\u001b[0m\u001b[0;34m)\u001b[0m\u001b[0;34m:\u001b[0m\u001b[0;34m\u001b[0m\u001b[0m\n\u001b[0m\u001b[1;32m   1135\u001b[0m             \u001b[0;32mif\u001b[0m \u001b[0mX\u001b[0m \u001b[0;32mis\u001b[0m \u001b[0mNone\u001b[0m\u001b[0;34m:\u001b[0m\u001b[0;34m\u001b[0m\u001b[0m\n\u001b[1;32m   1136\u001b[0m                 \u001b[0mX\u001b[0m \u001b[0;34m=\u001b[0m \u001b[0mnp\u001b[0m\u001b[0;34m.\u001b[0m\u001b[0marray\u001b[0m\u001b[0;34m(\u001b[0m\u001b[0mx\u001b[0m\u001b[0;34m,\u001b[0m \u001b[0mdtype\u001b[0m\u001b[0;34m)\u001b[0m\u001b[0;34m\u001b[0m\u001b[0m\n",
      "\u001b[0;32m/home/ashraful/.local/lib/python2.7/site-packages/numpy/lib/npyio.pyc\u001b[0m in \u001b[0;36mread_data\u001b[0;34m(chunk_size)\u001b[0m\n\u001b[1;32m   1059\u001b[0m \u001b[0;34m\u001b[0m\u001b[0m\n\u001b[1;32m   1060\u001b[0m             \u001b[0;31m# Convert each value according to its column and store\u001b[0m\u001b[0;34m\u001b[0m\u001b[0;34m\u001b[0m\u001b[0m\n\u001b[0;32m-> 1061\u001b[0;31m             \u001b[0mitems\u001b[0m \u001b[0;34m=\u001b[0m \u001b[0;34m[\u001b[0m\u001b[0mconv\u001b[0m\u001b[0;34m(\u001b[0m\u001b[0mval\u001b[0m\u001b[0;34m)\u001b[0m \u001b[0;32mfor\u001b[0m \u001b[0;34m(\u001b[0m\u001b[0mconv\u001b[0m\u001b[0;34m,\u001b[0m \u001b[0mval\u001b[0m\u001b[0;34m)\u001b[0m \u001b[0;32min\u001b[0m \u001b[0mzip\u001b[0m\u001b[0;34m(\u001b[0m\u001b[0mconverters\u001b[0m\u001b[0;34m,\u001b[0m \u001b[0mvals\u001b[0m\u001b[0;34m)\u001b[0m\u001b[0;34m]\u001b[0m\u001b[0;34m\u001b[0m\u001b[0m\n\u001b[0m\u001b[1;32m   1062\u001b[0m \u001b[0;34m\u001b[0m\u001b[0m\n\u001b[1;32m   1063\u001b[0m             \u001b[0;31m# Then pack it according to the dtype's nesting\u001b[0m\u001b[0;34m\u001b[0m\u001b[0;34m\u001b[0m\u001b[0m\n",
      "\u001b[0;32m/home/ashraful/.local/lib/python2.7/site-packages/numpy/lib/npyio.pyc\u001b[0m in \u001b[0;36mfloatconv\u001b[0;34m(x)\u001b[0m\n\u001b[1;32m    766\u001b[0m         \u001b[0;32mif\u001b[0m \u001b[0;34m'0x'\u001b[0m \u001b[0;32min\u001b[0m \u001b[0mx\u001b[0m\u001b[0;34m:\u001b[0m\u001b[0;34m\u001b[0m\u001b[0m\n\u001b[1;32m    767\u001b[0m             \u001b[0;32mreturn\u001b[0m \u001b[0mfloat\u001b[0m\u001b[0;34m.\u001b[0m\u001b[0mfromhex\u001b[0m\u001b[0;34m(\u001b[0m\u001b[0mx\u001b[0m\u001b[0;34m)\u001b[0m\u001b[0;34m\u001b[0m\u001b[0m\n\u001b[0;32m--> 768\u001b[0;31m         \u001b[0;32mreturn\u001b[0m \u001b[0mfloat\u001b[0m\u001b[0;34m(\u001b[0m\u001b[0mx\u001b[0m\u001b[0;34m)\u001b[0m\u001b[0;34m\u001b[0m\u001b[0m\n\u001b[0m\u001b[1;32m    769\u001b[0m \u001b[0;34m\u001b[0m\u001b[0m\n\u001b[1;32m    770\u001b[0m     \u001b[0mtyp\u001b[0m \u001b[0;34m=\u001b[0m \u001b[0mdtype\u001b[0m\u001b[0;34m.\u001b[0m\u001b[0mtype\u001b[0m\u001b[0;34m\u001b[0m\u001b[0m\n",
      "\u001b[0;31mValueError\u001b[0m: could not convert string to float: ,"
     ]
    }
   ],
   "source": [
    "import numpy as np\n",
    "data = np.loadtxt('//media//ashraful//New Volume2//text1.txt')\n",
    "\n",
    "    \n",
    "print data\n",
    "    \n"
   ]
  },
  {
   "cell_type": "code",
   "execution_count": 2,
   "metadata": {},
   "outputs": [
    {
     "name": "stdout",
     "output_type": "stream",
     "text": [
      "[1. 2. 3. 4. 5. 6. 3. 4. 5. 6.]\n",
      "<type 'numpy.ndarray'>\n",
      "10\n"
     ]
    }
   ],
   "source": [
    "print data\n",
    "print type(data)\n",
    "print len(data)"
   ]
  },
  {
   "cell_type": "code",
   "execution_count": 11,
   "metadata": {},
   "outputs": [
    {
     "name": "stdout",
     "output_type": "stream",
     "text": [
      "Enter all numbers with ',' as separator\n"
     ]
    },
    {
     "ename": "AttributeError",
     "evalue": "'file' object has no attribute 'split'",
     "output_type": "error",
     "traceback": [
      "\u001b[0;31m---------------------------------------------------------------------------\u001b[0m",
      "\u001b[0;31mAttributeError\u001b[0m                            Traceback (most recent call last)",
      "\u001b[0;32m<ipython-input-11-c91997187a0d>\u001b[0m in \u001b[0;36m<module>\u001b[0;34m()\u001b[0m\n\u001b[1;32m      4\u001b[0m \u001b[0mnumberList\u001b[0m \u001b[0;34m=\u001b[0m \u001b[0;34m[\u001b[0m\u001b[0;34m]\u001b[0m\u001b[0;34m\u001b[0m\u001b[0m\n\u001b[1;32m      5\u001b[0m \u001b[0;32mprint\u001b[0m \u001b[0;34m(\u001b[0m\u001b[0;34m\"Enter all numbers with ',' as separator\"\u001b[0m\u001b[0;34m)\u001b[0m\u001b[0;34m\u001b[0m\u001b[0m\n\u001b[0;32m----> 6\u001b[0;31m \u001b[0mnumberList\u001b[0m \u001b[0;34m=\u001b[0m \u001b[0;34m[\u001b[0m\u001b[0mint\u001b[0m\u001b[0;34m(\u001b[0m\u001b[0mi\u001b[0m\u001b[0;34m)\u001b[0m \u001b[0;32mfor\u001b[0m \u001b[0mi\u001b[0m \u001b[0;32min\u001b[0m \u001b[0mfile\u001b[0m\u001b[0;34m.\u001b[0m\u001b[0msplit\u001b[0m\u001b[0;34m(\u001b[0m\u001b[0;34m','\u001b[0m\u001b[0;34m)\u001b[0m\u001b[0;34m]\u001b[0m\u001b[0;34m\u001b[0m\u001b[0m\n\u001b[0m\u001b[1;32m      7\u001b[0m \u001b[0;32mprint\u001b[0m \u001b[0;34m(\u001b[0m\u001b[0;34m\"Average = \"\u001b[0m\u001b[0;34m,\u001b[0m\u001b[0msum\u001b[0m\u001b[0;34m(\u001b[0m\u001b[0mnumberList\u001b[0m\u001b[0;34m)\u001b[0m\u001b[0;34m/\u001b[0m\u001b[0mlen\u001b[0m\u001b[0;34m(\u001b[0m\u001b[0mnumberList\u001b[0m\u001b[0;34m)\u001b[0m\u001b[0;34m)\u001b[0m\u001b[0;34m\u001b[0m\u001b[0m\n",
      "\u001b[0;31mAttributeError\u001b[0m: 'file' object has no attribute 'split'"
     ]
    }
   ],
   "source": [
    "    file=open(\"//media//ashraful//New Volume2//text1.txt\",\"r\")\n",
    "\n",
    "    \n",
    "    numberList = []\n",
    "    print (\"Enter all numbers with ',' as separator\")\n",
    "    numberList = [int(i) for i in file.split(',')]\n",
    "    print (\"Average = \",sum(numberList)/len(numberList))"
   ]
  },
  {
   "cell_type": "code",
   "execution_count": 46,
   "metadata": {},
   "outputs": [
    {
     "name": "stdout",
     "output_type": "stream",
     "text": [
      "Values in the file are as follows:\n",
      "\n",
      "['0.8', '0.4', '1.2', '3.7', '2.6', '5.8']\n",
      "0.8 0.4 1.2 3.7 2.6 5.8\n",
      "0.8,0.4,1.2,3.7,2.6,5.8\n"
     ]
    },
    {
     "ename": "TypeError",
     "evalue": "can't convert type 'str' to numerator/denominator",
     "output_type": "error",
     "traceback": [
      "\u001b[0;31m---------------------------------------------------------------------------\u001b[0m",
      "\u001b[0;31mTypeError\u001b[0m                                 Traceback (most recent call last)",
      "\u001b[0;32m<ipython-input-46-094a9e31394f>\u001b[0m in \u001b[0;36m<module>\u001b[0;34m()\u001b[0m\n\u001b[1;32m     20\u001b[0m \u001b[0mtype\u001b[0m\u001b[0;34m(\u001b[0m\u001b[0mx\u001b[0m\u001b[0;34m)\u001b[0m\u001b[0;34m\u001b[0m\u001b[0m\n\u001b[1;32m     21\u001b[0m \u001b[0;32mprint\u001b[0m \u001b[0mx\u001b[0m\u001b[0;34m\u001b[0m\u001b[0m\n\u001b[0;32m---> 22\u001b[0;31m \u001b[0;32mprint\u001b[0m\u001b[0;34m(\u001b[0m\u001b[0;34m(\u001b[0m\u001b[0mstatistics\u001b[0m\u001b[0;34m.\u001b[0m\u001b[0mstdev\u001b[0m\u001b[0;34m(\u001b[0m\u001b[0mx\u001b[0m\u001b[0;34m)\u001b[0m\u001b[0;34m)\u001b[0m\u001b[0;34m)\u001b[0m\u001b[0;34m\u001b[0m\u001b[0m\n\u001b[0m\u001b[1;32m     23\u001b[0m \u001b[0;34m\u001b[0m\u001b[0m\n\u001b[1;32m     24\u001b[0m \u001b[0mli\u001b[0m \u001b[0;34m=\u001b[0m \u001b[0mlist\u001b[0m\u001b[0;34m(\u001b[0m\u001b[0mx\u001b[0m\u001b[0;34m.\u001b[0m\u001b[0msplit\u001b[0m\u001b[0;34m(\u001b[0m\u001b[0;34m\",\"\u001b[0m\u001b[0;34m)\u001b[0m\u001b[0;34m)\u001b[0m\u001b[0;34m\u001b[0m\u001b[0m\n",
      "\u001b[0;32m/home/ashraful/.local/lib/python2.7/site-packages/statistics/__init__.pyc\u001b[0m in \u001b[0;36mstdev\u001b[0;34m(data, xbar)\u001b[0m\n\u001b[1;32m    575\u001b[0m \u001b[0;34m\u001b[0m\u001b[0m\n\u001b[1;32m    576\u001b[0m     \"\"\"\n\u001b[0;32m--> 577\u001b[0;31m     \u001b[0mvar\u001b[0m \u001b[0;34m=\u001b[0m \u001b[0mvariance\u001b[0m\u001b[0;34m(\u001b[0m\u001b[0mdata\u001b[0m\u001b[0;34m,\u001b[0m \u001b[0mxbar\u001b[0m\u001b[0;34m)\u001b[0m\u001b[0;34m\u001b[0m\u001b[0m\n\u001b[0m\u001b[1;32m    578\u001b[0m     \u001b[0;32mtry\u001b[0m\u001b[0;34m:\u001b[0m\u001b[0;34m\u001b[0m\u001b[0m\n\u001b[1;32m    579\u001b[0m         \u001b[0;32mreturn\u001b[0m \u001b[0mvar\u001b[0m\u001b[0;34m.\u001b[0m\u001b[0msqrt\u001b[0m\u001b[0;34m(\u001b[0m\u001b[0;34m)\u001b[0m\u001b[0;34m\u001b[0m\u001b[0m\n",
      "\u001b[0;32m/home/ashraful/.local/lib/python2.7/site-packages/statistics/__init__.pyc\u001b[0m in \u001b[0;36mvariance\u001b[0;34m(data, xbar)\u001b[0m\n\u001b[1;32m    514\u001b[0m     \u001b[0;32mif\u001b[0m \u001b[0mn\u001b[0m \u001b[0;34m<\u001b[0m \u001b[0;36m2\u001b[0m\u001b[0;34m:\u001b[0m\u001b[0;34m\u001b[0m\u001b[0m\n\u001b[1;32m    515\u001b[0m         \u001b[0;32mraise\u001b[0m \u001b[0mStatisticsError\u001b[0m\u001b[0;34m(\u001b[0m\u001b[0;34mu'variance requires at least two data points'\u001b[0m\u001b[0;34m)\u001b[0m\u001b[0;34m\u001b[0m\u001b[0m\n\u001b[0;32m--> 516\u001b[0;31m     \u001b[0mss\u001b[0m \u001b[0;34m=\u001b[0m \u001b[0m_ss\u001b[0m\u001b[0;34m(\u001b[0m\u001b[0mdata\u001b[0m\u001b[0;34m,\u001b[0m \u001b[0mxbar\u001b[0m\u001b[0;34m)\u001b[0m\u001b[0;34m\u001b[0m\u001b[0m\n\u001b[0m\u001b[1;32m    517\u001b[0m     \u001b[0;32mreturn\u001b[0m \u001b[0mss\u001b[0m\u001b[0;34m/\u001b[0m\u001b[0;34m(\u001b[0m\u001b[0mn\u001b[0m\u001b[0;34m-\u001b[0m\u001b[0;36m1\u001b[0m\u001b[0;34m)\u001b[0m\u001b[0;34m\u001b[0m\u001b[0m\n\u001b[1;32m    518\u001b[0m \u001b[0;34m\u001b[0m\u001b[0m\n",
      "\u001b[0;32m/home/ashraful/.local/lib/python2.7/site-packages/statistics/__init__.pyc\u001b[0m in \u001b[0;36m_ss\u001b[0;34m(data, c)\u001b[0m\n\u001b[1;32m    462\u001b[0m     \"\"\"\n\u001b[1;32m    463\u001b[0m     \u001b[0;32mif\u001b[0m \u001b[0mc\u001b[0m \u001b[0;32mis\u001b[0m \u001b[0mNone\u001b[0m\u001b[0;34m:\u001b[0m\u001b[0;34m\u001b[0m\u001b[0m\n\u001b[0;32m--> 464\u001b[0;31m         \u001b[0mc\u001b[0m \u001b[0;34m=\u001b[0m \u001b[0mmean\u001b[0m\u001b[0;34m(\u001b[0m\u001b[0mdata\u001b[0m\u001b[0;34m)\u001b[0m\u001b[0;34m\u001b[0m\u001b[0m\n\u001b[0m\u001b[1;32m    465\u001b[0m     \u001b[0mss\u001b[0m \u001b[0;34m=\u001b[0m \u001b[0m_sum\u001b[0m\u001b[0;34m(\u001b[0m\u001b[0;34m(\u001b[0m\u001b[0mx\u001b[0m\u001b[0;34m-\u001b[0m\u001b[0mc\u001b[0m\u001b[0;34m)\u001b[0m\u001b[0;34m**\u001b[0m\u001b[0;36m2\u001b[0m \u001b[0;32mfor\u001b[0m \u001b[0mx\u001b[0m \u001b[0;32min\u001b[0m \u001b[0mdata\u001b[0m\u001b[0;34m)\u001b[0m\u001b[0;34m\u001b[0m\u001b[0m\n\u001b[1;32m    466\u001b[0m     \u001b[0;31m# The following sum should mathematically equal zero, but due to rounding\u001b[0m\u001b[0;34m\u001b[0m\u001b[0;34m\u001b[0m\u001b[0m\n",
      "\u001b[0;32m/home/ashraful/.local/lib/python2.7/site-packages/statistics/__init__.pyc\u001b[0m in \u001b[0;36mmean\u001b[0;34m(data)\u001b[0m\n\u001b[1;32m    293\u001b[0m     \u001b[0;32mif\u001b[0m \u001b[0mn\u001b[0m \u001b[0;34m<\u001b[0m \u001b[0;36m1\u001b[0m\u001b[0;34m:\u001b[0m\u001b[0;34m\u001b[0m\u001b[0m\n\u001b[1;32m    294\u001b[0m         \u001b[0;32mraise\u001b[0m \u001b[0mStatisticsError\u001b[0m\u001b[0;34m(\u001b[0m\u001b[0;34mu'mean requires at least one data point'\u001b[0m\u001b[0;34m)\u001b[0m\u001b[0;34m\u001b[0m\u001b[0m\n\u001b[0;32m--> 295\u001b[0;31m     \u001b[0;32mreturn\u001b[0m \u001b[0m_sum\u001b[0m\u001b[0;34m(\u001b[0m\u001b[0mdata\u001b[0m\u001b[0;34m)\u001b[0m\u001b[0;34m/\u001b[0m\u001b[0mn\u001b[0m\u001b[0;34m\u001b[0m\u001b[0m\n\u001b[0m\u001b[1;32m    296\u001b[0m \u001b[0;34m\u001b[0m\u001b[0m\n\u001b[1;32m    297\u001b[0m \u001b[0;34m\u001b[0m\u001b[0m\n",
      "\u001b[0;32m/home/ashraful/.local/lib/python2.7/site-packages/statistics/__init__.pyc\u001b[0m in \u001b[0;36m_sum\u001b[0;34m(data, start)\u001b[0m\n\u001b[1;32m    162\u001b[0m     \u001b[0;32mfor\u001b[0m \u001b[0mx\u001b[0m \u001b[0;32min\u001b[0m \u001b[0mdata\u001b[0m\u001b[0;34m:\u001b[0m\u001b[0;34m\u001b[0m\u001b[0m\n\u001b[1;32m    163\u001b[0m         \u001b[0m_check_type\u001b[0m\u001b[0;34m(\u001b[0m\u001b[0mtype\u001b[0m\u001b[0;34m(\u001b[0m\u001b[0mx\u001b[0m\u001b[0;34m)\u001b[0m\u001b[0;34m,\u001b[0m \u001b[0mallowed_types\u001b[0m\u001b[0;34m)\u001b[0m\u001b[0;34m\u001b[0m\u001b[0m\n\u001b[0;32m--> 164\u001b[0;31m         \u001b[0mn\u001b[0m\u001b[0;34m,\u001b[0m \u001b[0md\u001b[0m \u001b[0;34m=\u001b[0m \u001b[0mexact_ratio\u001b[0m\u001b[0;34m(\u001b[0m\u001b[0mx\u001b[0m\u001b[0;34m)\u001b[0m\u001b[0;34m\u001b[0m\u001b[0m\n\u001b[0m\u001b[1;32m    165\u001b[0m         \u001b[0mpartials\u001b[0m\u001b[0;34m[\u001b[0m\u001b[0md\u001b[0m\u001b[0;34m]\u001b[0m \u001b[0;34m=\u001b[0m \u001b[0mpartials_get\u001b[0m\u001b[0;34m(\u001b[0m\u001b[0md\u001b[0m\u001b[0;34m,\u001b[0m \u001b[0;36m0\u001b[0m\u001b[0;34m)\u001b[0m \u001b[0;34m+\u001b[0m \u001b[0mn\u001b[0m\u001b[0;34m\u001b[0m\u001b[0m\n\u001b[1;32m    166\u001b[0m     \u001b[0;31m# Find the expected result type. If allowed_types has only one item, it\u001b[0m\u001b[0;34m\u001b[0m\u001b[0;34m\u001b[0m\u001b[0m\n",
      "\u001b[0;32m/home/ashraful/.local/lib/python2.7/site-packages/statistics/__init__.pyc\u001b[0m in \u001b[0;36m_exact_ratio\u001b[0;34m(x)\u001b[0m\n\u001b[1;32m    218\u001b[0m                 \u001b[0;32mexcept\u001b[0m \u001b[0mAttributeError\u001b[0m\u001b[0;34m:\u001b[0m\u001b[0;34m\u001b[0m\u001b[0m\n\u001b[1;32m    219\u001b[0m                     \u001b[0mmsg\u001b[0m \u001b[0;34m=\u001b[0m \u001b[0;34mu\"can't convert type '{}' to numerator/denominator\"\u001b[0m\u001b[0;34m\u001b[0m\u001b[0m\n\u001b[0;32m--> 220\u001b[0;31m                     \u001b[0;32mraise\u001b[0m \u001b[0mTypeError\u001b[0m\u001b[0;34m(\u001b[0m\u001b[0mmsg\u001b[0m\u001b[0;34m.\u001b[0m\u001b[0mformat\u001b[0m\u001b[0;34m(\u001b[0m\u001b[0mtype\u001b[0m\u001b[0;34m(\u001b[0m\u001b[0mx\u001b[0m\u001b[0;34m)\u001b[0m\u001b[0;34m.\u001b[0m\u001b[0m__name__\u001b[0m\u001b[0;34m)\u001b[0m\u001b[0;34m)\u001b[0m\u001b[0;34m\u001b[0m\u001b[0m\n\u001b[0m\u001b[1;32m    221\u001b[0m     \u001b[0;32mexcept\u001b[0m \u001b[0;34m(\u001b[0m\u001b[0mOverflowError\u001b[0m\u001b[0;34m,\u001b[0m \u001b[0mValueError\u001b[0m\u001b[0;34m)\u001b[0m\u001b[0;34m:\u001b[0m\u001b[0;34m\u001b[0m\u001b[0m\n\u001b[1;32m    222\u001b[0m         \u001b[0;31m# INF or NAN\u001b[0m\u001b[0;34m\u001b[0m\u001b[0;34m\u001b[0m\u001b[0m\n",
      "\u001b[0;31mTypeError\u001b[0m: can't convert type 'str' to numerator/denominator"
     ]
    }
   ],
   "source": [
    "import numpy as np\n",
    "file = open('//media//ashraful//New Volume2//text1.txt', 'r')\n",
    "x=\"\"\n",
    "for line in file.readlines():\n",
    "    fname = line.rstrip().split(',') \n",
    "    print(\"Values in the file are as follows:\\n\")\n",
    "    print(fname)\n",
    "\n",
    "a= (' '.join(fname))\n",
    "print (a)\n",
    "# Python code to demonstrate the \n",
    "# working of median_low() \n",
    "\n",
    "# importing the statistics module \n",
    "import statistics \n",
    "text = a.split(',')\n",
    "\n",
    "\n",
    "x=(a.replace(' ', ','))\n",
    "type(x)\n",
    "print x\n",
    "print((statistics.stdev(x))) \n",
    "\n",
    "li = list(x.split(\",\"))\n",
    "print li\n",
    "print type(li)\n",
    "\n",
    "\n",
    "A_rank = [0.8, 0.4, 1.2, 3.7, 2.6, 5.8]\n",
    "#import statistics\n",
    "#statistics.stdev(a)\n",
    "#print((statistics.stdev([li]))) \n"
   ]
  },
  {
   "cell_type": "code",
   "execution_count": 44,
   "metadata": {},
   "outputs": [
    {
     "name": "stdout",
     "output_type": "stream",
     "text": [
      "<type 'list'>\n",
      "<type 'list'>\n"
     ]
    }
   ],
   "source": [
    "print type(text)\n",
    "print type(fname)"
   ]
  },
  {
   "cell_type": "code",
   "execution_count": 137,
   "metadata": {},
   "outputs": [
    {
     "name": "stdout",
     "output_type": "stream",
     "text": [
      "Values in the file are as follows:\n",
      "\n",
      "['0.8', '0.4', '1.2', '3.7', '2.6', '5.8']\n",
      "0.8 0.4 1.2 3.7 2.6 5.8\n"
     ]
    }
   ],
   "source": [
    "import numpy as np\n",
    "file = open('//media//ashraful//New Volume2//text1.txt', 'r')\n",
    "cde=[]\n",
    "for line in file.readlines():\n",
    "    fname = line.rstrip().split(',') \n",
    "    print(\"Values in the file are as follows:\\n\")\n",
    "    print((fname))\n",
    "for e in fname:\n",
    "    cde.append(float(e))\n",
    "c=(fname)\n",
    "a= (' '.join((fname)))\n",
    "#b=list(a)\n",
    "print (a)"
   ]
  },
  {
   "cell_type": "code",
   "execution_count": 138,
   "metadata": {},
   "outputs": [
    {
     "name": "stdout",
     "output_type": "stream",
     "text": [
      "[0.8, 0.4, 1.2, 3.7, 2.6, 5.8]\n",
      "<type 'list'> 6\n"
     ]
    }
   ],
   "source": [
    "a=cde\n",
    "print (a)\n",
    "print type(a),len(a)"
   ]
  },
  {
   "cell_type": "code",
   "execution_count": 132,
   "metadata": {},
   "outputs": [
    {
     "name": "stdout",
     "output_type": "stream",
     "text": [
      "0\n",
      ".\n",
      "8\n",
      " \n",
      "0\n",
      ".\n",
      "4\n",
      " \n",
      "1\n",
      ".\n",
      "2\n",
      " \n",
      "3\n",
      ".\n",
      "7\n",
      " \n",
      "2\n",
      ".\n",
      "6\n",
      " \n",
      "5\n",
      ".\n",
      "8\n"
     ]
    }
   ],
   "source": [
    "for i in a:\n",
    "    print i"
   ]
  },
  {
   "cell_type": "code",
   "execution_count": 104,
   "metadata": {},
   "outputs": [
    {
     "ename": "TypeError",
     "evalue": "'list' object is not callable",
     "output_type": "error",
     "traceback": [
      "\u001b[0;31m---------------------------------------------------------------------------\u001b[0m",
      "\u001b[0;31mTypeError\u001b[0m                                 Traceback (most recent call last)",
      "\u001b[0;32m<ipython-input-104-b12c354f4bb9>\u001b[0m in \u001b[0;36m<module>\u001b[0;34m()\u001b[0m\n\u001b[1;32m      5\u001b[0m \u001b[0;31m# Driver code\u001b[0m\u001b[0;34m\u001b[0m\u001b[0;34m\u001b[0m\u001b[0m\n\u001b[1;32m      6\u001b[0m \u001b[0mstr1\u001b[0m \u001b[0;34m=\u001b[0m \u001b[0;34m\"Geeks-for-Geeks\"\u001b[0m\u001b[0;34m\u001b[0m\u001b[0m\n\u001b[0;32m----> 7\u001b[0;31m \u001b[0;32mprint\u001b[0m\u001b[0;34m(\u001b[0m\u001b[0mConvert\u001b[0m\u001b[0;34m(\u001b[0m\u001b[0mstr1\u001b[0m\u001b[0;34m)\u001b[0m\u001b[0;34m)\u001b[0m\u001b[0;34m\u001b[0m\u001b[0m\n\u001b[0m",
      "\u001b[0;32m<ipython-input-104-b12c354f4bb9>\u001b[0m in \u001b[0;36mConvert\u001b[0;34m(ring)\u001b[0m\n\u001b[1;32m      1\u001b[0m \u001b[0;32mdef\u001b[0m \u001b[0mConvert\u001b[0m\u001b[0;34m(\u001b[0m\u001b[0mring\u001b[0m\u001b[0;34m)\u001b[0m\u001b[0;34m:\u001b[0m\u001b[0;34m\u001b[0m\u001b[0m\n\u001b[0;32m----> 2\u001b[0;31m     \u001b[0mli\u001b[0m \u001b[0;34m=\u001b[0m \u001b[0mlist\u001b[0m\u001b[0;34m(\u001b[0m\u001b[0mring\u001b[0m\u001b[0;34m.\u001b[0m\u001b[0msplit\u001b[0m\u001b[0;34m(\u001b[0m\u001b[0;34m\"-\"\u001b[0m\u001b[0;34m)\u001b[0m\u001b[0;34m)\u001b[0m\u001b[0;34m\u001b[0m\u001b[0m\n\u001b[0m\u001b[1;32m      3\u001b[0m     \u001b[0;32mreturn\u001b[0m \u001b[0mli\u001b[0m\u001b[0;34m\u001b[0m\u001b[0m\n\u001b[1;32m      4\u001b[0m \u001b[0;34m\u001b[0m\u001b[0m\n\u001b[1;32m      5\u001b[0m \u001b[0;31m# Driver code\u001b[0m\u001b[0;34m\u001b[0m\u001b[0;34m\u001b[0m\u001b[0m\n",
      "\u001b[0;31mTypeError\u001b[0m: 'list' object is not callable"
     ]
    }
   ],
   "source": [
    "def Convert(ring): \n",
    "    li = list(ring.split(\"-\")) \n",
    "    return li \n",
    "  \n",
    "# Driver code     \n",
    "str1 = \"Geeks-for-Geeks\"\n",
    "print(Convert(str1)) "
   ]
  },
  {
   "cell_type": "code",
   "execution_count": 127,
   "metadata": {},
   "outputs": [
    {
     "name": "stdout",
     "output_type": "stream",
     "text": [
      "<type 'int'>\n",
      "[5, 4, 5, 4]\n"
     ]
    }
   ],
   "source": [
    "\n",
    "i='1'\n",
    "a.append(5)\n",
    "a.append(4)\n",
    "print type(int(i))\n",
    "print a"
   ]
  },
  {
   "cell_type": "code",
   "execution_count": 199,
   "metadata": {},
   "outputs": [],
   "source": [
    "# 1st assi"
   ]
  },
  {
   "cell_type": "markdown",
   "metadata": {},
   "source": [
    "Experiment:\n",
    "(1) Perform the mean (AM, GM, HM), median, mode, SD, Variance, moments (about\n",
    "mean and about any arbitrary value) from the following ungrouped data using C/C++ or\n",
    "MatLab.\n",
    "Sample Input Data: (indata1.txt or indata1.xls). Put the data in your input file as a\n",
    "column data or row data with spacing, or comma delimited.\n",
    "5, 12, 5, 7, 21, 23, 24, 15, 8, 22, 23, 9, 11, 18, 22, 21, 19, 3, 4, 20"
   ]
  },
  {
   "cell_type": "code",
   "execution_count": null,
   "metadata": {},
   "outputs": [],
   "source": []
  },
  {
   "cell_type": "code",
   "execution_count": 4,
   "metadata": {},
   "outputs": [
    {
     "name": "stdout",
     "output_type": "stream",
     "text": [
      "Values in the file are as follows:\n",
      "\n",
      "['1', ' 1', ' 1', ' 1', ' 1', ' 1', ' 1', ' 1', ' 1', ' 1', ' 1', ' 1', ' 1', ' 1', ' 1', ' 1', ' 1', ' 1', ' 1', ' 1']\n",
      "<type 'str'>\n",
      "<type 'list'>\n",
      "[1.0, 1.0, 1.0, 1.0, 1.0, 1.0, 1.0, 1.0, 1.0, 1.0, 1.0, 1.0, 1.0, 1.0, 1.0, 1.0, 1.0, 1.0, 1.0, 1.0]\n"
     ]
    }
   ],
   "source": [
    "file = open('//media//ashraful//New Volume1//omit1.txt', 'r')\n",
    "#file = open('//media//ashraful//New Volume2//e.xls', 'r')\n",
    "fa=[]\n",
    "for line in file.readlines():\n",
    "    fname = line.rstrip().split(',') \n",
    "    print(\"Values in the file are as follows:\\n\")\n",
    "    print((fname))\n",
    "for e in fname:\n",
    "    fa.append(float(e))\n",
    "c=(fname)\n",
    "a= (' '.join((fname)))\n",
    "print type(a)\n",
    "print type(fa)\n",
    "print fa"
   ]
  },
  {
   "cell_type": "code",
   "execution_count": null,
   "metadata": {},
   "outputs": [],
   "source": []
  },
  {
   "cell_type": "code",
   "execution_count": null,
   "metadata": {},
   "outputs": [],
   "source": []
  },
  {
   "cell_type": "code",
   "execution_count": null,
   "metadata": {},
   "outputs": [],
   "source": []
  },
  {
   "cell_type": "markdown",
   "metadata": {},
   "source": [
    "# std ,variance,median, mode"
   ]
  },
  {
   "cell_type": "code",
   "execution_count": 5,
   "metadata": {},
   "outputs": [
    {
     "name": "stdout",
     "output_type": "stream",
     "text": [
      "Standard Deviation of sample is 0.0 \n",
      "Variance of the sample is 0.0\n",
      "Grouped Median of the median is 1.0\n",
      "Low median of the data-set is 1.0 \n",
      "High median of the data-set is 1.0 \n",
      "High mode of the data-set is 1.0 \n"
     ]
    }
   ],
   "source": [
    "\n",
    "import statistics \n",
    "sample = fa \n",
    "#sample =pr\n",
    "\n",
    "print(\"Standard Deviation of sample is % s \" % (statistics.stdev(sample)))\n",
    "\n",
    "print(\"Variance of the sample is % s\"%(statistics.variance(sample))) \n",
    " \n",
    "print(\"Grouped Median of the median is %s\"%(statistics.median_grouped(sample))) \n",
    "\n",
    "print(\"Low median of the data-set is % s \" % (statistics.median_low(sample))) \n",
    "\n",
    "print(\"High median of the data-set is %s \"% (statistics.median_high(sample))) \n",
    "\n",
    "\n",
    "print(\"High mode of the data-set is %s \"% (statistics.mode(sample))) \n"
   ]
  },
  {
   "cell_type": "markdown",
   "metadata": {},
   "source": [
    "# mean"
   ]
  },
  {
   "cell_type": "code",
   "execution_count": 7,
   "metadata": {},
   "outputs": [
    {
     "name": "stdout",
     "output_type": "stream",
     "text": [
      "('Mean is :', 1.0)\n",
      "Harmonic Mean is 1.0 \n",
      "geometricic Mean is 4.739896323935315 \n"
     ]
    }
   ],
   "source": [
    "data1=fa\n",
    "x = statistics.mean(data1) \n",
    "# Printing the mean \n",
    "print(\"Mean is :\", x) \n",
    "# calculate harmonic mean\n",
    "from scipy import stats\n",
    "c=stats.hmean(fa)\n",
    "\n",
    "print(\"Harmonic Mean is % s \" % (c)) \n",
    "\n",
    "c=stats.gmean([1,9,5,6,6,7])\n",
    "print(\"geometricic Mean is % s \" % (c)) \n"
   ]
  },
  {
   "cell_type": "markdown",
   "metadata": {},
   "source": [
    "# moment"
   ]
  },
  {
   "cell_type": "code",
   "execution_count": 8,
   "metadata": {},
   "outputs": [
    {
     "data": {
      "text/plain": [
       "2.0"
      ]
     },
     "execution_count": 8,
     "metadata": {},
     "output_type": "execute_result"
    }
   ],
   "source": [
    "from scipy.stats import moment\n",
    "moment([1, 2, 3, 4, 5], moment=1)\n",
    "#0.0\n",
    "moment([1, 2, 3, 4, 5], moment=2)\n",
    "#2.0"
   ]
  },
  {
   "cell_type": "code",
   "execution_count": 9,
   "metadata": {},
   "outputs": [
    {
     "name": "stdout",
     "output_type": "stream",
     "text": [
      "0.0\n"
     ]
    }
   ],
   "source": [
    "def moment(data, k):\n",
    "  data_mean = sum(data)/len(data)\n",
    "  return sum((x-data_mean)**k for x in data)/len(data)\n",
    "\n",
    "print moment(sample,2)"
   ]
  },
  {
   "cell_type": "code",
   "execution_count": 10,
   "metadata": {},
   "outputs": [
    {
     "name": "stdout",
     "output_type": "stream",
     "text": [
      "16.0\n"
     ]
    }
   ],
   "source": [
    "def moment(data, k,va):\n",
    "  data_mean = va\n",
    "\n",
    "  return sum((x-data_mean)**k for x in data)/len(data)\n",
    "va=5\n",
    "print moment(sample,2,va)"
   ]
  },
  {
   "cell_type": "markdown",
   "metadata": {},
   "source": [
    "###### end__moment"
   ]
  },
  {
   "cell_type": "code",
   "execution_count": null,
   "metadata": {},
   "outputs": [],
   "source": []
  },
  {
   "cell_type": "code",
   "execution_count": null,
   "metadata": {},
   "outputs": [],
   "source": []
  },
  {
   "cell_type": "code",
   "execution_count": null,
   "metadata": {},
   "outputs": [],
   "source": []
  },
  {
   "cell_type": "code",
   "execution_count": null,
   "metadata": {},
   "outputs": [],
   "source": []
  },
  {
   "cell_type": "code",
   "execution_count": 60,
   "metadata": {},
   "outputs": [],
   "source": [
    "c=[1, 22, 14, 22, 22,22,22]\n",
    "\n"
   ]
  },
  {
   "cell_type": "code",
   "execution_count": 72,
   "metadata": {},
   "outputs": [
    {
     "name": "stdout",
     "output_type": "stream",
     "text": [
      "highest fre__ loc  1 value   22\n",
      "[0, 1, 1, 0, 0, 0, 0, 0, 0, 0, 0, 0, 0, 0, 2, 0, 0, 0, 0, 0, 0, 0, 3, 0, 0, 0, 0, 0]\n"
     ]
    }
   ],
   "source": [
    "c=[1, 22, 14, 2,14,22,22]\n",
    "\n",
    "\n",
    "x = 1\n",
    "z=0\n",
    "while x<len(c):\n",
    "    if c[x] >c[z]:\n",
    "        z=x\n",
    "    x=x+1\n",
    "print \"highest fre__ loc \" ,z  ,\"value  \",c[z]\n",
    "\n",
    "higval=c[z]\n",
    "hv=c[z]+1\n",
    "\n",
    "\n",
    "#create an freq array init =0 to all\n",
    "fa=[]\n",
    "x=0\n",
    "\n",
    "while x<hv+5:\n",
    "    fa.append(int(0))\n",
    "    x=x+1\n",
    "    \n",
    "\n",
    "####\n",
    "\n",
    "\n",
    "i=0\n",
    "x=0\n",
    "\n",
    "for da in c:\n",
    "    fa[da]+=1\n",
    "print fa \n",
    "\n",
    "\n",
    "mul=[]\n",
    "c=fa\n",
    "x = 1\n",
    "z=0\n",
    "while x<len(c):\n",
    "    if c[x] > c[z]:\n",
    "        \n",
    "        z=x\n",
    "    x=x+1\n",
    "    \n",
    "\n",
    "    \n",
    "    \n",
    "  \n",
    "if len(mul) >1 :\n",
    "    for da in mul:\n",
    "        print da\n",
    "    else:\n",
    "        print \"mode value  \",z\n",
    "\n",
    "\n"
   ]
  },
  {
   "cell_type": "code",
   "execution_count": 55,
   "metadata": {},
   "outputs": [],
   "source": []
  },
  {
   "cell_type": "code",
   "execution_count": 59,
   "metadata": {},
   "outputs": [
    {
     "name": "stdout",
     "output_type": "stream",
     "text": [
      "mode value   0\n"
     ]
    }
   ],
   "source": []
  },
  {
   "cell_type": "code",
   "execution_count": null,
   "metadata": {},
   "outputs": [],
   "source": []
  },
  {
   "cell_type": "code",
   "execution_count": null,
   "metadata": {},
   "outputs": [],
   "source": []
  },
  {
   "cell_type": "code",
   "execution_count": null,
   "metadata": {},
   "outputs": [],
   "source": []
  },
  {
   "cell_type": "code",
   "execution_count": null,
   "metadata": {},
   "outputs": [],
   "source": []
  },
  {
   "cell_type": "code",
   "execution_count": null,
   "metadata": {},
   "outputs": [],
   "source": []
  },
  {
   "cell_type": "code",
   "execution_count": null,
   "metadata": {},
   "outputs": [],
   "source": []
  }
 ],
 "metadata": {
  "kernelspec": {
   "display_name": "Python 2",
   "language": "python",
   "name": "python2"
  },
  "language_info": {
   "codemirror_mode": {
    "name": "ipython",
    "version": 2
   },
   "file_extension": ".py",
   "mimetype": "text/x-python",
   "name": "python",
   "nbconvert_exporter": "python",
   "pygments_lexer": "ipython2",
   "version": "2.7.12"
  }
 },
 "nbformat": 4,
 "nbformat_minor": 2
}
