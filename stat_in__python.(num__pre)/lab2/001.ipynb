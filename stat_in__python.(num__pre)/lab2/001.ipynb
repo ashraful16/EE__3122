{
 "cells": [
  {
   "cell_type": "code",
   "execution_count": 5,
   "metadata": {},
   "outputs": [
    {
     "data": {
      "text/plain": [
       "[-1, 1]"
      ]
     },
     "execution_count": 5,
     "metadata": {},
     "output_type": "execute_result"
    }
   ],
   "source": [
    "from sympy import *\n",
    "c=var('x')\n",
    "#x\n",
    "solve(x**2-1)\n",
    "#[1, -1]"
   ]
  },
  {
   "cell_type": "code",
   "execution_count": 6,
   "metadata": {},
   "outputs": [
    {
     "name": "stdout",
     "output_type": "stream",
     "text": [
      "x <class 'sympy.core.symbol.Symbol'>\n"
     ]
    }
   ],
   "source": [
    "print c,type(c)"
   ]
  },
  {
   "cell_type": "code",
   "execution_count": 7,
   "metadata": {},
   "outputs": [
    {
     "name": "stdout",
     "output_type": "stream",
     "text": [
      "⎡     _______      _______⎤\n",
      "⎢    ╱ p + 1      ╱ p + 1 ⎥\n",
      "⎢-  ╱  ───── ,   ╱  ───── ⎥\n",
      "⎣ ╲╱     a     ╲╱     a   ⎦\n"
     ]
    }
   ],
   "source": [
    "import sys\n",
    "sys.displayhook=pprint\n",
    "\n",
    "from sympy import *\n",
    "\n",
    "var('a')\n",
    "var('p')\n",
    "var('x')\n",
    "solve(a*x**2-p-1,x)"
   ]
  },
  {
   "cell_type": "code",
   "execution_count": 10,
   "metadata": {},
   "outputs": [
    {
     "name": "stdout",
     "output_type": "stream",
     "text": [
      "⎡⎛     2    ⎞  ⎛    2    ⎞⎤\n",
      "⎣⎝-1, a  + 2⎠, ⎝1, a  - 2⎠⎦\n"
     ]
    }
   ],
   "source": [
    "import sys\n",
    "sys.displayhook=pprint\n",
    "var('a')\n",
    "var('y')\n",
    "var('x')\n",
    "solve([x**2-1,2*x+y-a**2],[x,y])"
   ]
  },
  {
   "cell_type": "code",
   "execution_count": 11,
   "metadata": {},
   "outputs": [
    {
     "data": {
      "text/plain": [
       "[(2*a**2/5 - sqrt(-a**4 + 5)/5, a**2/5 + 2*sqrt(-a**4 + 5)/5),\n",
       " (2*a**2/5 + sqrt(-a**4 + 5)/5, a**2/5 - 2*sqrt(-a**4 + 5)/5)]"
      ]
     },
     "execution_count": 11,
     "metadata": {},
     "output_type": "execute_result"
    }
   ],
   "source": [
    "solve((x**2+y**2-1,2*x+y-a**2),(x,y))"
   ]
  },
  {
   "cell_type": "code",
   "execution_count": 12,
   "metadata": {},
   "outputs": [
    {
     "data": {
      "text/plain": [
       "Matrix([\n",
       "[-1.31320559579531e-23],\n",
       "[ 2.62641119159062e-23]])"
      ]
     },
     "execution_count": 12,
     "metadata": {},
     "output_type": "execute_result"
    }
   ],
   "source": [
    "nsolve((x**2+exp(y)-1,2*x+y),(x,y),(1,1))"
   ]
  },
  {
   "cell_type": "code",
   "execution_count": 5,
   "metadata": {},
   "outputs": [],
   "source": [
    "from sympy import Matrix, solve_linear_system\n",
    "from sympy.abc import x, y"
   ]
  },
  {
   "cell_type": "code",
   "execution_count": 6,
   "metadata": {},
   "outputs": [
    {
     "data": {
      "text/plain": [
       "{x: -6, y: 2}"
      ]
     },
     "execution_count": 6,
     "metadata": {},
     "output_type": "execute_result"
    }
   ],
   "source": [
    "system = Matrix(( (1, 4, 2), (-2, 1, 14)))\n",
    "solve_linear_system(system, x, y)\n",
    "#{x: -6, y: 2}"
   ]
  },
  {
   "cell_type": "code",
   "execution_count": 7,
   "metadata": {},
   "outputs": [],
   "source": [
    "from sympy import Matrix, solve_linear_system\n",
    "from sympy.abc import x, y ,z"
   ]
  },
  {
   "cell_type": "code",
   "execution_count": 12,
   "metadata": {},
   "outputs": [
    {
     "data": {
      "text/plain": [
       "{x: -3/2, y: 11/4}"
      ]
     },
     "execution_count": 12,
     "metadata": {},
     "output_type": "execute_result"
    }
   ],
   "source": [
    "system = Matrix(( (1, 2,4), (-2, 4, 14)))\n",
    "solve_linear_system(system, x, y )\n",
    "#{x: -6, y: 2}"
   ]
  },
  {
   "cell_type": "code",
   "execution_count": null,
   "metadata": {},
   "outputs": [],
   "source": []
  },
  {
   "cell_type": "code",
   "execution_count": 1,
   "metadata": {},
   "outputs": [],
   "source": [
    "from sympy import *\n",
    "init_printing(use_latex='mathjax')\n",
    "x, y, z,t = symbols('x,y,z,t')\n",
    "r, theta = symbols('r,theta', positive=True)"
   ]
  },
  {
   "cell_type": "code",
   "execution_count": 2,
   "metadata": {},
   "outputs": [
    {
     "name": "stdout",
     "output_type": "stream",
     "text": [
      "Matrix([[-33, 11, 0], [11, -38, 14], [0, 14, -45]]) <class 'sympy.matrices.dense.MutableDenseMatrix'>\n",
      "Matrix([[24*exp(t)], [-29*exp(t)], [-29*exp(t)]])\n"
     ]
    }
   ],
   "source": [
    "rot = Matrix([[-33 ,11, 0],[11, -38, 14],[0, 14, -45]])\n",
    "bot = Matrix([[24*exp(t)],[-29*exp(t)],[-29*exp(t)]])\n",
    "print rot,type(rot)\n",
    "print bot "
   ]
  },
  {
   "cell_type": "code",
   "execution_count": 3,
   "metadata": {},
   "outputs": [],
   "source": [
    "a=Matrix([[-33, 11, 0],[11, -38,14],[0,14, -45]])\n",
    "b=Matrix([[24],[-29],[-29]])\n"
   ]
  },
  {
   "cell_type": "code",
   "execution_count": 18,
   "metadata": {},
   "outputs": [],
   "source": [
    "a=rot\n",
    "b=bot"
   ]
  },
  {
   "cell_type": "code",
   "execution_count": 4,
   "metadata": {},
   "outputs": [],
   "source": [
    "#i=(a'*a)^-1*a'*b\n",
    "   \n",
    "   \n",
    "c=a.inv()\n",
    "d=c*a\n",
    "e=d.inv()\n",
    "f=e*c\n",
    "g=f*b"
   ]
  },
  {
   "cell_type": "code",
   "execution_count": 7,
   "metadata": {},
   "outputs": [
    {
     "name": "stdout",
     "output_type": "stream",
     "text": [
      "-0.39344520071\n",
      "1.00148257969\n",
      "0.95601680257\n"
     ]
    }
   ],
   "source": [
    "for l in g:\n",
    "    print float(l)"
   ]
  },
  {
   "cell_type": "code",
   "execution_count": 1,
   "metadata": {},
   "outputs": [],
   "source": [
    "def gauss(A):\n",
    "    m = len(A)\n",
    "    assert all([len(row) == m + 1 for row in A[1:]]), \"Matrix rows have non-uniform length\"\n",
    "    n = m + 1\n",
    "    \n",
    "    for k in range(m):\n",
    "        pivots = [abs(A[i][k]) for i in range(k, m)]\n",
    "        i_max = pivots.index(max(pivots)) + k\n",
    "        \n",
    "        # Check for singular matrix\n",
    "        assert A[i_max][k] != 0, \"Matrix is singular!\"\n",
    "        \n",
    "        # Swap rows\n",
    "        A[k], A[i_max] = A[i_max], A[k]\n",
    "\n",
    "        \n",
    "        for i in range(k + 1, m):\n",
    "            f = A[i][k] / A[k][k]\n",
    "            for j in range(k + 1, n):\n",
    "                A[i][j] -= A[k][j] * f\n",
    "\n",
    "            # Fill lower triangular matrix with zeros:\n",
    "            A[i][k] = 0\n",
    "    \n",
    "    # Solve equation Ax=b for an upper triangular matrix A         \n",
    "    x = []\n",
    "    for i in range(m - 1, -1, -1):\n",
    "        x.insert(0, A[i][m] / A[i][i])\n",
    "        for k in range(i - 1, -1, -1):\n",
    "            A[k][m] -= A[k][i] * x[0]\n",
    "    return x"
   ]
  },
  {
   "cell_type": "code",
   "execution_count": 2,
   "metadata": {},
   "outputs": [],
   "source": [
    "#a=[-33 11 0 24;11 -38 14 -29;0 14 -45 -29];\n",
    "a=[[-33,11,0,24],[11,-38,14,-29],[0,14,-45,-29]]"
   ]
  },
  {
   "cell_type": "code",
   "execution_count": 3,
   "metadata": {},
   "outputs": [
    {
     "data": {
      "text/plain": [
       "[-1, 0, 1]"
      ]
     },
     "execution_count": 3,
     "metadata": {},
     "output_type": "execute_result"
    }
   ],
   "source": [
    "gauss(a)"
   ]
  },
  {
   "cell_type": "code",
   "execution_count": 5,
   "metadata": {},
   "outputs": [
    {
     "data": {
      "text/plain": [
       "[-1, 0, 0]"
      ]
     },
     "execution_count": 5,
     "metadata": {},
     "output_type": "execute_result"
    }
   ],
   "source": [
    "\n",
    "def gaussian_elimination_with_pivot(m):\n",
    "  \"\"\"\n",
    "  Parameters\n",
    "  ----------\n",
    "  m  : list of list of floats (matrix)\n",
    "\n",
    "  Returns\n",
    "  -------  \n",
    "  list of floats\n",
    "      solution to the system of linear equation\n",
    "  \n",
    "  Raises\n",
    "  ------\n",
    "  ValueError\n",
    "      no unique solution\n",
    "  \"\"\"\n",
    "  # forward elimination\n",
    "  n = len(m)\n",
    "  for i in range(n):\n",
    "    pivot(m, n, i)\n",
    "    for j in range(i+1, n):\n",
    "      m[j] = [m[j][k] - m[i][k]*m[j][i]/m[i][i] for k in range(n+1)]\n",
    "\n",
    "  if m[n-1][n-1] == 0: raise ValueError('No unique solution')\n",
    "\n",
    "  # backward substitution\n",
    "  x = [0] * n\n",
    "  for i in range(n-1, -1, -1):\n",
    "    s = sum(m[i][j] * x[j] for j in range(i, n))\n",
    "    x[i] = (m[i][n] - s) / m[i][i]\n",
    "  return x\n",
    "\n",
    "'''\n",
    "# shorter way to pivot but cannot run in trinket\n",
    "def pivot(m, n, i):\n",
    "  max_row = max(range(i, n), key=lambda r: abs(m[r][i]))\n",
    "  m[i], m[max_row] = m[max_row], m[i]\n",
    "'''\n",
    "\n",
    "def pivot(m, n, i):\n",
    "  max = -1e100\n",
    "  for r in range(i, n):\n",
    "    if max < abs(m[r][i]):\n",
    "      max_row = r\n",
    "      max = abs(m[r][i])\n",
    "  m[i], m[max_row] = m[max_row], m[i]\n",
    "\n",
    "'''\n",
    "if __name__ == '__main__':\n",
    "  #m = [[0,-2,6,-10], [-1,3,-6,5], [4,-12,8,12]]\n",
    "  #m = [[1,-1,3,2], [3,-3,1,-1], [1,1,0,3]]\n",
    "  m = [[1,-1,3,2], [6,-6,2,-2], [1,1,0,3]]\n",
    "  print(gaussian_elimination_with_pivot(m))\n",
    "  \n",
    "  \"\"\"  \n",
    "  m = [[4,4,0,400], [-1,4,2,400], [0,-2,4,400]]   # aj Montri p80  [50, 50, 125]\n",
    "  print(gaussian_elimination_with_pivot(m))\n",
    "  \"\"\"\n",
    "\n",
    "# gaussian elimination with pivot\n",
    "# author: Worasait Suwannik\n",
    "# date: May 2015\n",
    "'''\n",
    "gaussian_elimination_with_pivot(a)"
   ]
  },
  {
   "cell_type": "code",
   "execution_count": null,
   "metadata": {},
   "outputs": [],
   "source": []
  }
 ],
 "metadata": {
  "kernelspec": {
   "display_name": "Python 2",
   "language": "python",
   "name": "python2"
  },
  "language_info": {
   "codemirror_mode": {
    "name": "ipython",
    "version": 2
   },
   "file_extension": ".py",
   "mimetype": "text/x-python",
   "name": "python",
   "nbconvert_exporter": "python",
   "pygments_lexer": "ipython2",
   "version": "2.7.12"
  }
 },
 "nbformat": 4,
 "nbformat_minor": 2
}
