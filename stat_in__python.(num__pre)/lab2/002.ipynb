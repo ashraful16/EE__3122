{
 "cells": [
  {
   "cell_type": "code",
   "execution_count": 25,
   "metadata": {},
   "outputs": [],
   "source": [
    "import numpy as np\n",
    "import math\n",
    "\n",
    "\n",
    "def forward_elimination(A, b, n):\n",
    "    \"\"\"\n",
    "    Calculates the forward part of Gaussian elimination.\n",
    "    \"\"\"\n",
    "    for row in range(0, n-1):\n",
    "        for i in range(row+1, n):\n",
    "            factor = A[i,row] / A[row,row]\n",
    "            for j in range(row, n):\n",
    "                A[i,j] = A[i,j] - factor * A[row,j]\n",
    "\n",
    "            b[i] = b[i] - factor * b[row]\n",
    "\n",
    "        print('A = \\n%s and b = %s' % (A,b))\n",
    "    return A, b\n",
    "\n",
    "def back_substitution(a, b, n):\n",
    "    \"\"\"\"\n",
    "    Does back substitution, returns the Gauss result.\n",
    "    \"\"\"\n",
    "    x = np.zeros((n,1))\n",
    "    x[n-1] = b[n-1] / a[n-1, n-1]\n",
    "    for row in range(n-2, -1, -1):\n",
    "        sums = b[row]\n",
    "        for j in range(row+1, n):\n",
    "            sums = sums - a[row,j] * x[j]\n",
    "        x[row] = sums / a[row,row]\n",
    "    return x\n",
    "\n",
    "def gauss(A, b):\n",
    "    \"\"\"\n",
    "    This function performs Gauss elimination without pivoting.\n",
    "    \"\"\"\n",
    "    n = A.shape[0]\n",
    "\n",
    "    # Check for zero diagonal elements\n",
    "    if any(np.diag(A)==0):\n",
    "        raise ZeroDivisionError(('Division by zero will occur; '\n",
    "                                  'pivoting currently not supported'))\n",
    "\n",
    "    A, b = forward_elimination(A, b, n)\n",
    "    return back_substitution(A, b, n)"
   ]
  },
  {
   "cell_type": "code",
   "execution_count": 29,
   "metadata": {},
   "outputs": [],
   "source": [
    "a=[[-33,11,0,24],[11,-38,14,-29],[0,14,-45,-29]]\n",
    "\n"
   ]
  },
  {
   "cell_type": "code",
   "execution_count": 6,
   "metadata": {},
   "outputs": [],
   "source": [
    "def myGauss(m):\n",
    "    #eliminate columns\n",
    "    for col in range(len(m[0])):\n",
    "        for row in range(col+1, len(m)):\n",
    "            r = [(rowValue * (-(m[row][col] / m[col][col]))) for rowValue in m[col]]\n",
    "            m[row] = [sum(pair) for pair in zip(m[row], r)]\n",
    "    return m"
   ]
  },
  {
   "cell_type": "code",
   "execution_count": 7,
   "metadata": {},
   "outputs": [
    {
     "name": "stdout",
     "output_type": "stream",
     "text": [
      "[[-33, 11, 0, 24], [-22, -27, 14, -5], [-22, -13, -31, -34]]\n"
     ]
    }
   ],
   "source": [
    "print myGauss(a)"
   ]
  },
  {
   "cell_type": "code",
   "execution_count": 8,
   "metadata": {},
   "outputs": [],
   "source": [
    "def myGauss(m):\n",
    "    #eliminate columns\n",
    "    for col in range(len(m[0])):\n",
    "        for row in range(col+1, len(m)):\n",
    "            r = [(rowValue * (-(m[row][col] / m[col][col]))) for rowValue in m[col]]\n",
    "            m[row] = [sum(pair) for pair in zip(m[row], r)]\n",
    "    #now backsolve by substitution\n",
    "    '''\n",
    "\n",
    "    ans = []\n",
    "    m.reverse() #makes it easier to backsolve\n",
    "    for sol in range(len(m)):\n",
    "            if sol == 0:\n",
    "                ans.append(m[sol][-1] / m[sol][-2])\n",
    "            else:\n",
    "                inner = 0\n",
    "                #substitute in all known coefficients\n",
    "                for x in range(sol):\n",
    "                    inner += (ans[x]*m[sol][-2-x])\n",
    "                #the equation is now reduced to ax + b = c form\n",
    "                #solve with (c - b) / a\n",
    "                ans.append((m[sol][-1]-inner)/m[sol][-sol-2])\n",
    "    ans.reverse()\n",
    "    return ans\n",
    "        '''"
   ]
  },
  {
   "cell_type": "code",
   "execution_count": 9,
   "metadata": {},
   "outputs": [
    {
     "name": "stdout",
     "output_type": "stream",
     "text": [
      "[2. 3.]\n"
     ]
    }
   ],
   "source": [
    "a = np.array([[3,1], [1,2]])\n",
    "b = np.array([9,8])\n",
    "x = np.linalg.solve(a, b)\n",
    "print x"
   ]
  },
  {
   "cell_type": "code",
   "execution_count": 10,
   "metadata": {},
   "outputs": [
    {
     "name": "stdout",
     "output_type": "stream",
     "text": [
      "<type 'numpy.ndarray'>\n"
     ]
    }
   ],
   "source": [
    "print type(x)"
   ]
  },
  {
   "cell_type": "code",
   "execution_count": 11,
   "metadata": {},
   "outputs": [
    {
     "name": "stdout",
     "output_type": "stream",
     "text": [
      "2.0\n",
      "3.0\n"
     ]
    }
   ],
   "source": [
    "for num in x:\n",
    "    print num"
   ]
  },
  {
   "cell_type": "code",
   "execution_count": 12,
   "metadata": {},
   "outputs": [],
   "source": [
    "A=[[-33,11,0,24],[11,-38,14,-29],[0,14,-45,-29]]"
   ]
  },
  {
   "cell_type": "code",
   "execution_count": 13,
   "metadata": {},
   "outputs": [],
   "source": [
    "\n",
    "\n",
    "\n",
    "def pprint(A):\n",
    "    n = len(A)\n",
    "    for i in range(0, n):\n",
    "        line = \"\"\n",
    "        for j in range(0, n+1):\n",
    "            line += str(A[i][j]) + \"\\t\"\n",
    "            if j == n-1:\n",
    "                line += \"| \"\n",
    "        print(line)\n",
    "    print(\"\")\n",
    "\n",
    "\n",
    "def gauss(A):\n",
    "    n = len(A)\n",
    "\n",
    "    for i in range(0, n):\n",
    "        # Search for maximum in this column\n",
    "        maxEl = abs(A[i][i])\n",
    "        maxRow = i\n",
    "        for k in range(i+1, n):\n",
    "            if abs(A[k][i]) > maxEl:\n",
    "                maxEl = abs(A[k][i])\n",
    "                maxRow = k\n",
    "\n",
    "        # Swap maximum row with current row (column by column)\n",
    "        for k in range(i, n+1):\n",
    "            tmp = A[maxRow][k]\n",
    "            A[maxRow][k] = A[i][k]\n",
    "            A[i][k] = tmp\n",
    "\n",
    "        # Make all rows below this one 0 in current column\n",
    "        for k in range(i+1, n):\n",
    "            c = -A[k][i]/A[i][i]\n",
    "            for j in range(i, n+1):\n",
    "                if i == j:\n",
    "                    A[k][j] = 0\n",
    "                else:\n",
    "                    A[k][j] += c * A[i][j]\n",
    "\n",
    "    # Solve equation Ax=b for an upper triangular matrix A\n",
    "    x = [0 for i in range(n)]\n",
    "    for i in range(n-1, -1, -1):\n",
    "        x[i] = A[i][n]/A[i][i]\n",
    "        for k in range(i-1, -1, -1):\n",
    "            A[k][n] -= A[k][i] * x[i]\n",
    "    return x\n",
    "\n",
    "\n",
    "\n",
    "    # Calculate solution\n",
    "    x = gauss(A)\n",
    "\n",
    "    # Print result\n",
    "    line = \"Result:\\t\"\n",
    "    for i in range(0, n):\n",
    "        line += str(x[i]) + \"\\t\"\n",
    "    print(line)"
   ]
  },
  {
   "cell_type": "markdown",
   "metadata": {},
   "source": [
    "#### "
   ]
  },
  {
   "cell_type": "code",
   "execution_count": null,
   "metadata": {},
   "outputs": [],
   "source": []
  },
  {
   "cell_type": "code",
   "execution_count": 14,
   "metadata": {},
   "outputs": [],
   "source": [
    "from sympy import *\n",
    "init_printing(use_latex='mathjax')\n"
   ]
  },
  {
   "cell_type": "code",
   "execution_count": 15,
   "metadata": {},
   "outputs": [
    {
     "name": "stdout",
     "output_type": "stream",
     "text": [
      "jj   3\n",
      "[[1, 2, 3, 1], [0, -4, -8, -4], [0, 2, 4, 2]]\n",
      "[[1, 0, -1, -1], [0, 0, 0, 0], [0, 1, 2, 1]]\n",
      "   0  1  2\n",
      "0  1  0  0\n",
      "1  0  0  1\n",
      "2 -1  0  2\n",
      "3 -1  0  1\n"
     ]
    }
   ],
   "source": [
    "def like_a_gauss(mat):\n",
    "\t\"\"\"\n",
    "\tChanges mat into Reduced Row-Echelon Form.\n",
    "\t\"\"\"\n",
    "\t# Let's do forward step first.\n",
    "\t# at the end of this for loop, the matrix is in Row-Echelon format.\n",
    "\tfor i in range(min(len(mat), len(mat[0]))):\n",
    "\t\t# every iteration, ignore one more row and column\n",
    "\t\tfor r in range(i, len(mat)):\n",
    "\t\t\t# find the first row with a nonzero entry in first column\n",
    "\t\t\tzero_row = mat[r][i] == 0\n",
    "\t\t\tif zero_row:\n",
    "\t\t\t\tcontinue\n",
    "\t\t\t# swap current row with first row\n",
    "\t\t\tmat[i], mat[r] = mat[r], mat[i]\n",
    "\t\t\t# add multiples of the new first row to lower rows so lower\n",
    "\t\t\t# entries of first column is zero\n",
    "\t\t\tfirst_row_first_col = mat[i][i]\n",
    "\t\t\tfor rr in range(i + 1, len(mat)):\n",
    "\t\t\t\tthis_row_first = mat[rr][i]\n",
    "\t\t\t\tscalarMultiple = -1 * this_row_first / first_row_first_col\n",
    "\t\t\t\tfor cc in range(i, len(mat[0])):\n",
    "\t\t\t\t\tmat[rr][cc] += mat[i][cc] * scalarMultiple\n",
    "\t\t\tbreak\n",
    "\n",
    "\t# At the end of the forward step\n",
    "\tprint(mat)\n",
    "\t# Now reduce\n",
    "\tfor i in range(min(len(mat), len(mat[0])) - 1, -1, -1):\n",
    "\t\t# divide last non-zero row by first non-zero entry\n",
    "\t\tfirst_elem_col = -1\n",
    "\t\tfirst_elem = -1\n",
    "\t\tfor c in range(len(mat[0])):\n",
    "\t\t\tif mat[i][c] == 0:\n",
    "\t\t\t\tcontinue\n",
    "\t\t\tif first_elem_col == -1:\n",
    "\t\t\t\tfirst_elem_col = c\n",
    "\t\t\t\tfirst_elem = mat[i][c]\n",
    "\t\t\tmat[i][c] /= first_elem\n",
    "\t\t# add multiples of this row so all numbers above the leading 1 is zero\n",
    "\t\tfor r in range(i):\n",
    "\t\t\tthis_row_above = mat[r][first_elem_col]\n",
    "\t\t\tscalarMultiple = -1 * this_row_above\n",
    "\t\t\tfor cc in range(len(mat[0])):\n",
    "\t\t\t\tmat[r][cc] += mat[i][cc] * scalarMultiple\n",
    "\t\t# disregard this row and continue\n",
    "\tprint(mat)\n",
    "\n",
    "\n",
    "def augment_that_sucker(mat1, mat2):\n",
    "\t\"\"\"\n",
    "\tDuct-tape mat2's columns to the right of mat1\n",
    "\tReturn a new matrix.\n",
    "\t\"\"\"\n",
    "\tretval = []\n",
    "\tprint \"jj  \",len(mat1)\n",
    "\tfor i in range(len(mat1)):\n",
    "\t\tr = mat1[i]\n",
    "\t\tnewrow = r[:] + mat2[i]\n",
    "\t\tretval.append(newrow)\n",
    "\treturn retval\n",
    "\n",
    "def from_vector(vector):\n",
    "\t\"\"\"\n",
    "\tConvert a vector into a column matrix.\n",
    "\t\"\"\"\n",
    "\tretval = []\n",
    "\tfor r in vector:\n",
    "\t\tretval.append([r])\n",
    "\treturn retval\n",
    "\n",
    "def transpose(mat):\n",
    "\t\"\"\"\n",
    "\tReturn a transposed version of mat.\n",
    "\t\"\"\"\n",
    "\tretval = []\n",
    "\tfor c in range(len(mat[0])):\n",
    "\t\tnewrow = []\n",
    "\t\tfor r in range(len(mat)):\n",
    "\t\t\tnewrow.append(mat[r][c])\n",
    "\t\tretval.append(newrow)\n",
    "\treturn retval\n",
    "\n",
    "# testcase from http://reference.wolfram.com/mathematica/ref/RowReduce.html\n",
    "\n",
    "mattest = [[1,2,3],[5,6,7],[7,8,9]]\n",
    "\n",
    "mattest2 = from_vector([1,1,1])\n",
    "\n",
    "mattest3 = augment_that_sucker(mattest, mattest2)\n",
    "like_a_gauss(mattest3)\n",
    "\n",
    "print(DataFrame(transpose(mattest3)))"
   ]
  },
  {
   "cell_type": "code",
   "execution_count": 16,
   "metadata": {},
   "outputs": [],
   "source": [
    "t=[[-33,11,0,24],[11,-38,14,-29],[0,14,-45,-29]]"
   ]
  },
  {
   "cell_type": "code",
   "execution_count": 17,
   "metadata": {},
   "outputs": [
    {
     "ename": "NameError",
     "evalue": "name 'text' is not defined",
     "output_type": "error",
     "traceback": [
      "\u001b[0;31m---------------------------------------------------------------------------\u001b[0m",
      "\u001b[0;31mNameError\u001b[0m                                 Traceback (most recent call last)",
      "\u001b[0;32m<ipython-input-17-8681ae4114d8>\u001b[0m in \u001b[0;36m<module>\u001b[0;34m()\u001b[0m\n\u001b[1;32m      5\u001b[0m         \u001b[0;34m*\u001b[0m\u001b[0;34m(\u001b[0m\u001b[0mx\u001b[0m\u001b[0;34m.\u001b[0m\u001b[0msplitlines\u001b[0m\u001b[0;34m(\u001b[0m\u001b[0;34m)\u001b[0m \u001b[0;32mfor\u001b[0m \u001b[0mx\u001b[0m \u001b[0;32min\u001b[0m \u001b[0my\u001b[0m\u001b[0;34m)\u001b[0m\u001b[0;34m,\u001b[0m\u001b[0;34m\u001b[0m\u001b[0m\n\u001b[1;32m      6\u001b[0m         fillvalue='') \n\u001b[0;32m----> 7\u001b[0;31m     for y in text)\n\u001b[0m",
      "\u001b[0;31mNameError\u001b[0m: name 'text' is not defined"
     ]
    }
   ],
   "source": [
    "from itertools import chain, izip_longest\n",
    "\n",
    "matrix = chain.from_iterable(\n",
    "    izip_longest(\n",
    "        *(x.splitlines() for x in y), \n",
    "        fillvalue='') \n",
    "    for y in text)"
   ]
  },
  {
   "cell_type": "code",
   "execution_count": 71,
   "metadata": {},
   "outputs": [],
   "source": [
    "from pandas import *\n",
    "import scipy\n",
    "#x = [[\"A\", \"B\"], [\"C\", \"D\"]]\n",
    "#print DataFrame(t)"
   ]
  },
  {
   "cell_type": "code",
   "execution_count": 72,
   "metadata": {},
   "outputs": [
    {
     "name": "stdout",
     "output_type": "stream",
     "text": [
      "Solutions:\n",
      "[  6.  15. -23.]\n",
      "[[-33.          11.           0.          24.        ]\n",
      " [  0.         -34.33333333  14.         -21.        ]\n",
      " [  0.           0.         -39.29126214 -37.5631068 ]]\n"
     ]
    }
   ],
   "source": [
    "#import linalg package of the SciPy module for the LU decomp\n",
    "import scipy.linalg as linalg \n",
    "#import NumPy\n",
    "import numpy as np\n",
    "#define A same as before\n",
    "A = np.array([[2., 1., 1.],\n",
    " [1., 3., 2.],\n",
    " [1., 0., 0.]]) \n",
    "\n",
    "#define B\n",
    "B = np.array([4., 5., 6.]) \n",
    "\n",
    "#call the lu_factor function\n",
    "LU = linalg.lu_factor(A) \n",
    "\n",
    "#solve given LU and B\n",
    "x = linalg.lu_solve(LU, B) \n",
    "print \"Solutions:\\n\",x\n",
    "\n",
    "#we get the same solution as before\n",
    "#Solutions:\n",
    "#[  6.  15. -23.] \n",
    "t=[[-33,11,0,24],[11,-38,14,-29],[0,14,-45,-29]]\n",
    "A=t\n",
    "#now we want to see how A has been factorized, P is the so called Permutation matrix\n",
    "P, L, U = scipy.linalg.lu(A) \n",
    "\n",
    "\n",
    "print U\n"
   ]
  },
  {
   "cell_type": "code",
   "execution_count": 30,
   "metadata": {},
   "outputs": [],
   "source": [
    "t=[[-33,11,0,24],[11,-38,14,-29],[0,14,-45,-29]]"
   ]
  },
  {
   "cell_type": "code",
   "execution_count": 31,
   "metadata": {},
   "outputs": [
    {
     "name": "stdout",
     "output_type": "stream",
     "text": [
      "[[-33.          11.           0.          24.        ]\n",
      " [  0.         -34.33333333  14.         -21.        ]\n",
      " [  0.           0.         -39.29126214 -37.5631068 ]]\n"
     ]
    }
   ],
   "source": [
    "u=U\n",
    "print u"
   ]
  },
  {
   "cell_type": "code",
   "execution_count": 44,
   "metadata": {},
   "outputs": [
    {
     "name": "stdout",
     "output_type": "stream",
     "text": [
      "3\n",
      "4\n"
     ]
    }
   ],
   "source": [
    "u[0][0]\n",
    "\n",
    "c= len(u)\n",
    "d=len(u[0])\n",
    "\n",
    "print len(u)\n",
    "print len(u[0])"
   ]
  },
  {
   "cell_type": "code",
   "execution_count": 68,
   "metadata": {},
   "outputs": [
    {
     "name": "stdout",
     "output_type": "stream",
     "text": [
      "0.9560168025698047\n",
      "1.0014825796886582\n",
      "-0.39344520070984124\n"
     ]
    }
   ],
   "source": [
    "i3=1/(u[2][2]/u[2][3])\n",
    "\n",
    "print i3\n",
    "\n",
    "i21= u[1][3]-(u[1][2])*i3\n",
    "i2=i21/u[1][1]\n",
    "print i2\n",
    "\n",
    "i11=u[0][3]-u[0][2]*i3-i2*u[0][1]\n",
    "\n",
    "i1=i11/u[0][0]\n",
    "\n",
    "print i1"
   ]
  },
  {
   "cell_type": "code",
   "execution_count": 70,
   "metadata": {},
   "outputs": [
    {
     "ename": "IndentationError",
     "evalue": "expected an indented block (<ipython-input-70-9a6230d82bf6>, line 7)",
     "output_type": "error",
     "traceback": [
      "\u001b[0;36m  File \u001b[0;32m\"<ipython-input-70-9a6230d82bf6>\"\u001b[0;36m, line \u001b[0;32m7\u001b[0m\n\u001b[0;31m    #\u001b[0m\n\u001b[0m     ^\u001b[0m\n\u001b[0;31mIndentationError\u001b[0m\u001b[0;31m:\u001b[0m expected an indented block\n"
     ]
    }
   ],
   "source": [
    "for i in range(c): \n",
    "    #print i\n",
    "    print \"\\n\"\n",
    "    for j in range(d):\n",
    "        \n",
    "        #print i,\" \",j ,\"  \"\n",
    "#"
   ]
  },
  {
   "cell_type": "code",
   "execution_count": 1,
   "metadata": {},
   "outputs": [
    {
     "name": "stdout",
     "output_type": "stream",
     "text": [
      "[[-33, 11, 0, 24], [11, -38, 14, -29], [0, 14, -45, -29]]\n",
      "[[ 1.          0.          0.        ]\n",
      " [-0.33333333  1.          0.        ]\n",
      " [-0.         -0.40776699  1.        ]]\n"
     ]
    }
   ],
   "source": [
    "from pandas import *\n",
    "import scipy\n",
    "#import linalg package of the SciPy module for the LU decomp\n",
    "import scipy.linalg as linalg \n",
    "#import NumPy\n",
    "import numpy as np\n",
    "\n",
    "t=[[-33,11,0,24],[11,-38,14,-29],[0,14,-45,-29]]\n",
    "A=t\n",
    "print A\n",
    "#now we want to see how A has been factorized, P is the so called Permutation matrix\n",
    "P, L, U = scipy.linalg.lu(A) \n",
    "\n",
    "\n",
    "print L\n",
    "\n",
    "        "
   ]
  },
  {
   "cell_type": "code",
   "execution_count": null,
   "metadata": {},
   "outputs": [],
   "source": []
  }
 ],
 "metadata": {
  "kernelspec": {
   "display_name": "Python 2",
   "language": "python",
   "name": "python2"
  },
  "language_info": {
   "codemirror_mode": {
    "name": "ipython",
    "version": 2
   },
   "file_extension": ".py",
   "mimetype": "text/x-python",
   "name": "python",
   "nbconvert_exporter": "python",
   "pygments_lexer": "ipython2",
   "version": "2.7.12"
  }
 },
 "nbformat": 4,
 "nbformat_minor": 2
}
