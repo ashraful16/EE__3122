{
 "cells": [
  {
   "cell_type": "code",
   "execution_count": 78,
   "metadata": {},
   "outputs": [
    {
     "name": "stdout",
     "output_type": "stream",
     "text": [
      "j   =  1 [  0.  88. -49.   1.]  =  1.0 60.0\n",
      "j   =  2 [  0.         -29.         -15.33333333   1.        ]  =  1.3333333333333333 60.0\n",
      "j   =  2 [  0.           0.         -95.52873563   4.03448276]  =  -3.0344827586206895 88.0\n",
      "[[ 60.          91.          26.           1.        ]\n",
      " [  0.          88.         -49.           1.        ]\n",
      " [  0.           0.         -95.52873563   4.03448276]]\n",
      "[[ 1.00000000e+00 -0.00000000e+00 -9.37591755e-17  5.33991096e-02]\n",
      " [ 0.00000000e+00  1.00000000e+00  6.18192366e-17 -1.21525689e-02]\n",
      " [-0.00000000e+00 -0.00000000e+00  1.00000000e+00 -4.22331849e-02]]\n",
      "[ 0.05339911 -0.01215257 -0.04223318]\n"
     ]
    }
   ],
   "source": [
    "import numpy as np\n",
    "A = np.array([[60, 91, 26], [60, 3, 75], [45, 90, 31]], dtype='float')\n",
    "b = np.array([1, 0, 0])\n",
    "#print b\n",
    "#print b.reshape(-1, 1)\n",
    "Ab = np.hstack([A, b.reshape(-1, 1)])\n",
    "\n",
    "#print Ab\n",
    "n = len(b)\n",
    "#print n\n",
    "for i in range(n):\n",
    "    a = Ab[i]\n",
    "    #print a,\"  \",n\n",
    "\n",
    "    for j in range(i + 1, n):\n",
    "        b = Ab[j]\n",
    "        m = a[i] / b[i]\n",
    "        Ab[j] = a - m * b\n",
    "        print 'j ',\" = \",j, b,\" = \",   m,a[i]\n",
    "\n",
    "print Ab\n",
    "for i in range(n - 1, -1, -1):\n",
    "    #print Ab[i],\"  /  \" , Ab[i, i] ,\" idx\" ,i,i\n",
    "    Ab[i] = Ab[i] / Ab[i, i]\n",
    "    a = Ab[i]\n",
    "    \n",
    "\n",
    "\n",
    "\n",
    "    for j in range(i - 1, -1, -1):\n",
    "        b = Ab[j]\n",
    "        m = a[i] / b[i]\n",
    "        Ab[j] = a - m * b\n",
    "        \n",
    "print Ab\n",
    "\n",
    "x = Ab[:, 3]\n",
    "\n",
    "print x"
   ]
  },
  {
   "cell_type": "markdown",
   "metadata": {},
   "source": [
    "###### "
   ]
  },
  {
   "cell_type": "code",
   "execution_count": 50,
   "metadata": {},
   "outputs": [
    {
     "name": "stdout",
     "output_type": "stream",
     "text": [
      "[6.0, 15.0, -23.0]\n"
     ]
    }
   ],
   "source": [
    "y=[  6. , 15. ,-23.]\n",
    "x = Ab[:, 3]\n",
    "\n",
    "z=[]\n",
    "\n",
    "for data in x:\n",
    "    z.append(round(data))\n",
    "    \n",
    "print \"solution is \",z"
   ]
  },
  {
   "cell_type": "code",
   "execution_count": null,
   "metadata": {},
   "outputs": [],
   "source": []
  },
  {
   "cell_type": "code",
   "execution_count": 25,
   "metadata": {},
   "outputs": [],
   "source": [
    "import scipy "
   ]
  },
  {
   "cell_type": "code",
   "execution_count": 29,
   "metadata": {},
   "outputs": [
    {
     "name": "stdout",
     "output_type": "stream",
     "text": [
      "[[-33.          11.           0.          24.        ]\n",
      " [  0.         -34.33333333  14.         -21.        ]\n",
      " [  0.           0.         -39.29126214 -37.5631068 ]]\n",
      "Solutions:\n",
      "[-0.3934452   1.00148258  0.9560168 ]\n",
      "0.9560168025698047\n",
      "1.0014825796886582\n",
      "-0.39344520070984124\n"
     ]
    }
   ],
   "source": [
    "#import linalg package of the SciPy module for the LU decomp\n",
    "import scipy.linalg as linalg \n",
    "#import NumPy\n",
    "import numpy as np\n",
    "#define A same as before\n",
    "A = np.array([[2., 1., 1.],\n",
    " [1., 3., 2.],\n",
    " [1., 0., 0.]]) \n",
    "\n",
    "\n",
    "t=[[-33,11,0,24],[11,-38,14,-29],[0,14,-45,-29]]\n",
    "A=t\n",
    "#now we want to see how A has been factorized, P is the so called Permutation matrix\n",
    "P, L, U = scipy.linalg.lu(A) \n",
    "print U\n",
    "e=[[-33,11,0],[11,-38,14],[0,14,-45]]\n",
    "w=[24,-29,-29]\n",
    "LU = linalg.lu_factor(e)\n",
    "x = linalg.lu_solve(LU, w) \n",
    "print \"Solutions:\\n\",x\n",
    "\n",
    "\n",
    "u=U\n",
    "\n",
    "\n",
    "\n",
    "i3=1/(u[2][2]/u[2][3])\n",
    "\n",
    "print i3\n",
    "\n",
    "i21= u[1][3]-(u[1][2])*i3\n",
    "i2=i21/u[1][1]\n",
    "print i2\n",
    "\n",
    "i11=u[0][3]-u[0][2]*i3-i2*u[0][1]\n",
    "\n",
    "i1=i11/u[0][0]\n",
    "\n",
    "print i1"
   ]
  },
  {
   "cell_type": "code",
   "execution_count": 39,
   "metadata": {},
   "outputs": [
    {
     "name": "stdout",
     "output_type": "stream",
     "text": [
      "Solutions:\n",
      "[  6.  15. -23.]\n"
     ]
    }
   ],
   "source": [
    "A = np.array([[2., 1., 1.],\n",
    " [1., 3., 2.],\n",
    " [1., 0., 0.]]) \n",
    "\n",
    "#define B\n",
    "B = np.array([4., 5., 6.]) \n",
    "\n",
    "#call the lu_factor function\n",
    "LU = linalg.lu_factor(A) \n",
    "\n",
    "#solve given LU and B\n",
    "x = linalg.lu_solve(LU, B) \n",
    "print \"Solutions:\\n\",x"
   ]
  },
  {
   "cell_type": "code",
   "execution_count": 43,
   "metadata": {},
   "outputs": [
    {
     "name": "stdout",
     "output_type": "stream",
     "text": [
      "[[  2.   1.   1.   4.]\n",
      " [  0.  -5.  -3.  -6.]\n",
      " [  0.   0.   2. -46.]]\n",
      "[[  1.  -0.  -0.   6.]\n",
      " [ -0.   1.  -0.  15.]\n",
      " [  0.   0.   1. -23.]]\n",
      "[  6.  15. -23.]\n"
     ]
    }
   ],
   "source": [
    "import numpy as np\n",
    "#A = np.array([[60, 91, 26], [60, 3, 75], [45, 90, 31]], dtype='float')\n",
    "#b = np.array([1, 0, 0])\n",
    "#print b\n",
    "#print b.reshape(-1, 1)\n",
    "\n",
    "A=np.array([[2, 1, 1],[1, 3, 2],[1, 0, 0]])\n",
    "b=np.array([4., 5,6])\n",
    "Ab = np.hstack([A, b.reshape(-1, 1)])\n",
    "\n",
    "#print Ab\n",
    "n = len(b)\n",
    "#print n\n",
    "for i in range(n):\n",
    "    a = Ab[i]\n",
    "    #print a,\"  \",n\n",
    "\n",
    "    for j in range(i + 1, n):\n",
    "        b = Ab[j]\n",
    "        m = a[i] / b[i]\n",
    "        Ab[j] = a - m * b\n",
    "        #print 'j ',\" = \",j, b,\" = \",   m\n",
    "print Ab\n",
    "for i in range(n - 1, -1, -1):\n",
    "    #print Ab[i],\"  /  \" , Ab[i, i] ,\" idx\" ,i,i\n",
    "    Ab[i] = Ab[i] / Ab[i, i]\n",
    "    a = Ab[i]\n",
    "    \n",
    "\n",
    "\n",
    "\n",
    "    for j in range(i - 1, -1, -1):\n",
    "        b = Ab[j]\n",
    "        m = a[i] / b[i]\n",
    "        Ab[j] = a - m * b\n",
    "        \n",
    "print Ab\n",
    "\n",
    "x = Ab[:, 3]\n",
    "\n",
    "print x"
   ]
  },
  {
   "cell_type": "code",
   "execution_count": null,
   "metadata": {},
   "outputs": [],
   "source": []
  },
  {
   "cell_type": "code",
   "execution_count": null,
   "metadata": {},
   "outputs": [],
   "source": []
  },
  {
   "cell_type": "code",
   "execution_count": 65,
   "metadata": {},
   "outputs": [
    {
     "name": "stdout",
     "output_type": "stream",
     "text": [
      "upper  \n",
      "  \n",
      "[[ 60.          91.          26.           1.        ]\n",
      " [  0.          88.         -49.           1.        ]\n",
      " [  0.           0.         -95.52873563   4.03448276]]\n",
      "identical    \n",
      "  \n",
      "[[ 1.00000000e+00 -0.00000000e+00 -9.37591755e-17  5.33991096e-02]\n",
      " [ 0.00000000e+00  1.00000000e+00  6.18192366e-17 -1.21525689e-02]\n",
      " [-0.00000000e+00 -0.00000000e+00  1.00000000e+00 -4.22331849e-02]]\n",
      "[ 0.05339911 -0.01215257 -0.04223318]\n",
      "solution is  [0.0533991096137649, -0.01215256888461076, -0.042233184935627485]\n"
     ]
    }
   ],
   "source": [
    "import numpy as np\n",
    "A = np.array([[60, 91, 26], [60, 3, 75], [45, 90, 31]], dtype='float')\n",
    "b = np.array([1, 0, 0])\n",
    "#print b\n",
    "#print b.reshape(-1, 1)\n",
    "Ab = np.hstack([A, b.reshape(-1, 1)])\n",
    "\n",
    "#print Ab\n",
    "n = len(b)\n",
    "#print n\n",
    "for i in range(n):\n",
    "    a = Ab[i]\n",
    "    #print a,\"  \",n\n",
    "\n",
    "    for j in range(i + 1, n):\n",
    "        b = Ab[j]\n",
    "        m = a[i] / b[i]\n",
    "        Ab[j] = a - m * b\n",
    "        #print 'j ',\" = \",j, b,\" = \",   m\n",
    "\n",
    "print \"upper  \\n  \"\n",
    "print Ab\n",
    "for i in range(n - 1, -1, -1):\n",
    "    #print Ab[i],\"  /  \" , Ab[i, i] ,\" idx\" ,i,i\n",
    "    Ab[i] = Ab[i] / Ab[i, i]\n",
    "    a = Ab[i]\n",
    "    \n",
    "\n",
    "\n",
    "\n",
    "    for j in range(i - 1, -1, -1):\n",
    "        b = Ab[j]\n",
    "        m = a[i] / b[i]\n",
    "        Ab[j] = (a - m * b)\n",
    "    \n",
    "print \"identical \" ,\"  \\n  \"\n",
    "print Ab\n",
    "\n",
    "x = Ab[:, 3]\n",
    "\n",
    "print x\n",
    "\n",
    "z=[]\n",
    "for data in x:\n",
    "    z.append((data))\n",
    "    \n",
    "print \"solution is \",z"
   ]
  },
  {
   "cell_type": "markdown",
   "metadata": {},
   "source": [
    "# lower"
   ]
  },
  {
   "cell_type": "code",
   "execution_count": 70,
   "metadata": {},
   "outputs": [
    {
     "name": "stdout",
     "output_type": "stream",
     "text": [
      "lower    \n",
      "  \n",
      "[[ 1.         -0.         -0.          0.05339911]\n",
      " [ 0.22757999  1.          0.          0.        ]\n",
      " [ 1.4516129   2.90322581  1.          0.        ]]\n"
     ]
    }
   ],
   "source": [
    "import numpy as np\n",
    "A = np.array([[60, 91, 26], [60, 3, 75], [45, 90, 31]], dtype='float')\n",
    "b = np.array([1, 0, 0])\n",
    "Ab = np.hstack([A, b.reshape(-1, 1)])\n",
    "n = len(b)\n",
    "for i in range(n - 1, -1, -1):\n",
    "    #print Ab[i],\"  /  \" , Ab[i, i] ,\" idx\" ,i,i\n",
    "    Ab[i] = Ab[i] / Ab[i, i]\n",
    "    a = Ab[i]\n",
    "    for j in range(i - 1, -1, -1):\n",
    "        b = Ab[j]\n",
    "        m = a[i] / b[i]\n",
    "        Ab[j] = (a - m * b)\n",
    "    \n",
    "print \"lower \" ,\"  \\n  \"\n",
    "print Ab"
   ]
  },
  {
   "cell_type": "code",
   "execution_count": 71,
   "metadata": {},
   "outputs": [],
   "source": [
    "##ffffff"
   ]
  },
  {
   "cell_type": "code",
   "execution_count": null,
   "metadata": {},
   "outputs": [],
   "source": []
  },
  {
   "cell_type": "markdown",
   "metadata": {},
   "source": [
    "Example 1: The upward velocity of a rocket is given at three different times in\n",
    "Table 1."
   ]
  },
  {
   "cell_type": "code",
   "execution_count": 34,
   "metadata": {},
   "outputs": [
    {
     "name": "stdout",
     "output_type": "stream",
     "text": [
      "upper  \n",
      "  \n",
      "[[2.50000000e+01 5.00000000e+00 1.00000000e+00 1.06800000e+02]\n",
      " [0.00000000e+00 1.87500000e+00 6.09375000e-01 3.75812500e+01]\n",
      " [0.00000000e+00 0.00000000e+00 7.81250000e-02 8.48214286e-02]]\n",
      "identical    \n",
      "  \n",
      "[[ 1.         -0.         -0.          0.29047619]\n",
      " [-0.          1.         -0.         19.69047619]\n",
      " [ 0.          0.          1.          1.08571429]]\n",
      "[ 0.29047619 19.69047619  1.08571429]\n",
      "solution is  \n",
      "   [0.2904761904761912, 19.690476190476183, 1.08571428571431]\n",
      "[[ 25.    5.    1.  106.8]\n",
      " [ 64.    8.    1.  177.2]\n",
      " [144.   12.    1.  279.2]]\n",
      "lower    \n",
      "  \n",
      "[[  1.           0.           0.           0.29047619]\n",
      " [ 20.           1.           0.          25.5       ]\n",
      " [144.          12.           1.         279.2       ]]\n"
     ]
    }
   ],
   "source": [
    "import numpy as np\n",
    "A = np.array([[25,5,1], [64,8,1], [144,12,1]], dtype='float')\n",
    "b = np.array([106.8, 177.2, 279.2])\n",
    "x1=A\n",
    "y1=b\n",
    "#print b\n",
    "#print b.reshape(-1, 1)\n",
    "Ab = np.hstack([A, b.reshape(-1, 1)])\n",
    "\n",
    "#print Ab\n",
    "n = len(b)\n",
    "#print n\n",
    "for i in range(n):\n",
    "    a = Ab[i]\n",
    "    #print a,\"  \",n\n",
    "\n",
    "    for j in range(i + 1, n):\n",
    "        b = Ab[j]\n",
    "        m = a[i] / b[i]\n",
    "        Ab[j] = a - m * b\n",
    "        #print 'j ',\" = \",j, b,\" = \",   m\n",
    "\n",
    "print \"upper  \\n  \"\n",
    "print Ab\n",
    "for i in range(n - 1, -1, -1):\n",
    "    #print Ab[i],\"  /  \" , Ab[i, i] ,\" idx\" ,i,i\n",
    "    Ab[i] = Ab[i] / Ab[i, i]\n",
    "    a = Ab[i]\n",
    "    \n",
    "\n",
    "\n",
    "\n",
    "    for j in range(i - 1, -1, -1):\n",
    "        b = Ab[j]\n",
    "        m = a[i] / b[i]\n",
    "        Ab[j] = (a - m * b)\n",
    "    \n",
    "print \"identical \" ,\"  \\n  \"\n",
    "print Ab\n",
    "\n",
    "x = Ab[:, 3]\n",
    "\n",
    "print x\n",
    "\n",
    "z=[]\n",
    "for data in x:\n",
    "    z.append((data))\n",
    "    \n",
    "print \"solution is  \\n  \",z\n",
    "\n",
    "\n",
    "\n",
    "bb = np.hstack([x1, y1.reshape(-1, 1)])\n",
    "\n",
    "print bb\n",
    "n = len(bb)\n",
    "for i in range(n - 1, -1, -1):\n",
    "    #print Ab[i],\"  /  \" , Ab[i, i] ,\" idx\" ,i,i\n",
    "    bb[i] = bb[i] / bb[i, i]\n",
    "    c = bb[i]\n",
    "    for j in range(i - 1, -1, -1):\n",
    "        d= bb[j]\n",
    "        m = c[i] / d[i]\n",
    "        bb[j] = (c - m * d)\n",
    "    \n",
    "print \"lower \" ,\"  \\n  \"\n",
    "print bb\n",
    "\n",
    "\n",
    "#P, L, U = scipy.linalg.lu(bb)\n",
    "\n",
    "#print L"
   ]
  },
  {
   "cell_type": "code",
   "execution_count": 35,
   "metadata": {},
   "outputs": [
    {
     "name": "stdout",
     "output_type": "stream",
     "text": [
      "[0.2904761904761912, 19.690476190476183, 1.08571428571431]\n"
     ]
    }
   ],
   "source": [
    "print z"
   ]
  },
  {
   "cell_type": "code",
   "execution_count": 36,
   "metadata": {},
   "outputs": [
    {
     "data": {
      "text/plain": [
       "0.2904761904761912"
      ]
     },
     "execution_count": 36,
     "metadata": {},
     "output_type": "execute_result"
    }
   ],
   "source": [
    "z[0]"
   ]
  },
  {
   "cell_type": "code",
   "execution_count": 38,
   "metadata": {},
   "outputs": [
    {
     "name": "stdout",
     "output_type": "stream",
     "text": [
      "enter the value of t 5\n"
     ]
    }
   ],
   "source": [
    "t=float(input(\"enter the value of t \"))"
   ]
  },
  {
   "cell_type": "code",
   "execution_count": 39,
   "metadata": {},
   "outputs": [
    {
     "name": "stdout",
     "output_type": "stream",
     "text": [
      "106.8\n"
     ]
    }
   ],
   "source": [
    "y=z[0]*t*t+z[1]*t+z[2]\n",
    "\n",
    "print y"
   ]
  },
  {
   "cell_type": "code",
   "execution_count": null,
   "metadata": {},
   "outputs": [],
   "source": []
  },
  {
   "cell_type": "code",
   "execution_count": null,
   "metadata": {},
   "outputs": [],
   "source": []
  },
  {
   "cell_type": "code",
   "execution_count": 40,
   "metadata": {},
   "outputs": [],
   "source": [
    "# ex 2 naive"
   ]
  },
  {
   "cell_type": "code",
   "execution_count": 41,
   "metadata": {},
   "outputs": [
    {
     "name": "stdout",
     "output_type": "stream",
     "text": [
      "[[20.         15.         10.         45.        ]\n",
      " [ 0.         -2.75        0.5        -2.25      ]\n",
      " [ 0.          0.          8.50018182  8.50018182]]\n",
      "1.0\n",
      "1.0\n",
      "1.0\n"
     ]
    }
   ],
   "source": [
    "#import linalg package of the SciPy module for the LU decomp\n",
    "import scipy.linalg as linalg \n",
    "#import NumPy\n",
    "import numpy as np\n",
    "\n",
    "\n",
    "t=np.array([[20,15,10],[-3,-2.249,7],[5,1,3]])\n",
    "b=np.array([45,1.751,9])\n",
    "\n",
    "Ab = np.hstack([t, b.reshape(-1, 1)])\n",
    "A=Ab\n",
    "#now we want to see how A has been factorized, P is the so called Permutation matrix\n",
    "P, L, U = scipy.linalg.lu(A) \n",
    "\n",
    "\n",
    "print U\n",
    "\n",
    "\n",
    "u=U\n",
    "\n",
    "\n",
    "i3=1/(u[2][2]/u[2][3])\n",
    "\n",
    "print i3\n",
    "\n",
    "i21= u[1][3]-(u[1][2])*i3\n",
    "i2=i21/u[1][1]\n",
    "print i2\n",
    "\n",
    "i11=u[0][3]-u[0][2]*i3-i2*u[0][1]\n",
    "\n",
    "i1=i11/u[0][0]\n",
    "\n",
    "print i1"
   ]
  },
  {
   "cell_type": "code",
   "execution_count": null,
   "metadata": {},
   "outputs": [],
   "source": []
  },
  {
   "cell_type": "code",
   "execution_count": 42,
   "metadata": {},
   "outputs": [],
   "source": [
    "# page 10 exm 1"
   ]
  },
  {
   "cell_type": "code",
   "execution_count": null,
   "metadata": {},
   "outputs": [],
   "source": []
  },
  {
   "cell_type": "code",
   "execution_count": 23,
   "metadata": {},
   "outputs": [
    {
     "name": "stdout",
     "output_type": "stream",
     "text": [
      "upper  \n",
      "  \n",
      "[[25.        5.        1.      ]\n",
      " [ 0.        1.875     0.609375]\n",
      " [ 0.        0.        0.078125]]\n"
     ]
    }
   ],
   "source": [
    "import numpy as np\n",
    "A = np.array([[25,5,1], [64,8,1], [144,12,1]], dtype='float')\n",
    "Ab =A\n",
    "CD=A\n",
    "n = len(Ab)\n",
    "#print n\n",
    "for i in range(n):\n",
    "    a = Ab[i]\n",
    "    #print a,\"  \",n\n",
    "\n",
    "    for j in range(i + 1, n):\n",
    "        b = Ab[j]\n",
    "        m = a[i] / b[i]\n",
    "        Ab[j] = a - m * b\n",
    "        #print 'j ',\" = \",j, b,\" = \",   m\n",
    "\n",
    "print \"upper  \\n  \"\n",
    "print Ab\n",
    "\n",
    "upw=Ab"
   ]
  },
  {
   "cell_type": "code",
   "execution_count": 24,
   "metadata": {},
   "outputs": [
    {
     "name": "stdout",
     "output_type": "stream",
     "text": [
      "[80.  4.  0.]\n",
      "[119.   7.   0.]\n",
      "[3. 0. 0.]\n",
      "lower    \n",
      "  \n",
      "[[  1.   0.   0.]\n",
      " [ 20.   1.   0.]\n",
      " [144.  12.   1.]]\n"
     ]
    }
   ],
   "source": [
    "A = np.array([[25,5,1], [64,8,1], [144,12,1]], dtype='float')\n",
    "\n",
    "\n",
    "bb=A\n",
    "\n",
    "n = len(bb)\n",
    "for i in range(n - 1, -1, -1):\n",
    "    #print Ab[i],\"  /  \" , Ab[i, i] ,\" idx\" ,i,i\n",
    "    bb[i] = bb[i] / bb[i, i]\n",
    "    c = bb[i]\n",
    "    for j in range(i - 1, -1, -1):\n",
    "        d= bb[j]\n",
    "        m = c[i] / d[i]\n",
    "        bb[j] = (c - m * d)\n",
    "        print bb[j]\n",
    "    \n",
    "print \"lower \" ,\"  \\n  \"\n",
    "print bb\n",
    "\n",
    "lbw=bb"
   ]
  },
  {
   "cell_type": "code",
   "execution_count": 45,
   "metadata": {},
   "outputs": [
    {
     "name": "stdout",
     "output_type": "stream",
     "text": [
      "[[25.        0.        0.      ]\n",
      " [ 0.        1.875     0.      ]\n",
      " [ 0.        0.        0.078125]]\n"
     ]
    }
   ],
   "source": [
    "c=np.multiply(upw , lbw)\n",
    "print c"
   ]
  },
  {
   "cell_type": "code",
   "execution_count": 46,
   "metadata": {},
   "outputs": [
    {
     "name": "stdout",
     "output_type": "stream",
     "text": [
      "[[20.    15.    10.   ]\n",
      " [-3.    -2.249  7.   ]\n",
      " [ 5.     1.     3.   ]]\n",
      "[[ 1.00000000e+00  0.00000000e+00  0.00000000e+00]\n",
      " [ 2.50000000e-01  1.00000000e+00  0.00000000e+00]\n",
      " [-1.50000000e-01 -3.63636364e-04  1.00000000e+00]]\n",
      "[[20.         15.         10.        ]\n",
      " [ 0.         -2.75        0.5       ]\n",
      " [ 0.          0.          8.50018182]]\n",
      "[[20.    15.    10.   ]\n",
      " [ 5.     1.     3.   ]\n",
      " [-3.    -2.249  7.   ]]\n"
     ]
    }
   ],
   "source": [
    "#import linalg package of the SciPy module for the LU decomp\n",
    "import scipy\n",
    "import scipy.linalg as linalg \n",
    "#import NumPy\n",
    "import numpy as np\n",
    "\n",
    "\n",
    "t=np.array([[20,15,10],[-3,-2.249,7],[5,1,3]])\n",
    "print t\n",
    "#now we want to see how A has been factorized, P is the so called Permutation matrix\n",
    "P, L, U = scipy.linalg.lu(t) \n",
    "\n",
    "print L\n",
    "print U\n",
    "print np.matmul(L,U)"
   ]
  },
  {
   "cell_type": "code",
   "execution_count": null,
   "metadata": {},
   "outputs": [],
   "source": []
  },
  {
   "cell_type": "markdown",
   "metadata": {},
   "source": [
    "Example 2 \n",
    "UsetheLUdecomposition method to solve the following simultaneous linear equations."
   ]
  },
  {
   "cell_type": "code",
   "execution_count": 11,
   "metadata": {},
   "outputs": [],
   "source": [
    "import scipy\n",
    "import scipy.linalg"
   ]
  },
  {
   "cell_type": "code",
   "execution_count": 12,
   "metadata": {},
   "outputs": [
    {
     "name": "stdout",
     "output_type": "stream",
     "text": [
      "upper  \n",
      "  \n",
      "[[25.    5.    1.  ]\n",
      " [ 0.   -4.8  -1.56]\n",
      " [ 0.    0.    0.7 ]]\n"
     ]
    }
   ],
   "source": [
    "import numpy as np\n",
    "\n",
    "Ab=np.array([[25,5,1], [64,8,1], [144,12,1]],dtype='float')\n",
    "aaa=Ab\n",
    "n = len(Ab)\n",
    "#print n\n",
    "for i in range(n):\n",
    "    a = Ab[i]\n",
    "    #print a,\"  \",n\n",
    "\n",
    "    for j in range(i + 1, n):\n",
    "        b = Ab[j]\n",
    "        m = float(a[i] / b[i])\n",
    "        Ab[j] = b - (1/m) * a\n",
    "        #print 'j ',\" = \",j, b,\" = \",   m\n",
    "\n",
    "print \"upper  \\n  \"\n",
    "print Ab\n",
    "\n",
    "\n",
    "Ab=np.array([[25,5,1], [64,8,1], [144,12,1]],dtype='float')\n",
    "P, L, U = scipy.linalg.lu(Ab)\n",
    "\n",
    "#print L\n",
    "\n",
    "\n",
    "#D = np.diag(np.diag(U))\n",
    "#print (P.dot(L.dot(D.dot(U)))) \n",
    "#print np.matmul(L,U)\n",
    "\n",
    "#print np.triu(A)"
   ]
  },
  {
   "cell_type": "code",
   "execution_count": 13,
   "metadata": {},
   "outputs": [
    {
     "name": "stdout",
     "output_type": "stream",
     "text": [
      "upper  \n",
      "  \n",
      "[[25.    5.    1.  ]\n",
      " [ 0.   -4.8  -1.56]\n",
      " [ 0.    0.    0.7 ]]\n",
      "[2.56, 5.76, 3.4999999999999987]\n",
      " lower is   \n",
      "  [[1.   0.   0.  ]\n",
      " [2.56 1.   0.  ]\n",
      " [5.76 3.5  1.  ]]\n",
      "<type 'numpy.ndarray'>\n"
     ]
    }
   ],
   "source": [
    "import numpy as np\n",
    "\n",
    "Ab=np.array([[25,5,1], [64,8,1], [144,12,1]],dtype='float')\n",
    "np.save('d1', Ab) \n",
    "aaa=Ab\n",
    "n = len(Ab)\n",
    "#print n\n",
    "me=[]\n",
    "for i in range(n):\n",
    "    a = Ab[i]\n",
    "    #print a,\"  \",n\n",
    "\n",
    "    for j in range(i + 1, n):\n",
    "        b = Ab[j]\n",
    "        m = float(a[i] / b[i])\n",
    "        me.append(1/m)\n",
    "        Ab[j] = b - (1/m) * a\n",
    "        #print 'j ',\" = \",j, b,\" = \",   m\n",
    "\n",
    "print \"upper  \\n  \"\n",
    "print Ab\n",
    "print me\n",
    "\n",
    "\n",
    "ccc=Ab\n",
    "np.save('d2', Ab) \n",
    "\n",
    "#for i in range(n):\n",
    "#    for j in range(n):\n",
    "#       print i,j\n",
    " #       print Ab[i][j]\n",
    "        \n",
    "k=0            \n",
    "for i in range(n):\n",
    "    for j in range(n):\n",
    "        if (i > j) :\n",
    "            ccc[i][j]=me[k]\n",
    "            k=k+1\n",
    "        else:\n",
    "            continue\n",
    "#print ccc \n",
    "\n",
    "for i in range(n):\n",
    "    for j in range(n):\n",
    "        if (i == j) :\n",
    "            ccc[i][j]=1\n",
    "            \n",
    "        else:\n",
    "            continue\n",
    "        \n",
    "            \n",
    "       \n",
    "            \n",
    "#print ccc\n",
    "\n",
    "for i in range(n):\n",
    "    for j in range(n):\n",
    "        if (i < j) :\n",
    "            ccc[i][j]=0\n",
    "            \n",
    "        else:\n",
    "            continue\n",
    "print \" lower is   \\n \" ,ccc \n",
    "\n",
    "np.save('d3', ccc) \n",
    "\n",
    "a1 = np.load('d1.npy')                                   \n",
    "a2 = np.load('d2.npy')\n",
    "a3=np.load('d3.npy')\n",
    "print type(a3)"
   ]
  },
  {
   "cell_type": "code",
   "execution_count": 14,
   "metadata": {},
   "outputs": [
    {
     "name": "stdout",
     "output_type": "stream",
     "text": [
      "[[25.    5.    1.  ]\n",
      " [ 0.   -4.8  -1.56]\n",
      " [ 0.    0.    0.7 ]]\n",
      "[[1.   0.   0.  ]\n",
      " [2.56 1.   0.  ]\n",
      " [5.76 3.5  1.  ]]\n",
      "[[ 25.   5.   1.]\n",
      " [ 64.   8.   1.]\n",
      " [144.  12.   1.]]\n"
     ]
    }
   ],
   "source": [
    "#print a1\n",
    "print a2\n",
    "print a3\n",
    "print  np.matmul(a3,a2)"
   ]
  },
  {
   "cell_type": "code",
   "execution_count": 15,
   "metadata": {},
   "outputs": [
    {
     "name": "stdout",
     "output_type": "stream",
     "text": [
      "[[25.   0.   0. ]\n",
      " [ 0.  -4.8 -0. ]\n",
      " [ 0.   0.   0.7]]\n"
     ]
    }
   ],
   "source": [
    "print np.multiply(a3,a2)\n"
   ]
  },
  {
   "cell_type": "code",
   "execution_count": 22,
   "metadata": {},
   "outputs": [
    {
     "name": "stdout",
     "output_type": "stream",
     "text": [
      "[[ 25.   5.   1.]\n",
      " [ 64.   8.   1.]\n",
      " [144.  12.   1.]]\n",
      "[45.     1.751  9.   ]\n",
      "2.3183690476190475\n",
      "-44.55513095238096\n",
      "209.81642857142865\n"
     ]
    }
   ],
   "source": [
    "A =np.array([[25,5,1], [64,8,1], [144,12,1]],dtype='float')\n",
    "print A\n",
    "#define B\n",
    "B1 = np.array([45,1.751,9])\n",
    "\n",
    "print B1\n",
    "\n",
    "#call the lu_factor function\n",
    "LU = np.linalg.solve(A,B1) \n",
    "x=LU\n",
    "for d in LU:\n",
    "    print d"
   ]
  },
  {
   "cell_type": "code",
   "execution_count": 21,
   "metadata": {},
   "outputs": [
    {
     "name": "stdout",
     "output_type": "stream",
     "text": [
      "[[ 25.   5.   1.]\n",
      " [ 64.   8.   1.]\n",
      " [144.  12.   1.]]\n",
      "[45.     1.751  9.   ]\n",
      "Solutions:\n",
      "[  2.31836905 -44.55513095 209.81642857]\n"
     ]
    }
   ],
   "source": [
    "import scipy.linalg as linalg\n",
    "print A\n",
    "print B1\n",
    "LU = linalg.lu_factor(A) \n",
    "\n",
    "#solve given LU and B\n",
    "x = linalg.lu_solve(LU, B1) \n",
    "print \"Solutions:\\n\",x"
   ]
  },
  {
   "cell_type": "code",
   "execution_count": null,
   "metadata": {},
   "outputs": [],
   "source": []
  },
  {
   "cell_type": "code",
   "execution_count": null,
   "metadata": {},
   "outputs": [],
   "source": []
  },
  {
   "cell_type": "code",
   "execution_count": null,
   "metadata": {},
   "outputs": [],
   "source": []
  },
  {
   "cell_type": "code",
   "execution_count": null,
   "metadata": {},
   "outputs": [],
   "source": []
  },
  {
   "cell_type": "markdown",
   "metadata": {},
   "source": [
    "Example 2UsetheLUdecompositio\n",
    "n method to solve the following simultaneous li"
   ]
  },
  {
   "cell_type": "code",
   "execution_count": null,
   "metadata": {},
   "outputs": [],
   "source": []
  },
  {
   "cell_type": "code",
   "execution_count": 26,
   "metadata": {},
   "outputs": [
    {
     "name": "stdout",
     "output_type": "stream",
     "text": [
      "upper  \n",
      "  \n",
      "[[25.    5.    1.  ]\n",
      " [ 0.   -4.8  -1.56]\n",
      " [ 0.    0.    0.7 ]]\n",
      "[2.56, 5.76, 3.4999999999999987]\n",
      " lower is   \n",
      "  [[1.   0.   0.  ]\n",
      " [2.56 1.   0.  ]\n",
      " [5.76 3.5  1.  ]]\n"
     ]
    }
   ],
   "source": [
    "import numpy as np\n",
    "\n",
    "Ab=np.array([[25,5,1], [64,8,1], [144,12,1]],dtype='float')\n",
    "np.save('d1', Ab) \n",
    "aaa=Ab\n",
    "n = len(Ab)\n",
    "#print n\n",
    "me=[]\n",
    "for i in range(n):\n",
    "    a = Ab[i]\n",
    "    #print a,\"  \",n\n",
    "\n",
    "    for j in range(i + 1, n):\n",
    "        b = Ab[j]\n",
    "        m = float(a[i] / b[i])\n",
    "        me.append(1/m)\n",
    "        Ab[j] = b - (1/m) * a\n",
    "        #print 'j ',\" = \",j, b,\" = \",   m\n",
    "\n",
    "print \"upper  \\n  \"\n",
    "print Ab\n",
    "print me\n",
    "\n",
    "\n",
    "ccc=Ab\n",
    "np.save('d2', Ab) \n",
    "\n",
    "#for i in range(n):\n",
    "#    for j in range(n):\n",
    "#       print i,j\n",
    " #       print Ab[i][j]\n",
    "        \n",
    "k=0            \n",
    "for i in range(n):\n",
    "    for j in range(n):\n",
    "        if (i > j) :\n",
    "            ccc[i][j]=me[k]\n",
    "            k=k+1\n",
    "        else:\n",
    "            continue\n",
    "#print ccc \n",
    "\n",
    "for i in range(n):\n",
    "    for j in range(n):\n",
    "        if (i == j) :\n",
    "            ccc[i][j]=1\n",
    "            \n",
    "        else:\n",
    "            continue\n",
    "        \n",
    "            \n",
    "       \n",
    "            \n",
    "#print ccc\n",
    "\n",
    "for i in range(n):\n",
    "    for j in range(n):\n",
    "        if (i < j) :\n",
    "            ccc[i][j]=0\n",
    "            \n",
    "        else:\n",
    "            continue\n",
    "print \" lower is   \\n \" ,ccc \n",
    "\n",
    "np.save('d3', ccc) \n",
    "\n",
    "a1 = np.load('d1.npy')                                   \n",
    "a2 = np.load('d2.npy')\n",
    "a3=np.load('d3.npy')\n"
   ]
  },
  {
   "cell_type": "code",
   "execution_count": 27,
   "metadata": {},
   "outputs": [
    {
     "name": "stdout",
     "output_type": "stream",
     "text": [
      "[[25.    5.    1.  ]\n",
      " [ 0.   -4.8  -1.56]\n",
      " [ 0.    0.    0.7 ]]\n",
      "[[1.   0.   0.  ]\n",
      " [2.56 1.   0.  ]\n",
      " [5.76 3.5  1.  ]]\n"
     ]
    }
   ],
   "source": [
    "print a2\n",
    "print a3"
   ]
  },
  {
   "cell_type": "code",
   "execution_count": 30,
   "metadata": {},
   "outputs": [],
   "source": [
    "L=a3\n",
    "c=[106.8,177.2,279.2]"
   ]
  },
  {
   "cell_type": "code",
   "execution_count": 32,
   "metadata": {},
   "outputs": [
    {
     "name": "stdout",
     "output_type": "stream",
     "text": [
      "106.80000000000001\n",
      "-96.20799999999998\n",
      "0.7599999999998379\n"
     ]
    }
   ],
   "source": [
    "LU = np.linalg.solve(L,c) \n",
    "x=LU\n",
    "for d in LU:\n",
    "    print d"
   ]
  },
  {
   "cell_type": "code",
   "execution_count": 33,
   "metadata": {},
   "outputs": [
    {
     "name": "stdout",
     "output_type": "stream",
     "text": [
      "0.29047619047618584\n",
      "19.69047619047626\n",
      "1.0857142857140567\n"
     ]
    }
   ],
   "source": [
    "##final solution \n",
    "\n",
    "LU = np.linalg.solve(a2,x) \n",
    "p=LU\n",
    "for d in LU:\n",
    "    print d"
   ]
  },
  {
   "cell_type": "code",
   "execution_count": null,
   "metadata": {},
   "outputs": [],
   "source": []
  },
  {
   "cell_type": "code",
   "execution_count": null,
   "metadata": {},
   "outputs": [],
   "source": []
  },
  {
   "cell_type": "code",
   "execution_count": null,
   "metadata": {},
   "outputs": [],
   "source": []
  },
  {
   "cell_type": "markdown",
   "metadata": {},
   "source": [
    "Example 3Use LUdecomposition to find the inverse o"
   ]
  },
  {
   "cell_type": "code",
   "execution_count": null,
   "metadata": {},
   "outputs": [],
   "source": []
  },
  {
   "cell_type": "code",
   "execution_count": 34,
   "metadata": {},
   "outputs": [
    {
     "name": "stdout",
     "output_type": "stream",
     "text": [
      "upper  \n",
      "  \n",
      "[[25.    5.    1.  ]\n",
      " [ 0.   -4.8  -1.56]\n",
      " [ 0.    0.    0.7 ]]\n",
      "[2.56, 5.76, 3.4999999999999987]\n",
      " lower is   \n",
      "  [[1.   0.   0.  ]\n",
      " [2.56 1.   0.  ]\n",
      " [5.76 3.5  1.  ]]\n"
     ]
    }
   ],
   "source": [
    "import numpy as np\n",
    "\n",
    "Ab=np.array([[25,5,1], [64,8,1], [144,12,1]],dtype='float')\n",
    "np.save('d1', Ab) \n",
    "aaa=Ab\n",
    "n = len(Ab)\n",
    "#print n\n",
    "me=[]\n",
    "for i in range(n):\n",
    "    a = Ab[i]\n",
    "    #print a,\"  \",n\n",
    "\n",
    "    for j in range(i + 1, n):\n",
    "        b = Ab[j]\n",
    "        m = float(a[i] / b[i])\n",
    "        me.append(1/m)\n",
    "        Ab[j] = b - (1/m) * a\n",
    "        #print 'j ',\" = \",j, b,\" = \",   m\n",
    "\n",
    "print \"upper  \\n  \"\n",
    "print Ab\n",
    "print me\n",
    "\n",
    "\n",
    "ccc=Ab\n",
    "np.save('d2', Ab) \n",
    "\n",
    "#for i in range(n):\n",
    "#    for j in range(n):\n",
    "#       print i,j\n",
    " #       print Ab[i][j]\n",
    "        \n",
    "k=0            \n",
    "for i in range(n):\n",
    "    for j in range(n):\n",
    "        if (i > j) :\n",
    "            ccc[i][j]=me[k]\n",
    "            k=k+1\n",
    "        else:\n",
    "            continue\n",
    "#print ccc \n",
    "\n",
    "for i in range(n):\n",
    "    for j in range(n):\n",
    "        if (i == j) :\n",
    "            ccc[i][j]=1\n",
    "            \n",
    "        else:\n",
    "            continue\n",
    "        \n",
    "            \n",
    "       \n",
    "            \n",
    "#print ccc\n",
    "\n",
    "for i in range(n):\n",
    "    for j in range(n):\n",
    "        if (i < j) :\n",
    "            ccc[i][j]=0\n",
    "            \n",
    "        else:\n",
    "            continue\n",
    "print \" lower is   \\n \" ,ccc \n",
    "\n",
    "np.save('d3', ccc) \n",
    "\n",
    "a1 = np.load('d1.npy')                                   \n",
    "a2 = np.load('d2.npy')\n",
    "a3=np.load('d3.npy')\n",
    "\n",
    "\n",
    "\n"
   ]
  },
  {
   "cell_type": "code",
   "execution_count": 41,
   "metadata": {},
   "outputs": [
    {
     "name": "stdout",
     "output_type": "stream",
     "text": [
      "0.0476190476190477\n",
      "-0.952380952380954\n",
      "4.571428571428577\n",
      "#################   \n",
      " \n",
      " \n",
      " \n",
      "-0.08333333333333356\n",
      "1.4166666666666698\n",
      "-5.00000000000001\n",
      "#################   \n",
      " \n",
      " \n",
      " \n",
      "0.0357142857142858\n",
      "-0.46428571428571536\n",
      "1.428571428571432\n",
      "#################   \n",
      " \n",
      " \n",
      " \n",
      "[[[ 0.04761905 -0.08333333  0.03571429]]\n",
      "\n",
      " [[-0.95238095  1.41666667 -0.46428571]]\n",
      "\n",
      " [[ 4.57142857 -5.          1.42857143]]]\n",
      "#################   \n",
      " \n",
      " \n",
      " \n",
      "[[ 25.   5.   1.]\n",
      " [ 64.   8.   1.]\n",
      " [144.  12.   1.]]\n",
      "#################   \n",
      " \n",
      " \n",
      " \n"
     ]
    }
   ],
   "source": [
    "##final mergged block  \n",
    "\n",
    "\n",
    "import numpy as np\n",
    "\n",
    "Ab=np.array([[25,5,1], [64,8,1], [144,12,1]],dtype='float')\n",
    "np.save('d1', Ab) \n",
    "aaa=Ab\n",
    "n = len(Ab)\n",
    "#print n\n",
    "me=[]\n",
    "for i in range(n):\n",
    "    a = Ab[i]\n",
    "    #print a,\"  \",n\n",
    "\n",
    "    for j in range(i + 1, n):\n",
    "        b = Ab[j]\n",
    "        m = float(a[i] / b[i])\n",
    "        me.append(1/m)\n",
    "        Ab[j] = b - (1/m) * a\n",
    "        #print 'j ',\" = \",j, b,\" = \",   m\n",
    "\n",
    "#print \"upper  \\n  \"\n",
    "#print Ab\n",
    "#print me\n",
    "\n",
    "\n",
    "ccc=Ab\n",
    "np.save('d2', Ab) \n",
    "\n",
    "#for i in range(n):\n",
    "#    for j in range(n):\n",
    "#       print i,j\n",
    " #       print Ab[i][j]\n",
    "        \n",
    "k=0            \n",
    "for i in range(n):\n",
    "    for j in range(n):\n",
    "        if (i > j) :\n",
    "            ccc[i][j]=me[k]\n",
    "            k=k+1\n",
    "        else:\n",
    "            continue\n",
    "#print ccc \n",
    "\n",
    "for i in range(n):\n",
    "    for j in range(n):\n",
    "        if (i == j) :\n",
    "            ccc[i][j]=1\n",
    "            \n",
    "        else:\n",
    "            continue\n",
    "        \n",
    "            \n",
    "       \n",
    "            \n",
    "#print ccc\n",
    "\n",
    "for i in range(n):\n",
    "    for j in range(n):\n",
    "        if (i < j) :\n",
    "            ccc[i][j]=0\n",
    "            \n",
    "        else:\n",
    "            continue\n",
    "#print \" lower is   \\n \" ,ccc \n",
    "\n",
    "np.save('d3', ccc) \n",
    "\n",
    "a1 = np.load('d1.npy')                                   \n",
    "a2 = np.load('d2.npy')\n",
    "a3=np.load('d3.npy')\n",
    "\n",
    "\n",
    "x=[1,0,0]\n",
    "\n",
    "\n",
    "LU = np.linalg.solve(a3,x) \n",
    "p=LU\n",
    "#for d in LU:\n",
    " #   print d\n",
    "    \n",
    "    \n",
    "    \n",
    "##final solution \n",
    "\n",
    "LU = np.linalg.solve(a2,p) \n",
    "p1=LU\n",
    "for d in LU:\n",
    "    print d\n",
    "    \n",
    "    \n",
    "    \n",
    "print \"#################   \\n \\n \\n \"\n",
    "    \n",
    "    \n",
    "import numpy as np\n",
    "\n",
    "Ab=np.array([[25,5,1], [64,8,1], [144,12,1]],dtype='float')\n",
    "np.save('d1', Ab) \n",
    "aaa=Ab\n",
    "n = len(Ab)\n",
    "#print n\n",
    "me=[]\n",
    "for i in range(n):\n",
    "    a = Ab[i]\n",
    "    #print a,\"  \",n\n",
    "\n",
    "    for j in range(i + 1, n):\n",
    "        b = Ab[j]\n",
    "        m = float(a[i] / b[i])\n",
    "        me.append(1/m)\n",
    "        Ab[j] = b - (1/m) * a\n",
    "        #print 'j ',\" = \",j, b,\" = \",   m\n",
    "\n",
    "#print \"upper  \\n  \"\n",
    "#print Ab\n",
    "#print me\n",
    "\n",
    "\n",
    "ccc=Ab\n",
    "np.save('d2', Ab) \n",
    "\n",
    "#for i in range(n):\n",
    "#    for j in range(n):\n",
    "#       print i,j\n",
    " #       print Ab[i][j]\n",
    "        \n",
    "k=0            \n",
    "for i in range(n):\n",
    "    for j in range(n):\n",
    "        if (i > j) :\n",
    "            ccc[i][j]=me[k]\n",
    "            k=k+1\n",
    "        else:\n",
    "            continue\n",
    "#print ccc \n",
    "\n",
    "for i in range(n):\n",
    "    for j in range(n):\n",
    "        if (i == j) :\n",
    "            ccc[i][j]=1\n",
    "            \n",
    "        else:\n",
    "            continue\n",
    "        \n",
    "            \n",
    "       \n",
    "            \n",
    "#print ccc\n",
    "\n",
    "for i in range(n):\n",
    "    for j in range(n):\n",
    "        if (i < j) :\n",
    "            ccc[i][j]=0\n",
    "            \n",
    "        else:\n",
    "            continue\n",
    "#print \" lower is   \\n \" ,ccc \n",
    "\n",
    "np.save('d3', ccc) \n",
    "\n",
    "a1 = np.load('d1.npy')                                   \n",
    "a2 = np.load('d2.npy')\n",
    "a3=np.load('d3.npy')\n",
    "\n",
    "\n",
    "x=[0,1,0]\n",
    "\n",
    "\n",
    "LU = np.linalg.solve(a3,x) \n",
    "p=LU\n",
    "#for d in LU:\n",
    " #   print d\n",
    "    \n",
    "    \n",
    "    \n",
    "##final solution \n",
    "\n",
    "LU = np.linalg.solve(a2,p) \n",
    "p2=LU\n",
    "for d in LU:\n",
    "    print d\n",
    "    \n",
    "print \"#################   \\n \\n \\n \"\n",
    "\n",
    "\n",
    "\n",
    "\n",
    "import numpy as np\n",
    "\n",
    "Ab=np.array([[25,5,1], [64,8,1], [144,12,1]],dtype='float')\n",
    "np.save('d1', Ab) \n",
    "aaa=Ab\n",
    "n = len(Ab)\n",
    "#print n\n",
    "me=[]\n",
    "for i in range(n):\n",
    "    a = Ab[i]\n",
    "    #print a,\"  \",n\n",
    "\n",
    "    for j in range(i + 1, n):\n",
    "        b = Ab[j]\n",
    "        m = float(a[i] / b[i])\n",
    "        me.append(1/m)\n",
    "        Ab[j] = b - (1/m) * a\n",
    "        #print 'j ',\" = \",j, b,\" = \",   m\n",
    "\n",
    "#print \"upper  \\n  \"\n",
    "#print Ab\n",
    "#print me\n",
    "\n",
    "\n",
    "ccc=Ab\n",
    "np.save('d2', Ab) \n",
    "\n",
    "#for i in range(n):\n",
    "#    for j in range(n):\n",
    "#       print i,j\n",
    " #       print Ab[i][j]\n",
    "        \n",
    "k=0            \n",
    "for i in range(n):\n",
    "    for j in range(n):\n",
    "        if (i > j) :\n",
    "            ccc[i][j]=me[k]\n",
    "            k=k+1\n",
    "        else:\n",
    "            continue\n",
    "#print ccc \n",
    "\n",
    "for i in range(n):\n",
    "    for j in range(n):\n",
    "        if (i == j) :\n",
    "            ccc[i][j]=1\n",
    "            \n",
    "        else:\n",
    "            continue\n",
    "        \n",
    "            \n",
    "       \n",
    "            \n",
    "#print ccc\n",
    "\n",
    "for i in range(n):\n",
    "    for j in range(n):\n",
    "        if (i < j) :\n",
    "            ccc[i][j]=0\n",
    "            \n",
    "        else:\n",
    "            continue\n",
    "#print \" lower is   \\n \" ,ccc \n",
    "\n",
    "np.save('d3', ccc) \n",
    "\n",
    "a1 = np.load('d1.npy')                                   \n",
    "a2 = np.load('d2.npy')\n",
    "a3=np.load('d3.npy')\n",
    "\n",
    "\n",
    "x=[0,0,1]\n",
    "\n",
    "\n",
    "LU = np.linalg.solve(a3,x) \n",
    "p=LU\n",
    "#for d in LU:\n",
    " #   print d\n",
    "    \n",
    "    \n",
    "    \n",
    "##final solution \n",
    "\n",
    "LU = np.linalg.solve(a2,p) \n",
    "p3=LU\n",
    "for d in LU:\n",
    "    print d\n",
    "    \n",
    "\n",
    "\n",
    "print \"#################   \\n \\n \\n \"\n",
    "zz=np.array([[p1],[p2],[p3]])\n",
    "fm=zz.T\n",
    "\n",
    "\n",
    "print fm\n",
    "print \"#################   \\n \\n \\n \"\n",
    "print a1\n",
    "print \"#################   \\n \\n \\n \"\n",
    "c=np.matmul(fm,a1)\n"
   ]
  },
  {
   "cell_type": "code",
   "execution_count": null,
   "metadata": {},
   "outputs": [],
   "source": []
  },
  {
   "cell_type": "code",
   "execution_count": null,
   "metadata": {},
   "outputs": [],
   "source": []
  },
  {
   "cell_type": "code",
   "execution_count": null,
   "metadata": {},
   "outputs": [],
   "source": []
  },
  {
   "cell_type": "code",
   "execution_count": null,
   "metadata": {},
   "outputs": [],
   "source": []
  },
  {
   "cell_type": "code",
   "execution_count": null,
   "metadata": {},
   "outputs": [],
   "source": []
  },
  {
   "cell_type": "markdown",
   "metadata": {},
   "source": [
    "Example \n",
    "1The upward velocity of a\n",
    "rocket is given at three different tim"
   ]
  },
  {
   "cell_type": "code",
   "execution_count": null,
   "metadata": {},
   "outputs": [],
   "source": []
  },
  {
   "cell_type": "code",
   "execution_count": null,
   "metadata": {},
   "outputs": [],
   "source": []
  },
  {
   "cell_type": "code",
   "execution_count": 43,
   "metadata": {},
   "outputs": [],
   "source": [
    "a=np.array([[25,5,1],[64,8,1],[144,12,1]])\n",
    "x=[106.8,177.2,279.2]"
   ]
  },
  {
   "cell_type": "code",
   "execution_count": 45,
   "metadata": {},
   "outputs": [],
   "source": [
    "#print a,x"
   ]
  },
  {
   "cell_type": "code",
   "execution_count": 53,
   "metadata": {},
   "outputs": [],
   "source": [
    "inx=[1,2,5]\n",
    "#print inx[0],inx[1],inx[2]\n",
    "a1=inx[0]\n",
    "a2=inx[1]\n",
    "a3=inx[2]"
   ]
  },
  {
   "cell_type": "code",
   "execution_count": 57,
   "metadata": {},
   "outputs": [
    {
     "name": "stdout",
     "output_type": "stream",
     "text": [
      "12.0566 -54.8828 -798.3568\n",
      " \n",
      "  \n",
      " \n",
      "  91.7057877013 -103.644128944 -100.626286392\n"
     ]
    }
   ],
   "source": [
    "a1,a2,a3=3.6720,-7.8510,-155.36\n",
    "\n",
    "a1=(106.8-5*a2-a3)/25\n",
    "a2=(177.2-64*a1-a3)/8\n",
    "a3=(279.2-144*a1-12*a2)\n",
    "\n",
    "print a1,a2,a3\n",
    "\n",
    "ea1=abs(a1-inx[0])/(a1*.01)\n",
    "ea2=abs(a2-inx[1])/(a2*.01)\n",
    "ea3=abs(a3-inx[2])/(a3*.01)\n",
    "print \" \\n  \\n \\n \",ea1,ea2,ea3"
   ]
  },
  {
   "cell_type": "code",
   "execution_count": 63,
   "metadata": {},
   "outputs": [
    {
     "name": "stdout",
     "output_type": "stream",
     "text": [
      "iteration is  1\n",
      "1  th data solution is   12.0566 -54.8828 -798.3568\n",
      " \n",
      " \n",
      "1  th iter error is  69.5436524393 85.6949718309 80.54002922\n",
      " \n",
      "  \n",
      "\n",
      "iteration is  2\n",
      "2  th data solution is   47.182832 -255.518056 -3448.911136\n",
      " \n",
      " \n",
      "2  th iter error is  74.4470615922 78.5209699623 76.8519173583\n",
      " \n",
      "  \n",
      "\n",
      "iteration is  3\n",
      "3  th data solution is   193.33205664 -1093.39256112 -14439.9054227\n",
      " \n",
      " \n",
      "3  th iter error is  75.5949257355 76.6307120529 76.1154174142\n",
      " \n",
      "  \n",
      "\n",
      "iteration is  4\n",
      "4  th data solution is   800.546729133 -4577.23565522 -60072.7011325\n",
      " \n",
      " \n",
      "4  th iter error is  75.8499973075 76.1123821564 75.9626167119\n",
      " \n",
      "  \n",
      "\n",
      "iteration is  5\n",
      "5  th data solution is   3322.62717634 -19049.7797692 -249581.756163\n",
      " \n",
      " \n",
      "5  th iter error is  75.9062125648 75.9722384685 75.9306521214\n",
      " \n",
      "  \n",
      "\n"
     ]
    }
   ],
   "source": [
    "a1,a2,a3=3.6720,-7.8510,-155.36\n",
    "n=5\n",
    "p=1\n",
    "while p <= n:\n",
    "    m=[]\n",
    "    \n",
    "    print \"iteration is \",p\n",
    "    \n",
    "    m.append(a1)\n",
    "    m.append(a2)\n",
    "    m.append(a3)\n",
    "    a1=(106.8-5*a2-a3)/25\n",
    "    a2=(177.2-64*a1-a3)/8\n",
    "    a3=(279.2-144*a1-12*a2)\n",
    "    \n",
    "    print  p,\" th data solution is  \",a1,a2,a3\n",
    "    \n",
    "    print \" \\n \"\n",
    "    ea1=abs((a1-m[0])/(a1*.01))\n",
    "    ea2=abs((a2-m[1])/(a2*.01))\n",
    "    ea3=abs((a3-m[2])/(a3*.01))\n",
    "    print p, \" th iter error is \",ea1,ea2,ea3\n",
    "    \n",
    "    p=p+1\n",
    "    \n",
    "    print \" \\n  \\n\"\n",
    "    \n",
    "\n",
    "        \n",
    "        \n",
    "        \n",
    "    \n",
    "    \n",
    "    "
   ]
  },
  {
   "cell_type": "code",
   "execution_count": 1,
   "metadata": {},
   "outputs": [],
   "source": [
    "import numpy as np"
   ]
  },
  {
   "cell_type": "code",
   "execution_count": 2,
   "metadata": {},
   "outputs": [
    {
     "name": "stdout",
     "output_type": "stream",
     "text": [
      "1.0 0.0 1.0\n"
     ]
    }
   ],
   "source": [
    "x=np.array([1,0,1],dtype='float')\n",
    "#print inx[0],inx[1],inx[2]\n",
    "a1=x[0]\n",
    "a2=x[1]\n",
    "a3=x[2]\n",
    "#a1,a2,a3=1.0000,0.0000,1.000\n",
    "#a1=float((1-3*a2+5*a3)/12)\n",
    "#a2=(28-a1-3*a3)/5\n",
    "#a3=(76-3*a1-7*a2)/13\n",
    "print a1,a2,a3"
   ]
  },
  {
   "cell_type": "code",
   "execution_count": 3,
   "metadata": {},
   "outputs": [
    {
     "name": "stdout",
     "output_type": "stream",
     "text": [
      "iteration is  1\n",
      "1  th data solution is   0.5 4.9 3.092307692307692\n",
      " \n",
      " \n",
      "1  th iter error is  100.0 100.0 67.66169154228855\n",
      " \n",
      "  \n",
      "\n",
      "iteration is  2\n",
      "2  th data solution is   0.14679487179487158 3.7152564102564107 3.811755424063116\n",
      " \n",
      " \n",
      "2  th iter error is  240.61135371179085 31.888608992718858 18.87444633025624\n",
      " \n",
      "  \n",
      "\n",
      "iteration is  3\n",
      "3  th data solution is   0.7427506574621955 3.164396614069691 3.9708439791635053\n",
      " \n",
      " \n",
      "3  th iter error is  80.23631883458236 17.408051624675004 4.006416669483518\n",
      " \n",
      "  \n",
      "\n",
      "iteration is  4\n",
      "4  th data solution is   0.946752504467371 3.028143111608423 3.997133900410687\n",
      " \n",
      " \n",
      "4  th iter error is  21.54753708520095 4.499572755955247 0.6577193034359122\n",
      " \n",
      "  \n",
      "\n",
      "iteration is  5\n",
      "5  th data solution is   0.9917700139356805 3.0033656569664515 4.0000869507252155\n",
      " \n",
      " \n",
      "5  th iter error is  4.539107740277883 0.8249896107221893 0.07382465308642645\n",
      " \n",
      "  \n",
      "\n"
     ]
    }
   ],
   "source": [
    "\n",
    "n=5\n",
    "p=1\n",
    "while p <= n:\n",
    "    m=[]\n",
    "    \n",
    "    print \"iteration is \",p\n",
    "    \n",
    "    m.append(a1)\n",
    "    m.append(a2)\n",
    "    m.append(a3)\n",
    "    a1=(1-3*a2+5*a3)/12\n",
    "    a2=(28-a1-3*a3)/5\n",
    "    a3=(76-3*a1-7*a2)/13\n",
    "    \n",
    "    print  p,\" th data solution is  \",a1,a2,a3\n",
    "    \n",
    "    print \" \\n \"\n",
    "    ea1=abs((a1-m[0])/(a1*.01))\n",
    "    ea2=abs((a2-m[1])/(a2*.01))\n",
    "    ea3=abs((a3-m[2])/(a3*.01))\n",
    "    print p, \" th iter error is \",ea1,ea2,ea3\n",
    "    \n",
    "    p=p+1\n",
    "    \n",
    "    print \" \\n  \\n\"\n",
    "    \n"
   ]
  },
  {
   "cell_type": "code",
   "execution_count": null,
   "metadata": {},
   "outputs": [],
   "source": []
  },
  {
   "cell_type": "code",
   "execution_count": null,
   "metadata": {},
   "outputs": [],
   "source": []
  },
  {
   "cell_type": "code",
   "execution_count": null,
   "metadata": {},
   "outputs": [],
   "source": []
  }
 ],
 "metadata": {
  "kernelspec": {
   "display_name": "Python 2",
   "language": "python",
   "name": "python2"
  },
  "language_info": {
   "codemirror_mode": {
    "name": "ipython",
    "version": 2
   },
   "file_extension": ".py",
   "mimetype": "text/x-python",
   "name": "python",
   "nbconvert_exporter": "python",
   "pygments_lexer": "ipython2",
   "version": "2.7.12"
  }
 },
 "nbformat": 4,
 "nbformat_minor": 2
}
