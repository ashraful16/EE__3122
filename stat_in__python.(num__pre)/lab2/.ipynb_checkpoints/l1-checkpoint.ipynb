{
 "cells": [
  {
   "cell_type": "code",
   "execution_count": 1,
   "metadata": {},
   "outputs": [],
   "source": [
    "import pandas as pd\n",
    "import numpy as np\n",
    "import scipy\n",
    "import scipy.linalg as linalg \n",
    "import numpy as np"
   ]
  },
  {
   "cell_type": "code",
   "execution_count": null,
   "metadata": {},
   "outputs": [],
   "source": []
  },
  {
   "cell_type": "code",
   "execution_count": 2,
   "metadata": {},
   "outputs": [
    {
     "name": "stdout",
     "output_type": "stream",
     "text": [
      "upper  \n",
      "  \n",
      "[[ 4.   1.  -1. ]\n",
      " [ 0.   6.5  1.5]\n",
      " [ 0.   0.  13. ]]\n",
      "[0.5, 0.25, -0.5]\n",
      " lower is   \n",
      "  [[ 1.    0.    0.  ]\n",
      " [ 0.5   1.    0.  ]\n",
      " [ 0.25 -0.5   1.  ]]\n",
      "\n",
      "  [ 3. 19. 31.]\n",
      "3.0\n",
      "17.5\n",
      "39.0\n",
      "solution is \n",
      "1.0\n",
      "2.0\n",
      "3.0\n"
     ]
    }
   ],
   "source": [
    "xls=pd.ExcelFile(\"/media/ashraful/New Volume/labfiles/ex2.2d.xls\")\n",
    "sheetx=xls.parse(0)\n",
    "var1=sheetx['aa']\n",
    "var2=sheetx['bb']\n",
    "var3=sheetx['cc']\n",
    "var4=sheetx['dd']\n",
    "c=np.array([var1,var2,var3], dtype='float')\n",
    "c= c.T\n",
    "d=np.array(var4, dtype='float')\n",
    "d=d.T\n",
    "t=c\n",
    "b=d\n",
    "np.save('r1',b)\n",
    "Ab=t\n",
    "np.save('d1', Ab) \n",
    "aaa=Ab\n",
    "n = len(Ab)\n",
    "#print n\n",
    "me=[]\n",
    "for i in range(n):\n",
    "    a = Ab[i]\n",
    "    #print a,\"  \",n\n",
    "\n",
    "    for j in range(i + 1, n):\n",
    "        b = Ab[j]\n",
    "        m = float(a[i] / b[i])\n",
    "        me.append(1/m)\n",
    "        Ab[j] = b - (1/m) * a\n",
    "        #print 'j ',\" = \",j, b,\" = \",   m\n",
    "\n",
    "print \"upper  \\n  \"\n",
    "print Ab\n",
    "print me\n",
    "ccc=Ab\n",
    "np.save('d2', Ab) \n",
    "\n",
    "#for i in range(n):\n",
    "#    for j in range(n):\n",
    "#       print i,j\n",
    " #       print Ab[i][j]\n",
    "        \n",
    "k=0            \n",
    "for i in range(n):\n",
    "    for j in range(n):\n",
    "        if (i > j) :\n",
    "            ccc[i][j]=me[k]\n",
    "            k=k+1\n",
    "        else:\n",
    "            continue\n",
    "#print ccc \n",
    "\n",
    "for i in range(n):\n",
    "    for j in range(n):\n",
    "        if (i == j) :\n",
    "            ccc[i][j]=1\n",
    "            \n",
    "        else:\n",
    "            continue\n",
    "                    \n",
    "#print ccc\n",
    "for i in range(n):\n",
    "    for j in range(n):\n",
    "        if (i < j) :\n",
    "            ccc[i][j]=0\n",
    "            \n",
    "        else:\n",
    "            continue\n",
    "print \" lower is   \\n \" ,ccc \n",
    "\n",
    "np.save('d3', ccc) \n",
    "\n",
    "a1 = np.load('d1.npy')                                   \n",
    "a2 = np.load('d2.npy')\n",
    "a3=np.load('d3.npy')\n",
    "\n",
    "L=a3\n",
    "b=np.load('r1.npy') \n",
    "c=b\n",
    "print \"\\n \",c\n",
    "\n",
    "LU = np.linalg.solve(L,c) \n",
    "x=LU\n",
    "for d in LU:\n",
    "    print d\n",
    "    \n",
    "\n",
    "##final solution \n",
    "\n",
    "LU = np.linalg.solve(a2,x) \n",
    "p=LU\n",
    "print \"solution is \"\n",
    "for d in LU:\n",
    "    print d\n",
    "    \n",
    "file = open(\"testfile.txt1\",\"w\")  \n",
    "for d in LU:\n",
    "    \n",
    "    file.write(\"%s  \" %d) \n",
    "\n",
    " \n",
    "file.close()"
   ]
  },
  {
   "cell_type": "code",
   "execution_count": null,
   "metadata": {},
   "outputs": [],
   "source": []
  },
  {
   "cell_type": "code",
   "execution_count": null,
   "metadata": {},
   "outputs": [],
   "source": []
  },
  {
   "cell_type": "code",
   "execution_count": 3,
   "metadata": {},
   "outputs": [
    {
     "name": "stdout",
     "output_type": "stream",
     "text": [
      "<pandas.io.excel.ExcelFile object at 0x7fb58d538f50>\n",
      "0    0\n",
      "1    0\n",
      "2    0\n",
      "Name: aa, dtype: int64\n",
      "[0. 0. 0.]\n"
     ]
    }
   ],
   "source": [
    "\n",
    "\n",
    "xls=pd.ExcelFile(\"/media/ashraful/New Volume/labfiles/ex3.1d.xlsx\")\n",
    "\n",
    "print xls\n",
    "\n",
    "sheetx=xls.parse(0)\n",
    "\n",
    "var1=sheetx['aa']\n",
    "\n",
    "\n",
    "print (var1)\n",
    "c=np.array(var1, dtype='float')\n",
    "\n",
    "#c= c.T\n",
    "print c\n",
    "\n",
    "\n"
   ]
  },
  {
   "cell_type": "code",
   "execution_count": 4,
   "metadata": {},
   "outputs": [
    {
     "name": "stdout",
     "output_type": "stream",
     "text": [
      "0.0 0.0 0.0\n"
     ]
    }
   ],
   "source": [
    "inx=c\n",
    "#print inx[0],inx[1],inx[2]\n",
    "a1=inx[0]\n",
    "a2=inx[1]\n",
    "a3=inx[2]\n",
    "print a1,a2,a3"
   ]
  },
  {
   "cell_type": "code",
   "execution_count": null,
   "metadata": {},
   "outputs": [],
   "source": []
  },
  {
   "cell_type": "code",
   "execution_count": 5,
   "metadata": {},
   "outputs": [
    {
     "name": "stdout",
     "output_type": "stream",
     "text": [
      "1.0\n",
      "2.0\n",
      "3.0\n"
     ]
    }
   ],
   "source": [
    "\n",
    "n=500000\n",
    "p=1\n",
    "while (p <= n):\n",
    "    m=[]\n",
    "    \n",
    "    #print \"iteration is \",p\n",
    "    \n",
    "    m.append(a1)\n",
    "    m.append(a2)\n",
    "    m.append(a3)\n",
    "    a1=(3-a2+a3)/4\n",
    "    a2=(19-2*a1-a3)/7\n",
    "    a3=(31-1*a1+3*a2)/12\n",
    "    \n",
    "    ea1=abs((a1-m[0])/(a1*.01))\n",
    "    ea2=abs((a2-m[1])/(a2*.01))\n",
    "    ea3=abs((a3-m[2])/(a3*.01))\n",
    "    if (ea1 == 0.0000000000001 and ea2==0.0000000000001 and ea3==0.0000000000001):\n",
    "        print p\n",
    "        break\n",
    "        \n",
    "    #print \" and error is \",ea1,ea2,ea3\n",
    "    \n",
    "    p=p+1\n",
    "    \n",
    "ckk=np.array([a1,a2,a3], dtype='float')\n",
    "for d in ckk:\n",
    "    print d"
   ]
  },
  {
   "cell_type": "code",
   "execution_count": null,
   "metadata": {},
   "outputs": [],
   "source": []
  },
  {
   "cell_type": "code",
   "execution_count": 6,
   "metadata": {},
   "outputs": [],
   "source": [
    "file = open(\"testfile.txt\",\"w\")  \n",
    "for d in ckk:\n",
    "    \n",
    "    file.write(\"%s  \" %d) \n",
    "\n",
    " \n",
    "file.close() "
   ]
  },
  {
   "cell_type": "code",
   "execution_count": null,
   "metadata": {},
   "outputs": [],
   "source": []
  }
 ],
 "metadata": {
  "kernelspec": {
   "display_name": "Python 2",
   "language": "python",
   "name": "python2"
  },
  "language_info": {
   "codemirror_mode": {
    "name": "ipython",
    "version": 2
   },
   "file_extension": ".py",
   "mimetype": "text/x-python",
   "name": "python",
   "nbconvert_exporter": "python",
   "pygments_lexer": "ipython2",
   "version": "2.7.12"
  }
 },
 "nbformat": 4,
 "nbformat_minor": 2
}
