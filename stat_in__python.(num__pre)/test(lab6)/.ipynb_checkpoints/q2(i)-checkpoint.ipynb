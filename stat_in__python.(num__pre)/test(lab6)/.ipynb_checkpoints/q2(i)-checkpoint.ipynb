{
 "cells": [
  {
   "cell_type": "code",
   "execution_count": 8,
   "metadata": {},
   "outputs": [
    {
     "name": "stdout",
     "output_type": "stream",
     "text": [
      "2.1951295159461828  \n",
      "  0.22996299544394772  \n",
      "  1.2647964749417124\n"
     ]
    }
   ],
   "source": [
    "import pandas as pd\n",
    "import numpy as np \n",
    "import pandas as pd\n",
    "import numpy as np\n",
    "import scipy\n",
    "import scipy.linalg as linalg \n",
    "import numpy as np\n",
    "\n",
    "xls=pd.ExcelFile(\"data.xlsx\")\n",
    "#print type(xls)\n",
    "sheetx=xls.parse(0)\n",
    "#print sheetx\n",
    "var1=sheetx['aa']\n",
    "var2=sheetx['bb']\n",
    "var3=sheetx['cc']\n",
    "var4=sheetx['dd']\n",
    "#print ((var1), '\\n ',var2, ' \\n ',var3)\n",
    "c=np.array([var1,var2,var3], dtype='float')\n",
    "c= c.T\n",
    "d=np.array(var4, dtype='float')\n",
    "d=d.T\n",
    "t=c\n",
    "b=d\n",
    "Ab = np.hstack([t, b.reshape(-1, 1)])\n",
    "A=Ab\n",
    "#print A\n",
    "#now we want to see how A has been factorized, P is the so called Permutation matrix\n",
    "P, L, U = scipy.linalg.lu(A) \n",
    "#print U\n",
    "u=U\n",
    "a3=1/(u[2][2]/u[2][3])\n",
    "a21= u[1][3]-(u[1][2])*a3\n",
    "a2=a21/u[1][1]\n",
    "a11=u[0][3]-u[0][2]*a3-a2*u[0][1]\n",
    "a1=a11/u[0][0]\n",
    "print a1,\" \\n \",a2,\" \\n \",a3"
   ]
  },
  {
   "cell_type": "code",
   "execution_count": null,
   "metadata": {},
   "outputs": [],
   "source": []
  }
 ],
 "metadata": {
  "kernelspec": {
   "display_name": "Python 2",
   "language": "python",
   "name": "python2"
  },
  "language_info": {
   "codemirror_mode": {
    "name": "ipython",
    "version": 2
   },
   "file_extension": ".py",
   "mimetype": "text/x-python",
   "name": "python",
   "nbconvert_exporter": "python",
   "pygments_lexer": "ipython2",
   "version": "2.7.12"
  }
 },
 "nbformat": 4,
 "nbformat_minor": 2
}
