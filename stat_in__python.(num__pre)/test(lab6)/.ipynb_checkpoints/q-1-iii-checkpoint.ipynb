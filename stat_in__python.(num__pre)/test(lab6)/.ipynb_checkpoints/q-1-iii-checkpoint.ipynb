{
 "cells": [
  {
   "cell_type": "code",
   "execution_count": 1,
   "metadata": {},
   "outputs": [],
   "source": [
    "import numpy as np\n",
    "import matplotlib.pyplot as plt\n",
    "import pandas as pd\n",
    "from scipy import stats"
   ]
  },
  {
   "cell_type": "code",
   "execution_count": 10,
   "metadata": {},
   "outputs": [
    {
     "name": "stdout",
     "output_type": "stream",
     "text": [
      "[1.0, 1.5, 2.0, 2.5, 3.0, 3.5, 4.0, 4.5, 5.0, 5.5] [0.946, 1.325, 1.605, 1.778, 1.849, 1.833, 1.925, 2.056, 2.312, 2.215]\n",
      "0.5371424242424248 0.575530303030304 0.575530303030304\n",
      "a is  0.5371424242424248\n",
      "b is  0.575530303030304\n",
      "c is  0.575530303030304\n"
     ]
    },
    {
     "data": {
      "text/plain": [
       "[<matplotlib.lines.Line2D at 0x7f5eabbbaf50>]"
      ]
     },
     "execution_count": 10,
     "metadata": {},
     "output_type": "execute_result"
    },
    {
     "data": {
      "image/png": "[encoded data removed]",
      "text/plain": [
       "<Figure size 432x288 with 1 Axes>"
      ]
     },
     "metadata": {
      "needs_background": "light"
     },
     "output_type": "display_data"
    }
   ],
   "source": [
    "\n",
    "#f='//media//ashraful//New Volume//labfiles//text6.txt'\n",
    "f='in001.txt'\n",
    "file = open(f, 'r')\n",
    "with open(f) as fl:\n",
    "    #print zip(*[line.split() for line in fl])[0]\n",
    "    da= zip(*[line.split() for line in fl])[0]\n",
    "with open(f) as fl:\n",
    "    #print zip(*[line.split() for line in fl])[1]\n",
    "    ta=zip(*[line.split() for line in fl])[1]\n",
    "x=[]\n",
    "for i in da:\n",
    "    x.append(float(i))\n",
    "fx=[]\n",
    "for i in ta:\n",
    "    fx.append(float(i))\n",
    "print x,fx\n",
    "\n",
    "\n",
    "\n",
    "    \n",
    "\n",
    "sx,sx2,sx3,sx4,sy,sxy,sx2y=0,0,0,0,0,0,0\n",
    "n=len(x)\n",
    "i=0\n",
    "while i<n:\n",
    "    sx=sx+x[i]\n",
    "    #sx2=sx2+x[i]*x[i]\n",
    "    sx2=sx2+x[i]**2\n",
    "    #sx3=sx3+x[i]*x[i]*x[i]\n",
    "    sx3=sx3+x[i]**3\n",
    "    #sx4=sx4+x[i]*x[i]*x[i]*x[i]\n",
    "    sx4=sx4+x[i]**4\n",
    "    sy=sy+fx[i]\n",
    "    #sxy=sxy+fx[i]*x[i]\n",
    "    sxy=sxy+fx[i]*x[i]\n",
    "    sx2y=sx2y+(x[i]**2)*fx[i]\n",
    "    i+=1\n",
    "\n",
    "#print sx,sx2,sx3,sx4,sy,sxy,sx2y\n",
    "\n",
    "\n",
    "ar1=np.array([[n,sx,sx2],[sx,sx2,sx3],[sx2,sx3,sx4]])\n",
    "ar2=np.array([sy,sxy,sx2y])\n",
    "#print ar1,ar2\n",
    "\n",
    "ax = np.linalg.solve(ar1,ar2)\n",
    "#print ax\n",
    "a,b,c=ax[0],ax[1],ax[1]\n",
    "print a,b,c\n",
    "print \"a is \",a\n",
    "print \"b is \",b\n",
    "print \"c is \",c\n",
    "dom=range(0,10)\n",
    "\n",
    "y=[]\n",
    "for d in dom:\n",
    "    \n",
    "    ffas=c*d*d+b*d+a\n",
    "    y.append(ffas)\n",
    "\n",
    "#plt.scatter(x,fx,linestyle='-' ,alpha=.99,color : color)\n",
    "#print \"\\n\\n \",x,fx\n",
    "\n",
    "plt.scatter(x,fx)\n",
    "plt.plot(dom,y,'c')\n",
    "\n",
    "#print ax"
   ]
  },
  {
   "cell_type": "code",
   "execution_count": null,
   "metadata": {},
   "outputs": [],
   "source": [
    "print \"a is \",a\n",
    "print \"b is \",b\n",
    "print \"c is \",c"
   ]
  },
  {
   "cell_type": "code",
   "execution_count": null,
   "metadata": {},
   "outputs": [],
   "source": []
  },
  {
   "cell_type": "code",
   "execution_count": null,
   "metadata": {},
   "outputs": [],
   "source": []
  }
 ],
 "metadata": {
  "kernelspec": {
   "display_name": "Python 2",
   "language": "python",
   "name": "python2"
  },
  "language_info": {
   "codemirror_mode": {
    "name": "ipython",
    "version": 2
   },
   "file_extension": ".py",
   "mimetype": "text/x-python",
   "name": "python",
   "nbconvert_exporter": "python",
   "pygments_lexer": "ipython2",
   "version": "2.7.12"
  }
 },
 "nbformat": 4,
 "nbformat_minor": 2
}
