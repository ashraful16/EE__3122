{
 "cells": [
  {
   "cell_type": "markdown",
   "metadata": {},
   "source": [
    "Experiment: (1) Perform the mean (AM, GM, HM), median, mode, SD, Variance, \n",
    "moments (about mean and about any arbitrary value) from the following \n",
    "ungrouped data using C/C++ or MatLab. Sample Input Data: (indata1.txt \n",
    "or indata1.xls). Put the data in your input file as a column data or \n",
    "row data with spacing, or comma delimited.\n",
    "5, 12, 5, 7, 21, 23, 24, 15, 8, 22, 23, 9, 11, 18, 22, 21, 19, 3, 4, 20"
   ]
  },
  {
   "cell_type": "code",
   "execution_count": 1,
   "metadata": {},
   "outputs": [
    {
     "name": "stdout",
     "output_type": "stream",
     "text": [
      "Values in the file are as follows:\n",
      "\n",
      "['5', ' 12', ' 5', ' 7', ' 21', ' 23', ' 24', ' 15', ' 8', ' 22', ' 23', '9', ' 11', ' 18', ' 22', ' 21', ' 19', ' 3', ' 4', ' 20']\n"
     ]
    }
   ],
   "source": [
    "file = open('//media//ashraful//New Volume///labfiles//omit1.txt', 'r')\n",
    "#file = open('//media//ashraful//New Volume2//e.xls', 'r')\n",
    "fa=[]\n",
    "for line in file.readlines():\n",
    "    fname = line.rstrip().split(',') \n",
    "    print(\"Values in the file are as follows:\\n\")\n",
    "    print((fname))\n",
    "for e in fname:\n",
    "    fa.append(float(e))\n",
    "c=(fname)\n",
    "a= (' '.join((fname)))\n"
   ]
  },
  {
   "cell_type": "code",
   "execution_count": 2,
   "metadata": {},
   "outputs": [],
   "source": [
    "import statistics "
   ]
  },
  {
   "cell_type": "markdown",
   "metadata": {},
   "source": [
    "#### Arithmetic mean ,Geometric Mea,harmonic mean"
   ]
  },
  {
   "cell_type": "code",
   "execution_count": 3,
   "metadata": {},
   "outputs": [
    {
     "name": "stdout",
     "output_type": "stream",
     "text": [
      "arithmetic mean is  14.6\n"
     ]
    }
   ],
   "source": [
    "#  Arithmetic mean\n",
    "s=0\n",
    "for data in fa:\n",
    "    s=s+data\n",
    "#print s\n",
    "#print len(fa)\n",
    "c=s/len(fa)\n",
    "print \"arithmetic mean is \",c"
   ]
  },
  {
   "cell_type": "code",
   "execution_count": 4,
   "metadata": {},
   "outputs": [
    {
     "name": "stdout",
     "output_type": "stream",
     "text": [
      "Harmonic Mean is 9.633130939324978 \n",
      "geometricic Mean is 4.739896323935315 \n"
     ]
    }
   ],
   "source": [
    "\n",
    "#Geometric Mean\n",
    "\n",
    "#harmonic mean\n",
    "\n",
    "from scipy import stats\n",
    "\n",
    "c=stats.hmean(fa)\n",
    "\n",
    "print(\"Harmonic Mean is % s \" % (c)) \n",
    "\n",
    "c=stats.gmean([1,9,5,6,6,7])\n",
    "\n",
    "print(\"geometricic Mean is % s \" % (c)) "
   ]
  },
  {
   "cell_type": "markdown",
   "metadata": {},
   "source": [
    "#### Median"
   ]
  },
  {
   "cell_type": "code",
   "execution_count": 5,
   "metadata": {},
   "outputs": [
    {
     "name": "stdout",
     "output_type": "stream",
     "text": [
      "Grouped Median of the median is 17.5 \n"
     ]
    }
   ],
   "source": [
    "print(\"Grouped Median of the median is %s \"%(statistics.median_grouped(fa)))"
   ]
  },
  {
   "cell_type": "code",
   "execution_count": null,
   "metadata": {},
   "outputs": [],
   "source": []
  },
  {
   "cell_type": "code",
   "execution_count": null,
   "metadata": {},
   "outputs": [],
   "source": []
  },
  {
   "cell_type": "markdown",
   "metadata": {},
   "source": [
    "### std ,variance, mode"
   ]
  },
  {
   "cell_type": "code",
   "execution_count": null,
   "metadata": {},
   "outputs": [],
   "source": []
  },
  {
   "cell_type": "code",
   "execution_count": 6,
   "metadata": {},
   "outputs": [
    {
     "name": "stdout",
     "output_type": "stream",
     "text": [
      "standard deviation is  7.29657453878\n"
     ]
    }
   ],
   "source": [
    "def SD(numList):\n",
    "    cntN = len(numList)\n",
    "    avgVal = float(sum(numList))/cntN\n",
    "    return (sum((i-avgVal)**2 for i in numList)/(cntN))**0.5\n",
    "sd=SD(fa)\n",
    "vai=(sd)**2\n",
    "print \"standard deviation is \",sd"
   ]
  },
  {
   "cell_type": "code",
   "execution_count": 7,
   "metadata": {},
   "outputs": [
    {
     "name": "stdout",
     "output_type": "stream",
     "text": [
      "variance is   53.24\n"
     ]
    }
   ],
   "source": [
    "print \"variance is  \", vai"
   ]
  },
  {
   "cell_type": "code",
   "execution_count": 8,
   "metadata": {},
   "outputs": [
    {
     "name": "stdout",
     "output_type": "stream",
     "text": [
      "mode is  [5.0, 21.0, 22.0, 23.0]\n"
     ]
    }
   ],
   "source": [
    "def all_modes(l):\n",
    "    d = {}\n",
    "    for c in l:\n",
    "        if c not in d:\n",
    "            d[c] = 1\n",
    "        else:\n",
    "            d[c] = d[c] + 1\n",
    "\n",
    "    count_max = max([v for v in d.itervalues()])\n",
    "    mode_list = [k for k,v in d.iteritems() if v == count_max]\n",
    "\n",
    "    #return (mode_list, count_max)\n",
    "    return (mode_list)\n",
    "\n",
    "print \"mode is \" ,all_modes(fa)"
   ]
  },
  {
   "cell_type": "markdown",
   "metadata": {},
   "source": [
    "#### moment"
   ]
  },
  {
   "cell_type": "code",
   "execution_count": 9,
   "metadata": {},
   "outputs": [],
   "source": [
    "\n",
    "def moment(data, k):\n",
    "  data_mean = sum(data)/len(data)\n",
    "  return sum((x-data_mean)**k for x in data)/len(data)"
   ]
  },
  {
   "cell_type": "code",
   "execution_count": 10,
   "metadata": {},
   "outputs": [
    {
     "name": "stdout",
     "output_type": "stream",
     "text": [
      "53.24\n"
     ]
    }
   ],
   "source": [
    "print moment(fa,2)"
   ]
  },
  {
   "cell_type": "code",
   "execution_count": 11,
   "metadata": {},
   "outputs": [
    {
     "name": "stdout",
     "output_type": "stream",
     "text": [
      "145.4\n"
     ]
    }
   ],
   "source": [
    "\n",
    "def moment(data, k,va):\n",
    "  data_mean = va\n",
    "  return sum((x-data_mean)**k for x in data)/len(data)\n",
    "value=5\n",
    "k=2\n",
    "print moment(fa,k,value)"
   ]
  },
  {
   "cell_type": "code",
   "execution_count": null,
   "metadata": {},
   "outputs": [],
   "source": []
  }
 ],
 "metadata": {
  "kernelspec": {
   "display_name": "Python 2",
   "language": "python",
   "name": "python2"
  },
  "language_info": {
   "codemirror_mode": {
    "name": "ipython",
    "version": 2
   },
   "file_extension": ".py",
   "mimetype": "text/x-python",
   "name": "python",
   "nbconvert_exporter": "python",
   "pygments_lexer": "ipython2",
   "version": "2.7.12"
  }
 },
 "nbformat": 4,
 "nbformat_minor": 2
}
