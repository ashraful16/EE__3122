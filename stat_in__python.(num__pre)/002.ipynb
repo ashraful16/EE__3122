{
 "cells": [
  {
   "cell_type": "code",
   "execution_count": null,
   "metadata": {},
   "outputs": [],
   "source": [
    "\"\"\"\n",
    "(2) Perform the mean (AM, GM, HM), median, mode, SD, Variance, moments (about\n",
    "mean and about any arbitrary value) from the grouped data using C/C++ or MatLab\n",
    "(Column 1 and 3 are used as input data, use the file number indata2.txt or\n",
    "indata2.xls).\n",
    "\n",
    " Marks             No. of students, fi\n",
    "\n",
    "30-40                      3\n",
    "\n",
    "40-50                      7\n",
    "\n",
    "50-60                      20\n",
    "\n",
    "60-70                      25\n",
    "\n",
    "70-80                      20\n",
    "\n",
    "80-90                      15\n",
    "\n",
    "90-100                     10\n",
    "\n",
    "\n",
    "Here, n=100. Therefore, (n+1)/2 = 50.5. The value of 50.5th item is the median. Median\n",
    "holding lies in the group (60-70) since the cumulative frequency of this group just exceeds\n",
    "50.5. By using formula, Median = 60 + (50.5-30)/25×10=60+8.2=68.2\n",
    "\n",
    "\"\"\""
   ]
  },
  {
   "cell_type": "code",
   "execution_count": null,
   "metadata": {},
   "outputs": [],
   "source": [
    "f='/media/ashraful/New Volume2/text3.txt'\n",
    "file = open(f, 'r')"
   ]
  },
  {
   "cell_type": "code",
   "execution_count": null,
   "metadata": {},
   "outputs": [],
   "source": [
    "print type(file)\n",
    "print (file)"
   ]
  },
  {
   "cell_type": "code",
   "execution_count": null,
   "metadata": {},
   "outputs": [],
   "source": [
    "import matplotlib.pyplot as plt\n",
    "import os\n",
    "f = open(os.path.expanduser(\"'//media//ashraful//New Volume2//text3.txt\"))\n",
    "lines = f.readlines()\n",
    "\n",
    "x, y = [], []\n",
    "\n",
    "for line in lines:\n",
    "    x.append(line.split()[0])\n",
    "    y.append(line.split()[1])\n",
    "\n",
    "f.close()\n",
    "\n",
    "print(x, y)\n",
    "\n",
    "plt.plot(x,y)\n",
    "plt.show()"
   ]
  },
  {
   "cell_type": "code",
   "execution_count": null,
   "metadata": {},
   "outputs": [],
   "source": [
    "f=open(f,\"r\")\n",
    "lines=f.readlines()\n",
    "result=[]\n",
    "for x in lines:\n",
    "    result.append(x.split(' ')[1])\n",
    "f.close()"
   ]
  },
  {
   "cell_type": "code",
   "execution_count": null,
   "metadata": {},
   "outputs": [],
   "source": [
    "print type(result)\n",
    "print result"
   ]
  },
  {
   "cell_type": "code",
   "execution_count": null,
   "metadata": {},
   "outputs": [],
   "source": [
    "with open(f) as fl:\n",
    "    #print zip(*[line.split() for line in fl])[0]\n",
    "    da= zip(*[line.split() for line in fl])[0]\n",
    "with open(f) as fl:\n",
    "    #print zip(*[line.split() for line in fl])[1]\n",
    "    ta=zip(*[line.split() for line in fl])[1]"
   ]
  },
  {
   "cell_type": "code",
   "execution_count": null,
   "metadata": {},
   "outputs": [],
   "source": [
    "print da\n",
    "print type(da)\n",
    "print ta\n",
    "print type(ta)"
   ]
  },
  {
   "cell_type": "code",
   "execution_count": null,
   "metadata": {},
   "outputs": [],
   "source": [
    "#end1"
   ]
  },
  {
   "cell_type": "code",
   "execution_count": null,
   "metadata": {},
   "outputs": [],
   "source": [
    "with open(f,mode='r', buffering=-1) as fl:\n",
    "    #print zip(*[line.split() for line in fl])[0]\n",
    "    da= zip(*[line.split() for line in fl])[0]\n",
    "\n",
    "with open(f) as fl:\n",
    "    #print zip(*[line.split() for line in fl])[1]\n",
    "    ta=zip(*[line.split() for line in fl])[1]\n"
   ]
  },
  {
   "cell_type": "code",
   "execution_count": null,
   "metadata": {},
   "outputs": [],
   "source": [
    "print da\n",
    "print type(da)\n",
    "print ta\n",
    "print type(ta)"
   ]
  },
  {
   "cell_type": "code",
   "execution_count": null,
   "metadata": {},
   "outputs": [],
   "source": [
    "#experiment block\n",
    "\n",
    "fa=[]\n",
    "#da=('fe' '1', '3', '5', '7')\n",
    "#<type 'tuple'>\n",
    "#ta=('rt', '2', '4', '6', '8')\n",
    "\n",
    "        \n",
    "    # got a non-empty string\n",
    "da = da[1:] \n",
    "ta = ta[1:]\n",
    "print da\n",
    "print type(da)\n",
    "print ta\n",
    "print type(ta)\n"
   ]
  },
  {
   "cell_type": "code",
   "execution_count": null,
   "metadata": {},
   "outputs": [],
   "source": [
    "dA=('10-20', '30-40', '50-60', '70-80')\n",
    "pr=[]\n",
    "for i in da:\n",
    "    a=i.split(\"-\")\n",
    "    #print a[0]\n",
    "    #print a[1]\n",
    "    pr.append(float(a[0]))\n",
    "    pr.append(float(a[1]))\n",
    "print pr\n",
    "type(pr)"
   ]
  },
  {
   "cell_type": "code",
   "execution_count": null,
   "metadata": {},
   "outputs": [],
   "source": []
  },
  {
   "cell_type": "code",
   "execution_count": null,
   "metadata": {},
   "outputs": [],
   "source": [
    "len(pr)"
   ]
  },
  {
   "cell_type": "code",
   "execution_count": null,
   "metadata": {},
   "outputs": [],
   "source": [
    "#pr=[10.0, 20.0, 30.0, 50.0, 50.0, 60.0, 70.0, 80.0]\n",
    "s=[]\n",
    "i=0\n",
    "while(i<(len(pr))):\n",
    "    k=pr[i]+pr[i+1]\n",
    "    k=k/2\n",
    "    s.append(k)\n",
    "    i=i+2\n",
    "    \n",
    "print s"
   ]
  },
  {
   "cell_type": "code",
   "execution_count": null,
   "metadata": {},
   "outputs": [],
   "source": []
  },
  {
   "cell_type": "code",
   "execution_count": null,
   "metadata": {},
   "outputs": [],
   "source": []
  },
  {
   "cell_type": "code",
   "execution_count": null,
   "metadata": {},
   "outputs": [],
   "source": []
  },
  {
   "cell_type": "markdown",
   "metadata": {},
   "source": [
    "#### details calculation"
   ]
  },
  {
   "cell_type": "code",
   "execution_count": null,
   "metadata": {},
   "outputs": [],
   "source": [
    "std ,variance,median, mode"
   ]
  },
  {
   "cell_type": "code",
   "execution_count": null,
   "metadata": {},
   "outputs": [],
   "source": [
    "\n",
    "import statistics \n",
    "#sample = fa \n",
    "pr=[10.0, 20.0, 30.0, 50.0, 50.0, 60.0, 70.0, 80.0]\n",
    "sample =pr\n",
    "\n",
    "print(\"Standard Deviation of sample is % s \" % (statistics.stdev(sample)))\n",
    "\n",
    "print(\"Variance of the sample is % s\"%(statistics.variance(sample))) \n",
    " \n",
    "print(\"Grouped Median of the median is %s\"%(statistics.median_grouped(sample))) \n",
    "\n",
    "print(\"Low median of the data-set is % s \" % (statistics.median_low(sample))) \n",
    "\n",
    "print(\"High median of the data-set is %s \"% (statistics.median_high(sample))) \n",
    "\n",
    "\n",
    "print(\"High mode of the data-set is %s \"% (statistics.mode(sample))) \n"
   ]
  },
  {
   "cell_type": "code",
   "execution_count": null,
   "metadata": {},
   "outputs": [],
   "source": []
  },
  {
   "cell_type": "markdown",
   "metadata": {},
   "source": [
    "Population Standard Deviation, σ"
   ]
  },
  {
   "cell_type": "code",
   "execution_count": null,
   "metadata": {},
   "outputs": [],
   "source": [
    "Population Standard Deviation\n",
    "\n",
    "The population standard deviation is a measure of the spread (variability) of the scores on a given variable and is represented by:\n",
    "\n",
    "σ = sqrt[ Σ ( Xi – μ )**2 / N ]"
   ]
  },
  {
   "cell_type": "code",
   "execution_count": 1,
   "metadata": {},
   "outputs": [
    {
     "name": "stdout",
     "output_type": "stream",
     "text": [
      "Population Standard Deviation, σ 22.8787565222\n",
      "Variance (Population Standard), σ2 523.4375\n"
     ]
    }
   ],
   "source": [
    "import numpy as np\n",
    "from math import sqrt\n",
    "pr=[10.0, 20.0, 30.0, 50.0, 50.0, 60.0, 70.0, 80.0]\n",
    "#print pr\n",
    "#su=0\n",
    "#for data in pr :\n",
    "#    su=su+data\n",
    "#print su\n",
    "t=(np.sum(pr))\n",
    "#print t\n",
    "l=len(pr)\n",
    "a=t/l\n",
    "#print a\n",
    "ans=0\n",
    "for data in pr:\n",
    "    \n",
    "    s=(data-a)**2\n",
    "    ans=ans+(s)\n",
    "\n",
    "o=sqrt(ans/l)\n",
    "print \"Population Standard Deviation, σ\",o\n",
    "print \"Variance (Population Standard), σ2\",o**2"
   ]
  },
  {
   "cell_type": "code",
   "execution_count": null,
   "metadata": {},
   "outputs": [],
   "source": [
    "Sample Standard Deviation\n",
    "\n",
    "The statistic called sample standard deviation,\n",
    "is a measure of the spread (variability) of the scores \n",
    "in the sample on a given variable and is represented by:\n",
    "\n",
    "s = sqrt [ Σ ( xi – x_bar )** 2 / ( n – 1 ) ]"
   ]
  },
  {
   "cell_type": "code",
   "execution_count": 2,
   "metadata": {},
   "outputs": [
    {
     "name": "stdout",
     "output_type": "stream",
     "text": [
      "Sample Standard Deviation, s 24.4584195261\n",
      "Variance (Sample Standard), s2 598.214285714\n"
     ]
    }
   ],
   "source": [
    "o=sqrt(ans/(l-1))\n",
    "print \"Sample Standard Deviation, s\",o\n",
    "print \"Variance (Sample Standard), s2\",o**2"
   ]
  },
  {
   "cell_type": "code",
   "execution_count": 3,
   "metadata": {},
   "outputs": [
    {
     "name": "stdout",
     "output_type": "stream",
     "text": [
      "sum  370.0\n",
      "average  46.25\n"
     ]
    }
   ],
   "source": [
    "print \"sum \",t\n",
    "print \"average \",a"
   ]
  },
  {
   "cell_type": "code",
   "execution_count": null,
   "metadata": {},
   "outputs": [],
   "source": [
    "Sample Standard Deviation, s\t24.458419526091\n",
    "Variance (Sample Standard), s2\t598.21428571429\n",
    "Population Standard Deviation, σ\t22.878756522154\n",
    "Variance (Population Standard), σ2\t523.4375\n",
    "Total Numbers, N\t8\n",
    "Sum:\t370\n",
    "Mean (Average):\t46.25\n",
    "Standard Error of the Mean (SEx̄):\t8.6473571520023"
   ]
  },
  {
   "cell_type": "code",
   "execution_count": 5,
   "metadata": {},
   "outputs": [
    {
     "name": "stdout",
     "output_type": "stream",
     "text": [
      "4.60517018599\n",
      "100.0\n"
     ]
    }
   ],
   "source": [
    "import math\n",
    "\n",
    "print math.log(100)\n",
    "print math.exp(4.60517018599)"
   ]
  },
  {
   "cell_type": "code",
   "execution_count": 2,
   "metadata": {},
   "outputs": [
    {
     "name": "stdout",
     "output_type": "stream",
     "text": [
      "4.60517018599\n",
      "100.0\n"
     ]
    }
   ],
   "source": [
    "from math import *\n",
    "\n",
    "print log(100)\n",
    "print exp(4.60517018599)"
   ]
  },
  {
   "cell_type": "code",
   "execution_count": null,
   "metadata": {},
   "outputs": [],
   "source": []
  }
 ],
 "metadata": {
  "kernelspec": {
   "display_name": "Python 2",
   "language": "python",
   "name": "python2"
  },
  "language_info": {
   "codemirror_mode": {
    "name": "ipython",
    "version": 2
   },
   "file_extension": ".py",
   "mimetype": "text/x-python",
   "name": "python",
   "nbconvert_exporter": "python",
   "pygments_lexer": "ipython2",
   "version": "2.7.12"
  }
 },
 "nbformat": 4,
 "nbformat_minor": 2
}
