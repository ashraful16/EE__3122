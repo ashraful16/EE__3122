{
 "cells": [
  {
   "cell_type": "code",
   "execution_count": 5,
   "metadata": {},
   "outputs": [],
   "source": [
    "import numpy as np\n",
    "import matplotlib.pyplot as plt\n",
    "import pandas as pd\n",
    "from scipy import stats"
   ]
  },
  {
   "cell_type": "code",
   "execution_count": 6,
   "metadata": {},
   "outputs": [
    {
     "name": "stdout",
     "output_type": "stream",
     "text": [
      "[1.0, 2.0, 3.0, 4.0, 5.0, 6.0, 7.0, 8.0, 9.0, 10.0] [2.67, 3.47, 8.54, 9.67, 2.45, 10.32, 12.57, 10.32, 14.92, 16.02]\n",
      "55.0 385.0 3025.0 25333.0 90.95 613.11 4767.83\n",
      "[[1.0000e+01 5.5000e+01 3.8500e+02]\n",
      " [5.5000e+01 3.8500e+02 3.0250e+03]\n",
      " [3.8500e+02 3.0250e+03 2.5333e+04]] [  90.95  613.11 4767.83]\n",
      "[2.591      0.8574697  0.04643939]\n",
      "[2.591      0.8574697  0.04643939]\n"
     ]
    },
    {
     "data": {
      "image/png": "[encoded data removed]",
      "text/plain": [
       "<Figure size 432x288 with 1 Axes>"
      ]
     },
     "metadata": {
      "needs_background": "light"
     },
     "output_type": "display_data"
    }
   ],
   "source": [
    "\n",
    "#f='//media//ashraful//New Volume//labfiles//text6.txt'\n",
    "f='lab001.txt'\n",
    "file = open(f, 'r')\n",
    "with open(f) as fl:\n",
    "    #print zip(*[line.split() for line in fl])[0]\n",
    "    da= zip(*[line.split() for line in fl])[0]\n",
    "with open(f) as fl:\n",
    "    #print zip(*[line.split() for line in fl])[1]\n",
    "    ta=zip(*[line.split() for line in fl])[1]\n",
    "x=[]\n",
    "for i in da:\n",
    "    x.append(float(i))\n",
    "fx=[]\n",
    "for i in ta:\n",
    "    fx.append(float(i))\n",
    "print x,fx\n",
    "\n",
    "\n",
    "\n",
    "    \n",
    "\n",
    "sx,sx2,sx3,sx4,sy,sxy,sx2y=0,0,0,0,0,0,0\n",
    "n=len(x)\n",
    "i=0\n",
    "while i<n:\n",
    "    sx=sx+x[i]\n",
    "    #sx2=sx2+x[i]*x[i]\n",
    "    sx2=sx2+x[i]**2\n",
    "    #sx3=sx3+x[i]*x[i]*x[i]\n",
    "    sx3=sx3+x[i]**3\n",
    "    #sx4=sx4+x[i]*x[i]*x[i]*x[i]\n",
    "    sx4=sx4+x[i]**4\n",
    "    sy=sy+fx[i]\n",
    "    #sxy=sxy+fx[i]*x[i]\n",
    "    sxy=sxy+fx[i]*x[i]\n",
    "    sx2y=sx2y+(x[i]**2)*fx[i]\n",
    "    i+=1\n",
    "\n",
    "print sx,sx2,sx3,sx4,sy,sxy,sx2y\n",
    "\n",
    "\n",
    "ar1=np.array([[n,sx,sx2],[sx,sx2,sx3],[sx2,sx3,sx4]])\n",
    "ar2=np.array([sy,sxy,sx2y])\n",
    "print ar1,ar2\n",
    "\n",
    "ax = np.linalg.solve(ar1,ar2)\n",
    "print ax\n",
    "a,b,c=ax[0],ax[1],ax[1]\n",
    "\n",
    "dom=range(0,10)\n",
    "\n",
    "y=[]\n",
    "for d in dom:\n",
    "    \n",
    "    ffas=c*d*d+b*d+a\n",
    "    y.append(ffas)\n",
    "\n",
    "#plt.scatter(x,fx,linestyle='-' ,alpha=.99,color : color)\n",
    "#print \"\\n\\n \",x,fx\n",
    "\n",
    "plt.scatter(x,fx)\n",
    "plt.plot(dom,y,'c')\n",
    "\n",
    "print ax"
   ]
  },
  {
   "cell_type": "code",
   "execution_count": 7,
   "metadata": {},
   "outputs": [
    {
     "name": "stdout",
     "output_type": "stream",
     "text": [
      "[2.5910000000000526, 4.3059393939394, 7.735818181818094, 12.880636363636135, 19.74039393939352, 28.31509090909025, 38.604727272726336, 50.609303030301774, 64.32881818181654, 79.76327272727066] [2.67, 3.47, 8.54, 9.67, 2.45, 10.32, 12.57, 10.32, 14.92, 16.02]\n"
     ]
    },
    {
     "data": {
      "image/png": "[encoded data removed]",
      "text/plain": [
       "<Figure size 432x288 with 1 Axes>"
      ]
     },
     "metadata": {
      "needs_background": "light"
     },
     "output_type": "display_data"
    }
   ],
   "source": [
    "plt.plot(dom,y,'c')\n",
    "print y,fx\n",
    "\n"
   ]
  },
  {
   "cell_type": "code",
   "execution_count": 8,
   "metadata": {},
   "outputs": [
    {
     "data": {
      "text/plain": [
       "1.0"
      ]
     },
     "execution_count": 8,
     "metadata": {},
     "output_type": "execute_result"
    }
   ],
   "source": [
    "x[0]"
   ]
  },
  {
   "cell_type": "code",
   "execution_count": null,
   "metadata": {},
   "outputs": [],
   "source": []
  }
 ],
 "metadata": {
  "kernelspec": {
   "display_name": "Python 2",
   "language": "python",
   "name": "python2"
  },
  "language_info": {
   "codemirror_mode": {
    "name": "ipython",
    "version": 2
   },
   "file_extension": ".py",
   "mimetype": "text/x-python",
   "name": "python",
   "nbconvert_exporter": "python",
   "pygments_lexer": "ipython2",
   "version": "2.7.12"
  }
 },
 "nbformat": 4,
 "nbformat_minor": 2
}
