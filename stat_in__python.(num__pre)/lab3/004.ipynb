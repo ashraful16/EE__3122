{
 "cells": [
  {
   "cell_type": "code",
   "execution_count": 1,
   "metadata": {},
   "outputs": [],
   "source": [
    "# input function  x*x-x+1\n",
    "from sympy import Function, Symbol,sympify\n",
    "x = Symbol('x')\n",
    "ff=open(\"in01.txt\",\"r\")\n",
    "p=ff.read()\n",
    "xx=sympify(p, evaluate=False)\n",
    "y=xx"
   ]
  },
  {
   "cell_type": "code",
   "execution_count": 2,
   "metadata": {},
   "outputs": [],
   "source": [
    "MAX_ITER = 50000\n",
    "\n",
    "def f(c):\n",
    "    cc=float(y.subs({x:c}))\n",
    "    return cc"
   ]
  },
  {
   "cell_type": "code",
   "execution_count": 3,
   "metadata": {},
   "outputs": [
    {
     "name": "stdout",
     "output_type": "stream",
     "text": [
      "21\n",
      "2.23606705666\n"
     ]
    }
   ],
   "source": [
    "\n",
    "def bisection(f,a,b,N,tol):\n",
    "    if f(a)*f(b) >= 0:\n",
    "        print(\"Bisection method fails.\")\n",
    "        return None\n",
    "    a_n = a\n",
    "    b_n = b\n",
    "    i=0\n",
    "    for n in range(1,N+1):\n",
    "        m_n = (a_n + b_n)/2\n",
    "        f_m_n = f(m_n)\n",
    "        if f(a_n)*f_m_n < 0:\n",
    "            a_n = a_n\n",
    "            b_n = m_n\n",
    "        elif f(b_n)*f_m_n < 0:\n",
    "            a_n = m_n\n",
    "            b_n = b_n\n",
    "        else:\n",
    "            print(\"Bisection method fails.\")\n",
    "            return None\n",
    "        i=i+1\n",
    "        if round(f_m_n,5)==0:\n",
    "            print n\n",
    "            break\n",
    "            return m_n\n",
    "    \n",
    "    return (a_n + b_n)/2\n",
    "approx_phi = bisection(f,0.0,5,MAX_ITER,.001)\n",
    "print(approx_phi)"
   ]
  },
  {
   "cell_type": "code",
   "execution_count": 4,
   "metadata": {},
   "outputs": [
    {
     "name": "stdout",
     "output_type": "stream",
     "text": [
      "6\n",
      "('The value of root is : ', '2.2361', 'iteration is ', 6)\n"
     ]
    }
   ],
   "source": [
    "\n",
    "\n",
    "# Prints root of func(x) in interval [a, b] \n",
    "def regulaFalsi(f, a , b): \n",
    "    if f(a) * f(b) >= 0: \n",
    "        print(\"You have not assumed right a and b\") \n",
    "        return -1\n",
    "    \n",
    "    c = a # Initialize result \n",
    "\n",
    "    for i in range(MAX_ITER): \n",
    "\n",
    "        # Find the point that touches x axis \n",
    "        c = (a * f(b) - b * f(a))/ (f(b) - f(a)) \n",
    "\n",
    "        # Check if the above found point is root \n",
    "\n",
    "        f_m_n=f(c)\n",
    "        if round(f_m_n,5)==0:\n",
    "            print i\n",
    "            break\n",
    "            return m_n\n",
    "\n",
    "        # Decide the side to repeat the steps \n",
    "        elif f(c) * f(a) < 0: \n",
    "            b = c \n",
    "        else: \n",
    "            a = c \n",
    "    print(\"The value of root is : \" , '%.4f' %c,\"iteration is \",i) \n",
    "\n",
    "# Driver code to test above function \n",
    "# Initial values assumed \n",
    "a =2\n",
    "b = 3\n",
    "\n",
    "regulaFalsi(f,a, b) \n",
    "\n",
    "# This code is contributed by \"Sharad_Bhardwaj\". \n"
   ]
  },
  {
   "cell_type": "code",
   "execution_count": 5,
   "metadata": {},
   "outputs": [
    {
     "name": "stdout",
     "output_type": "stream",
     "text": [
      "<function f at 0x7f7f02566668>\n"
     ]
    }
   ],
   "source": [
    "print f"
   ]
  },
  {
   "cell_type": "code",
   "execution_count": null,
   "metadata": {},
   "outputs": [],
   "source": []
  },
  {
   "cell_type": "code",
   "execution_count": null,
   "metadata": {},
   "outputs": [],
   "source": []
  },
  {
   "cell_type": "code",
   "execution_count": null,
   "metadata": {},
   "outputs": [],
   "source": [
    "\n",
    "\n"
   ]
  },
  {
   "cell_type": "code",
   "execution_count": 12,
   "metadata": {},
   "outputs": [
    {
     "name": "stdout",
     "output_type": "stream",
     "text": [
      "(2.2360680271702322, 12)\n"
     ]
    }
   ],
   "source": [
    "\n",
    "def dfdx(x): #function to find the derivative of the polynomial\n",
    "    \n",
    "    h = 0.000001\n",
    "\n",
    "    derivative = (f(x + h) - f(x)) / h\n",
    "\n",
    "    return derivative\n",
    "\n",
    "def naive_Newton(f, dfdx, x, eps,i):\n",
    "    while abs(f(x)) > eps:\n",
    "        i=i+1\n",
    "        x = x - float(f(x))/dfdx(x)\n",
    "    return x,i\n",
    "i=0\n",
    "print naive_Newton(f, dfdx, 1000, 0.000001,i)"
   ]
  },
  {
   "cell_type": "code",
   "execution_count": 16,
   "metadata": {},
   "outputs": [
    {
     "name": "stdout",
     "output_type": "stream",
     "text": [
      "Found exact solution.\n",
      "14\n",
      "2.23606788363\n"
     ]
    }
   ],
   "source": [
    "def secant(f,a,b,N):\n",
    "    \n",
    "    if f(a)*f(b) >= 0:\n",
    "        print(\"Secant method fails.\")\n",
    "        return None\n",
    "    a_n = a\n",
    "    b_n = b\n",
    "    for n in range(1,N+1):\n",
    "        m_n = a_n - f(a_n)*(b_n - a_n)/(f(b_n) - f(a_n))\n",
    "        f_m_n = f(m_n)\n",
    "        if f(a_n)*f_m_n < 0:\n",
    "            a_n = a_n\n",
    "            b_n = m_n\n",
    "        elif f(b_n)*f_m_n < 0:\n",
    "            a_n = m_n\n",
    "            b_n = b_n\n",
    "        else:\n",
    "            print(\"Secant method fails.\")\n",
    "            return None\n",
    "        if round(f_m_n,6) == 0:\n",
    "            print(\"Found exact solution.\")\n",
    "            print n\n",
    "            return m_n\n",
    "        \n",
    "    return a_n - f(a_n)*(b_n - a_n)/(f(b_n) - f(a_n))\n",
    "\n",
    "\n",
    "\n",
    "approx = secant(f,0.0,4.0,MAX_ITER)\n",
    "print(approx)"
   ]
  },
  {
   "cell_type": "code",
   "execution_count": 17,
   "metadata": {},
   "outputs": [
    {
     "data": {
      "text/plain": [
       "2.2360680271702322"
      ]
     },
     "execution_count": 17,
     "metadata": {},
     "output_type": "execute_result"
    }
   ],
   "source": [
    "2.2360680271702322"
   ]
  },
  {
   "cell_type": "code",
   "execution_count": 18,
   "metadata": {},
   "outputs": [
    {
     "name": "stdout",
     "output_type": "stream",
     "text": [
      "n\txn\t\tf(xn)\n",
      "1\t0\t\t-5.0\n",
      "2\t1\t\t-4.0\n",
      "3\t2\t\t-1.0\n"
     ]
    },
    {
     "ename": "TypeError",
     "evalue": "can't convert complex to float",
     "output_type": "error",
     "traceback": [
      "\u001b[0;31m---------------------------------------------------------------------------\u001b[0m",
      "\u001b[0;31mTypeError\u001b[0m                                 Traceback (most recent call last)",
      "\u001b[0;32m<ipython-input-18-c51616882600>\u001b[0m in \u001b[0;36m<module>\u001b[0;34m()\u001b[0m\n\u001b[1;32m     17\u001b[0m     \u001b[0mr\u001b[0m \u001b[0;34m=\u001b[0m \u001b[0mxn\u001b[0m \u001b[0;34m-\u001b[0m \u001b[0;34m(\u001b[0m\u001b[0mxn\u001b[0m \u001b[0;34m-\u001b[0m \u001b[0mxnm1\u001b[0m\u001b[0;34m)\u001b[0m\u001b[0;34m*\u001b[0m\u001b[0;34m(\u001b[0m\u001b[0;34m(\u001b[0m\u001b[0;36m2\u001b[0m\u001b[0;34m*\u001b[0m\u001b[0mc\u001b[0m\u001b[0;34m)\u001b[0m\u001b[0;34m/\u001b[0m\u001b[0;34m(\u001b[0m\u001b[0mb\u001b[0m \u001b[0;34m+\u001b[0m \u001b[0mcmath\u001b[0m\u001b[0;34m.\u001b[0m\u001b[0msqrt\u001b[0m\u001b[0;34m(\u001b[0m\u001b[0mb\u001b[0m\u001b[0;34m**\u001b[0m\u001b[0;36m2\u001b[0m \u001b[0;34m-\u001b[0m \u001b[0;36m4\u001b[0m\u001b[0;34m*\u001b[0m\u001b[0ma\u001b[0m\u001b[0;34m*\u001b[0m\u001b[0mc\u001b[0m\u001b[0;34m)\u001b[0m\u001b[0;34m)\u001b[0m\u001b[0;34m)\u001b[0m\u001b[0;34m\u001b[0m\u001b[0m\n\u001b[1;32m     18\u001b[0m     \u001b[0ms\u001b[0m \u001b[0;34m=\u001b[0m \u001b[0mxn\u001b[0m \u001b[0;34m-\u001b[0m \u001b[0;34m(\u001b[0m\u001b[0mxn\u001b[0m \u001b[0;34m-\u001b[0m \u001b[0mxnm1\u001b[0m\u001b[0;34m)\u001b[0m\u001b[0;34m*\u001b[0m\u001b[0;34m(\u001b[0m\u001b[0;34m(\u001b[0m\u001b[0;36m2\u001b[0m\u001b[0;34m*\u001b[0m\u001b[0mc\u001b[0m\u001b[0;34m)\u001b[0m\u001b[0;34m/\u001b[0m\u001b[0;34m(\u001b[0m\u001b[0mb\u001b[0m \u001b[0;34m-\u001b[0m \u001b[0mcmath\u001b[0m\u001b[0;34m.\u001b[0m\u001b[0msqrt\u001b[0m\u001b[0;34m(\u001b[0m\u001b[0mb\u001b[0m\u001b[0;34m**\u001b[0m\u001b[0;36m2\u001b[0m \u001b[0;34m-\u001b[0m \u001b[0;36m4\u001b[0m\u001b[0;34m*\u001b[0m\u001b[0ma\u001b[0m\u001b[0;34m*\u001b[0m\u001b[0mc\u001b[0m\u001b[0;34m)\u001b[0m\u001b[0;34m)\u001b[0m\u001b[0;34m)\u001b[0m\u001b[0;34m\u001b[0m\u001b[0m\n\u001b[0;32m---> 19\u001b[0;31m     \u001b[0;32mif\u001b[0m\u001b[0;34m(\u001b[0m\u001b[0mabs\u001b[0m\u001b[0;34m(\u001b[0m\u001b[0mf\u001b[0m\u001b[0;34m(\u001b[0m\u001b[0mr\u001b[0m\u001b[0;34m)\u001b[0m\u001b[0;34m)\u001b[0m \u001b[0;34m<\u001b[0m \u001b[0mabs\u001b[0m\u001b[0;34m(\u001b[0m\u001b[0mf\u001b[0m\u001b[0;34m(\u001b[0m\u001b[0ms\u001b[0m\u001b[0;34m)\u001b[0m\u001b[0;34m)\u001b[0m\u001b[0;34m)\u001b[0m\u001b[0;34m:\u001b[0m\u001b[0;34m\u001b[0m\u001b[0m\n\u001b[0m\u001b[1;32m     20\u001b[0m         \u001b[0mxplus\u001b[0m \u001b[0;34m=\u001b[0m \u001b[0mr\u001b[0m\u001b[0;34m\u001b[0m\u001b[0m\n\u001b[1;32m     21\u001b[0m     \u001b[0;32melse\u001b[0m\u001b[0;34m:\u001b[0m\u001b[0;34m\u001b[0m\u001b[0m\n",
      "\u001b[0;32m<ipython-input-7-f70d5a5dac18>\u001b[0m in \u001b[0;36mf\u001b[0;34m(x)\u001b[0m\n\u001b[1;32m      1\u001b[0m \u001b[0;32mdef\u001b[0m \u001b[0mf\u001b[0m\u001b[0;34m(\u001b[0m\u001b[0mx\u001b[0m\u001b[0;34m)\u001b[0m\u001b[0;34m:\u001b[0m\u001b[0;34m\u001b[0m\u001b[0m\n\u001b[0;32m----> 2\u001b[0;31m     \u001b[0;32mreturn\u001b[0m \u001b[0mfloat\u001b[0m\u001b[0;34m(\u001b[0m\u001b[0mx\u001b[0m\u001b[0;34m**\u001b[0m\u001b[0;36m2\u001b[0m\u001b[0;34m-\u001b[0m\u001b[0;36m5\u001b[0m\u001b[0;34m)\u001b[0m\u001b[0;34m\u001b[0m\u001b[0m\n\u001b[0m\u001b[1;32m      3\u001b[0m \u001b[0;34m\u001b[0m\u001b[0m\n\u001b[1;32m      4\u001b[0m \u001b[0;32mdef\u001b[0m \u001b[0mderivFunc\u001b[0m\u001b[0;34m(\u001b[0m\u001b[0my\u001b[0m\u001b[0;34m)\u001b[0m\u001b[0;34m:\u001b[0m\u001b[0;34m\u001b[0m\u001b[0m\n\u001b[1;32m      5\u001b[0m     \u001b[0;32mreturn\u001b[0m \u001b[0my\u001b[0m\u001b[0;34m.\u001b[0m\u001b[0mdiff\u001b[0m\u001b[0;34m(\u001b[0m\u001b[0mx\u001b[0m\u001b[0;34m)\u001b[0m\u001b[0;34m\u001b[0m\u001b[0m\n",
      "\u001b[0;31mTypeError\u001b[0m: can't convert complex to float"
     ]
    }
   ],
   "source": [
    "import cmath\n",
    "xnm2 = 0\n",
    "xnm1 = 1\n",
    "xn = 2\n",
    "epsilon = 10**-6\n",
    "i = 0\n",
    "print(\"n\\txn\\t\\tf(xn)\")\n",
    "print(\"1\\t\"+str(xnm2)+\"\\t\\t\"+str(f(xnm2)))\n",
    "print(\"2\\t\"+str(xnm1)+\"\\t\\t\"+str(f(xnm1)))\n",
    "print(\"3\\t\"+str(xn)+\"\\t\\t\"+str(f(xn)))\n",
    "while(abs(f(xn)) > epsilon):\n",
    "    q = (xn - xnm1)/(xnm1 - xnm2)\n",
    "    a = q*f(xn) - q*(1+q)*f(xnm1) + q**2*f(xnm2)\n",
    "    b = (2*q + 1)*f(xn) - (1+q)**2*f(xnm1) + q**2*f(xnm2)\n",
    "    c = (1 + q)*f(xn)\n",
    "    #see which x intercept is better\n",
    "    r = xn - (xn - xnm1)*((2*c)/(b + cmath.sqrt(b**2 - 4*a*c)))\n",
    "    s = xn - (xn - xnm1)*((2*c)/(b - cmath.sqrt(b**2 - 4*a*c)))\n",
    "    if(abs(f(r)) < abs(f(s))):\n",
    "        xplus = r\n",
    "    else:\n",
    "        xplus = s\n",
    "    if xplus.imag == 0j:#result is real number\n",
    "        xplus = xplus.real\n",
    "        print(str(i + 4)+\"\\t\"+str(round(xplus,5))+\"\\t\\t\"+str(round(f(xplus),5)))\n",
    "    else:\n",
    "        print(str(i + 4)+\"\\t{:.4f}\".format(xplus)+\"\\t{:.4f}\".format(f(xplus)))\n",
    "    xnm2 = xnm1\n",
    "    xnm1 = xn\n",
    "    xn = xplus\n",
    "    i = i + 1\n",
    "print(str(i)+\" iterations\")\n",
    "#when root is complex double check complex conjugate\n",
    "if isinstance(xplus, complex):\n",
    "    conjugate = complex(xplus.real, -xplus.imag)\n",
    "    if abs(f(conjugate)) < epsilon:\n",
    "        print(\"and \\t{:.4f}\".format(conjugate)+\"\\t{:.4f}\".format(f(conjugate)))\n"
   ]
  },
  {
   "cell_type": "code",
   "execution_count": null,
   "metadata": {},
   "outputs": [],
   "source": []
  }
 ],
 "metadata": {
  "kernelspec": {
   "display_name": "Python 2",
   "language": "python",
   "name": "python2"
  },
  "language_info": {
   "codemirror_mode": {
    "name": "ipython",
    "version": 2
   },
   "file_extension": ".py",
   "mimetype": "text/x-python",
   "name": "python",
   "nbconvert_exporter": "python",
   "pygments_lexer": "ipython2",
   "version": "2.7.12"
  }
 },
 "nbformat": 4,
 "nbformat_minor": 2
}
