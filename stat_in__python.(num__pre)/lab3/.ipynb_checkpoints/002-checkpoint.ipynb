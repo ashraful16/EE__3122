{
 "cells": [
  {
   "cell_type": "code",
   "execution_count": 16,
   "metadata": {},
   "outputs": [],
   "source": [
    "import pandas as pd\n",
    "import numpy as np\n",
    "import scipy\n",
    "import numpy as np"
   ]
  },
  {
   "cell_type": "code",
   "execution_count": null,
   "metadata": {},
   "outputs": [],
   "source": [
    "\n",
    "\n"
   ]
  },
  {
   "cell_type": "code",
   "execution_count": null,
   "metadata": {},
   "outputs": [],
   "source": []
  },
  {
   "cell_type": "code",
   "execution_count": 17,
   "metadata": {},
   "outputs": [
    {
     "name": "stdout",
     "output_type": "stream",
     "text": [
      "<pandas.io.excel.ExcelFile object at 0x7f1f04ff1d90>\n"
     ]
    }
   ],
   "source": [
    "\n",
    "\n",
    "xls=pd.ExcelFile(\"/media/ashraful/New Volume/labfiles/data1.xls\")\n",
    "\n",
    "print xls\n",
    "\n",
    "sheetx=xls.parse(0)\n",
    "\n",
    "#print sheetx\n",
    "\n",
    "a=var1=sheetx['aa']\n",
    "b=var2=sheetx['bb']\n",
    "#print var2"
   ]
  },
  {
   "cell_type": "code",
   "execution_count": 18,
   "metadata": {},
   "outputs": [],
   "source": [
    "n = len(a)\n",
    "dx=[]\n",
    "dy=[]\n",
    "for i in range(n):\n",
    "    dx.append(a[i])\n",
    "    dy.append(b[i])\n",
    "    \n",
    " "
   ]
  },
  {
   "cell_type": "code",
   "execution_count": 19,
   "metadata": {},
   "outputs": [
    {
     "name": "stdout",
     "output_type": "stream",
     "text": [
      "[1, 2, 3, 4, 5, 6, 7, 8, 9, 10, 11, 12, 13, 14, 15, 16, 17, 18, 19, 20, 21, 22, 23, 24, 25]   \n",
      "   [1, 4, 9, 16, 25, 36, 49, 65, 110, 10, 121, 144, 169, 196, 225, 256, 289, 62, 361, 400, 441, 484, 529, 576, 625]\n"
     ]
    }
   ],
   "source": [
    "print dx,\"  \\n  \",dy"
   ]
  },
  {
   "cell_type": "code",
   "execution_count": 24,
   "metadata": {},
   "outputs": [
    {
     "name": "stdout",
     "output_type": "stream",
     "text": [
      "25\n",
      "<type 'list'>\n",
      "<type 'numpy.int64'>\n"
     ]
    }
   ],
   "source": [
    "print n\n",
    "#print type(dx)\n",
    "#print type(dx[4])"
   ]
  },
  {
   "cell_type": "code",
   "execution_count": 21,
   "metadata": {},
   "outputs": [],
   "source": [
    "avgx=np.average(dx)\n",
    "avgy=np.average(dy)"
   ]
  },
  {
   "cell_type": "code",
   "execution_count": 26,
   "metadata": {},
   "outputs": [],
   "source": [
    "\n",
    "\n",
    "sxms=0\n",
    "syms=0\n",
    "smul=0"
   ]
  },
  {
   "cell_type": "code",
   "execution_count": 36,
   "metadata": {},
   "outputs": [],
   "source": [
    "xm=[]\n",
    "ym=[]\n",
    "xmsq=[]\n",
    "ymsq=[]\n",
    "xymul=[]\n",
    "for d in range(n):\n",
    "    xm.append((dx[d]-avgx))\n",
    "    ym.append((dy[d]-avgy))\n",
    "    xmsq.append(dx[d]**2)\n",
    "    ymsq.append(dy[d]**2)\n",
    "    xymul.append(dx[d]*ym[d])\n",
    "    sxms=sxms+xmsq[d]\n",
    "    syms=syms+ymsq[d]\n",
    "    smul=smul+xymul[d]"
   ]
  },
  {
   "cell_type": "code",
   "execution_count": 38,
   "metadata": {},
   "outputs": [],
   "source": [
    "cov=smul/n\n",
    "varx=np.sqrt(sxms/n)\n",
    "vary=np.sqrt(syms/n)\n",
    "coreff=cov/(varx*vary)"
   ]
  },
  {
   "cell_type": "code",
   "execution_count": 39,
   "metadata": {},
   "outputs": [],
   "source": [
    "import matplotlib.pyplot as plt"
   ]
  },
  {
   "cell_type": "code",
   "execution_count": null,
   "metadata": {},
   "outputs": [],
   "source": []
  },
  {
   "cell_type": "code",
   "execution_count": 44,
   "metadata": {},
   "outputs": [
    {
     "data": {
      "text/plain": [
       "[<matplotlib.lines.Line2D at 0x7f1f004b2950>]"
      ]
     },
     "execution_count": 44,
     "metadata": {},
     "output_type": "execute_result"
    },
    {
     "data": {
      "image/png": "[encoded data removed]",
      "text/plain": [
       "<Figure size 432x288 with 1 Axes>"
      ]
     },
     "metadata": {
      "needs_background": "light"
     },
     "output_type": "display_data"
    }
   ],
   "source": [
    "plt.plot(dy,dx)"
   ]
  },
  {
   "cell_type": "code",
   "execution_count": null,
   "metadata": {},
   "outputs": [],
   "source": []
  }
 ],
 "metadata": {
  "kernelspec": {
   "display_name": "Python 2",
   "language": "python",
   "name": "python2"
  },
  "language_info": {
   "codemirror_mode": {
    "name": "ipython",
    "version": 2
   },
   "file_extension": ".py",
   "mimetype": "text/x-python",
   "name": "python",
   "nbconvert_exporter": "python",
   "pygments_lexer": "ipython2",
   "version": "2.7.12"
  }
 },
 "nbformat": 4,
 "nbformat_minor": 2
}
