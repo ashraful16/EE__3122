{
 "cells": [
  {
   "cell_type": "code",
   "execution_count": 24,
   "metadata": {},
   "outputs": [
    {
     "name": "stdout",
     "output_type": "stream",
     "text": [
      "x*x - 5\n"
     ]
    }
   ],
   "source": [
    "# input function  x*x-x+1\n",
    "from sympy import Function, Symbol,sympify\n",
    "x = Symbol('x')\n",
    "ff=open(\"in01.txt\",\"r\")\n",
    "p=ff.read()\n",
    "xx=sympify(p, evaluate=False)\n",
    "y=xx\n",
    "print y\n"
   ]
  },
  {
   "cell_type": "code",
   "execution_count": 25,
   "metadata": {},
   "outputs": [],
   "source": [
    "MAX_ITER = 50000\n",
    "\n",
    "aa=0.0\n",
    "bb=5.0\n",
    "a=2\n",
    "b=3"
   ]
  },
  {
   "cell_type": "code",
   "execution_count": 26,
   "metadata": {},
   "outputs": [],
   "source": [
    "def f(c):\n",
    "    cc=float(y.subs({x:c}))\n",
    "    return cc"
   ]
  },
  {
   "cell_type": "code",
   "execution_count": 27,
   "metadata": {},
   "outputs": [
    {
     "name": "stdout",
     "output_type": "stream",
     "text": [
      "21\n",
      "2.23606705666\n"
     ]
    }
   ],
   "source": [
    "\n",
    "def bisection(f,a,b,N,tol):\n",
    "    if f(a)*f(b) >= 0:\n",
    "        print(\"Bisection method fails.\")\n",
    "        return None\n",
    "    a_n = a\n",
    "    b_n = b\n",
    "    i=0\n",
    "    for n in range(1,N+1):\n",
    "        m_n = (a_n + b_n)/2\n",
    "        f_m_n = f(m_n)\n",
    "        if f(a_n)*f_m_n < 0:\n",
    "            a_n = a_n\n",
    "            b_n = m_n\n",
    "        elif f(b_n)*f_m_n < 0:\n",
    "            a_n = m_n\n",
    "            b_n = b_n\n",
    "        else:\n",
    "            print(\"Bisection method fails.\")\n",
    "            return None\n",
    "        i=i+1\n",
    "        if (f_m_n)==0:\n",
    "            print n\n",
    "            break\n",
    "            return m_n\n",
    "        if round(f_m_n,5)==0:\n",
    "            print n\n",
    "            break\n",
    "            return m_n\n",
    "    \n",
    "    return (a_n + b_n)/2\n",
    "approx_phi = bisection(f,aa,bb,MAX_ITER,.00001)\n",
    "print(approx_phi)"
   ]
  },
  {
   "cell_type": "code",
   "execution_count": 32,
   "metadata": {},
   "outputs": [
    {
     "name": "stdout",
     "output_type": "stream",
     "text": [
      "('The value of root is : ', '2.236067', 'iteration is ', 15)\n"
     ]
    }
   ],
   "source": [
    "\n",
    "\n",
    "# Prints root of func(x) in interval [a, b] \n",
    "def regulaFalsi(f, a , b): \n",
    "    if f(a) * f(b) >= 0: \n",
    "        print(\"You have not assumed right a and b\") \n",
    "        return -1\n",
    "    \n",
    "    c = a # Initialize result \n",
    "\n",
    "    for i in range(MAX_ITER): \n",
    "\n",
    "        # Find the point that touches x axis \n",
    "        c = (a * f(b) - b * f(a))/ (f(b) - f(a)) \n",
    "\n",
    "        # Check if the above found point is root \n",
    "\n",
    "        f_m_n=f(c)\n",
    "        if f_m_n==0:\n",
    "            \n",
    "            break\n",
    "            return m_n\n",
    "        if round(f_m_n,5)==0:\n",
    "            \n",
    "            break\n",
    "            return m_n\n",
    "\n",
    "        # Decide the side to repeat the steps \n",
    "        elif f(c) * f(a) < 0: \n",
    "            b = c \n",
    "        else: \n",
    "            a = c \n",
    "    print(\"The value of root is : \" , '%f' %c,\"iteration is \",i) \n",
    "\n",
    "# Driver code to test above function \n",
    "# Initial values assumed \n",
    "\n",
    "\n",
    "regulaFalsi(f,aa, bb) \n",
    "\n",
    "# This code is contributed by \"Sharad_Bhardwaj\". \n"
   ]
  },
  {
   "cell_type": "code",
   "execution_count": 29,
   "metadata": {},
   "outputs": [
    {
     "name": "stdout",
     "output_type": "stream",
     "text": [
      "<function f at 0x7f044eb47668>\n"
     ]
    }
   ],
   "source": [
    "print f"
   ]
  },
  {
   "cell_type": "code",
   "execution_count": null,
   "metadata": {},
   "outputs": [],
   "source": []
  },
  {
   "cell_type": "code",
   "execution_count": null,
   "metadata": {},
   "outputs": [],
   "source": []
  },
  {
   "cell_type": "code",
   "execution_count": null,
   "metadata": {},
   "outputs": [],
   "source": [
    "\n",
    "\n"
   ]
  },
  {
   "cell_type": "code",
   "execution_count": 30,
   "metadata": {},
   "outputs": [
    {
     "name": "stdout",
     "output_type": "stream",
     "text": [
      "(2.2360688956433634, 4)\n"
     ]
    }
   ],
   "source": [
    "\"\"\"\n",
    "def dfdx(x): #function to find the derivative of the polynomial\n",
    "    \n",
    "    h = 0.000001\n",
    "\n",
    "    derivative = (f(x + h) - f(x)) / h\n",
    "\n",
    "    return derivative\n",
    "\"\"\"\n",
    "def dfdx(y,xy):\n",
    "    \n",
    "    y=y.diff(x)\n",
    "    \n",
    "    cc=float(y.subs({x:xy}))\n",
    "    return cc\n",
    "    \n",
    "\n",
    "def naive_Newton(f, dfdx, x, eps,i):\n",
    "    while abs(f(x)) > eps:\n",
    "        if f(x)==0:\n",
    "            \n",
    "            break\n",
    "        i=i+1\n",
    "        k=dfdx(y,x)\n",
    "        if k == 0 :\n",
    "            print \"zero divison error \"\n",
    "            break\n",
    "        x = x-float(f(x))/dfdx(y,x)\n",
    "    return x,i\n",
    "i=0\n",
    "print naive_Newton(f, dfdx, bb, 0.00001,i)"
   ]
  },
  {
   "cell_type": "code",
   "execution_count": 31,
   "metadata": {},
   "outputs": [
    {
     "name": "stdout",
     "output_type": "stream",
     "text": [
      "Found approximate solution.\n",
      "7\n",
      "2.2360676268\n"
     ]
    }
   ],
   "source": [
    "def secant(f,a,b,N):\n",
    "    \n",
    "    if f(a)*f(b) >= 0:\n",
    "        print(\"Secant method fails.\")\n",
    "        return None\n",
    "    a_n = a\n",
    "    b_n = b\n",
    "    for n in range(1,N+1):\n",
    "        m_n = a_n - f(a_n)*(b_n - a_n)/(f(b_n) - f(a_n))\n",
    "        f_m_n = f(m_n)\n",
    "        if f(a_n)*f_m_n < 0:\n",
    "            a_n = a_n\n",
    "            b_n = m_n\n",
    "        elif f(b_n)*f_m_n < 0:\n",
    "            a_n = m_n\n",
    "            b_n = b_n\n",
    "        else:\n",
    "            print(\"Secant method fails.\")\n",
    "            return None\n",
    "        if f_m_n == 0:\n",
    "            print(\"Found exact solution.\")\n",
    "            print n\n",
    "            return m_n\n",
    "        if round(f_m_n,5) == 0:\n",
    "            print(\"Found approximate solution.\")\n",
    "            print n \n",
    "            return m_n\n",
    "        \n",
    "    return a_n - f(a_n)*(b_n - a_n)/(f(b_n) - f(a_n))\n",
    "\n",
    "\n",
    "\n",
    "approx = secant(f,a,b,MAX_ITER)\n",
    "print(approx)"
   ]
  },
  {
   "cell_type": "code",
   "execution_count": null,
   "metadata": {},
   "outputs": [],
   "source": [
    "2.2360680271702322"
   ]
  },
  {
   "cell_type": "code",
   "execution_count": null,
   "metadata": {},
   "outputs": [],
   "source": []
  },
  {
   "cell_type": "code",
   "execution_count": null,
   "metadata": {},
   "outputs": [],
   "source": []
  }
 ],
 "metadata": {
  "kernelspec": {
   "display_name": "Python 2",
   "language": "python",
   "name": "python2"
  },
  "language_info": {
   "codemirror_mode": {
    "name": "ipython",
    "version": 2
   },
   "file_extension": ".py",
   "mimetype": "text/x-python",
   "name": "python",
   "nbconvert_exporter": "python",
   "pygments_lexer": "ipython2",
   "version": "2.7.12"
  }
 },
 "nbformat": 4,
 "nbformat_minor": 2
}
