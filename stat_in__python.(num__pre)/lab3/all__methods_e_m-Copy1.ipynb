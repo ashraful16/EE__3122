{
 "cells": [
  {
   "cell_type": "code",
   "execution_count": 1,
   "metadata": {},
   "outputs": [
    {
     "name": "stdout",
     "output_type": "stream",
     "text": [
      "x*x - 17\n"
     ]
    }
   ],
   "source": [
    "# input function  x*x-x+1\n",
    "from sympy import Function, Symbol,sympify\n",
    "x = Symbol('x')\n",
    "ff=open(\"in02.txt\",\"r\")\n",
    "p=ff.read()\n",
    "xx=sympify(p, evaluate=False)\n",
    "y=xx\n",
    "print y\n"
   ]
  },
  {
   "cell_type": "code",
   "execution_count": 2,
   "metadata": {},
   "outputs": [],
   "source": [
    "MAX_ITER = 50000\n",
    "MAX= 50000\n",
    "a=[]\n",
    "aa=0.0\n",
    "bb=5.0\n",
    "a=2\n",
    "b=3"
   ]
  },
  {
   "cell_type": "code",
   "execution_count": 3,
   "metadata": {},
   "outputs": [],
   "source": [
    "def f(c):\n",
    "    cc=float(y.subs({x:c}))\n",
    "    return cc"
   ]
  },
  {
   "cell_type": "code",
   "execution_count": 4,
   "metadata": {},
   "outputs": [
    {
     "name": "stdout",
     "output_type": "stream",
     "text": [
      "19\n",
      "4.12310123444\n"
     ]
    }
   ],
   "source": [
    "\n",
    "def bisection(f,a,b,N,tol):\n",
    "    if f(a)*f(b) >= 0:\n",
    "        print(\"Bisection method fails.\")\n",
    "        return None\n",
    "    a_n = a\n",
    "    b_n = b\n",
    "    i=0\n",
    "    for n in range(1,N+1):\n",
    "        m_n = (a_n + b_n)/2\n",
    "        f_m_n = f(m_n)\n",
    "        if f(a_n)*f_m_n < 0:\n",
    "            a_n = a_n\n",
    "            b_n = m_n\n",
    "        elif f(b_n)*f_m_n < 0:\n",
    "            a_n = m_n\n",
    "            b_n = b_n\n",
    "        else:\n",
    "            print(\"Bisection method fails.\")\n",
    "            return None\n",
    "        i=i+1\n",
    "        if (f_m_n)==0:\n",
    "            \n",
    "            print n\n",
    "            break\n",
    "            return m_n,n\n",
    "        if round(f_m_n,5)==0:\n",
    "            print n\n",
    "            break\n",
    "            return m_n,n\n",
    "    \n",
    "    return (a_n + b_n)/2\n",
    "approx_phi = bisection(f,aa,bb,MAX_ITER,.00001)\n",
    "\n",
    "print(approx_phi)\n"
   ]
  },
  {
   "cell_type": "code",
   "execution_count": 5,
   "metadata": {},
   "outputs": [
    {
     "name": "stdout",
     "output_type": "stream",
     "text": [
      "('The value of root is : ', '4.123106', 'iteration is ', 7)\n"
     ]
    }
   ],
   "source": [
    "\n",
    "\n",
    "# Prints root of func(x) in interval [a, b] \n",
    "def regulaFalsi(f, a , b): \n",
    "    if f(a) * f(b) >= 0: \n",
    "        print(\"You have not assumed right a and b\") \n",
    "        return -1\n",
    "    \n",
    "    c = a # Initialize result \n",
    "\n",
    "    for i in range(MAX_ITER): \n",
    "\n",
    "        # Find the point that touches x axis \n",
    "        c = (a * f(b) - b * f(a))/ (f(b) - f(a)) \n",
    "\n",
    "        # Check if the above found point is root \n",
    "\n",
    "        f_m_n=f(c)\n",
    "        if f_m_n==0:\n",
    "            \n",
    "            break\n",
    "            return m_n\n",
    "        if round(f_m_n,5)==0:\n",
    "            \n",
    "            break\n",
    "            return m_n\n",
    "\n",
    "        # Decide the side to repeat the steps \n",
    "        elif f(c) * f(a) < 0: \n",
    "            b = c \n",
    "        else: \n",
    "            a = c \n",
    "    print(\"The value of root is : \" , '%f' %c,\"iteration is \",i) \n",
    "\n",
    "# Driver code to test above function \n",
    "# Initial values assumed \n",
    "\n",
    "\n",
    "regulaFalsi(f,aa, bb) \n",
    "\n",
    "# This code is contributed by \"Sharad_Bhardwaj\". \n"
   ]
  },
  {
   "cell_type": "code",
   "execution_count": 6,
   "metadata": {},
   "outputs": [
    {
     "name": "stdout",
     "output_type": "stream",
     "text": [
      "<function f at 0x7ff718308410>\n"
     ]
    }
   ],
   "source": [
    "print f"
   ]
  },
  {
   "cell_type": "code",
   "execution_count": null,
   "metadata": {},
   "outputs": [],
   "source": []
  },
  {
   "cell_type": "code",
   "execution_count": null,
   "metadata": {},
   "outputs": [],
   "source": []
  },
  {
   "cell_type": "code",
   "execution_count": null,
   "metadata": {},
   "outputs": [],
   "source": [
    "\n",
    "\n"
   ]
  },
  {
   "cell_type": "code",
   "execution_count": 7,
   "metadata": {},
   "outputs": [
    {
     "name": "stdout",
     "output_type": "stream",
     "text": [
      "(4.123105685692291, 3)\n"
     ]
    }
   ],
   "source": [
    "\"\"\"\n",
    "def dfdx(x): #function to find the derivative of the polynomial\n",
    "    \n",
    "    h = 0.000001\n",
    "\n",
    "    derivative = (f(x + h) - f(x)) / h\n",
    "\n",
    "    return derivative\n",
    "\"\"\"\n",
    "def dfdx(y,xy):\n",
    "    \n",
    "    y=y.diff(x)\n",
    "    \n",
    "    cc=float(y.subs({x:xy}))\n",
    "    return cc\n",
    "    \n",
    "\n",
    "def naive_Newton(f, dfdx, x, eps,i):\n",
    "    while abs(f(x)) > eps:\n",
    "        \n",
    "        i=i+1\n",
    "        k=dfdx(y,x)\n",
    "        if k == 0 :\n",
    "            print \"zero divison error \"\n",
    "            break\n",
    "        x = x-float(f(x))/dfdx(y,x)\n",
    "        if f(x)==0:\n",
    "            break\n",
    "            return x,i\n",
    "    return x,i\n",
    "i=0\n",
    "print naive_Newton(f, dfdx, bb, 0.00001,i)"
   ]
  },
  {
   "cell_type": "code",
   "execution_count": 8,
   "metadata": {},
   "outputs": [
    {
     "name": "stdout",
     "output_type": "stream",
     "text": [
      "Secant method fails.\n",
      "None\n"
     ]
    }
   ],
   "source": [
    "def secant(f,a,b,N):\n",
    "    \n",
    "    if f(a)*f(b) >= 0:\n",
    "        print(\"Secant method fails.\")\n",
    "        return None\n",
    "    a_n = a\n",
    "    b_n = b\n",
    "    for n in range(1,N+1):\n",
    "        m_n = a_n - f(a_n)*(b_n - a_n)/(f(b_n) - f(a_n))\n",
    "        f_m_n = f(m_n)\n",
    "        if f(a_n)*f_m_n < 0:\n",
    "            a_n = a_n\n",
    "            b_n = m_n\n",
    "        elif f(b_n)*f_m_n < 0:\n",
    "            a_n = m_n\n",
    "            b_n = b_n\n",
    "        else:\n",
    "            print(\"Secant method fails.\")\n",
    "            return None\n",
    "        if f_m_n == 0:\n",
    "            print(\"Found exact solution.\")\n",
    "            print n\n",
    "            return m_n\n",
    "        if round(f_m_n,5) == 0:\n",
    "            print(\"Found approximate solution.\")\n",
    "            print n \n",
    "            return m_n\n",
    "        \n",
    "    return a_n - f(a_n)*(b_n - a_n)/(f(b_n) - f(a_n))\n",
    "\n",
    "\n",
    "\n",
    "approx = secant(f,a,b,MAX_ITER)\n",
    "print(approx)"
   ]
  },
  {
   "cell_type": "code",
   "execution_count": 9,
   "metadata": {},
   "outputs": [
    {
     "data": {
      "text/plain": [
       "2.2360680271702322"
      ]
     },
     "execution_count": 9,
     "metadata": {},
     "output_type": "execute_result"
    }
   ],
   "source": [
    "2.2360680271702322"
   ]
  },
  {
   "cell_type": "code",
   "execution_count": 10,
   "metadata": {},
   "outputs": [
    {
     "name": "stdout",
     "output_type": "stream",
     "text": [
      "x*x - 17\n"
     ]
    }
   ],
   "source": [
    "# input function  x*x-x+1\n",
    "from sympy import Function, Symbol,sympify\n",
    "x = Symbol('x')\n",
    "ff=open(\"in02.txt\",\"r\")\n",
    "p=ff.read()\n",
    "xx=sympify(p, evaluate=False)\n",
    "y=xx\n",
    "print y"
   ]
  },
  {
   "cell_type": "code",
   "execution_count": 11,
   "metadata": {},
   "outputs": [
    {
     "name": "stdout",
     "output_type": "stream",
     "text": [
      "The initial estimates to the root are:\n",
      "('f(', 0, ')=', -17.0)\n",
      "('f(', 1, ')=', -16.0)\n",
      "('f(', 2, ')=', -13.0)\n",
      "(0, ': estimate to the root is f(', 0, ')=', -17.0)\n",
      "()\n",
      "('iteration no ', 1, ': estimate to the root is f(', 4.123105625617661, ')=', 3.7818280418450374e-124)\n",
      "()\n"
     ]
    }
   ],
   "source": [
    "import string\n",
    "from math import *\n",
    "from cmath import *\n",
    "\n",
    "def evalFunction(c):\n",
    "    cc=float(y.subs({x:c}))\n",
    "    return cc\n",
    "    \n",
    "def main():\n",
    "    \n",
    "    f= y\n",
    "    p0=0\n",
    "    p1=1\n",
    "    p2=2\n",
    "    t=.00001\n",
    "\n",
    "    \n",
    "\n",
    "    fp0=evalFunction(p0)\n",
    "    fp1=evalFunction(p1)\n",
    "    fp2=evalFunction(p2)\n",
    "\n",
    "    print(\"The initial estimates to the root are:\")\n",
    "    print(\"f(\",p0,\")=\",fp0)\n",
    "    print(\"f(\",p1,\")=\",fp1)\n",
    "    print(\"f(\",p2,\")=\",fp2)\n",
    "    count=0\n",
    "    print(count,\": estimate to the root is f(\",p0,\")=\",fp0)\n",
    "    fp3=1\n",
    "\n",
    "    #while count< MAX:\n",
    "    for i in range(1,MAX):\n",
    "        \n",
    "        while (abs(fp3))>=t:\n",
    "            fp0=evalFunction(p0)\n",
    "            fp1=evalFunction(p1)\n",
    "            fp2=evalFunction(p2)\n",
    "\n",
    "\n",
    "            #Computes a,b,c \n",
    "            o=fp1-fp2\n",
    "            n=fp0-fp2\n",
    "            s=p1-p2\n",
    "            r=p0-p2\n",
    "            denom=r*s*(p0-p1)\n",
    "            a=(s*n-r*o)/denom\n",
    "            b=((r**2)*o-(s**2)*n)/denom\n",
    "            c=fp2\n",
    "            print()\n",
    "\n",
    "            count=count+1\n",
    "\n",
    "            #Computes the roots\n",
    "            x1= (-2*c)/(b+(b**2-4*a*c)**.5)\n",
    "            x2=(-2*c)/(b-(b**2-4*a*c)**.5)\n",
    "\n",
    "            if b>0:\n",
    "                p3= p2+x1\n",
    "                fp3=evalFunction(p3)\n",
    "                print(\"iteration no \",count,\": estimate to the root is f(\",p3,\")=\",fp3)\n",
    "                print()\n",
    "\n",
    "            else:\n",
    "                p3= p2+x2\n",
    "                fp3=evalFunction(p3)\n",
    "                print(\"iteration no \",count,\": estimate to the root is f(\",p3,\")=\",fp3)\n",
    "                print()\n",
    "            \n",
    "\n",
    "            p2=p3        \n",
    "\n",
    "main()"
   ]
  },
  {
   "cell_type": "code",
   "execution_count": null,
   "metadata": {},
   "outputs": [],
   "source": []
  }
 ],
 "metadata": {
  "kernelspec": {
   "display_name": "Python 2",
   "language": "python",
   "name": "python2"
  },
  "language_info": {
   "codemirror_mode": {
    "name": "ipython",
    "version": 2
   },
   "file_extension": ".py",
   "mimetype": "text/x-python",
   "name": "python",
   "nbconvert_exporter": "python",
   "pygments_lexer": "ipython2",
   "version": "2.7.12"
  }
 },
 "nbformat": 4,
 "nbformat_minor": 2
}
